{
 "cells": [
  {
   "cell_type": "markdown",
   "metadata": {},
   "source": [
    "# Introduction"
   ]
  },
  {
   "cell_type": "markdown",
   "metadata": {},
   "source": [
    "Here we are getting the finalised information from the dataset.\n",
    "\n",
    "Now that we have the densities of all ingredients, we are able to use this to get their concentration in the recipe. This will be done by first obtaining the weight of each ingredient, and then using these values to get the weight ratio in the full recipe."
   ]
  },
  {
   "cell_type": "markdown",
   "metadata": {},
   "source": [
    "# Setup"
   ]
  },
  {
   "cell_type": "code",
   "execution_count": 1,
   "metadata": {
    "execution": {
     "iopub.execute_input": "2024-05-23T09:28:05.216264Z",
     "iopub.status.busy": "2024-05-23T09:28:05.215683Z",
     "iopub.status.idle": "2024-05-23T09:28:05.221770Z",
     "shell.execute_reply": "2024-05-23T09:28:05.220864Z"
    }
   },
   "outputs": [],
   "source": [
    "#|default_exp density.finalise"
   ]
  },
  {
   "cell_type": "code",
   "execution_count": 2,
   "metadata": {
    "execution": {
     "iopub.execute_input": "2024-05-23T09:28:05.226064Z",
     "iopub.status.busy": "2024-05-23T09:28:05.225748Z",
     "iopub.status.idle": "2024-05-23T09:28:05.240597Z",
     "shell.execute_reply": "2024-05-23T09:28:05.239059Z"
    }
   },
   "outputs": [],
   "source": [
    "#| export\n",
    "from pyprojroot import here\n",
    "root = here()\n",
    "import sys\n",
    "sys.path.append(str(root))"
   ]
  },
  {
   "cell_type": "code",
   "execution_count": 3,
   "metadata": {
    "execution": {
     "iopub.execute_input": "2024-05-23T09:28:05.245025Z",
     "iopub.status.busy": "2024-05-23T09:28:05.244662Z",
     "iopub.status.idle": "2024-05-23T09:28:05.406362Z",
     "shell.execute_reply": "2024-05-23T09:28:05.405916Z"
    }
   },
   "outputs": [],
   "source": [
    "#| export\n",
    "import pandas as pd\n",
    "import numpy as np\n",
    "\n",
    "import json"
   ]
  },
  {
   "cell_type": "code",
   "execution_count": 4,
   "metadata": {
    "execution": {
     "iopub.execute_input": "2024-05-23T09:28:05.408000Z",
     "iopub.status.busy": "2024-05-23T09:28:05.407885Z",
     "iopub.status.idle": "2024-05-23T09:28:05.411311Z",
     "shell.execute_reply": "2024-05-23T09:28:05.411041Z"
    }
   },
   "outputs": [],
   "source": [
    "from tqdm import tqdm\n",
    "tqdm.pandas()"
   ]
  },
  {
   "cell_type": "code",
   "execution_count": 5,
   "metadata": {
    "execution": {
     "iopub.execute_input": "2024-05-23T09:28:05.412382Z",
     "iopub.status.busy": "2024-05-23T09:28:05.412244Z",
     "iopub.status.idle": "2024-05-23T09:28:05.413980Z",
     "shell.execute_reply": "2024-05-23T09:28:05.413607Z"
    }
   },
   "outputs": [],
   "source": [
    "pd.options.mode.chained_assignment = None  # default='warn'"
   ]
  },
  {
   "cell_type": "code",
   "execution_count": 6,
   "metadata": {
    "execution": {
     "iopub.execute_input": "2024-05-23T09:28:05.414872Z",
     "iopub.status.busy": "2024-05-23T09:28:05.414798Z",
     "iopub.status.idle": "2024-05-23T09:28:05.440995Z",
     "shell.execute_reply": "2024-05-23T09:28:05.440750Z"
    }
   },
   "outputs": [],
   "source": [
    "ingredients_df = pd.read_feather('../../data/local/recipe/partial/ingredients/0.feather')\n",
    "food_df = pd.read_feather('../../data/local/density/full/food/0.feather')\n",
    "food_portion_df = pd.read_feather('../../data/local/density/full/food_portion/0.feather')\n",
    "food_ids = pd.read_feather('../../data/local/density/partial/food_ids/0.feather')\n",
    "food_portion_ids = pd.read_feather('../../data/local/density/partial/food_portion_ids/0.feather')"
   ]
  },
  {
   "cell_type": "code",
   "execution_count": 7,
   "metadata": {
    "execution": {
     "iopub.execute_input": "2024-05-23T09:28:05.442259Z",
     "iopub.status.busy": "2024-05-23T09:28:05.442140Z",
     "iopub.status.idle": "2024-05-23T09:28:05.453643Z",
     "shell.execute_reply": "2024-05-23T09:28:05.453446Z"
    }
   },
   "outputs": [
    {
     "data": {
      "text/html": [
       "<div>\n",
       "<style scoped>\n",
       "    .dataframe tbody tr th:only-of-type {\n",
       "        vertical-align: middle;\n",
       "    }\n",
       "\n",
       "    .dataframe tbody tr th {\n",
       "        vertical-align: top;\n",
       "    }\n",
       "\n",
       "    .dataframe thead th {\n",
       "        text-align: right;\n",
       "    }\n",
       "</style>\n",
       "<table border=\"1\" class=\"dataframe\">\n",
       "  <thead>\n",
       "    <tr style=\"text-align: right;\">\n",
       "      <th></th>\n",
       "      <th></th>\n",
       "      <th>name.name</th>\n",
       "      <th>name.description</th>\n",
       "      <th>quantity</th>\n",
       "      <th>unit</th>\n",
       "      <th>comment</th>\n",
       "      <th>preparation</th>\n",
       "      <th>ingredient_string</th>\n",
       "      <th>unit_tags</th>\n",
       "      <th>unit_remainders</th>\n",
       "      <th>unit_type</th>\n",
       "      <th>food_id</th>\n",
       "      <th>food_portion_id</th>\n",
       "    </tr>\n",
       "    <tr>\n",
       "      <th>recipe</th>\n",
       "      <th>ingredient</th>\n",
       "      <th></th>\n",
       "      <th></th>\n",
       "      <th></th>\n",
       "      <th></th>\n",
       "      <th></th>\n",
       "      <th></th>\n",
       "      <th></th>\n",
       "      <th></th>\n",
       "      <th></th>\n",
       "      <th></th>\n",
       "      <th></th>\n",
       "      <th></th>\n",
       "    </tr>\n",
       "  </thead>\n",
       "  <tbody>\n",
       "    <tr>\n",
       "      <th rowspan=\"5\" valign=\"top\">1746116</th>\n",
       "      <th>0</th>\n",
       "      <td>butter</td>\n",
       "      <td>land lake butter</td>\n",
       "      <td>0.667</td>\n",
       "      <td>cups</td>\n",
       "      <td>&lt;NA&gt;</td>\n",
       "      <td>softened</td>\n",
       "      <td>2/3 cup Land O Lakes Butter, softened</td>\n",
       "      <td>[cup]</td>\n",
       "      <td>[]</td>\n",
       "      <td>volume</td>\n",
       "      <td>2345703.0</td>\n",
       "      <td>287267.0</td>\n",
       "    </tr>\n",
       "    <tr>\n",
       "      <th>1</th>\n",
       "      <td>sugar</td>\n",
       "      <td>sugar</td>\n",
       "      <td>0.5</td>\n",
       "      <td>cups</td>\n",
       "      <td>&lt;NA&gt;</td>\n",
       "      <td>&lt;NA&gt;</td>\n",
       "      <td>1/2 cup sugar</td>\n",
       "      <td>[cup]</td>\n",
       "      <td>[]</td>\n",
       "      <td>volume</td>\n",
       "      <td>2345817.0</td>\n",
       "      <td>287772.0</td>\n",
       "    </tr>\n",
       "    <tr>\n",
       "      <th>2</th>\n",
       "      <td>egg</td>\n",
       "      <td>land lake egg</td>\n",
       "      <td>2.0</td>\n",
       "      <td>&lt;NA&gt;</td>\n",
       "      <td>(yolks only)</td>\n",
       "      <td>&lt;NA&gt;</td>\n",
       "      <td>2 Land O Lakes Eggs (yolks only)</td>\n",
       "      <td>[]</td>\n",
       "      <td>[]</td>\n",
       "      <td>portion</td>\n",
       "      <td>171287.0</td>\n",
       "      <td>88378.0</td>\n",
       "    </tr>\n",
       "    <tr>\n",
       "      <th>3</th>\n",
       "      <td>vanilla</td>\n",
       "      <td>vanilla</td>\n",
       "      <td>1.0</td>\n",
       "      <td>teaspoon</td>\n",
       "      <td>&lt;NA&gt;</td>\n",
       "      <td>&lt;NA&gt;</td>\n",
       "      <td>1 teaspoon vanilla</td>\n",
       "      <td>[teaspoon]</td>\n",
       "      <td>[]</td>\n",
       "      <td>volume</td>\n",
       "      <td>172236.0</td>\n",
       "      <td>90134.0</td>\n",
       "    </tr>\n",
       "    <tr>\n",
       "      <th>4</th>\n",
       "      <td>flour</td>\n",
       "      <td>all-purpose flour</td>\n",
       "      <td>1.5</td>\n",
       "      <td>cups</td>\n",
       "      <td>&lt;NA&gt;</td>\n",
       "      <td>&lt;NA&gt;</td>\n",
       "      <td>1 1/2 cups all-purpose flour</td>\n",
       "      <td>[cup]</td>\n",
       "      <td>[]</td>\n",
       "      <td>volume</td>\n",
       "      <td>169761.0</td>\n",
       "      <td>85466.0</td>\n",
       "    </tr>\n",
       "    <tr>\n",
       "      <th>...</th>\n",
       "      <th>...</th>\n",
       "      <td>...</td>\n",
       "      <td>...</td>\n",
       "      <td>...</td>\n",
       "      <td>...</td>\n",
       "      <td>...</td>\n",
       "      <td>...</td>\n",
       "      <td>...</td>\n",
       "      <td>...</td>\n",
       "      <td>...</td>\n",
       "      <td>...</td>\n",
       "      <td>...</td>\n",
       "      <td>...</td>\n",
       "    </tr>\n",
       "    <tr>\n",
       "      <th rowspan=\"5\" valign=\"top\">931097</th>\n",
       "      <th>9</th>\n",
       "      <td>red onion</td>\n",
       "      <td>red onion</td>\n",
       "      <td>0.25</td>\n",
       "      <td>cups</td>\n",
       "      <td>&lt;NA&gt;</td>\n",
       "      <td>finely chopped</td>\n",
       "      <td>1/4 cup red onion, finely chopped</td>\n",
       "      <td>[cup]</td>\n",
       "      <td>[]</td>\n",
       "      <td>volume</td>\n",
       "      <td>2345315.0</td>\n",
       "      <td>286030.0</td>\n",
       "    </tr>\n",
       "    <tr>\n",
       "      <th>10</th>\n",
       "      <td>red bell pepper</td>\n",
       "      <td>red bell pepper</td>\n",
       "      <td>0.25</td>\n",
       "      <td>cups</td>\n",
       "      <td>&lt;NA&gt;</td>\n",
       "      <td>chopped</td>\n",
       "      <td>1/4 cup chopped red bell pepper</td>\n",
       "      <td>[cup]</td>\n",
       "      <td>[]</td>\n",
       "      <td>volume</td>\n",
       "      <td>2345321.0</td>\n",
       "      <td>286059.0</td>\n",
       "    </tr>\n",
       "    <tr>\n",
       "      <th>11</th>\n",
       "      <td>jasmine rice</td>\n",
       "      <td>jasmine rice</td>\n",
       "      <td>1.0</td>\n",
       "      <td>cup</td>\n",
       "      <td>&lt;NA&gt;</td>\n",
       "      <td>&lt;NA&gt;</td>\n",
       "      <td>1 cup Jasmine rice</td>\n",
       "      <td>[cup]</td>\n",
       "      <td>[]</td>\n",
       "      <td>volume</td>\n",
       "      <td>169756.0</td>\n",
       "      <td>85461.0</td>\n",
       "    </tr>\n",
       "    <tr>\n",
       "      <th>12</th>\n",
       "      <td>chicken</td>\n",
       "      <td>reduced-sodium chicken broth</td>\n",
       "      <td>1.5</td>\n",
       "      <td>cups</td>\n",
       "      <td>&lt;NA&gt;</td>\n",
       "      <td>&lt;NA&gt;</td>\n",
       "      <td>1 1/2 cups reduced-sodium chicken broth</td>\n",
       "      <td>[cup]</td>\n",
       "      <td>[]</td>\n",
       "      <td>volume</td>\n",
       "      <td>2341341.0</td>\n",
       "      <td>270046.0</td>\n",
       "    </tr>\n",
       "    <tr>\n",
       "      <th>13</th>\n",
       "      <td>fresh basil</td>\n",
       "      <td>fresh basil</td>\n",
       "      <td>1.0</td>\n",
       "      <td>tablespoon</td>\n",
       "      <td>&lt;NA&gt;</td>\n",
       "      <td>chopped</td>\n",
       "      <td>1 tablespoon chopped fresh basil</td>\n",
       "      <td>[tablespoon]</td>\n",
       "      <td>[]</td>\n",
       "      <td>volume</td>\n",
       "      <td>172232.0</td>\n",
       "      <td>90126.0</td>\n",
       "    </tr>\n",
       "  </tbody>\n",
       "</table>\n",
       "<p>2450 rows × 12 columns</p>\n",
       "</div>"
      ],
      "text/plain": [
       "                          name.name              name.description  quantity  \\\n",
       "recipe  ingredient                                                            \n",
       "1746116 0                    butter              land lake butter     0.667   \n",
       "        1                     sugar                         sugar       0.5   \n",
       "        2                       egg                 land lake egg       2.0   \n",
       "        3                   vanilla                       vanilla       1.0   \n",
       "        4                     flour             all-purpose flour       1.5   \n",
       "...                             ...                           ...       ...   \n",
       "931097  9                 red onion                     red onion      0.25   \n",
       "        10          red bell pepper               red bell pepper      0.25   \n",
       "        11             jasmine rice                  jasmine rice       1.0   \n",
       "        12                  chicken  reduced-sodium chicken broth       1.5   \n",
       "        13              fresh basil                   fresh basil       1.0   \n",
       "\n",
       "                          unit       comment     preparation  \\\n",
       "recipe  ingredient                                             \n",
       "1746116 0                 cups          <NA>        softened   \n",
       "        1                 cups          <NA>            <NA>   \n",
       "        2                 <NA>  (yolks only)            <NA>   \n",
       "        3             teaspoon          <NA>            <NA>   \n",
       "        4                 cups          <NA>            <NA>   \n",
       "...                        ...           ...             ...   \n",
       "931097  9                 cups          <NA>  finely chopped   \n",
       "        10                cups          <NA>         chopped   \n",
       "        11                 cup          <NA>            <NA>   \n",
       "        12                cups          <NA>            <NA>   \n",
       "        13          tablespoon          <NA>         chopped   \n",
       "\n",
       "                                          ingredient_string     unit_tags  \\\n",
       "recipe  ingredient                                                          \n",
       "1746116 0             2/3 cup Land O Lakes Butter, softened         [cup]   \n",
       "        1                                     1/2 cup sugar         [cup]   \n",
       "        2                  2 Land O Lakes Eggs (yolks only)            []   \n",
       "        3                                1 teaspoon vanilla    [teaspoon]   \n",
       "        4                      1 1/2 cups all-purpose flour         [cup]   \n",
       "...                                                     ...           ...   \n",
       "931097  9                 1/4 cup red onion, finely chopped         [cup]   \n",
       "        10                  1/4 cup chopped red bell pepper         [cup]   \n",
       "        11                               1 cup Jasmine rice         [cup]   \n",
       "        12          1 1/2 cups reduced-sodium chicken broth         [cup]   \n",
       "        13                 1 tablespoon chopped fresh basil  [tablespoon]   \n",
       "\n",
       "                   unit_remainders unit_type    food_id  food_portion_id  \n",
       "recipe  ingredient                                                        \n",
       "1746116 0                       []    volume  2345703.0         287267.0  \n",
       "        1                       []    volume  2345817.0         287772.0  \n",
       "        2                       []   portion   171287.0          88378.0  \n",
       "        3                       []    volume   172236.0          90134.0  \n",
       "        4                       []    volume   169761.0          85466.0  \n",
       "...                            ...       ...        ...              ...  \n",
       "931097  9                       []    volume  2345315.0         286030.0  \n",
       "        10                      []    volume  2345321.0         286059.0  \n",
       "        11                      []    volume   169756.0          85461.0  \n",
       "        12                      []    volume  2341341.0         270046.0  \n",
       "        13                      []    volume   172232.0          90126.0  \n",
       "\n",
       "[2450 rows x 12 columns]"
      ]
     },
     "execution_count": 7,
     "metadata": {},
     "output_type": "execute_result"
    }
   ],
   "source": [
    "ingredients_df = ingredients_df.join(food_ids).join(food_portion_ids)\n",
    "ingredients_df"
   ]
  },
  {
   "cell_type": "code",
   "execution_count": 8,
   "metadata": {
    "execution": {
     "iopub.execute_input": "2024-05-23T09:28:05.469248Z",
     "iopub.status.busy": "2024-05-23T09:28:05.469115Z",
     "iopub.status.idle": "2024-05-23T09:28:05.471737Z",
     "shell.execute_reply": "2024-05-23T09:28:05.471527Z"
    }
   },
   "outputs": [],
   "source": [
    "ingredients_df = ingredients_df.fillna(pd.NA)"
   ]
  },
  {
   "cell_type": "code",
   "execution_count": 9,
   "metadata": {
    "execution": {
     "iopub.execute_input": "2024-05-23T09:28:05.472622Z",
     "iopub.status.busy": "2024-05-23T09:28:05.472543Z",
     "iopub.status.idle": "2024-05-23T09:28:05.474114Z",
     "shell.execute_reply": "2024-05-23T09:28:05.473927Z"
    }
   },
   "outputs": [],
   "source": [
    "#| export\n",
    "with open(f'{root}/config/unit_conversions.json') as f:\n",
    "    unit_list = json.load(f)"
   ]
  },
  {
   "cell_type": "markdown",
   "metadata": {},
   "source": [
    "# Weight Calculation"
   ]
  },
  {
   "cell_type": "markdown",
   "metadata": {},
   "source": [
    "Using this information we want to calculate the gram weight of each ingredient."
   ]
  },
  {
   "cell_type": "code",
   "execution_count": 10,
   "metadata": {
    "execution": {
     "iopub.execute_input": "2024-05-23T09:28:05.474987Z",
     "iopub.status.busy": "2024-05-23T09:28:05.474910Z",
     "iopub.status.idle": "2024-05-23T09:28:05.477277Z",
     "shell.execute_reply": "2024-05-23T09:28:05.477098Z"
    }
   },
   "outputs": [
    {
     "data": {
      "text/plain": [
       "{'volume': {'milliliter': {'matches': ['ml'], 'conversion': 1.0},\n",
       "  'cup': {'matches': ['c'], 'conversion': 236.588},\n",
       "  'quart': {'matches': ['qrt', 'q'], 'conversion': 946.353},\n",
       "  'gallon': {'matches': [], 'conversion': 3785.41},\n",
       "  'pint': {'matches': ['p'], 'conversion': 473},\n",
       "  'fluid_ounce': {'matches': ['floz', 'fl oz'], 'conversion': 30},\n",
       "  'tablespoon': {'matches': ['tbsp', 'tbsps'], 'conversion': 15},\n",
       "  'teaspoon': {'matches': ['tsp', 'tsps'], 'conversion': 5},\n",
       "  'can': {'matches': ['tin'], 'conversion': 450},\n",
       "  'cubic_inch': {'matches': ['in^3, inch^3'], 'conversion': 16.3871},\n",
       "  'pinch': {'matches': [], 'conversion': 0.3},\n",
       "  'dash': {'matches': [], 'conversion': 0.6}},\n",
       " 'weight': {'gram': {'matches': ['g', 'gr'], 'conversion': 1.0},\n",
       "  'pound': {'matches': ['lb'], 'conversion': 453.592},\n",
       "  'killogram': {'matches': ['kg'], 'conversion': 1000},\n",
       "  'ounce': {'matches': ['oz'], 'conversion': 28.3495}},\n",
       " 'portion': {'whole': {'matches': ['full',\n",
       "    'large',\n",
       "    'medium',\n",
       "    'small',\n",
       "    'regular',\n",
       "    'fruit',\n",
       "    'nut']},\n",
       "  'piece': {'matches': ['chunk', 'slice', 'bit', 'section']},\n",
       "  'portion': {'matches': ['serving', 'helping']},\n",
       "  'package': {'matches': ['pack', 'packet', 'sachet', 'envelope']}}}"
      ]
     },
     "execution_count": 10,
     "metadata": {},
     "output_type": "execute_result"
    }
   ],
   "source": [
    "unit_list"
   ]
  },
  {
   "cell_type": "code",
   "execution_count": 11,
   "metadata": {
    "execution": {
     "iopub.execute_input": "2024-05-23T09:28:05.478115Z",
     "iopub.status.busy": "2024-05-23T09:28:05.478035Z",
     "iopub.status.idle": "2024-05-23T09:28:05.480542Z",
     "shell.execute_reply": "2024-05-23T09:28:05.480355Z"
    }
   },
   "outputs": [
    {
     "data": {
      "text/plain": [
       "name.name                                           butter\n",
       "name.description                          land lake butter\n",
       "quantity                                             0.667\n",
       "unit                                                  cups\n",
       "comment                                               <NA>\n",
       "preparation                                       softened\n",
       "ingredient_string    2/3 cup Land O Lakes Butter, softened\n",
       "unit_tags                                            [cup]\n",
       "unit_remainders                                         []\n",
       "unit_type                                           volume\n",
       "food_id                                          2345703.0\n",
       "food_portion_id                                   287267.0\n",
       "Name: (1746116, 0), dtype: object"
      ]
     },
     "execution_count": 11,
     "metadata": {},
     "output_type": "execute_result"
    }
   ],
   "source": [
    "ingredient = ingredients_df.iloc[0]\n",
    "ingredient"
   ]
  },
  {
   "cell_type": "markdown",
   "metadata": {},
   "source": [
    "The ingredient's weight are found according to the ingredient's unit_type ie. weight/volume/portion"
   ]
  },
  {
   "cell_type": "code",
   "execution_count": 12,
   "metadata": {
    "execution": {
     "iopub.execute_input": "2024-05-23T09:28:05.481418Z",
     "iopub.status.busy": "2024-05-23T09:28:05.481336Z",
     "iopub.status.idle": "2024-05-23T09:28:05.488714Z",
     "shell.execute_reply": "2024-05-23T09:28:05.488532Z"
    }
   },
   "outputs": [
    {
     "data": {
      "text/html": [
       "<div>\n",
       "<style scoped>\n",
       "    .dataframe tbody tr th:only-of-type {\n",
       "        vertical-align: middle;\n",
       "    }\n",
       "\n",
       "    .dataframe tbody tr th {\n",
       "        vertical-align: top;\n",
       "    }\n",
       "\n",
       "    .dataframe thead th {\n",
       "        text-align: right;\n",
       "    }\n",
       "</style>\n",
       "<table border=\"1\" class=\"dataframe\">\n",
       "  <thead>\n",
       "    <tr style=\"text-align: right;\">\n",
       "      <th></th>\n",
       "      <th></th>\n",
       "      <th>name.name</th>\n",
       "      <th>name.description</th>\n",
       "      <th>quantity</th>\n",
       "      <th>unit</th>\n",
       "      <th>comment</th>\n",
       "      <th>preparation</th>\n",
       "      <th>ingredient_string</th>\n",
       "      <th>unit_tags</th>\n",
       "      <th>unit_remainders</th>\n",
       "      <th>unit_type</th>\n",
       "      <th>food_id</th>\n",
       "      <th>food_portion_id</th>\n",
       "    </tr>\n",
       "    <tr>\n",
       "      <th>recipe</th>\n",
       "      <th>ingredient</th>\n",
       "      <th></th>\n",
       "      <th></th>\n",
       "      <th></th>\n",
       "      <th></th>\n",
       "      <th></th>\n",
       "      <th></th>\n",
       "      <th></th>\n",
       "      <th></th>\n",
       "      <th></th>\n",
       "      <th></th>\n",
       "      <th></th>\n",
       "      <th></th>\n",
       "    </tr>\n",
       "  </thead>\n",
       "  <tbody>\n",
       "    <tr>\n",
       "      <th rowspan=\"5\" valign=\"top\">1746116</th>\n",
       "      <th>0</th>\n",
       "      <td>butter</td>\n",
       "      <td>land lake butter</td>\n",
       "      <td>0.667</td>\n",
       "      <td>cups</td>\n",
       "      <td>&lt;NA&gt;</td>\n",
       "      <td>softened</td>\n",
       "      <td>2/3 cup Land O Lakes Butter, softened</td>\n",
       "      <td>[cup]</td>\n",
       "      <td>[]</td>\n",
       "      <td>volume</td>\n",
       "      <td>2345703.0</td>\n",
       "      <td>287267.0</td>\n",
       "    </tr>\n",
       "    <tr>\n",
       "      <th>1</th>\n",
       "      <td>sugar</td>\n",
       "      <td>sugar</td>\n",
       "      <td>0.5</td>\n",
       "      <td>cups</td>\n",
       "      <td>&lt;NA&gt;</td>\n",
       "      <td>&lt;NA&gt;</td>\n",
       "      <td>1/2 cup sugar</td>\n",
       "      <td>[cup]</td>\n",
       "      <td>[]</td>\n",
       "      <td>volume</td>\n",
       "      <td>2345817.0</td>\n",
       "      <td>287772.0</td>\n",
       "    </tr>\n",
       "    <tr>\n",
       "      <th>2</th>\n",
       "      <td>egg</td>\n",
       "      <td>land lake egg</td>\n",
       "      <td>2.0</td>\n",
       "      <td>&lt;NA&gt;</td>\n",
       "      <td>(yolks only)</td>\n",
       "      <td>&lt;NA&gt;</td>\n",
       "      <td>2 Land O Lakes Eggs (yolks only)</td>\n",
       "      <td>[]</td>\n",
       "      <td>[]</td>\n",
       "      <td>portion</td>\n",
       "      <td>171287.0</td>\n",
       "      <td>88378.0</td>\n",
       "    </tr>\n",
       "    <tr>\n",
       "      <th>3</th>\n",
       "      <td>vanilla</td>\n",
       "      <td>vanilla</td>\n",
       "      <td>1.0</td>\n",
       "      <td>teaspoon</td>\n",
       "      <td>&lt;NA&gt;</td>\n",
       "      <td>&lt;NA&gt;</td>\n",
       "      <td>1 teaspoon vanilla</td>\n",
       "      <td>[teaspoon]</td>\n",
       "      <td>[]</td>\n",
       "      <td>volume</td>\n",
       "      <td>172236.0</td>\n",
       "      <td>90134.0</td>\n",
       "    </tr>\n",
       "    <tr>\n",
       "      <th>4</th>\n",
       "      <td>flour</td>\n",
       "      <td>all-purpose flour</td>\n",
       "      <td>1.5</td>\n",
       "      <td>cups</td>\n",
       "      <td>&lt;NA&gt;</td>\n",
       "      <td>&lt;NA&gt;</td>\n",
       "      <td>1 1/2 cups all-purpose flour</td>\n",
       "      <td>[cup]</td>\n",
       "      <td>[]</td>\n",
       "      <td>volume</td>\n",
       "      <td>169761.0</td>\n",
       "      <td>85466.0</td>\n",
       "    </tr>\n",
       "    <tr>\n",
       "      <th>...</th>\n",
       "      <th>...</th>\n",
       "      <td>...</td>\n",
       "      <td>...</td>\n",
       "      <td>...</td>\n",
       "      <td>...</td>\n",
       "      <td>...</td>\n",
       "      <td>...</td>\n",
       "      <td>...</td>\n",
       "      <td>...</td>\n",
       "      <td>...</td>\n",
       "      <td>...</td>\n",
       "      <td>...</td>\n",
       "      <td>...</td>\n",
       "    </tr>\n",
       "    <tr>\n",
       "      <th rowspan=\"5\" valign=\"top\">931097</th>\n",
       "      <th>9</th>\n",
       "      <td>red onion</td>\n",
       "      <td>red onion</td>\n",
       "      <td>0.25</td>\n",
       "      <td>cups</td>\n",
       "      <td>&lt;NA&gt;</td>\n",
       "      <td>finely chopped</td>\n",
       "      <td>1/4 cup red onion, finely chopped</td>\n",
       "      <td>[cup]</td>\n",
       "      <td>[]</td>\n",
       "      <td>volume</td>\n",
       "      <td>2345315.0</td>\n",
       "      <td>286030.0</td>\n",
       "    </tr>\n",
       "    <tr>\n",
       "      <th>10</th>\n",
       "      <td>red bell pepper</td>\n",
       "      <td>red bell pepper</td>\n",
       "      <td>0.25</td>\n",
       "      <td>cups</td>\n",
       "      <td>&lt;NA&gt;</td>\n",
       "      <td>chopped</td>\n",
       "      <td>1/4 cup chopped red bell pepper</td>\n",
       "      <td>[cup]</td>\n",
       "      <td>[]</td>\n",
       "      <td>volume</td>\n",
       "      <td>2345321.0</td>\n",
       "      <td>286059.0</td>\n",
       "    </tr>\n",
       "    <tr>\n",
       "      <th>11</th>\n",
       "      <td>jasmine rice</td>\n",
       "      <td>jasmine rice</td>\n",
       "      <td>1.0</td>\n",
       "      <td>cup</td>\n",
       "      <td>&lt;NA&gt;</td>\n",
       "      <td>&lt;NA&gt;</td>\n",
       "      <td>1 cup Jasmine rice</td>\n",
       "      <td>[cup]</td>\n",
       "      <td>[]</td>\n",
       "      <td>volume</td>\n",
       "      <td>169756.0</td>\n",
       "      <td>85461.0</td>\n",
       "    </tr>\n",
       "    <tr>\n",
       "      <th>12</th>\n",
       "      <td>chicken</td>\n",
       "      <td>reduced-sodium chicken broth</td>\n",
       "      <td>1.5</td>\n",
       "      <td>cups</td>\n",
       "      <td>&lt;NA&gt;</td>\n",
       "      <td>&lt;NA&gt;</td>\n",
       "      <td>1 1/2 cups reduced-sodium chicken broth</td>\n",
       "      <td>[cup]</td>\n",
       "      <td>[]</td>\n",
       "      <td>volume</td>\n",
       "      <td>2341341.0</td>\n",
       "      <td>270046.0</td>\n",
       "    </tr>\n",
       "    <tr>\n",
       "      <th>13</th>\n",
       "      <td>fresh basil</td>\n",
       "      <td>fresh basil</td>\n",
       "      <td>1.0</td>\n",
       "      <td>tablespoon</td>\n",
       "      <td>&lt;NA&gt;</td>\n",
       "      <td>chopped</td>\n",
       "      <td>1 tablespoon chopped fresh basil</td>\n",
       "      <td>[tablespoon]</td>\n",
       "      <td>[]</td>\n",
       "      <td>volume</td>\n",
       "      <td>172232.0</td>\n",
       "      <td>90126.0</td>\n",
       "    </tr>\n",
       "  </tbody>\n",
       "</table>\n",
       "<p>2450 rows × 12 columns</p>\n",
       "</div>"
      ],
      "text/plain": [
       "                          name.name              name.description  quantity  \\\n",
       "recipe  ingredient                                                            \n",
       "1746116 0                    butter              land lake butter     0.667   \n",
       "        1                     sugar                         sugar       0.5   \n",
       "        2                       egg                 land lake egg       2.0   \n",
       "        3                   vanilla                       vanilla       1.0   \n",
       "        4                     flour             all-purpose flour       1.5   \n",
       "...                             ...                           ...       ...   \n",
       "931097  9                 red onion                     red onion      0.25   \n",
       "        10          red bell pepper               red bell pepper      0.25   \n",
       "        11             jasmine rice                  jasmine rice       1.0   \n",
       "        12                  chicken  reduced-sodium chicken broth       1.5   \n",
       "        13              fresh basil                   fresh basil       1.0   \n",
       "\n",
       "                          unit       comment     preparation  \\\n",
       "recipe  ingredient                                             \n",
       "1746116 0                 cups          <NA>        softened   \n",
       "        1                 cups          <NA>            <NA>   \n",
       "        2                 <NA>  (yolks only)            <NA>   \n",
       "        3             teaspoon          <NA>            <NA>   \n",
       "        4                 cups          <NA>            <NA>   \n",
       "...                        ...           ...             ...   \n",
       "931097  9                 cups          <NA>  finely chopped   \n",
       "        10                cups          <NA>         chopped   \n",
       "        11                 cup          <NA>            <NA>   \n",
       "        12                cups          <NA>            <NA>   \n",
       "        13          tablespoon          <NA>         chopped   \n",
       "\n",
       "                                          ingredient_string     unit_tags  \\\n",
       "recipe  ingredient                                                          \n",
       "1746116 0             2/3 cup Land O Lakes Butter, softened         [cup]   \n",
       "        1                                     1/2 cup sugar         [cup]   \n",
       "        2                  2 Land O Lakes Eggs (yolks only)            []   \n",
       "        3                                1 teaspoon vanilla    [teaspoon]   \n",
       "        4                      1 1/2 cups all-purpose flour         [cup]   \n",
       "...                                                     ...           ...   \n",
       "931097  9                 1/4 cup red onion, finely chopped         [cup]   \n",
       "        10                  1/4 cup chopped red bell pepper         [cup]   \n",
       "        11                               1 cup Jasmine rice         [cup]   \n",
       "        12          1 1/2 cups reduced-sodium chicken broth         [cup]   \n",
       "        13                 1 tablespoon chopped fresh basil  [tablespoon]   \n",
       "\n",
       "                   unit_remainders unit_type    food_id  food_portion_id  \n",
       "recipe  ingredient                                                        \n",
       "1746116 0                       []    volume  2345703.0         287267.0  \n",
       "        1                       []    volume  2345817.0         287772.0  \n",
       "        2                       []   portion   171287.0          88378.0  \n",
       "        3                       []    volume   172236.0          90134.0  \n",
       "        4                       []    volume   169761.0          85466.0  \n",
       "...                            ...       ...        ...              ...  \n",
       "931097  9                       []    volume  2345315.0         286030.0  \n",
       "        10                      []    volume  2345321.0         286059.0  \n",
       "        11                      []    volume   169756.0          85461.0  \n",
       "        12                      []    volume  2341341.0         270046.0  \n",
       "        13                      []    volume   172232.0          90126.0  \n",
       "\n",
       "[2450 rows x 12 columns]"
      ]
     },
     "execution_count": 12,
     "metadata": {},
     "output_type": "execute_result"
    }
   ],
   "source": [
    "ingredients_df"
   ]
  },
  {
   "cell_type": "code",
   "execution_count": 13,
   "metadata": {
    "execution": {
     "iopub.execute_input": "2024-05-23T09:28:05.489592Z",
     "iopub.status.busy": "2024-05-23T09:28:05.489511Z",
     "iopub.status.idle": "2024-05-23T09:28:05.492534Z",
     "shell.execute_reply": "2024-05-23T09:28:05.492344Z"
    }
   },
   "outputs": [],
   "source": [
    "#| export\n",
    "def get_gram_weight(ingredient, food_portion_df, unit_list):\n",
    "\n",
    "    weight = 0.0\n",
    "\n",
    "    if ingredient['unit_type'] != 'weight' and (pd.isnull(ingredient['food_id']) or pd.isnull(ingredient['food_portion_id'])): return pd.NA\n",
    "\n",
    "    if ingredient['unit_type'] == 'weight':\n",
    "        \n",
    "        ingredient_weight_unit = [unit for unit in ingredient['unit_tags'] if unit in unit_list['weight'].keys()][0]\n",
    "        weight = unit_list['weight'][ingredient_weight_unit]['conversion'] * ingredient['quantity']\n",
    "\n",
    "    else:\n",
    "\n",
    "        portion = food_portion_df.loc[ingredient['food_id'], ingredient['food_portion_id']]\n",
    "\n",
    "        if ingredient['unit_type'] == 'volume':\n",
    "\n",
    "            ingredient_volume_unit = [unit for unit in ingredient['unit_tags'] if unit in unit_list['volume'].keys()][0]\n",
    "\n",
    "            if portion['unit_type'] == 'volume':\n",
    "\n",
    "                portion_volume_unit = [unit for unit in portion['unit_tags'] if unit in unit_list['volume'].keys()][0]\n",
    "                # simple density calculation if exists\n",
    "                if not pd.notnull(portion['portion_amount']):\n",
    "                    density = portion['gram_weight'] / (portion['amount'] * unit_list['volume'][portion_volume_unit]['conversion'])\n",
    "                else:\n",
    "                    density = portion['gram_weight'] / (portion['amount'] * portion['portion_amount'] * unit_list['volume'][portion_volume_unit]['conversion']) # #todo can just make porion_amount == 1 or factor this in the amount when creating dataframe\n",
    "                weight = unit_list['volume'][ingredient_volume_unit]['conversion'] * density * ingredient['quantity']\n",
    "\n",
    "            else:\n",
    "\n",
    "                # volume measurement not given -> must be portion (set to NA for now)\n",
    "                weight = pd.NA\n",
    "\n",
    "        else: # ingredient whole/portion measurements\n",
    "\n",
    "            weight = portion['gram_weight'] * ingredient['quantity']\n",
    "\n",
    "\n",
    "    return weight    "
   ]
  },
  {
   "cell_type": "code",
   "execution_count": 14,
   "metadata": {
    "execution": {
     "iopub.execute_input": "2024-05-23T09:28:05.493433Z",
     "iopub.status.busy": "2024-05-23T09:28:05.493269Z",
     "iopub.status.idle": "2024-05-23T09:28:05.495204Z",
     "shell.execute_reply": "2024-05-23T09:28:05.495017Z"
    }
   },
   "outputs": [],
   "source": [
    "assert get_gram_weight(ingredient, food_portion_df, unit_list) > 100"
   ]
  },
  {
   "cell_type": "code",
   "execution_count": 15,
   "metadata": {
    "execution": {
     "iopub.execute_input": "2024-05-23T09:28:05.496025Z",
     "iopub.status.busy": "2024-05-23T09:28:05.495947Z",
     "iopub.status.idle": "2024-05-23T09:28:05.498215Z",
     "shell.execute_reply": "2024-05-23T09:28:05.498036Z"
    }
   },
   "outputs": [
    {
     "data": {
      "text/plain": [
       "name.name                                         egg\n",
       "name.description                        land lake egg\n",
       "quantity                                          2.0\n",
       "unit                                             <NA>\n",
       "comment                                  (yolks only)\n",
       "preparation                                      <NA>\n",
       "ingredient_string    2 Land O Lakes Eggs (yolks only)\n",
       "unit_tags                                          []\n",
       "unit_remainders                                    []\n",
       "unit_type                                     portion\n",
       "food_id                                      171287.0\n",
       "food_portion_id                               88378.0\n",
       "Name: (1746116, 2), dtype: object"
      ]
     },
     "execution_count": 15,
     "metadata": {},
     "output_type": "execute_result"
    }
   ],
   "source": [
    "ingredients_df.iloc[2]"
   ]
  },
  {
   "cell_type": "code",
   "execution_count": 16,
   "metadata": {
    "execution": {
     "iopub.execute_input": "2024-05-23T09:28:05.499030Z",
     "iopub.status.busy": "2024-05-23T09:28:05.498954Z",
     "iopub.status.idle": "2024-05-23T09:28:05.660502Z",
     "shell.execute_reply": "2024-05-23T09:28:05.660280Z"
    }
   },
   "outputs": [
    {
     "name": "stderr",
     "output_type": "stream",
     "text": [
      "\r",
      "  0%|                                                                                                                                                                                                                                                            | 0/2450 [00:00<?, ?it/s]"
     ]
    },
    {
     "name": "stderr",
     "output_type": "stream",
     "text": [
      "\r",
      " 63%|█████████████████████████████████████████████████████████████████████████████████████████████████████████████████████████████████████████████████████▉                                                                                        | 1544/2450 [00:00<00:00, 15436.52it/s]"
     ]
    },
    {
     "name": "stderr",
     "output_type": "stream",
     "text": [
      "\r",
      "100%|██████████████████████████████████████████████████████████████████████████████████████████████████████████████████████████████████████████████████████████████████████████████████████████████████████████████████████████████████████████████| 2450/2450 [00:00<00:00, 15559.25it/s]"
     ]
    },
    {
     "name": "stderr",
     "output_type": "stream",
     "text": [
      "\n"
     ]
    }
   ],
   "source": [
    "ingredients_df['gram_weight'] = ingredients_df.progress_apply(get_gram_weight, axis=1, args=(food_portion_df, unit_list,))"
   ]
  },
  {
   "cell_type": "code",
   "execution_count": 17,
   "metadata": {
    "execution": {
     "iopub.execute_input": "2024-05-23T09:28:05.661720Z",
     "iopub.status.busy": "2024-05-23T09:28:05.661634Z",
     "iopub.status.idle": "2024-05-23T09:28:05.663878Z",
     "shell.execute_reply": "2024-05-23T09:28:05.663676Z"
    }
   },
   "outputs": [],
   "source": [
    "assert ingredients_df[(ingredients_df['quantity'] != 0) & (ingredients_df['gram_weight'] == 0)].empty"
   ]
  },
  {
   "cell_type": "code",
   "execution_count": 18,
   "metadata": {
    "execution": {
     "iopub.execute_input": "2024-05-23T09:28:05.665024Z",
     "iopub.status.busy": "2024-05-23T09:28:05.664830Z",
     "iopub.status.idle": "2024-05-23T09:28:05.673372Z",
     "shell.execute_reply": "2024-05-23T09:28:05.673186Z"
    }
   },
   "outputs": [
    {
     "data": {
      "text/html": [
       "<div>\n",
       "<style scoped>\n",
       "    .dataframe tbody tr th:only-of-type {\n",
       "        vertical-align: middle;\n",
       "    }\n",
       "\n",
       "    .dataframe tbody tr th {\n",
       "        vertical-align: top;\n",
       "    }\n",
       "\n",
       "    .dataframe thead th {\n",
       "        text-align: right;\n",
       "    }\n",
       "</style>\n",
       "<table border=\"1\" class=\"dataframe\">\n",
       "  <thead>\n",
       "    <tr style=\"text-align: right;\">\n",
       "      <th></th>\n",
       "      <th></th>\n",
       "      <th>name.name</th>\n",
       "      <th>name.description</th>\n",
       "      <th>quantity</th>\n",
       "      <th>unit</th>\n",
       "      <th>comment</th>\n",
       "      <th>preparation</th>\n",
       "      <th>ingredient_string</th>\n",
       "      <th>unit_tags</th>\n",
       "      <th>unit_remainders</th>\n",
       "      <th>unit_type</th>\n",
       "      <th>food_id</th>\n",
       "      <th>food_portion_id</th>\n",
       "      <th>gram_weight</th>\n",
       "      <th>description</th>\n",
       "    </tr>\n",
       "    <tr>\n",
       "      <th>recipe</th>\n",
       "      <th>ingredient</th>\n",
       "      <th></th>\n",
       "      <th></th>\n",
       "      <th></th>\n",
       "      <th></th>\n",
       "      <th></th>\n",
       "      <th></th>\n",
       "      <th></th>\n",
       "      <th></th>\n",
       "      <th></th>\n",
       "      <th></th>\n",
       "      <th></th>\n",
       "      <th></th>\n",
       "      <th></th>\n",
       "      <th></th>\n",
       "    </tr>\n",
       "  </thead>\n",
       "  <tbody>\n",
       "    <tr>\n",
       "      <th>574304</th>\n",
       "      <th>0</th>\n",
       "      <td>brandy</td>\n",
       "      <td>brandy</td>\n",
       "      <td>0.333</td>\n",
       "      <td>cups</td>\n",
       "      <td>&lt;NA&gt;</td>\n",
       "      <td>&lt;NA&gt;</td>\n",
       "      <td>1/3 cup brandy</td>\n",
       "      <td>[cup]</td>\n",
       "      <td>[]</td>\n",
       "      <td>volume</td>\n",
       "      <td>171907.0</td>\n",
       "      <td>89543.0</td>\n",
       "      <td>&lt;NA&gt;</td>\n",
       "      <td>bottle</td>\n",
       "    </tr>\n",
       "    <tr>\n",
       "      <th>1781719</th>\n",
       "      <th>3</th>\n",
       "      <td>light molasses</td>\n",
       "      <td>light molasses</td>\n",
       "      <td>1.0</td>\n",
       "      <td>teaspoon</td>\n",
       "      <td>&lt;NA&gt;</td>\n",
       "      <td>&lt;NA&gt;</td>\n",
       "      <td>1 teaspoon light molasses</td>\n",
       "      <td>[teaspoon]</td>\n",
       "      <td>[]</td>\n",
       "      <td>volume</td>\n",
       "      <td>2343424.0</td>\n",
       "      <td>278155.0</td>\n",
       "      <td>&lt;NA&gt;</td>\n",
       "      <td>medium</td>\n",
       "    </tr>\n",
       "    <tr>\n",
       "      <th>828558</th>\n",
       "      <th>4</th>\n",
       "      <td>health valley</td>\n",
       "      <td>health valley spicy</td>\n",
       "      <td>1.0</td>\n",
       "      <td>can</td>\n",
       "      <td>&lt;NA&gt;</td>\n",
       "      <td>&lt;NA&gt;</td>\n",
       "      <td>1 (15 oz.) can Health Valley spicy</td>\n",
       "      <td>[can]</td>\n",
       "      <td>[]</td>\n",
       "      <td>volume</td>\n",
       "      <td>2343412.0</td>\n",
       "      <td>278110.0</td>\n",
       "      <td>&lt;NA&gt;</td>\n",
       "      <td>cookie</td>\n",
       "    </tr>\n",
       "    <tr>\n",
       "      <th>1379076</th>\n",
       "      <th>5</th>\n",
       "      <td>liquor</td>\n",
       "      <td>peach flavored liquor</td>\n",
       "      <td>2.5</td>\n",
       "      <td>tablespoons</td>\n",
       "      <td>&lt;NA&gt;</td>\n",
       "      <td>&lt;NA&gt;</td>\n",
       "      <td>2-3 tablespoons Peach Flavored liquor</td>\n",
       "      <td>[tablespoon]</td>\n",
       "      <td>[]</td>\n",
       "      <td>volume</td>\n",
       "      <td>171907.0</td>\n",
       "      <td>89543.0</td>\n",
       "      <td>&lt;NA&gt;</td>\n",
       "      <td>bottle</td>\n",
       "    </tr>\n",
       "    <tr>\n",
       "      <th>165596</th>\n",
       "      <th>5</th>\n",
       "      <td>dark molasses</td>\n",
       "      <td>dark molasses</td>\n",
       "      <td>0.667</td>\n",
       "      <td>cups</td>\n",
       "      <td>&lt;NA&gt;</td>\n",
       "      <td>&lt;NA&gt;</td>\n",
       "      <td>2/3 cup dark molasses</td>\n",
       "      <td>[cup]</td>\n",
       "      <td>[]</td>\n",
       "      <td>volume</td>\n",
       "      <td>2343424.0</td>\n",
       "      <td>278155.0</td>\n",
       "      <td>&lt;NA&gt;</td>\n",
       "      <td>medium</td>\n",
       "    </tr>\n",
       "  </tbody>\n",
       "</table>\n",
       "</div>"
      ],
      "text/plain": [
       "                         name.name       name.description  quantity  \\\n",
       "recipe  ingredient                                                    \n",
       "574304  0                   brandy                 brandy     0.333   \n",
       "1781719 3           light molasses         light molasses       1.0   \n",
       "828558  4            health valley    health valley spicy       1.0   \n",
       "1379076 5                   liquor  peach flavored liquor       2.5   \n",
       "165596  5            dark molasses          dark molasses     0.667   \n",
       "\n",
       "                           unit comment preparation  \\\n",
       "recipe  ingredient                                    \n",
       "574304  0                  cups    <NA>        <NA>   \n",
       "1781719 3              teaspoon    <NA>        <NA>   \n",
       "828558  4                   can    <NA>        <NA>   \n",
       "1379076 5           tablespoons    <NA>        <NA>   \n",
       "165596  5                  cups    <NA>        <NA>   \n",
       "\n",
       "                                        ingredient_string     unit_tags  \\\n",
       "recipe  ingredient                                                        \n",
       "574304  0                                  1/3 cup brandy         [cup]   \n",
       "1781719 3                       1 teaspoon light molasses    [teaspoon]   \n",
       "828558  4              1 (15 oz.) can Health Valley spicy         [can]   \n",
       "1379076 5           2-3 tablespoons Peach Flavored liquor  [tablespoon]   \n",
       "165596  5                           2/3 cup dark molasses         [cup]   \n",
       "\n",
       "                   unit_remainders unit_type    food_id  food_portion_id  \\\n",
       "recipe  ingredient                                                         \n",
       "574304  0                       []    volume   171907.0          89543.0   \n",
       "1781719 3                       []    volume  2343424.0         278155.0   \n",
       "828558  4                       []    volume  2343412.0         278110.0   \n",
       "1379076 5                       []    volume   171907.0          89543.0   \n",
       "165596  5                       []    volume  2343424.0         278155.0   \n",
       "\n",
       "                   gram_weight description  \n",
       "recipe  ingredient                          \n",
       "574304  0                 <NA>      bottle  \n",
       "1781719 3                 <NA>      medium  \n",
       "828558  4                 <NA>      cookie  \n",
       "1379076 5                 <NA>      bottle  \n",
       "165596  5                 <NA>      medium  "
      ]
     },
     "execution_count": 18,
     "metadata": {},
     "output_type": "execute_result"
    }
   ],
   "source": [
    "ingredients_df[ingredients_df['gram_weight'].isna() & ingredients_df['quantity'].notna() & ingredients_df['food_portion_id'].notna()].join(food_portion_df['description'], on=['food_id', 'food_portion_id'])"
   ]
  },
  {
   "cell_type": "code",
   "execution_count": 19,
   "metadata": {
    "execution": {
     "iopub.execute_input": "2024-05-23T09:28:05.674484Z",
     "iopub.status.busy": "2024-05-23T09:28:05.674405Z",
     "iopub.status.idle": "2024-05-23T09:28:05.679124Z",
     "shell.execute_reply": "2024-05-23T09:28:05.678935Z"
    }
   },
   "outputs": [
    {
     "data": {
      "text/html": [
       "<div>\n",
       "<style scoped>\n",
       "    .dataframe tbody tr th:only-of-type {\n",
       "        vertical-align: middle;\n",
       "    }\n",
       "\n",
       "    .dataframe tbody tr th {\n",
       "        vertical-align: top;\n",
       "    }\n",
       "\n",
       "    .dataframe thead th {\n",
       "        text-align: right;\n",
       "    }\n",
       "</style>\n",
       "<table border=\"1\" class=\"dataframe\">\n",
       "  <thead>\n",
       "    <tr style=\"text-align: right;\">\n",
       "      <th></th>\n",
       "      <th>seq_num</th>\n",
       "      <th>amount</th>\n",
       "      <th>gram_weight</th>\n",
       "      <th>description</th>\n",
       "      <th>unit_tags</th>\n",
       "      <th>unit_remainders</th>\n",
       "      <th>unit_type</th>\n",
       "      <th>portion_amount</th>\n",
       "      <th>portion_unit</th>\n",
       "    </tr>\n",
       "    <tr>\n",
       "      <th>id</th>\n",
       "      <th></th>\n",
       "      <th></th>\n",
       "      <th></th>\n",
       "      <th></th>\n",
       "      <th></th>\n",
       "      <th></th>\n",
       "      <th></th>\n",
       "      <th></th>\n",
       "      <th></th>\n",
       "    </tr>\n",
       "  </thead>\n",
       "  <tbody>\n",
       "    <tr>\n",
       "      <th>278153</th>\n",
       "      <td>1</td>\n",
       "      <td>1.0</td>\n",
       "      <td>5.0</td>\n",
       "      <td>miniature/bite size</td>\n",
       "      <td>[]</td>\n",
       "      <td>[miniature, bite, size]</td>\n",
       "      <td>portion</td>\n",
       "      <td>NaN</td>\n",
       "      <td>None</td>\n",
       "    </tr>\n",
       "    <tr>\n",
       "      <th>278154</th>\n",
       "      <td>2</td>\n",
       "      <td>1.0</td>\n",
       "      <td>20.0</td>\n",
       "      <td>small</td>\n",
       "      <td>[whole]</td>\n",
       "      <td>[]</td>\n",
       "      <td>portion</td>\n",
       "      <td>NaN</td>\n",
       "      <td>None</td>\n",
       "    </tr>\n",
       "    <tr>\n",
       "      <th>278155</th>\n",
       "      <td>3</td>\n",
       "      <td>1.0</td>\n",
       "      <td>30.0</td>\n",
       "      <td>medium</td>\n",
       "      <td>[whole]</td>\n",
       "      <td>[]</td>\n",
       "      <td>portion</td>\n",
       "      <td>NaN</td>\n",
       "      <td>None</td>\n",
       "    </tr>\n",
       "    <tr>\n",
       "      <th>278156</th>\n",
       "      <td>4</td>\n",
       "      <td>1.0</td>\n",
       "      <td>45.0</td>\n",
       "      <td>large</td>\n",
       "      <td>[whole]</td>\n",
       "      <td>[]</td>\n",
       "      <td>portion</td>\n",
       "      <td>NaN</td>\n",
       "      <td>None</td>\n",
       "    </tr>\n",
       "    <tr>\n",
       "      <th>278157</th>\n",
       "      <td>5</td>\n",
       "      <td>1.0</td>\n",
       "      <td>20.0</td>\n",
       "      <td>little debbie cookie</td>\n",
       "      <td>[]</td>\n",
       "      <td>[little, debbie, cookie]</td>\n",
       "      <td>portion</td>\n",
       "      <td>NaN</td>\n",
       "      <td>None</td>\n",
       "    </tr>\n",
       "  </tbody>\n",
       "</table>\n",
       "</div>"
      ],
      "text/plain": [
       "        seq_num  amount  gram_weight           description unit_tags  \\\n",
       "id                                                                     \n",
       "278153        1     1.0          5.0   miniature/bite size        []   \n",
       "278154        2     1.0         20.0                 small   [whole]   \n",
       "278155        3     1.0         30.0                medium   [whole]   \n",
       "278156        4     1.0         45.0                 large   [whole]   \n",
       "278157        5     1.0         20.0  little debbie cookie        []   \n",
       "\n",
       "                 unit_remainders unit_type  portion_amount portion_unit  \n",
       "id                                                                       \n",
       "278153   [miniature, bite, size]   portion             NaN         None  \n",
       "278154                        []   portion             NaN         None  \n",
       "278155                        []   portion             NaN         None  \n",
       "278156                        []   portion             NaN         None  \n",
       "278157  [little, debbie, cookie]   portion             NaN         None  "
      ]
     },
     "execution_count": 19,
     "metadata": {},
     "output_type": "execute_result"
    }
   ],
   "source": [
    "food_portion_df.loc[2343424.0]"
   ]
  },
  {
   "cell_type": "markdown",
   "metadata": {},
   "source": [
    "-> Occurs when portion options doesn't contain the same unit_type information ie. required volume and only had portion."
   ]
  },
  {
   "cell_type": "code",
   "execution_count": 20,
   "metadata": {
    "execution": {
     "iopub.execute_input": "2024-05-23T09:28:05.680310Z",
     "iopub.status.busy": "2024-05-23T09:28:05.680123Z",
     "iopub.status.idle": "2024-05-23T09:28:05.682393Z",
     "shell.execute_reply": "2024-05-23T09:28:05.682210Z"
    }
   },
   "outputs": [
    {
     "data": {
      "text/plain": [
       "data_type                            sr_legacy_food\n",
       "description                  Egg, whole, raw, fresh\n",
       "description_list           [egg, whole, raw, fresh]\n",
       "description_length                               22\n",
       "description_list_length                           4\n",
       "default_word_count                                3\n",
       "exclusion_word_count                              0\n",
       "volume_exists                                  True\n",
       "portion_exists                                 True\n",
       "Name: 171287, dtype: object"
      ]
     },
     "execution_count": 20,
     "metadata": {},
     "output_type": "execute_result"
    }
   ],
   "source": [
    "food_df.loc[171287]"
   ]
  },
  {
   "cell_type": "code",
   "execution_count": 21,
   "metadata": {
    "execution": {
     "iopub.execute_input": "2024-05-23T09:28:05.683466Z",
     "iopub.status.busy": "2024-05-23T09:28:05.683278Z",
     "iopub.status.idle": "2024-05-23T09:28:05.687474Z",
     "shell.execute_reply": "2024-05-23T09:28:05.687291Z"
    }
   },
   "outputs": [
    {
     "data": {
      "text/html": [
       "<div>\n",
       "<style scoped>\n",
       "    .dataframe tbody tr th:only-of-type {\n",
       "        vertical-align: middle;\n",
       "    }\n",
       "\n",
       "    .dataframe tbody tr th {\n",
       "        vertical-align: top;\n",
       "    }\n",
       "\n",
       "    .dataframe thead th {\n",
       "        text-align: right;\n",
       "    }\n",
       "</style>\n",
       "<table border=\"1\" class=\"dataframe\">\n",
       "  <thead>\n",
       "    <tr style=\"text-align: right;\">\n",
       "      <th></th>\n",
       "      <th></th>\n",
       "      <th>seq_num</th>\n",
       "      <th>amount</th>\n",
       "      <th>gram_weight</th>\n",
       "      <th>description</th>\n",
       "      <th>unit_tags</th>\n",
       "      <th>unit_remainders</th>\n",
       "      <th>unit_type</th>\n",
       "      <th>portion_amount</th>\n",
       "      <th>portion_unit</th>\n",
       "    </tr>\n",
       "    <tr>\n",
       "      <th>fdc_id</th>\n",
       "      <th>id</th>\n",
       "      <th></th>\n",
       "      <th></th>\n",
       "      <th></th>\n",
       "      <th></th>\n",
       "      <th></th>\n",
       "      <th></th>\n",
       "      <th></th>\n",
       "      <th></th>\n",
       "      <th></th>\n",
       "    </tr>\n",
       "  </thead>\n",
       "  <tbody>\n",
       "    <tr>\n",
       "      <th>171287</th>\n",
       "      <th>88378</th>\n",
       "      <td>6</td>\n",
       "      <td>1.0</td>\n",
       "      <td>44.0</td>\n",
       "      <td>medium</td>\n",
       "      <td>[whole]</td>\n",
       "      <td>[]</td>\n",
       "      <td>portion</td>\n",
       "      <td>NaN</td>\n",
       "      <td>None</td>\n",
       "    </tr>\n",
       "  </tbody>\n",
       "</table>\n",
       "</div>"
      ],
      "text/plain": [
       "              seq_num  amount  gram_weight description unit_tags  \\\n",
       "fdc_id id                                                          \n",
       "171287 88378        6     1.0         44.0      medium   [whole]   \n",
       "\n",
       "             unit_remainders unit_type  portion_amount portion_unit  \n",
       "fdc_id id                                                            \n",
       "171287 88378              []   portion             NaN         None  "
      ]
     },
     "execution_count": 21,
     "metadata": {},
     "output_type": "execute_result"
    }
   ],
   "source": [
    "food_portion_df[food_portion_df.index.get_level_values(1) == 88378.0]"
   ]
  },
  {
   "cell_type": "markdown",
   "metadata": {},
   "source": [
    "#### Handling NA's"
   ]
  },
  {
   "cell_type": "code",
   "execution_count": 22,
   "metadata": {
    "execution": {
     "iopub.execute_input": "2024-05-23T09:28:05.688335Z",
     "iopub.status.busy": "2024-05-23T09:28:05.688258Z",
     "iopub.status.idle": "2024-05-23T09:28:05.730874Z",
     "shell.execute_reply": "2024-05-23T09:28:05.730565Z"
    }
   },
   "outputs": [],
   "source": [
    "ingredients_df['gram_weight'] = ingredients_df['gram_weight'].groupby('recipe').transform(lambda x: x.astype('double[pyarrow]').fillna(x.mean()))"
   ]
  },
  {
   "cell_type": "code",
   "execution_count": 23,
   "metadata": {
    "execution": {
     "iopub.execute_input": "2024-05-23T09:28:05.732127Z",
     "iopub.status.busy": "2024-05-23T09:28:05.732045Z",
     "iopub.status.idle": "2024-05-23T09:28:05.738061Z",
     "shell.execute_reply": "2024-05-23T09:28:05.737872Z"
    }
   },
   "outputs": [
    {
     "data": {
      "text/html": [
       "<div>\n",
       "<style scoped>\n",
       "    .dataframe tbody tr th:only-of-type {\n",
       "        vertical-align: middle;\n",
       "    }\n",
       "\n",
       "    .dataframe tbody tr th {\n",
       "        vertical-align: top;\n",
       "    }\n",
       "\n",
       "    .dataframe thead th {\n",
       "        text-align: right;\n",
       "    }\n",
       "</style>\n",
       "<table border=\"1\" class=\"dataframe\">\n",
       "  <thead>\n",
       "    <tr style=\"text-align: right;\">\n",
       "      <th></th>\n",
       "      <th></th>\n",
       "      <th>name.name</th>\n",
       "      <th>name.description</th>\n",
       "      <th>quantity</th>\n",
       "      <th>unit</th>\n",
       "      <th>comment</th>\n",
       "      <th>preparation</th>\n",
       "      <th>ingredient_string</th>\n",
       "      <th>unit_tags</th>\n",
       "      <th>unit_remainders</th>\n",
       "      <th>unit_type</th>\n",
       "      <th>food_id</th>\n",
       "      <th>food_portion_id</th>\n",
       "      <th>gram_weight</th>\n",
       "    </tr>\n",
       "    <tr>\n",
       "      <th>recipe</th>\n",
       "      <th>ingredient</th>\n",
       "      <th></th>\n",
       "      <th></th>\n",
       "      <th></th>\n",
       "      <th></th>\n",
       "      <th></th>\n",
       "      <th></th>\n",
       "      <th></th>\n",
       "      <th></th>\n",
       "      <th></th>\n",
       "      <th></th>\n",
       "      <th></th>\n",
       "      <th></th>\n",
       "      <th></th>\n",
       "    </tr>\n",
       "  </thead>\n",
       "  <tbody>\n",
       "    <tr>\n",
       "      <th rowspan=\"4\" valign=\"top\">824709</th>\n",
       "      <th>0</th>\n",
       "      <td>bread</td>\n",
       "      <td>bread</td>\n",
       "      <td>&lt;NA&gt;</td>\n",
       "      <td>&lt;NA&gt;</td>\n",
       "      <td>&lt;NA&gt;</td>\n",
       "      <td>&lt;NA&gt;</td>\n",
       "      <td>bread</td>\n",
       "      <td>[]</td>\n",
       "      <td>[]</td>\n",
       "      <td>portion</td>\n",
       "      <td>2343328.0</td>\n",
       "      <td>277706.0</td>\n",
       "      <td>&lt;NA&gt;</td>\n",
       "    </tr>\n",
       "    <tr>\n",
       "      <th>1</th>\n",
       "      <td>ground cinnamon</td>\n",
       "      <td>ground cinnamon</td>\n",
       "      <td>&lt;NA&gt;</td>\n",
       "      <td>&lt;NA&gt;</td>\n",
       "      <td>&lt;NA&gt;</td>\n",
       "      <td>&lt;NA&gt;</td>\n",
       "      <td>ground cinnamon</td>\n",
       "      <td>[]</td>\n",
       "      <td>[]</td>\n",
       "      <td>portion</td>\n",
       "      <td>167940.0</td>\n",
       "      <td>82252.0</td>\n",
       "      <td>&lt;NA&gt;</td>\n",
       "    </tr>\n",
       "    <tr>\n",
       "      <th>2</th>\n",
       "      <td>sugar</td>\n",
       "      <td>sugar</td>\n",
       "      <td>&lt;NA&gt;</td>\n",
       "      <td>&lt;NA&gt;</td>\n",
       "      <td>&lt;NA&gt;</td>\n",
       "      <td>&lt;NA&gt;</td>\n",
       "      <td>sugar</td>\n",
       "      <td>[]</td>\n",
       "      <td>[]</td>\n",
       "      <td>portion</td>\n",
       "      <td>2345817.0</td>\n",
       "      <td>287776.0</td>\n",
       "      <td>&lt;NA&gt;</td>\n",
       "    </tr>\n",
       "    <tr>\n",
       "      <th>3</th>\n",
       "      <td>margarine</td>\n",
       "      <td>squeeze margarine</td>\n",
       "      <td>&lt;NA&gt;</td>\n",
       "      <td>&lt;NA&gt;</td>\n",
       "      <td>&lt;NA&gt;</td>\n",
       "      <td>&lt;NA&gt;</td>\n",
       "      <td>squeeze margarine</td>\n",
       "      <td>[]</td>\n",
       "      <td>[]</td>\n",
       "      <td>portion</td>\n",
       "      <td>171018.0</td>\n",
       "      <td>87784.0</td>\n",
       "      <td>&lt;NA&gt;</td>\n",
       "    </tr>\n",
       "  </tbody>\n",
       "</table>\n",
       "</div>"
      ],
      "text/plain": [
       "                         name.name   name.description  quantity  unit comment  \\\n",
       "recipe ingredient                                                               \n",
       "824709 0                     bread              bread      <NA>  <NA>    <NA>   \n",
       "       1           ground cinnamon    ground cinnamon      <NA>  <NA>    <NA>   \n",
       "       2                     sugar              sugar      <NA>  <NA>    <NA>   \n",
       "       3                 margarine  squeeze margarine      <NA>  <NA>    <NA>   \n",
       "\n",
       "                  preparation  ingredient_string unit_tags unit_remainders  \\\n",
       "recipe ingredient                                                            \n",
       "824709 0                 <NA>              bread        []              []   \n",
       "       1                 <NA>    ground cinnamon        []              []   \n",
       "       2                 <NA>              sugar        []              []   \n",
       "       3                 <NA>  squeeze margarine        []              []   \n",
       "\n",
       "                  unit_type    food_id  food_portion_id  gram_weight  \n",
       "recipe ingredient                                                     \n",
       "824709 0            portion  2343328.0         277706.0         <NA>  \n",
       "       1            portion   167940.0          82252.0         <NA>  \n",
       "       2            portion  2345817.0         287776.0         <NA>  \n",
       "       3            portion   171018.0          87784.0         <NA>  "
      ]
     },
     "execution_count": 23,
     "metadata": {},
     "output_type": "execute_result"
    }
   ],
   "source": [
    "ingredients_df[ingredients_df['gram_weight'].isna()]"
   ]
  },
  {
   "cell_type": "code",
   "execution_count": 24,
   "metadata": {
    "execution": {
     "iopub.execute_input": "2024-05-23T09:28:05.739190Z",
     "iopub.status.busy": "2024-05-23T09:28:05.739067Z",
     "iopub.status.idle": "2024-05-23T09:28:05.741280Z",
     "shell.execute_reply": "2024-05-23T09:28:05.741079Z"
    }
   },
   "outputs": [],
   "source": [
    "ingredients_df = ingredients_df[~ingredients_df['gram_weight'].isna()]"
   ]
  },
  {
   "cell_type": "markdown",
   "metadata": {},
   "source": [
    "# Weight Concentration"
   ]
  },
  {
   "cell_type": "markdown",
   "metadata": {},
   "source": [
    "Ultimately we'll want to measure the concentration of ingredients in each recipe."
   ]
  },
  {
   "cell_type": "code",
   "execution_count": 25,
   "metadata": {
    "execution": {
     "iopub.execute_input": "2024-05-23T09:28:05.742411Z",
     "iopub.status.busy": "2024-05-23T09:28:05.742233Z",
     "iopub.status.idle": "2024-05-23T09:28:05.744623Z",
     "shell.execute_reply": "2024-05-23T09:28:05.744440Z"
    }
   },
   "outputs": [
    {
     "data": {
      "text/plain": [
       "name.name                                           butter\n",
       "name.description                          land lake butter\n",
       "quantity                                             0.667\n",
       "unit                                                  cups\n",
       "comment                                               <NA>\n",
       "preparation                                       softened\n",
       "ingredient_string    2/3 cup Land O Lakes Butter, softened\n",
       "unit_tags                                            [cup]\n",
       "unit_remainders                                         []\n",
       "unit_type                                           volume\n",
       "food_id                                          2345703.0\n",
       "food_portion_id                                   287267.0\n",
       "gram_weight                                        149.408\n",
       "Name: (1746116, 0), dtype: object"
      ]
     },
     "execution_count": 25,
     "metadata": {},
     "output_type": "execute_result"
    }
   ],
   "source": [
    "ingredient = ingredients_df.iloc[0]\n",
    "ingredient"
   ]
  },
  {
   "cell_type": "code",
   "execution_count": 26,
   "metadata": {
    "execution": {
     "iopub.execute_input": "2024-05-23T09:28:05.745609Z",
     "iopub.status.busy": "2024-05-23T09:28:05.745463Z",
     "iopub.status.idle": "2024-05-23T09:28:05.756868Z",
     "shell.execute_reply": "2024-05-23T09:28:05.756684Z"
    }
   },
   "outputs": [
    {
     "data": {
      "text/plain": [
       "recipe   ingredient\n",
       "1746116  0             0.072355\n",
       "         1             0.048428\n",
       "         2             0.042616\n",
       "         3             0.002034\n",
       "         4             0.090802\n",
       "                         ...   \n",
       "931097   9             0.021104\n",
       "         10            0.019785\n",
       "         11            0.097605\n",
       "         12            0.106838\n",
       "         13            0.001398\n",
       "Name: gram_weight, Length: 2446, dtype: double[pyarrow]"
      ]
     },
     "execution_count": 26,
     "metadata": {},
     "output_type": "execute_result"
    }
   ],
   "source": [
    "weight_ratios = ingredients_df['gram_weight'] / ingredients_df.groupby('recipe')['gram_weight'].sum()\n",
    "weight_ratios"
   ]
  },
  {
   "cell_type": "code",
   "execution_count": 27,
   "metadata": {
    "execution": {
     "iopub.execute_input": "2024-05-23T09:28:05.757832Z",
     "iopub.status.busy": "2024-05-23T09:28:05.757756Z",
     "iopub.status.idle": "2024-05-23T09:28:05.759388Z",
     "shell.execute_reply": "2024-05-23T09:28:05.759199Z"
    }
   },
   "outputs": [],
   "source": [
    "ingredients_df['weight_ratio'] = weight_ratios"
   ]
  },
  {
   "cell_type": "markdown",
   "metadata": {},
   "source": [
    "### Evaluating"
   ]
  },
  {
   "cell_type": "code",
   "execution_count": 28,
   "metadata": {
    "execution": {
     "iopub.execute_input": "2024-05-23T09:28:05.760377Z",
     "iopub.status.busy": "2024-05-23T09:28:05.760277Z",
     "iopub.status.idle": "2024-05-23T09:28:05.762973Z",
     "shell.execute_reply": "2024-05-23T09:28:05.762791Z"
    }
   },
   "outputs": [
    {
     "data": {
      "text/plain": [
       "recipe\n",
       "222        1.0\n",
       "1703       1.0\n",
       "8981       1.0\n",
       "13596      1.0\n",
       "17929      1.0\n",
       "          ... \n",
       "2185822    1.0\n",
       "2189489    1.0\n",
       "2195357    1.0\n",
       "2196831    1.0\n",
       "2201833    1.0\n",
       "Name: weight_ratio, Length: 301, dtype: double[pyarrow]"
      ]
     },
     "execution_count": 28,
     "metadata": {},
     "output_type": "execute_result"
    }
   ],
   "source": [
    "ingredients_df['weight_ratio'].groupby('recipe').sum()"
   ]
  },
  {
   "cell_type": "code",
   "execution_count": 29,
   "metadata": {
    "execution": {
     "iopub.execute_input": "2024-05-23T09:28:05.764150Z",
     "iopub.status.busy": "2024-05-23T09:28:05.763958Z",
     "iopub.status.idle": "2024-05-23T09:28:05.766533Z",
     "shell.execute_reply": "2024-05-23T09:28:05.766331Z"
    }
   },
   "outputs": [],
   "source": [
    "_ = ingredients_df['weight_ratio'].groupby('recipe').sum().astype('float')\n",
    "assert _[~np.isclose(_,np.full((len(_)), 1))].empty"
   ]
  },
  {
   "cell_type": "code",
   "execution_count": 30,
   "metadata": {
    "execution": {
     "iopub.execute_input": "2024-05-23T09:28:05.767766Z",
     "iopub.status.busy": "2024-05-23T09:28:05.767611Z",
     "iopub.status.idle": "2024-05-23T09:28:05.771510Z",
     "shell.execute_reply": "2024-05-23T09:28:05.771295Z"
    }
   },
   "outputs": [
    {
     "data": {
      "text/html": [
       "<div>\n",
       "<style scoped>\n",
       "    .dataframe tbody tr th:only-of-type {\n",
       "        vertical-align: middle;\n",
       "    }\n",
       "\n",
       "    .dataframe tbody tr th {\n",
       "        vertical-align: top;\n",
       "    }\n",
       "\n",
       "    .dataframe thead th {\n",
       "        text-align: right;\n",
       "    }\n",
       "</style>\n",
       "<table border=\"1\" class=\"dataframe\">\n",
       "  <thead>\n",
       "    <tr style=\"text-align: right;\">\n",
       "      <th></th>\n",
       "      <th></th>\n",
       "      <th>name.name</th>\n",
       "      <th>name.description</th>\n",
       "      <th>quantity</th>\n",
       "      <th>unit</th>\n",
       "      <th>comment</th>\n",
       "      <th>preparation</th>\n",
       "      <th>ingredient_string</th>\n",
       "      <th>unit_tags</th>\n",
       "      <th>unit_remainders</th>\n",
       "      <th>unit_type</th>\n",
       "      <th>food_id</th>\n",
       "      <th>food_portion_id</th>\n",
       "      <th>gram_weight</th>\n",
       "      <th>weight_ratio</th>\n",
       "    </tr>\n",
       "    <tr>\n",
       "      <th>recipe</th>\n",
       "      <th>ingredient</th>\n",
       "      <th></th>\n",
       "      <th></th>\n",
       "      <th></th>\n",
       "      <th></th>\n",
       "      <th></th>\n",
       "      <th></th>\n",
       "      <th></th>\n",
       "      <th></th>\n",
       "      <th></th>\n",
       "      <th></th>\n",
       "      <th></th>\n",
       "      <th></th>\n",
       "      <th></th>\n",
       "      <th></th>\n",
       "    </tr>\n",
       "  </thead>\n",
       "  <tbody>\n",
       "  </tbody>\n",
       "</table>\n",
       "</div>"
      ],
      "text/plain": [
       "Empty DataFrame\n",
       "Columns: [name.name, name.description, quantity, unit, comment, preparation, ingredient_string, unit_tags, unit_remainders, unit_type, food_id, food_portion_id, gram_weight, weight_ratio]\n",
       "Index: []"
      ]
     },
     "execution_count": 30,
     "metadata": {},
     "output_type": "execute_result"
    }
   ],
   "source": [
    "ingredients_df[ingredients_df['weight_ratio'].isna()]"
   ]
  },
  {
   "cell_type": "markdown",
   "metadata": {},
   "source": [
    "# Saving"
   ]
  },
  {
   "cell_type": "code",
   "execution_count": 31,
   "metadata": {
    "execution": {
     "iopub.execute_input": "2024-05-23T09:28:05.772877Z",
     "iopub.status.busy": "2024-05-23T09:28:05.772692Z",
     "iopub.status.idle": "2024-05-23T09:28:05.775296Z",
     "shell.execute_reply": "2024-05-23T09:28:05.775096Z"
    }
   },
   "outputs": [],
   "source": [
    "ingredients_df['weight_ratio'].to_frame().to_feather('../../data/local/density/partial/weights/0.feather')"
   ]
  },
  {
   "cell_type": "code",
   "execution_count": 32,
   "metadata": {
    "execution": {
     "iopub.execute_input": "2024-05-23T09:28:05.776376Z",
     "iopub.status.busy": "2024-05-23T09:28:05.776242Z",
     "iopub.status.idle": "2024-05-23T09:28:05.905445Z",
     "shell.execute_reply": "2024-05-23T09:28:05.905106Z"
    }
   },
   "outputs": [],
   "source": [
    "from nbdev import nbdev_export; nbdev_export()"
   ]
  },
  {
   "cell_type": "code",
   "execution_count": null,
   "metadata": {},
   "outputs": [],
   "source": []
  }
 ],
 "metadata": {
  "kernelspec": {
   "display_name": "recipes",
   "language": "python",
   "name": "python3"
  },
  "language_info": {
   "codemirror_mode": {
    "name": "ipython",
    "version": 3
   },
   "file_extension": ".py",
   "mimetype": "text/x-python",
   "name": "python",
   "nbconvert_exporter": "python",
   "pygments_lexer": "ipython3",
   "version": "3.10.13"
  }
 },
 "nbformat": 4,
 "nbformat_minor": 2
}
