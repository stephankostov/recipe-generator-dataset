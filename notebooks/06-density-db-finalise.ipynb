{
 "cells": [
  {
   "cell_type": "markdown",
   "metadata": {},
   "source": [
    "# Introduction"
   ]
  },
  {
   "cell_type": "markdown",
   "metadata": {},
   "source": [
    "Here we are getting the finalised information from the dataset.\n",
    "\n",
    "Now that we have the densities of all ingredients, we are able to use this to get their concentration in the recipe. This will be done by first obtaining the weight of each ingredient, and then using these values to get the weight ratio in the full recipe."
   ]
  },
  {
   "cell_type": "markdown",
   "metadata": {},
   "source": [
    "# Setup"
   ]
  },
  {
   "cell_type": "code",
   "execution_count": 1,
   "metadata": {
    "execution": {
     "iopub.execute_input": "2024-02-11T11:32:00.032373Z",
     "iopub.status.busy": "2024-02-11T11:32:00.031960Z",
     "iopub.status.idle": "2024-02-11T11:32:00.037354Z",
     "shell.execute_reply": "2024-02-11T11:32:00.036498Z"
    }
   },
   "outputs": [],
   "source": [
    "#|default_exp density.finalise"
   ]
  },
  {
   "cell_type": "code",
   "execution_count": 2,
   "metadata": {
    "execution": {
     "iopub.execute_input": "2024-02-11T11:32:00.041957Z",
     "iopub.status.busy": "2024-02-11T11:32:00.041593Z",
     "iopub.status.idle": "2024-02-11T11:32:00.230482Z",
     "shell.execute_reply": "2024-02-11T11:32:00.229991Z"
    }
   },
   "outputs": [],
   "source": [
    "#| export\n",
    "import pandas as pd\n",
    "import numpy as np\n",
    "\n",
    "import json"
   ]
  },
  {
   "cell_type": "code",
   "execution_count": 3,
   "metadata": {
    "execution": {
     "iopub.execute_input": "2024-02-11T11:32:00.232000Z",
     "iopub.status.busy": "2024-02-11T11:32:00.231881Z",
     "iopub.status.idle": "2024-02-11T11:32:00.235210Z",
     "shell.execute_reply": "2024-02-11T11:32:00.235008Z"
    }
   },
   "outputs": [],
   "source": [
    "from tqdm import tqdm\n",
    "tqdm.pandas()"
   ]
  },
  {
   "cell_type": "code",
   "execution_count": 4,
   "metadata": {
    "execution": {
     "iopub.execute_input": "2024-02-11T11:32:00.236359Z",
     "iopub.status.busy": "2024-02-11T11:32:00.236200Z",
     "iopub.status.idle": "2024-02-11T11:32:00.237659Z",
     "shell.execute_reply": "2024-02-11T11:32:00.237459Z"
    }
   },
   "outputs": [],
   "source": [
    "pd.options.mode.chained_assignment = None  # default='warn'"
   ]
  },
  {
   "cell_type": "code",
   "execution_count": 5,
   "metadata": {
    "execution": {
     "iopub.execute_input": "2024-02-11T11:32:00.238759Z",
     "iopub.status.busy": "2024-02-11T11:32:00.238640Z",
     "iopub.status.idle": "2024-02-11T11:32:00.267380Z",
     "shell.execute_reply": "2024-02-11T11:32:00.266959Z"
    }
   },
   "outputs": [],
   "source": [
    "ingredients_df = pd.read_feather('../../data/local/recipe/partial/ingredients/0.feather')\n",
    "food_df = pd.read_feather('../../data/local/density/full/food/0.feather')\n",
    "food_portion_df = pd.read_feather('../../data/local/density/full/food_portion/0.feather')\n",
    "food_ids = pd.read_feather('../../data/local/density/partial/food_ids/0.feather')\n",
    "food_portion_ids = pd.read_feather('../../data/local/density/partial/food_portion_ids/0.feather')"
   ]
  },
  {
   "cell_type": "code",
   "execution_count": 6,
   "metadata": {
    "execution": {
     "iopub.execute_input": "2024-02-11T11:32:00.269611Z",
     "iopub.status.busy": "2024-02-11T11:32:00.269399Z",
     "iopub.status.idle": "2024-02-11T11:32:00.284658Z",
     "shell.execute_reply": "2024-02-11T11:32:00.284457Z"
    }
   },
   "outputs": [
    {
     "data": {
      "text/html": [
       "<div>\n",
       "<style scoped>\n",
       "    .dataframe tbody tr th:only-of-type {\n",
       "        vertical-align: middle;\n",
       "    }\n",
       "\n",
       "    .dataframe tbody tr th {\n",
       "        vertical-align: top;\n",
       "    }\n",
       "\n",
       "    .dataframe thead th {\n",
       "        text-align: right;\n",
       "    }\n",
       "</style>\n",
       "<table border=\"1\" class=\"dataframe\">\n",
       "  <thead>\n",
       "    <tr style=\"text-align: right;\">\n",
       "      <th></th>\n",
       "      <th></th>\n",
       "      <th>name.name</th>\n",
       "      <th>name.description</th>\n",
       "      <th>quantity</th>\n",
       "      <th>unit</th>\n",
       "      <th>comment</th>\n",
       "      <th>preparation</th>\n",
       "      <th>ingredient_string</th>\n",
       "      <th>unit_tags</th>\n",
       "      <th>unit_remainders</th>\n",
       "      <th>unit_type</th>\n",
       "      <th>food_id</th>\n",
       "      <th>food_portion_id</th>\n",
       "    </tr>\n",
       "    <tr>\n",
       "      <th>recipe</th>\n",
       "      <th>ingredient</th>\n",
       "      <th></th>\n",
       "      <th></th>\n",
       "      <th></th>\n",
       "      <th></th>\n",
       "      <th></th>\n",
       "      <th></th>\n",
       "      <th></th>\n",
       "      <th></th>\n",
       "      <th></th>\n",
       "      <th></th>\n",
       "      <th></th>\n",
       "      <th></th>\n",
       "    </tr>\n",
       "  </thead>\n",
       "  <tbody>\n",
       "    <tr>\n",
       "      <th rowspan=\"5\" valign=\"top\">1746116</th>\n",
       "      <th>0</th>\n",
       "      <td>butter</td>\n",
       "      <td>land lake butter</td>\n",
       "      <td>0.667</td>\n",
       "      <td>cups</td>\n",
       "      <td>&lt;NA&gt;</td>\n",
       "      <td>softened</td>\n",
       "      <td>2/3 cup Land O Lakes Butter, softened</td>\n",
       "      <td>[cup]</td>\n",
       "      <td>[]</td>\n",
       "      <td>volume</td>\n",
       "      <td>2345703.0</td>\n",
       "      <td>287267.0</td>\n",
       "    </tr>\n",
       "    <tr>\n",
       "      <th>1</th>\n",
       "      <td>sugar</td>\n",
       "      <td>sugar</td>\n",
       "      <td>0.5</td>\n",
       "      <td>cups</td>\n",
       "      <td>&lt;NA&gt;</td>\n",
       "      <td>&lt;NA&gt;</td>\n",
       "      <td>1/2 cup sugar</td>\n",
       "      <td>[cup]</td>\n",
       "      <td>[]</td>\n",
       "      <td>volume</td>\n",
       "      <td>2345817.0</td>\n",
       "      <td>287772.0</td>\n",
       "    </tr>\n",
       "    <tr>\n",
       "      <th>2</th>\n",
       "      <td>egg</td>\n",
       "      <td>land lake egg</td>\n",
       "      <td>2.0</td>\n",
       "      <td>&lt;NA&gt;</td>\n",
       "      <td>(yolks only)</td>\n",
       "      <td>&lt;NA&gt;</td>\n",
       "      <td>2 Land O Lakes Eggs (yolks only)</td>\n",
       "      <td>[]</td>\n",
       "      <td>[]</td>\n",
       "      <td>portion</td>\n",
       "      <td>171287.0</td>\n",
       "      <td>88378.0</td>\n",
       "    </tr>\n",
       "    <tr>\n",
       "      <th>3</th>\n",
       "      <td>vanilla</td>\n",
       "      <td>vanilla</td>\n",
       "      <td>1.0</td>\n",
       "      <td>teaspoon</td>\n",
       "      <td>&lt;NA&gt;</td>\n",
       "      <td>&lt;NA&gt;</td>\n",
       "      <td>1 teaspoon vanilla</td>\n",
       "      <td>[teaspoon]</td>\n",
       "      <td>[]</td>\n",
       "      <td>volume</td>\n",
       "      <td>172236.0</td>\n",
       "      <td>90134.0</td>\n",
       "    </tr>\n",
       "    <tr>\n",
       "      <th>4</th>\n",
       "      <td>flour</td>\n",
       "      <td>all-purpose flour</td>\n",
       "      <td>1.5</td>\n",
       "      <td>cups</td>\n",
       "      <td>&lt;NA&gt;</td>\n",
       "      <td>&lt;NA&gt;</td>\n",
       "      <td>1 1/2 cups all-purpose flour</td>\n",
       "      <td>[cup]</td>\n",
       "      <td>[]</td>\n",
       "      <td>volume</td>\n",
       "      <td>169761.0</td>\n",
       "      <td>85466.0</td>\n",
       "    </tr>\n",
       "    <tr>\n",
       "      <th>...</th>\n",
       "      <th>...</th>\n",
       "      <td>...</td>\n",
       "      <td>...</td>\n",
       "      <td>...</td>\n",
       "      <td>...</td>\n",
       "      <td>...</td>\n",
       "      <td>...</td>\n",
       "      <td>...</td>\n",
       "      <td>...</td>\n",
       "      <td>...</td>\n",
       "      <td>...</td>\n",
       "      <td>...</td>\n",
       "      <td>...</td>\n",
       "    </tr>\n",
       "    <tr>\n",
       "      <th rowspan=\"5\" valign=\"top\">931097</th>\n",
       "      <th>9</th>\n",
       "      <td>red onion</td>\n",
       "      <td>red onion</td>\n",
       "      <td>0.25</td>\n",
       "      <td>cups</td>\n",
       "      <td>&lt;NA&gt;</td>\n",
       "      <td>finely chopped</td>\n",
       "      <td>1/4 cup red onion, finely chopped</td>\n",
       "      <td>[cup]</td>\n",
       "      <td>[]</td>\n",
       "      <td>volume</td>\n",
       "      <td>2345315.0</td>\n",
       "      <td>286030.0</td>\n",
       "    </tr>\n",
       "    <tr>\n",
       "      <th>10</th>\n",
       "      <td>red bell pepper</td>\n",
       "      <td>red bell pepper</td>\n",
       "      <td>0.25</td>\n",
       "      <td>cups</td>\n",
       "      <td>&lt;NA&gt;</td>\n",
       "      <td>chopped</td>\n",
       "      <td>1/4 cup chopped red bell pepper</td>\n",
       "      <td>[cup]</td>\n",
       "      <td>[]</td>\n",
       "      <td>volume</td>\n",
       "      <td>2345321.0</td>\n",
       "      <td>286059.0</td>\n",
       "    </tr>\n",
       "    <tr>\n",
       "      <th>11</th>\n",
       "      <td>jasmine rice</td>\n",
       "      <td>jasmine rice</td>\n",
       "      <td>1.0</td>\n",
       "      <td>cup</td>\n",
       "      <td>&lt;NA&gt;</td>\n",
       "      <td>&lt;NA&gt;</td>\n",
       "      <td>1 cup Jasmine rice</td>\n",
       "      <td>[cup]</td>\n",
       "      <td>[]</td>\n",
       "      <td>volume</td>\n",
       "      <td>169756.0</td>\n",
       "      <td>85461.0</td>\n",
       "    </tr>\n",
       "    <tr>\n",
       "      <th>12</th>\n",
       "      <td>chicken</td>\n",
       "      <td>reduced-sodium chicken broth</td>\n",
       "      <td>1.5</td>\n",
       "      <td>cups</td>\n",
       "      <td>&lt;NA&gt;</td>\n",
       "      <td>&lt;NA&gt;</td>\n",
       "      <td>1 1/2 cups reduced-sodium chicken broth</td>\n",
       "      <td>[cup]</td>\n",
       "      <td>[]</td>\n",
       "      <td>volume</td>\n",
       "      <td>2341341.0</td>\n",
       "      <td>270046.0</td>\n",
       "    </tr>\n",
       "    <tr>\n",
       "      <th>13</th>\n",
       "      <td>fresh basil</td>\n",
       "      <td>fresh basil</td>\n",
       "      <td>1.0</td>\n",
       "      <td>tablespoon</td>\n",
       "      <td>&lt;NA&gt;</td>\n",
       "      <td>chopped</td>\n",
       "      <td>1 tablespoon chopped fresh basil</td>\n",
       "      <td>[tablespoon]</td>\n",
       "      <td>[]</td>\n",
       "      <td>volume</td>\n",
       "      <td>172232.0</td>\n",
       "      <td>90126.0</td>\n",
       "    </tr>\n",
       "  </tbody>\n",
       "</table>\n",
       "<p>2450 rows × 12 columns</p>\n",
       "</div>"
      ],
      "text/plain": [
       "                          name.name              name.description  quantity  \\\n",
       "recipe  ingredient                                                            \n",
       "1746116 0                    butter              land lake butter     0.667   \n",
       "        1                     sugar                         sugar       0.5   \n",
       "        2                       egg                 land lake egg       2.0   \n",
       "        3                   vanilla                       vanilla       1.0   \n",
       "        4                     flour             all-purpose flour       1.5   \n",
       "...                             ...                           ...       ...   \n",
       "931097  9                 red onion                     red onion      0.25   \n",
       "        10          red bell pepper               red bell pepper      0.25   \n",
       "        11             jasmine rice                  jasmine rice       1.0   \n",
       "        12                  chicken  reduced-sodium chicken broth       1.5   \n",
       "        13              fresh basil                   fresh basil       1.0   \n",
       "\n",
       "                          unit       comment     preparation  \\\n",
       "recipe  ingredient                                             \n",
       "1746116 0                 cups          <NA>        softened   \n",
       "        1                 cups          <NA>            <NA>   \n",
       "        2                 <NA>  (yolks only)            <NA>   \n",
       "        3             teaspoon          <NA>            <NA>   \n",
       "        4                 cups          <NA>            <NA>   \n",
       "...                        ...           ...             ...   \n",
       "931097  9                 cups          <NA>  finely chopped   \n",
       "        10                cups          <NA>         chopped   \n",
       "        11                 cup          <NA>            <NA>   \n",
       "        12                cups          <NA>            <NA>   \n",
       "        13          tablespoon          <NA>         chopped   \n",
       "\n",
       "                                          ingredient_string     unit_tags  \\\n",
       "recipe  ingredient                                                          \n",
       "1746116 0             2/3 cup Land O Lakes Butter, softened         [cup]   \n",
       "        1                                     1/2 cup sugar         [cup]   \n",
       "        2                  2 Land O Lakes Eggs (yolks only)            []   \n",
       "        3                                1 teaspoon vanilla    [teaspoon]   \n",
       "        4                      1 1/2 cups all-purpose flour         [cup]   \n",
       "...                                                     ...           ...   \n",
       "931097  9                 1/4 cup red onion, finely chopped         [cup]   \n",
       "        10                  1/4 cup chopped red bell pepper         [cup]   \n",
       "        11                               1 cup Jasmine rice         [cup]   \n",
       "        12          1 1/2 cups reduced-sodium chicken broth         [cup]   \n",
       "        13                 1 tablespoon chopped fresh basil  [tablespoon]   \n",
       "\n",
       "                   unit_remainders unit_type    food_id  food_portion_id  \n",
       "recipe  ingredient                                                        \n",
       "1746116 0                       []    volume  2345703.0         287267.0  \n",
       "        1                       []    volume  2345817.0         287772.0  \n",
       "        2                       []   portion   171287.0          88378.0  \n",
       "        3                       []    volume   172236.0          90134.0  \n",
       "        4                       []    volume   169761.0          85466.0  \n",
       "...                            ...       ...        ...              ...  \n",
       "931097  9                       []    volume  2345315.0         286030.0  \n",
       "        10                      []    volume  2345321.0         286059.0  \n",
       "        11                      []    volume   169756.0          85461.0  \n",
       "        12                      []    volume  2341341.0         270046.0  \n",
       "        13                      []    volume   172232.0          90126.0  \n",
       "\n",
       "[2450 rows x 12 columns]"
      ]
     },
     "execution_count": 6,
     "metadata": {},
     "output_type": "execute_result"
    }
   ],
   "source": [
    "ingredients_df = ingredients_df.join(food_ids).join(food_portion_ids)\n",
    "ingredients_df"
   ]
  },
  {
   "cell_type": "code",
   "execution_count": 7,
   "metadata": {
    "execution": {
     "iopub.execute_input": "2024-02-11T11:32:00.300477Z",
     "iopub.status.busy": "2024-02-11T11:32:00.300293Z",
     "iopub.status.idle": "2024-02-11T11:32:00.302857Z",
     "shell.execute_reply": "2024-02-11T11:32:00.302640Z"
    }
   },
   "outputs": [],
   "source": [
    "ingredients_df = ingredients_df.fillna(pd.NA)"
   ]
  },
  {
   "cell_type": "code",
   "execution_count": 8,
   "metadata": {
    "execution": {
     "iopub.execute_input": "2024-02-11T11:32:00.303925Z",
     "iopub.status.busy": "2024-02-11T11:32:00.303792Z",
     "iopub.status.idle": "2024-02-11T11:32:00.305336Z",
     "shell.execute_reply": "2024-02-11T11:32:00.305143Z"
    }
   },
   "outputs": [],
   "source": [
    "#| export\n",
    "with open('../config/unit_conversions.json') as f:\n",
    "    unit_list = json.load(f)"
   ]
  },
  {
   "cell_type": "markdown",
   "metadata": {},
   "source": [
    "# Weight Calculation"
   ]
  },
  {
   "cell_type": "markdown",
   "metadata": {},
   "source": [
    "Using this information we want to calculate the gram weight of each ingredient."
   ]
  },
  {
   "cell_type": "code",
   "execution_count": 9,
   "metadata": {
    "execution": {
     "iopub.execute_input": "2024-02-11T11:32:00.306487Z",
     "iopub.status.busy": "2024-02-11T11:32:00.306335Z",
     "iopub.status.idle": "2024-02-11T11:32:00.308845Z",
     "shell.execute_reply": "2024-02-11T11:32:00.308660Z"
    }
   },
   "outputs": [
    {
     "data": {
      "text/plain": [
       "name.name                                           butter\n",
       "name.description                          land lake butter\n",
       "quantity                                             0.667\n",
       "unit                                                  cups\n",
       "comment                                               <NA>\n",
       "preparation                                       softened\n",
       "ingredient_string    2/3 cup Land O Lakes Butter, softened\n",
       "unit_tags                                            [cup]\n",
       "unit_remainders                                         []\n",
       "unit_type                                           volume\n",
       "food_id                                          2345703.0\n",
       "food_portion_id                                   287267.0\n",
       "Name: (1746116, 0), dtype: object"
      ]
     },
     "execution_count": 9,
     "metadata": {},
     "output_type": "execute_result"
    }
   ],
   "source": [
    "ingredient = ingredients_df.iloc[0]\n",
    "ingredient"
   ]
  },
  {
   "cell_type": "markdown",
   "metadata": {},
   "source": [
    "The ingredient's weight are found according to the ingredient's unit_type ie. weight/volume/portion"
   ]
  },
  {
   "cell_type": "code",
   "execution_count": 10,
   "metadata": {
    "execution": {
     "iopub.execute_input": "2024-02-11T11:32:00.309857Z",
     "iopub.status.busy": "2024-02-11T11:32:00.309752Z",
     "iopub.status.idle": "2024-02-11T11:32:00.313423Z",
     "shell.execute_reply": "2024-02-11T11:32:00.313219Z"
    }
   },
   "outputs": [],
   "source": [
    "#| export\n",
    "def get_gram_weight(ingredient):\n",
    "\n",
    "    weight = 0.0\n",
    "\n",
    "    if pd.isnull(ingredient['food_id']): return pd.NA\n",
    "    \n",
    "    portion = food_portion_df.loc[ingredient['food_id'], ingredient['food_portion_id']]\n",
    "\n",
    "    for info_object in [ingredient, portion]:\n",
    "        info_object['unit_types'] = []\n",
    "        for unit_type in unit_list.keys():\n",
    "            if any([unit_tag for unit_tag in info_object['unit_tags'] if unit_tag in unit_list[unit_type].keys()]):\n",
    "                info_object['unit_types'].append(unit_type)\n",
    "\n",
    "    if 'weight' in ingredient['unit_types']:\n",
    "        ingredient_weight_unit = [unit for unit in ingredient['unit_tags'] if unit in unit_list['weight'].keys()][0]\n",
    "        weight = unit_list['weight'][ingredient_weight_unit]['conversion'] * ingredient['quantity']\n",
    "    elif 'volume' in ingredient['unit_types']:\n",
    "        ingredient_volume_unit = [unit for unit in ingredient['unit_tags'] if unit in unit_list['volume'].keys()][0]\n",
    "        if 'volume' in portion['unit_types']:\n",
    "            portion_volume_unit = [unit for unit in portion['unit_tags'] if unit in unit_list['volume'].keys()][0]\n",
    "            # simple density calculation if exists\n",
    "            if not pd.notnull(portion['portion_amount']):\n",
    "                density = portion['gram_weight'] / (portion['amount'] * unit_list['volume'][portion_volume_unit]['conversion'])\n",
    "            else:\n",
    "                density = portion['gram_weight'] / (portion['amount'] * portion['portion_amount'] * unit_list['volume'][portion_volume_unit]['conversion']) # #todo can just make porion_amount == 1 or factor this in the amount when creating dataframe\n",
    "            weight = unit_list['volume'][ingredient_volume_unit]['conversion'] * density * ingredient['quantity']\n",
    "        else:\n",
    "            # volume measurement not given -> must be portion (set to NA for now)\n",
    "            weight = pd.NA\n",
    "    else: # ingredient whole/portion measurements\n",
    "        weight = portion['gram_weight'] * ingredient['quantity']\n",
    "\n",
    "\n",
    "    return weight    "
   ]
  },
  {
   "cell_type": "code",
   "execution_count": 11,
   "metadata": {
    "execution": {
     "iopub.execute_input": "2024-02-11T11:32:00.314361Z",
     "iopub.status.busy": "2024-02-11T11:32:00.314224Z",
     "iopub.status.idle": "2024-02-11T11:32:00.316685Z",
     "shell.execute_reply": "2024-02-11T11:32:00.316487Z"
    }
   },
   "outputs": [],
   "source": [
    "assert get_gram_weight(ingredient) > 100"
   ]
  },
  {
   "cell_type": "code",
   "execution_count": 12,
   "metadata": {
    "execution": {
     "iopub.execute_input": "2024-02-11T11:32:00.317611Z",
     "iopub.status.busy": "2024-02-11T11:32:00.317486Z",
     "iopub.status.idle": "2024-02-11T11:32:00.319768Z",
     "shell.execute_reply": "2024-02-11T11:32:00.319585Z"
    }
   },
   "outputs": [
    {
     "data": {
      "text/plain": [
       "name.name                                         egg\n",
       "name.description                        land lake egg\n",
       "quantity                                          2.0\n",
       "unit                                             <NA>\n",
       "comment                                  (yolks only)\n",
       "preparation                                      <NA>\n",
       "ingredient_string    2 Land O Lakes Eggs (yolks only)\n",
       "unit_tags                                          []\n",
       "unit_remainders                                    []\n",
       "unit_type                                     portion\n",
       "food_id                                      171287.0\n",
       "food_portion_id                               88378.0\n",
       "Name: (1746116, 2), dtype: object"
      ]
     },
     "execution_count": 12,
     "metadata": {},
     "output_type": "execute_result"
    }
   ],
   "source": [
    "ingredients_df.iloc[2]"
   ]
  },
  {
   "cell_type": "code",
   "execution_count": 13,
   "metadata": {
    "execution": {
     "iopub.execute_input": "2024-02-11T11:32:00.320645Z",
     "iopub.status.busy": "2024-02-11T11:32:00.320525Z",
     "iopub.status.idle": "2024-02-11T11:32:01.077645Z",
     "shell.execute_reply": "2024-02-11T11:32:01.077409Z"
    }
   },
   "outputs": [
    {
     "name": "stderr",
     "output_type": "stream",
     "text": [
      "\r",
      "  0%|                                                                                                                                                                                                                                                | 0/2450 [00:00<?, ?it/s]"
     ]
    },
    {
     "name": "stderr",
     "output_type": "stream",
     "text": [
      "\r",
      " 12%|████████████████████████████▍                                                                                                                                                                                                       | 306/2450 [00:00<00:00, 3056.11it/s]"
     ]
    },
    {
     "name": "stderr",
     "output_type": "stream",
     "text": [
      "\r",
      " 25%|█████████████████████████████████████████████████████████▌                                                                                                                                                                          | 619/2450 [00:00<00:00, 3097.92it/s]"
     ]
    },
    {
     "name": "stderr",
     "output_type": "stream",
     "text": [
      "\r",
      " 38%|███████████████████████████████████████████████████████████████████████████████████████▍                                                                                                                                            | 940/2450 [00:00<00:00, 3145.69it/s]"
     ]
    },
    {
     "name": "stderr",
     "output_type": "stream",
     "text": [
      "\r",
      " 52%|██████████████████████████████████████████████████████████████████████████████████████████████████████████████████████▊                                                                                                            | 1283/2450 [00:00<00:00, 3255.16it/s]"
     ]
    },
    {
     "name": "stderr",
     "output_type": "stream",
     "text": [
      "\r",
      " 66%|█████████████████████████████████████████████████████████████████████████████████████████████████████████████████████████████████████████████████████▎                                                                             | 1612/2450 [00:00<00:00, 3267.36it/s]"
     ]
    },
    {
     "name": "stderr",
     "output_type": "stream",
     "text": [
      "\r",
      " 80%|████████████████████████████████████████████████████████████████████████████████████████████████████████████████████████████████████████████████████████████████████████████████████▊                                              | 1951/2450 [00:00<00:00, 3308.43it/s]"
     ]
    },
    {
     "name": "stderr",
     "output_type": "stream",
     "text": [
      "\r",
      " 93%|███████████████████████████████████████████████████████████████████████████████████████████████████████████████████████████████████████████████████████████████████████████████████████████████████████████████████▍               | 2282/2450 [00:00<00:00, 3306.13it/s]"
     ]
    },
    {
     "name": "stderr",
     "output_type": "stream",
     "text": [
      "\r",
      "100%|███████████████████████████████████████████████████████████████████████████████████████████████████████████████████████████████████████████████████████████████████████████████████████████████████████████████████████████████████| 2450/2450 [00:00<00:00, 3253.43it/s]"
     ]
    },
    {
     "name": "stderr",
     "output_type": "stream",
     "text": [
      "\n"
     ]
    }
   ],
   "source": [
    "ingredients_df['gram_weight'] = ingredients_df.progress_apply(get_gram_weight, axis=1)"
   ]
  },
  {
   "cell_type": "code",
   "execution_count": 14,
   "metadata": {
    "execution": {
     "iopub.execute_input": "2024-02-11T11:32:01.078801Z",
     "iopub.status.busy": "2024-02-11T11:32:01.078707Z",
     "iopub.status.idle": "2024-02-11T11:32:01.087618Z",
     "shell.execute_reply": "2024-02-11T11:32:01.087421Z"
    }
   },
   "outputs": [
    {
     "data": {
      "text/html": [
       "<div>\n",
       "<style scoped>\n",
       "    .dataframe tbody tr th:only-of-type {\n",
       "        vertical-align: middle;\n",
       "    }\n",
       "\n",
       "    .dataframe tbody tr th {\n",
       "        vertical-align: top;\n",
       "    }\n",
       "\n",
       "    .dataframe thead th {\n",
       "        text-align: right;\n",
       "    }\n",
       "</style>\n",
       "<table border=\"1\" class=\"dataframe\">\n",
       "  <thead>\n",
       "    <tr style=\"text-align: right;\">\n",
       "      <th></th>\n",
       "      <th></th>\n",
       "      <th>name.name</th>\n",
       "      <th>name.description</th>\n",
       "      <th>quantity</th>\n",
       "      <th>unit</th>\n",
       "      <th>comment</th>\n",
       "      <th>preparation</th>\n",
       "      <th>ingredient_string</th>\n",
       "      <th>unit_tags</th>\n",
       "      <th>unit_remainders</th>\n",
       "      <th>unit_type</th>\n",
       "      <th>food_id</th>\n",
       "      <th>food_portion_id</th>\n",
       "      <th>gram_weight</th>\n",
       "    </tr>\n",
       "    <tr>\n",
       "      <th>recipe</th>\n",
       "      <th>ingredient</th>\n",
       "      <th></th>\n",
       "      <th></th>\n",
       "      <th></th>\n",
       "      <th></th>\n",
       "      <th></th>\n",
       "      <th></th>\n",
       "      <th></th>\n",
       "      <th></th>\n",
       "      <th></th>\n",
       "      <th></th>\n",
       "      <th></th>\n",
       "      <th></th>\n",
       "      <th></th>\n",
       "    </tr>\n",
       "  </thead>\n",
       "  <tbody>\n",
       "    <tr>\n",
       "      <th rowspan=\"5\" valign=\"top\">1746116</th>\n",
       "      <th>0</th>\n",
       "      <td>butter</td>\n",
       "      <td>land lake butter</td>\n",
       "      <td>0.667</td>\n",
       "      <td>cups</td>\n",
       "      <td>&lt;NA&gt;</td>\n",
       "      <td>softened</td>\n",
       "      <td>2/3 cup Land O Lakes Butter, softened</td>\n",
       "      <td>[cup]</td>\n",
       "      <td>[]</td>\n",
       "      <td>volume</td>\n",
       "      <td>2345703.0</td>\n",
       "      <td>287267.0</td>\n",
       "      <td>149.408</td>\n",
       "    </tr>\n",
       "    <tr>\n",
       "      <th>1</th>\n",
       "      <td>sugar</td>\n",
       "      <td>sugar</td>\n",
       "      <td>0.5</td>\n",
       "      <td>cups</td>\n",
       "      <td>&lt;NA&gt;</td>\n",
       "      <td>&lt;NA&gt;</td>\n",
       "      <td>1/2 cup sugar</td>\n",
       "      <td>[cup]</td>\n",
       "      <td>[]</td>\n",
       "      <td>volume</td>\n",
       "      <td>2345817.0</td>\n",
       "      <td>287772.0</td>\n",
       "      <td>100.0</td>\n",
       "    </tr>\n",
       "    <tr>\n",
       "      <th>2</th>\n",
       "      <td>egg</td>\n",
       "      <td>land lake egg</td>\n",
       "      <td>2.0</td>\n",
       "      <td>&lt;NA&gt;</td>\n",
       "      <td>(yolks only)</td>\n",
       "      <td>&lt;NA&gt;</td>\n",
       "      <td>2 Land O Lakes Eggs (yolks only)</td>\n",
       "      <td>[]</td>\n",
       "      <td>[]</td>\n",
       "      <td>portion</td>\n",
       "      <td>171287.0</td>\n",
       "      <td>88378.0</td>\n",
       "      <td>88.0</td>\n",
       "    </tr>\n",
       "    <tr>\n",
       "      <th>3</th>\n",
       "      <td>vanilla</td>\n",
       "      <td>vanilla</td>\n",
       "      <td>1.0</td>\n",
       "      <td>teaspoon</td>\n",
       "      <td>&lt;NA&gt;</td>\n",
       "      <td>&lt;NA&gt;</td>\n",
       "      <td>1 teaspoon vanilla</td>\n",
       "      <td>[teaspoon]</td>\n",
       "      <td>[]</td>\n",
       "      <td>volume</td>\n",
       "      <td>172236.0</td>\n",
       "      <td>90134.0</td>\n",
       "      <td>4.2</td>\n",
       "    </tr>\n",
       "    <tr>\n",
       "      <th>4</th>\n",
       "      <td>flour</td>\n",
       "      <td>all-purpose flour</td>\n",
       "      <td>1.5</td>\n",
       "      <td>cups</td>\n",
       "      <td>&lt;NA&gt;</td>\n",
       "      <td>&lt;NA&gt;</td>\n",
       "      <td>1 1/2 cups all-purpose flour</td>\n",
       "      <td>[cup]</td>\n",
       "      <td>[]</td>\n",
       "      <td>volume</td>\n",
       "      <td>169761.0</td>\n",
       "      <td>85466.0</td>\n",
       "      <td>187.5</td>\n",
       "    </tr>\n",
       "    <tr>\n",
       "      <th>...</th>\n",
       "      <th>...</th>\n",
       "      <td>...</td>\n",
       "      <td>...</td>\n",
       "      <td>...</td>\n",
       "      <td>...</td>\n",
       "      <td>...</td>\n",
       "      <td>...</td>\n",
       "      <td>...</td>\n",
       "      <td>...</td>\n",
       "      <td>...</td>\n",
       "      <td>...</td>\n",
       "      <td>...</td>\n",
       "      <td>...</td>\n",
       "      <td>...</td>\n",
       "    </tr>\n",
       "    <tr>\n",
       "      <th rowspan=\"5\" valign=\"top\">931097</th>\n",
       "      <th>9</th>\n",
       "      <td>red onion</td>\n",
       "      <td>red onion</td>\n",
       "      <td>0.25</td>\n",
       "      <td>cups</td>\n",
       "      <td>&lt;NA&gt;</td>\n",
       "      <td>finely chopped</td>\n",
       "      <td>1/4 cup red onion, finely chopped</td>\n",
       "      <td>[cup]</td>\n",
       "      <td>[]</td>\n",
       "      <td>volume</td>\n",
       "      <td>2345315.0</td>\n",
       "      <td>286030.0</td>\n",
       "      <td>40.0</td>\n",
       "    </tr>\n",
       "    <tr>\n",
       "      <th>10</th>\n",
       "      <td>red bell pepper</td>\n",
       "      <td>red bell pepper</td>\n",
       "      <td>0.25</td>\n",
       "      <td>cups</td>\n",
       "      <td>&lt;NA&gt;</td>\n",
       "      <td>chopped</td>\n",
       "      <td>1/4 cup chopped red bell pepper</td>\n",
       "      <td>[cup]</td>\n",
       "      <td>[]</td>\n",
       "      <td>volume</td>\n",
       "      <td>2345321.0</td>\n",
       "      <td>286059.0</td>\n",
       "      <td>37.5</td>\n",
       "    </tr>\n",
       "    <tr>\n",
       "      <th>11</th>\n",
       "      <td>jasmine rice</td>\n",
       "      <td>jasmine rice</td>\n",
       "      <td>1.0</td>\n",
       "      <td>cup</td>\n",
       "      <td>&lt;NA&gt;</td>\n",
       "      <td>&lt;NA&gt;</td>\n",
       "      <td>1 cup Jasmine rice</td>\n",
       "      <td>[cup]</td>\n",
       "      <td>[]</td>\n",
       "      <td>volume</td>\n",
       "      <td>169756.0</td>\n",
       "      <td>85461.0</td>\n",
       "      <td>185.0</td>\n",
       "    </tr>\n",
       "    <tr>\n",
       "      <th>12</th>\n",
       "      <td>chicken</td>\n",
       "      <td>reduced-sodium chicken broth</td>\n",
       "      <td>1.5</td>\n",
       "      <td>cups</td>\n",
       "      <td>&lt;NA&gt;</td>\n",
       "      <td>&lt;NA&gt;</td>\n",
       "      <td>1 1/2 cups reduced-sodium chicken broth</td>\n",
       "      <td>[cup]</td>\n",
       "      <td>[]</td>\n",
       "      <td>volume</td>\n",
       "      <td>2341341.0</td>\n",
       "      <td>270046.0</td>\n",
       "      <td>202.5</td>\n",
       "    </tr>\n",
       "    <tr>\n",
       "      <th>13</th>\n",
       "      <td>fresh basil</td>\n",
       "      <td>fresh basil</td>\n",
       "      <td>1.0</td>\n",
       "      <td>tablespoon</td>\n",
       "      <td>&lt;NA&gt;</td>\n",
       "      <td>chopped</td>\n",
       "      <td>1 tablespoon chopped fresh basil</td>\n",
       "      <td>[tablespoon]</td>\n",
       "      <td>[]</td>\n",
       "      <td>volume</td>\n",
       "      <td>172232.0</td>\n",
       "      <td>90126.0</td>\n",
       "      <td>2.65</td>\n",
       "    </tr>\n",
       "  </tbody>\n",
       "</table>\n",
       "<p>2450 rows × 13 columns</p>\n",
       "</div>"
      ],
      "text/plain": [
       "                          name.name              name.description  quantity  \\\n",
       "recipe  ingredient                                                            \n",
       "1746116 0                    butter              land lake butter     0.667   \n",
       "        1                     sugar                         sugar       0.5   \n",
       "        2                       egg                 land lake egg       2.0   \n",
       "        3                   vanilla                       vanilla       1.0   \n",
       "        4                     flour             all-purpose flour       1.5   \n",
       "...                             ...                           ...       ...   \n",
       "931097  9                 red onion                     red onion      0.25   \n",
       "        10          red bell pepper               red bell pepper      0.25   \n",
       "        11             jasmine rice                  jasmine rice       1.0   \n",
       "        12                  chicken  reduced-sodium chicken broth       1.5   \n",
       "        13              fresh basil                   fresh basil       1.0   \n",
       "\n",
       "                          unit       comment     preparation  \\\n",
       "recipe  ingredient                                             \n",
       "1746116 0                 cups          <NA>        softened   \n",
       "        1                 cups          <NA>            <NA>   \n",
       "        2                 <NA>  (yolks only)            <NA>   \n",
       "        3             teaspoon          <NA>            <NA>   \n",
       "        4                 cups          <NA>            <NA>   \n",
       "...                        ...           ...             ...   \n",
       "931097  9                 cups          <NA>  finely chopped   \n",
       "        10                cups          <NA>         chopped   \n",
       "        11                 cup          <NA>            <NA>   \n",
       "        12                cups          <NA>            <NA>   \n",
       "        13          tablespoon          <NA>         chopped   \n",
       "\n",
       "                                          ingredient_string     unit_tags  \\\n",
       "recipe  ingredient                                                          \n",
       "1746116 0             2/3 cup Land O Lakes Butter, softened         [cup]   \n",
       "        1                                     1/2 cup sugar         [cup]   \n",
       "        2                  2 Land O Lakes Eggs (yolks only)            []   \n",
       "        3                                1 teaspoon vanilla    [teaspoon]   \n",
       "        4                      1 1/2 cups all-purpose flour         [cup]   \n",
       "...                                                     ...           ...   \n",
       "931097  9                 1/4 cup red onion, finely chopped         [cup]   \n",
       "        10                  1/4 cup chopped red bell pepper         [cup]   \n",
       "        11                               1 cup Jasmine rice         [cup]   \n",
       "        12          1 1/2 cups reduced-sodium chicken broth         [cup]   \n",
       "        13                 1 tablespoon chopped fresh basil  [tablespoon]   \n",
       "\n",
       "                   unit_remainders unit_type    food_id  food_portion_id  \\\n",
       "recipe  ingredient                                                         \n",
       "1746116 0                       []    volume  2345703.0         287267.0   \n",
       "        1                       []    volume  2345817.0         287772.0   \n",
       "        2                       []   portion   171287.0          88378.0   \n",
       "        3                       []    volume   172236.0          90134.0   \n",
       "        4                       []    volume   169761.0          85466.0   \n",
       "...                            ...       ...        ...              ...   \n",
       "931097  9                       []    volume  2345315.0         286030.0   \n",
       "        10                      []    volume  2345321.0         286059.0   \n",
       "        11                      []    volume   169756.0          85461.0   \n",
       "        12                      []    volume  2341341.0         270046.0   \n",
       "        13                      []    volume   172232.0          90126.0   \n",
       "\n",
       "                   gram_weight  \n",
       "recipe  ingredient              \n",
       "1746116 0              149.408  \n",
       "        1                100.0  \n",
       "        2                 88.0  \n",
       "        3                  4.2  \n",
       "        4                187.5  \n",
       "...                        ...  \n",
       "931097  9                 40.0  \n",
       "        10                37.5  \n",
       "        11               185.0  \n",
       "        12               202.5  \n",
       "        13                2.65  \n",
       "\n",
       "[2450 rows x 13 columns]"
      ]
     },
     "execution_count": 14,
     "metadata": {},
     "output_type": "execute_result"
    }
   ],
   "source": [
    "ingredients_df"
   ]
  },
  {
   "cell_type": "code",
   "execution_count": 15,
   "metadata": {
    "execution": {
     "iopub.execute_input": "2024-02-11T11:32:01.089101Z",
     "iopub.status.busy": "2024-02-11T11:32:01.088923Z",
     "iopub.status.idle": "2024-02-11T11:32:01.092526Z",
     "shell.execute_reply": "2024-02-11T11:32:01.092330Z"
    }
   },
   "outputs": [
    {
     "data": {
      "text/html": [
       "<div>\n",
       "<style scoped>\n",
       "    .dataframe tbody tr th:only-of-type {\n",
       "        vertical-align: middle;\n",
       "    }\n",
       "\n",
       "    .dataframe tbody tr th {\n",
       "        vertical-align: top;\n",
       "    }\n",
       "\n",
       "    .dataframe thead th {\n",
       "        text-align: right;\n",
       "    }\n",
       "</style>\n",
       "<table border=\"1\" class=\"dataframe\">\n",
       "  <thead>\n",
       "    <tr style=\"text-align: right;\">\n",
       "      <th></th>\n",
       "      <th></th>\n",
       "      <th>name.name</th>\n",
       "      <th>name.description</th>\n",
       "      <th>quantity</th>\n",
       "      <th>unit</th>\n",
       "      <th>comment</th>\n",
       "      <th>preparation</th>\n",
       "      <th>ingredient_string</th>\n",
       "      <th>unit_tags</th>\n",
       "      <th>unit_remainders</th>\n",
       "      <th>unit_type</th>\n",
       "      <th>food_id</th>\n",
       "      <th>food_portion_id</th>\n",
       "      <th>gram_weight</th>\n",
       "    </tr>\n",
       "    <tr>\n",
       "      <th>recipe</th>\n",
       "      <th>ingredient</th>\n",
       "      <th></th>\n",
       "      <th></th>\n",
       "      <th></th>\n",
       "      <th></th>\n",
       "      <th></th>\n",
       "      <th></th>\n",
       "      <th></th>\n",
       "      <th></th>\n",
       "      <th></th>\n",
       "      <th></th>\n",
       "      <th></th>\n",
       "      <th></th>\n",
       "      <th></th>\n",
       "    </tr>\n",
       "  </thead>\n",
       "  <tbody>\n",
       "  </tbody>\n",
       "</table>\n",
       "</div>"
      ],
      "text/plain": [
       "Empty DataFrame\n",
       "Columns: [name.name, name.description, quantity, unit, comment, preparation, ingredient_string, unit_tags, unit_remainders, unit_type, food_id, food_portion_id, gram_weight]\n",
       "Index: []"
      ]
     },
     "execution_count": 15,
     "metadata": {},
     "output_type": "execute_result"
    }
   ],
   "source": [
    "ingredients_df[ingredients_df['gram_weight'] == 0]"
   ]
  },
  {
   "cell_type": "code",
   "execution_count": 16,
   "metadata": {
    "execution": {
     "iopub.execute_input": "2024-02-11T11:32:01.093674Z",
     "iopub.status.busy": "2024-02-11T11:32:01.093522Z",
     "iopub.status.idle": "2024-02-11T11:32:01.095623Z",
     "shell.execute_reply": "2024-02-11T11:32:01.095431Z"
    }
   },
   "outputs": [],
   "source": [
    "assert ingredients_df[(ingredients_df['quantity'] != 0) & (ingredients_df['gram_weight'] == 0)].empty"
   ]
  },
  {
   "cell_type": "code",
   "execution_count": 17,
   "metadata": {
    "execution": {
     "iopub.execute_input": "2024-02-11T11:32:01.096579Z",
     "iopub.status.busy": "2024-02-11T11:32:01.096456Z",
     "iopub.status.idle": "2024-02-11T11:32:01.107255Z",
     "shell.execute_reply": "2024-02-11T11:32:01.107056Z"
    }
   },
   "outputs": [
    {
     "data": {
      "text/html": [
       "<div>\n",
       "<style scoped>\n",
       "    .dataframe tbody tr th:only-of-type {\n",
       "        vertical-align: middle;\n",
       "    }\n",
       "\n",
       "    .dataframe tbody tr th {\n",
       "        vertical-align: top;\n",
       "    }\n",
       "\n",
       "    .dataframe thead th {\n",
       "        text-align: right;\n",
       "    }\n",
       "</style>\n",
       "<table border=\"1\" class=\"dataframe\">\n",
       "  <thead>\n",
       "    <tr style=\"text-align: right;\">\n",
       "      <th></th>\n",
       "      <th></th>\n",
       "      <th>name.name</th>\n",
       "      <th>name.description</th>\n",
       "      <th>quantity</th>\n",
       "      <th>unit</th>\n",
       "      <th>comment</th>\n",
       "      <th>preparation</th>\n",
       "      <th>ingredient_string</th>\n",
       "      <th>unit_tags</th>\n",
       "      <th>unit_remainders</th>\n",
       "      <th>unit_type</th>\n",
       "      <th>food_id</th>\n",
       "      <th>food_portion_id</th>\n",
       "      <th>gram_weight</th>\n",
       "      <th>description</th>\n",
       "    </tr>\n",
       "    <tr>\n",
       "      <th>recipe</th>\n",
       "      <th>ingredient</th>\n",
       "      <th></th>\n",
       "      <th></th>\n",
       "      <th></th>\n",
       "      <th></th>\n",
       "      <th></th>\n",
       "      <th></th>\n",
       "      <th></th>\n",
       "      <th></th>\n",
       "      <th></th>\n",
       "      <th></th>\n",
       "      <th></th>\n",
       "      <th></th>\n",
       "      <th></th>\n",
       "      <th></th>\n",
       "    </tr>\n",
       "  </thead>\n",
       "  <tbody>\n",
       "    <tr>\n",
       "      <th rowspan=\"3\" valign=\"top\">1828339</th>\n",
       "      <th>3</th>\n",
       "      <td>long grain brown rice</td>\n",
       "      <td>long grain brown rice</td>\n",
       "      <td>175.0</td>\n",
       "      <td>g</td>\n",
       "      <td>&lt;NA&gt;</td>\n",
       "      <td>&lt;NA&gt;</td>\n",
       "      <td>175 g long grain brown rice</td>\n",
       "      <td>[gram]</td>\n",
       "      <td>[]</td>\n",
       "      <td>weight</td>\n",
       "      <td>NaN</td>\n",
       "      <td>NaN</td>\n",
       "      <td>NaN</td>\n",
       "      <td>NaN</td>\n",
       "    </tr>\n",
       "    <tr>\n",
       "      <th>6</th>\n",
       "      <td>dried apricot</td>\n",
       "      <td>dried apricot</td>\n",
       "      <td>100.0</td>\n",
       "      <td>g</td>\n",
       "      <td>&lt;NA&gt;</td>\n",
       "      <td>finely chopped</td>\n",
       "      <td>100 g dried apricots, finely chopped</td>\n",
       "      <td>[gram]</td>\n",
       "      <td>[]</td>\n",
       "      <td>weight</td>\n",
       "      <td>NaN</td>\n",
       "      <td>NaN</td>\n",
       "      <td>NaN</td>\n",
       "      <td>NaN</td>\n",
       "    </tr>\n",
       "    <tr>\n",
       "      <th>7</th>\n",
       "      <td>sultana</td>\n",
       "      <td>sultana</td>\n",
       "      <td>50.0</td>\n",
       "      <td>g</td>\n",
       "      <td>&lt;NA&gt;</td>\n",
       "      <td>&lt;NA&gt;</td>\n",
       "      <td>50 g sultanas</td>\n",
       "      <td>[gram]</td>\n",
       "      <td>[]</td>\n",
       "      <td>weight</td>\n",
       "      <td>NaN</td>\n",
       "      <td>NaN</td>\n",
       "      <td>NaN</td>\n",
       "      <td>NaN</td>\n",
       "    </tr>\n",
       "    <tr>\n",
       "      <th>1703</th>\n",
       "      <th>3</th>\n",
       "      <td>mincemeat</td>\n",
       "      <td>mincemeat</td>\n",
       "      <td>1.0</td>\n",
       "      <td>jar</td>\n",
       "      <td>&lt;NA&gt;</td>\n",
       "      <td>&lt;NA&gt;</td>\n",
       "      <td>1 jar mincemeat</td>\n",
       "      <td>[]</td>\n",
       "      <td>[jar]</td>\n",
       "      <td>portion</td>\n",
       "      <td>NaN</td>\n",
       "      <td>NaN</td>\n",
       "      <td>NaN</td>\n",
       "      <td>NaN</td>\n",
       "    </tr>\n",
       "    <tr>\n",
       "      <th>1262123</th>\n",
       "      <th>0</th>\n",
       "      <td>linguine</td>\n",
       "      <td>linguine</td>\n",
       "      <td>4.0</td>\n",
       "      <td>oz</td>\n",
       "      <td>&lt;NA&gt;</td>\n",
       "      <td>&lt;NA&gt;</td>\n",
       "      <td>4 oz linguine</td>\n",
       "      <td>[ounce]</td>\n",
       "      <td>[]</td>\n",
       "      <td>weight</td>\n",
       "      <td>NaN</td>\n",
       "      <td>NaN</td>\n",
       "      <td>NaN</td>\n",
       "      <td>NaN</td>\n",
       "    </tr>\n",
       "    <tr>\n",
       "      <th>...</th>\n",
       "      <th>...</th>\n",
       "      <td>...</td>\n",
       "      <td>...</td>\n",
       "      <td>...</td>\n",
       "      <td>...</td>\n",
       "      <td>...</td>\n",
       "      <td>...</td>\n",
       "      <td>...</td>\n",
       "      <td>...</td>\n",
       "      <td>...</td>\n",
       "      <td>...</td>\n",
       "      <td>...</td>\n",
       "      <td>...</td>\n",
       "      <td>...</td>\n",
       "      <td>...</td>\n",
       "    </tr>\n",
       "    <tr>\n",
       "      <th>599284</th>\n",
       "      <th>1</th>\n",
       "      <td>potato</td>\n",
       "      <td>frozen shredded hash brown potato</td>\n",
       "      <td>1.0</td>\n",
       "      <td>lb</td>\n",
       "      <td>&lt;NA&gt;</td>\n",
       "      <td>completely thawed</td>\n",
       "      <td>1 lb. frozen shredded hash brown potatoes, com...</td>\n",
       "      <td>[pound]</td>\n",
       "      <td>[]</td>\n",
       "      <td>weight</td>\n",
       "      <td>NaN</td>\n",
       "      <td>NaN</td>\n",
       "      <td>NaN</td>\n",
       "      <td>NaN</td>\n",
       "    </tr>\n",
       "    <tr>\n",
       "      <th>1357213</th>\n",
       "      <th>3</th>\n",
       "      <td>cinnamin</td>\n",
       "      <td>cinnamin</td>\n",
       "      <td>0.5</td>\n",
       "      <td>tsps</td>\n",
       "      <td>&lt;NA&gt;</td>\n",
       "      <td>&lt;NA&gt;</td>\n",
       "      <td>1/2 tsp. cinnamin</td>\n",
       "      <td>[teaspoon]</td>\n",
       "      <td>[]</td>\n",
       "      <td>volume</td>\n",
       "      <td>NaN</td>\n",
       "      <td>NaN</td>\n",
       "      <td>NaN</td>\n",
       "      <td>NaN</td>\n",
       "    </tr>\n",
       "    <tr>\n",
       "      <th rowspan=\"3\" valign=\"top\">2006319</th>\n",
       "      <th>2</th>\n",
       "      <td>raspberry</td>\n",
       "      <td>raspberry</td>\n",
       "      <td>8.0</td>\n",
       "      <td>ounces</td>\n",
       "      <td>&lt;NA&gt;</td>\n",
       "      <td>&lt;NA&gt;</td>\n",
       "      <td>8 ounces raspberries</td>\n",
       "      <td>[ounce]</td>\n",
       "      <td>[]</td>\n",
       "      <td>weight</td>\n",
       "      <td>NaN</td>\n",
       "      <td>NaN</td>\n",
       "      <td>NaN</td>\n",
       "      <td>NaN</td>\n",
       "    </tr>\n",
       "    <tr>\n",
       "      <th>3</th>\n",
       "      <td>blackberry</td>\n",
       "      <td>blackberry</td>\n",
       "      <td>8.0</td>\n",
       "      <td>ounces</td>\n",
       "      <td>&lt;NA&gt;</td>\n",
       "      <td>&lt;NA&gt;</td>\n",
       "      <td>8 ounces blackberries</td>\n",
       "      <td>[ounce]</td>\n",
       "      <td>[]</td>\n",
       "      <td>weight</td>\n",
       "      <td>NaN</td>\n",
       "      <td>NaN</td>\n",
       "      <td>NaN</td>\n",
       "      <td>NaN</td>\n",
       "    </tr>\n",
       "    <tr>\n",
       "      <th>4</th>\n",
       "      <td>blueberry</td>\n",
       "      <td>blueberry</td>\n",
       "      <td>8.0</td>\n",
       "      <td>ounces</td>\n",
       "      <td>&lt;NA&gt;</td>\n",
       "      <td>&lt;NA&gt;</td>\n",
       "      <td>8 ounces blueberries</td>\n",
       "      <td>[ounce]</td>\n",
       "      <td>[]</td>\n",
       "      <td>weight</td>\n",
       "      <td>NaN</td>\n",
       "      <td>NaN</td>\n",
       "      <td>NaN</td>\n",
       "      <td>NaN</td>\n",
       "    </tr>\n",
       "  </tbody>\n",
       "</table>\n",
       "<p>195 rows × 14 columns</p>\n",
       "</div>"
      ],
      "text/plain": [
       "                                name.name                   name.description  \\\n",
       "recipe  ingredient                                                             \n",
       "1828339 3           long grain brown rice              long grain brown rice   \n",
       "        6                   dried apricot                      dried apricot   \n",
       "        7                         sultana                            sultana   \n",
       "1703    3                       mincemeat                          mincemeat   \n",
       "1262123 0                        linguine                           linguine   \n",
       "...                                   ...                                ...   \n",
       "599284  1                          potato  frozen shredded hash brown potato   \n",
       "1357213 3                        cinnamin                           cinnamin   \n",
       "2006319 2                       raspberry                          raspberry   \n",
       "        3                      blackberry                         blackberry   \n",
       "        4                       blueberry                          blueberry   \n",
       "\n",
       "                    quantity    unit comment        preparation  \\\n",
       "recipe  ingredient                                                \n",
       "1828339 3              175.0       g    <NA>               <NA>   \n",
       "        6              100.0       g    <NA>     finely chopped   \n",
       "        7               50.0       g    <NA>               <NA>   \n",
       "1703    3                1.0     jar    <NA>               <NA>   \n",
       "1262123 0                4.0      oz    <NA>               <NA>   \n",
       "...                      ...     ...     ...                ...   \n",
       "599284  1                1.0      lb    <NA>  completely thawed   \n",
       "1357213 3                0.5    tsps    <NA>               <NA>   \n",
       "2006319 2                8.0  ounces    <NA>               <NA>   \n",
       "        3                8.0  ounces    <NA>               <NA>   \n",
       "        4                8.0  ounces    <NA>               <NA>   \n",
       "\n",
       "                                                    ingredient_string  \\\n",
       "recipe  ingredient                                                      \n",
       "1828339 3                                 175 g long grain brown rice   \n",
       "        6                        100 g dried apricots, finely chopped   \n",
       "        7                                               50 g sultanas   \n",
       "1703    3                                             1 jar mincemeat   \n",
       "1262123 0                                               4 oz linguine   \n",
       "...                                                               ...   \n",
       "599284  1           1 lb. frozen shredded hash brown potatoes, com...   \n",
       "1357213 3                                           1/2 tsp. cinnamin   \n",
       "2006319 2                                        8 ounces raspberries   \n",
       "        3                                       8 ounces blackberries   \n",
       "        4                                        8 ounces blueberries   \n",
       "\n",
       "                     unit_tags unit_remainders unit_type  food_id  \\\n",
       "recipe  ingredient                                                  \n",
       "1828339 3               [gram]              []    weight      NaN   \n",
       "        6               [gram]              []    weight      NaN   \n",
       "        7               [gram]              []    weight      NaN   \n",
       "1703    3                   []           [jar]   portion      NaN   \n",
       "1262123 0              [ounce]              []    weight      NaN   \n",
       "...                        ...             ...       ...      ...   \n",
       "599284  1              [pound]              []    weight      NaN   \n",
       "1357213 3           [teaspoon]              []    volume      NaN   \n",
       "2006319 2              [ounce]              []    weight      NaN   \n",
       "        3              [ounce]              []    weight      NaN   \n",
       "        4              [ounce]              []    weight      NaN   \n",
       "\n",
       "                    food_portion_id gram_weight description  \n",
       "recipe  ingredient                                           \n",
       "1828339 3                       NaN         NaN         NaN  \n",
       "        6                       NaN         NaN         NaN  \n",
       "        7                       NaN         NaN         NaN  \n",
       "1703    3                       NaN         NaN         NaN  \n",
       "1262123 0                       NaN         NaN         NaN  \n",
       "...                             ...         ...         ...  \n",
       "599284  1                       NaN         NaN         NaN  \n",
       "1357213 3                       NaN         NaN         NaN  \n",
       "2006319 2                       NaN         NaN         NaN  \n",
       "        3                       NaN         NaN         NaN  \n",
       "        4                       NaN         NaN         NaN  \n",
       "\n",
       "[195 rows x 14 columns]"
      ]
     },
     "execution_count": 17,
     "metadata": {},
     "output_type": "execute_result"
    }
   ],
   "source": [
    "ingredients_df[ingredients_df['gram_weight'].isna() & ingredients_df['quantity'].notna()].join(food_portion_df['description'], on=['food_id', 'food_portion_id'])"
   ]
  },
  {
   "cell_type": "code",
   "execution_count": 18,
   "metadata": {
    "execution": {
     "iopub.execute_input": "2024-02-11T11:32:01.108249Z",
     "iopub.status.busy": "2024-02-11T11:32:01.108169Z",
     "iopub.status.idle": "2024-02-11T11:32:01.112848Z",
     "shell.execute_reply": "2024-02-11T11:32:01.112666Z"
    }
   },
   "outputs": [
    {
     "data": {
      "text/html": [
       "<div>\n",
       "<style scoped>\n",
       "    .dataframe tbody tr th:only-of-type {\n",
       "        vertical-align: middle;\n",
       "    }\n",
       "\n",
       "    .dataframe tbody tr th {\n",
       "        vertical-align: top;\n",
       "    }\n",
       "\n",
       "    .dataframe thead th {\n",
       "        text-align: right;\n",
       "    }\n",
       "</style>\n",
       "<table border=\"1\" class=\"dataframe\">\n",
       "  <thead>\n",
       "    <tr style=\"text-align: right;\">\n",
       "      <th></th>\n",
       "      <th>seq_num</th>\n",
       "      <th>amount</th>\n",
       "      <th>gram_weight</th>\n",
       "      <th>description</th>\n",
       "      <th>unit_tags</th>\n",
       "      <th>unit_remainders</th>\n",
       "      <th>unit_type</th>\n",
       "      <th>portion_amount</th>\n",
       "      <th>portion_unit</th>\n",
       "    </tr>\n",
       "    <tr>\n",
       "      <th>id</th>\n",
       "      <th></th>\n",
       "      <th></th>\n",
       "      <th></th>\n",
       "      <th></th>\n",
       "      <th></th>\n",
       "      <th></th>\n",
       "      <th></th>\n",
       "      <th></th>\n",
       "      <th></th>\n",
       "    </tr>\n",
       "  </thead>\n",
       "  <tbody>\n",
       "    <tr>\n",
       "      <th>277580</th>\n",
       "      <td>13</td>\n",
       "      <td>1.0</td>\n",
       "      <td>33.0</td>\n",
       "      <td>small</td>\n",
       "      <td>[whole]</td>\n",
       "      <td>[]</td>\n",
       "      <td>portion</td>\n",
       "      <td>NaN</td>\n",
       "      <td>None</td>\n",
       "    </tr>\n",
       "    <tr>\n",
       "      <th>277581</th>\n",
       "      <td>14</td>\n",
       "      <td>1.0</td>\n",
       "      <td>45.0</td>\n",
       "      <td>medium</td>\n",
       "      <td>[whole]</td>\n",
       "      <td>[]</td>\n",
       "      <td>portion</td>\n",
       "      <td>NaN</td>\n",
       "      <td>None</td>\n",
       "    </tr>\n",
       "    <tr>\n",
       "      <th>277582</th>\n",
       "      <td>15</td>\n",
       "      <td>1.0</td>\n",
       "      <td>71.0</td>\n",
       "      <td>large</td>\n",
       "      <td>[whole]</td>\n",
       "      <td>[]</td>\n",
       "      <td>portion</td>\n",
       "      <td>NaN</td>\n",
       "      <td>None</td>\n",
       "    </tr>\n",
       "    <tr>\n",
       "      <th>277583</th>\n",
       "      <td>16</td>\n",
       "      <td>1.0</td>\n",
       "      <td>104.0</td>\n",
       "      <td>extra large</td>\n",
       "      <td>[whole]</td>\n",
       "      <td>[extra]</td>\n",
       "      <td>portion</td>\n",
       "      <td>NaN</td>\n",
       "      <td>None</td>\n",
       "    </tr>\n",
       "  </tbody>\n",
       "</table>\n",
       "</div>"
      ],
      "text/plain": [
       "        seq_num  amount  gram_weight  description unit_tags unit_remainders  \\\n",
       "id                                                                            \n",
       "277580       13     1.0         33.0        small   [whole]              []   \n",
       "277581       14     1.0         45.0       medium   [whole]              []   \n",
       "277582       15     1.0         71.0        large   [whole]              []   \n",
       "277583       16     1.0        104.0  extra large   [whole]         [extra]   \n",
       "\n",
       "       unit_type  portion_amount portion_unit  \n",
       "id                                             \n",
       "277580   portion             NaN         None  \n",
       "277581   portion             NaN         None  \n",
       "277582   portion             NaN         None  \n",
       "277583   portion             NaN         None  "
      ]
     },
     "execution_count": 18,
     "metadata": {},
     "output_type": "execute_result"
    }
   ],
   "source": [
    "food_portion_df.loc[2343304.0]"
   ]
  },
  {
   "cell_type": "markdown",
   "metadata": {},
   "source": [
    "# Weight Concentration"
   ]
  },
  {
   "cell_type": "markdown",
   "metadata": {},
   "source": [
    "Ultimately we'll want to measure the concentration of ingredients in each recipe."
   ]
  },
  {
   "cell_type": "code",
   "execution_count": 19,
   "metadata": {
    "execution": {
     "iopub.execute_input": "2024-02-11T11:32:01.113883Z",
     "iopub.status.busy": "2024-02-11T11:32:01.113753Z",
     "iopub.status.idle": "2024-02-11T11:32:01.116138Z",
     "shell.execute_reply": "2024-02-11T11:32:01.115935Z"
    }
   },
   "outputs": [
    {
     "data": {
      "text/plain": [
       "name.name                                           butter\n",
       "name.description                          land lake butter\n",
       "quantity                                             0.667\n",
       "unit                                                  cups\n",
       "comment                                               <NA>\n",
       "preparation                                       softened\n",
       "ingredient_string    2/3 cup Land O Lakes Butter, softened\n",
       "unit_tags                                            [cup]\n",
       "unit_remainders                                         []\n",
       "unit_type                                           volume\n",
       "food_id                                          2345703.0\n",
       "food_portion_id                                   287267.0\n",
       "gram_weight                                        149.408\n",
       "Name: (1746116, 0), dtype: object"
      ]
     },
     "execution_count": 19,
     "metadata": {},
     "output_type": "execute_result"
    }
   ],
   "source": [
    "ingredient = ingredients_df.iloc[0]\n",
    "ingredient"
   ]
  },
  {
   "cell_type": "code",
   "execution_count": 20,
   "metadata": {
    "execution": {
     "iopub.execute_input": "2024-02-11T11:32:01.117071Z",
     "iopub.status.busy": "2024-02-11T11:32:01.116924Z",
     "iopub.status.idle": "2024-02-11T11:32:01.118468Z",
     "shell.execute_reply": "2024-02-11T11:32:01.118278Z"
    }
   },
   "outputs": [],
   "source": [
    "#| export\n",
    "def get_weight_ratio(ingredient):\n",
    "    recipe_id = ingredient.name[0]\n",
    "    recipe_weight = ingredients_df.loc[recipe_id]['gram_weight'].sum()\n",
    "    return ingredient['gram_weight'] / recipe_weight"
   ]
  },
  {
   "cell_type": "code",
   "execution_count": 21,
   "metadata": {
    "execution": {
     "iopub.execute_input": "2024-02-11T11:32:01.119323Z",
     "iopub.status.busy": "2024-02-11T11:32:01.119203Z",
     "iopub.status.idle": "2024-02-11T11:32:01.121353Z",
     "shell.execute_reply": "2024-02-11T11:32:01.121171Z"
    }
   },
   "outputs": [
    {
     "data": {
      "text/plain": [
       "0.08011411847854065"
      ]
     },
     "execution_count": 21,
     "metadata": {},
     "output_type": "execute_result"
    }
   ],
   "source": [
    "get_weight_ratio(ingredient)"
   ]
  },
  {
   "cell_type": "code",
   "execution_count": 22,
   "metadata": {
    "execution": {
     "iopub.execute_input": "2024-02-11T11:32:01.122234Z",
     "iopub.status.busy": "2024-02-11T11:32:01.122114Z",
     "iopub.status.idle": "2024-02-11T11:32:01.651825Z",
     "shell.execute_reply": "2024-02-11T11:32:01.651596Z"
    }
   },
   "outputs": [
    {
     "name": "stderr",
     "output_type": "stream",
     "text": [
      "\r",
      "  0%|                                                                                                                                                                                                                                                | 0/2450 [00:00<?, ?it/s]"
     ]
    },
    {
     "name": "stderr",
     "output_type": "stream",
     "text": [
      "\r",
      " 19%|██████████████████████████████████████████▋                                                                                                                                                                                         | 459/2450 [00:00<00:00, 4584.78it/s]"
     ]
    },
    {
     "name": "stderr",
     "output_type": "stream",
     "text": [
      "\r",
      " 38%|█████████████████████████████████████████████████████████████████████████████████████▊                                                                                                                                              | 922/2450 [00:00<00:00, 4610.25it/s]"
     ]
    },
    {
     "name": "stderr",
     "output_type": "stream",
     "text": [
      "\r",
      " 57%|█████████████████████████████████████████████████████████████████████████████████████████████████████████████████████████████████▏                                                                                                 | 1394/2450 [00:00<00:00, 4657.63it/s]"
     ]
    },
    {
     "name": "stderr",
     "output_type": "stream",
     "text": [
      "\r",
      " 76%|████████████████████████████████████████████████████████████████████████████████████████████████████████████████████████████████████████████████████████████████████████████▌                                                      | 1863/2450 [00:00<00:00, 4667.11it/s]"
     ]
    },
    {
     "name": "stderr",
     "output_type": "stream",
     "text": [
      "\r",
      " 95%|████████████████████████████████████████████████████████████████████████████████████████████████████████████████████████████████████████████████████████████████████████████████████████████████████████████████████████           | 2332/2450 [00:00<00:00, 4675.10it/s]"
     ]
    },
    {
     "name": "stderr",
     "output_type": "stream",
     "text": [
      "\r",
      "100%|███████████████████████████████████████████████████████████████████████████████████████████████████████████████████████████████████████████████████████████████████████████████████████████████████████████████████████████████████| 2450/2450 [00:00<00:00, 4648.22it/s]"
     ]
    },
    {
     "name": "stderr",
     "output_type": "stream",
     "text": [
      "\n"
     ]
    }
   ],
   "source": [
    "ingredients_df['weight_ratio'] = ingredients_df.progress_apply(get_weight_ratio, axis=1).astype('Float64')"
   ]
  },
  {
   "cell_type": "markdown",
   "metadata": {},
   "source": [
    "### Evaluating"
   ]
  },
  {
   "cell_type": "code",
   "execution_count": 23,
   "metadata": {
    "execution": {
     "iopub.execute_input": "2024-02-11T11:32:01.652982Z",
     "iopub.status.busy": "2024-02-11T11:32:01.652894Z",
     "iopub.status.idle": "2024-02-11T11:32:01.663771Z",
     "shell.execute_reply": "2024-02-11T11:32:01.663582Z"
    }
   },
   "outputs": [
    {
     "data": {
      "text/plain": [
       "recipe\n",
       "222        1.0\n",
       "1703       1.0\n",
       "8981       1.0\n",
       "13596      1.0\n",
       "17929      1.0\n",
       "          ... \n",
       "2185822    1.0\n",
       "2189489    1.0\n",
       "2195357    1.0\n",
       "2196831    1.0\n",
       "2201833    1.0\n",
       "Name: weight_ratio, Length: 302, dtype: Float64"
      ]
     },
     "execution_count": 23,
     "metadata": {},
     "output_type": "execute_result"
    }
   ],
   "source": [
    "ingredients_df['weight_ratio'].groupby('recipe').sum()"
   ]
  },
  {
   "cell_type": "code",
   "execution_count": 24,
   "metadata": {
    "execution": {
     "iopub.execute_input": "2024-02-11T11:32:01.664807Z",
     "iopub.status.busy": "2024-02-11T11:32:01.664638Z",
     "iopub.status.idle": "2024-02-11T11:32:01.667389Z",
     "shell.execute_reply": "2024-02-11T11:32:01.667201Z"
    }
   },
   "outputs": [
    {
     "data": {
      "text/plain": [
       "recipe\n",
       "480397    0.0\n",
       "824709    0.0\n",
       "Name: weight_ratio, dtype: float64"
      ]
     },
     "execution_count": 24,
     "metadata": {},
     "output_type": "execute_result"
    }
   ],
   "source": [
    "_ = ingredients_df['weight_ratio'].groupby('recipe').sum().astype('float')\n",
    "_[~np.isclose(_,np.full((len(_)), 1))]"
   ]
  },
  {
   "cell_type": "code",
   "execution_count": 25,
   "metadata": {
    "execution": {
     "iopub.execute_input": "2024-02-11T11:32:01.668386Z",
     "iopub.status.busy": "2024-02-11T11:32:01.668254Z",
     "iopub.status.idle": "2024-02-11T11:32:01.675123Z",
     "shell.execute_reply": "2024-02-11T11:32:01.674935Z"
    }
   },
   "outputs": [
    {
     "data": {
      "text/html": [
       "<div>\n",
       "<style scoped>\n",
       "    .dataframe tbody tr th:only-of-type {\n",
       "        vertical-align: middle;\n",
       "    }\n",
       "\n",
       "    .dataframe tbody tr th {\n",
       "        vertical-align: top;\n",
       "    }\n",
       "\n",
       "    .dataframe thead th {\n",
       "        text-align: right;\n",
       "    }\n",
       "</style>\n",
       "<table border=\"1\" class=\"dataframe\">\n",
       "  <thead>\n",
       "    <tr style=\"text-align: right;\">\n",
       "      <th></th>\n",
       "      <th></th>\n",
       "      <th>name.name</th>\n",
       "      <th>name.description</th>\n",
       "      <th>quantity</th>\n",
       "      <th>unit</th>\n",
       "      <th>comment</th>\n",
       "      <th>preparation</th>\n",
       "      <th>ingredient_string</th>\n",
       "      <th>unit_tags</th>\n",
       "      <th>unit_remainders</th>\n",
       "      <th>unit_type</th>\n",
       "      <th>food_id</th>\n",
       "      <th>food_portion_id</th>\n",
       "      <th>gram_weight</th>\n",
       "      <th>weight_ratio</th>\n",
       "    </tr>\n",
       "    <tr>\n",
       "      <th>recipe</th>\n",
       "      <th>ingredient</th>\n",
       "      <th></th>\n",
       "      <th></th>\n",
       "      <th></th>\n",
       "      <th></th>\n",
       "      <th></th>\n",
       "      <th></th>\n",
       "      <th></th>\n",
       "      <th></th>\n",
       "      <th></th>\n",
       "      <th></th>\n",
       "      <th></th>\n",
       "      <th></th>\n",
       "      <th></th>\n",
       "      <th></th>\n",
       "    </tr>\n",
       "  </thead>\n",
       "  <tbody>\n",
       "    <tr>\n",
       "      <th rowspan=\"3\" valign=\"top\">480397</th>\n",
       "      <th>0</th>\n",
       "      <td>bisquick</td>\n",
       "      <td>bisquick</td>\n",
       "      <td>3.0</td>\n",
       "      <td>cups</td>\n",
       "      <td>&lt;NA&gt;</td>\n",
       "      <td>&lt;NA&gt;</td>\n",
       "      <td>3 cup Bisquick</td>\n",
       "      <td>[cup]</td>\n",
       "      <td>[]</td>\n",
       "      <td>volume</td>\n",
       "      <td>NaN</td>\n",
       "      <td>NaN</td>\n",
       "      <td>&lt;NA&gt;</td>\n",
       "      <td>&lt;NA&gt;</td>\n",
       "    </tr>\n",
       "    <tr>\n",
       "      <th>1</th>\n",
       "      <td>hot sausage</td>\n",
       "      <td>hot sausage</td>\n",
       "      <td>1.0</td>\n",
       "      <td>lb</td>\n",
       "      <td>&lt;NA&gt;</td>\n",
       "      <td>&lt;NA&gt;</td>\n",
       "      <td>1 lb. hot sausage</td>\n",
       "      <td>[pound]</td>\n",
       "      <td>[]</td>\n",
       "      <td>weight</td>\n",
       "      <td>NaN</td>\n",
       "      <td>NaN</td>\n",
       "      <td>&lt;NA&gt;</td>\n",
       "      <td>&lt;NA&gt;</td>\n",
       "    </tr>\n",
       "    <tr>\n",
       "      <th>2</th>\n",
       "      <td>sharp cheese</td>\n",
       "      <td>sharp cheese</td>\n",
       "      <td>1.0</td>\n",
       "      <td>lb</td>\n",
       "      <td>&lt;NA&gt;</td>\n",
       "      <td>&lt;NA&gt;</td>\n",
       "      <td>1 lb. sharp cheese</td>\n",
       "      <td>[pound]</td>\n",
       "      <td>[]</td>\n",
       "      <td>weight</td>\n",
       "      <td>NaN</td>\n",
       "      <td>NaN</td>\n",
       "      <td>&lt;NA&gt;</td>\n",
       "      <td>&lt;NA&gt;</td>\n",
       "    </tr>\n",
       "    <tr>\n",
       "      <th rowspan=\"4\" valign=\"top\">824709</th>\n",
       "      <th>0</th>\n",
       "      <td>bread</td>\n",
       "      <td>bread</td>\n",
       "      <td>&lt;NA&gt;</td>\n",
       "      <td>&lt;NA&gt;</td>\n",
       "      <td>&lt;NA&gt;</td>\n",
       "      <td>&lt;NA&gt;</td>\n",
       "      <td>bread</td>\n",
       "      <td>[]</td>\n",
       "      <td>[]</td>\n",
       "      <td>portion</td>\n",
       "      <td>2343328.0</td>\n",
       "      <td>277706.0</td>\n",
       "      <td>&lt;NA&gt;</td>\n",
       "      <td>&lt;NA&gt;</td>\n",
       "    </tr>\n",
       "    <tr>\n",
       "      <th>1</th>\n",
       "      <td>ground cinnamon</td>\n",
       "      <td>ground cinnamon</td>\n",
       "      <td>&lt;NA&gt;</td>\n",
       "      <td>&lt;NA&gt;</td>\n",
       "      <td>&lt;NA&gt;</td>\n",
       "      <td>&lt;NA&gt;</td>\n",
       "      <td>ground cinnamon</td>\n",
       "      <td>[]</td>\n",
       "      <td>[]</td>\n",
       "      <td>portion</td>\n",
       "      <td>172824.0</td>\n",
       "      <td>91502.0</td>\n",
       "      <td>&lt;NA&gt;</td>\n",
       "      <td>&lt;NA&gt;</td>\n",
       "    </tr>\n",
       "    <tr>\n",
       "      <th>2</th>\n",
       "      <td>sugar</td>\n",
       "      <td>sugar</td>\n",
       "      <td>&lt;NA&gt;</td>\n",
       "      <td>&lt;NA&gt;</td>\n",
       "      <td>&lt;NA&gt;</td>\n",
       "      <td>&lt;NA&gt;</td>\n",
       "      <td>sugar</td>\n",
       "      <td>[]</td>\n",
       "      <td>[]</td>\n",
       "      <td>portion</td>\n",
       "      <td>2345817.0</td>\n",
       "      <td>287776.0</td>\n",
       "      <td>&lt;NA&gt;</td>\n",
       "      <td>&lt;NA&gt;</td>\n",
       "    </tr>\n",
       "    <tr>\n",
       "      <th>3</th>\n",
       "      <td>margarine</td>\n",
       "      <td>squeeze margarine</td>\n",
       "      <td>&lt;NA&gt;</td>\n",
       "      <td>&lt;NA&gt;</td>\n",
       "      <td>&lt;NA&gt;</td>\n",
       "      <td>&lt;NA&gt;</td>\n",
       "      <td>squeeze margarine</td>\n",
       "      <td>[]</td>\n",
       "      <td>[]</td>\n",
       "      <td>portion</td>\n",
       "      <td>2345707.0</td>\n",
       "      <td>287304.0</td>\n",
       "      <td>&lt;NA&gt;</td>\n",
       "      <td>&lt;NA&gt;</td>\n",
       "    </tr>\n",
       "  </tbody>\n",
       "</table>\n",
       "</div>"
      ],
      "text/plain": [
       "                         name.name   name.description  quantity  unit comment  \\\n",
       "recipe ingredient                                                               \n",
       "480397 0                  bisquick           bisquick       3.0  cups    <NA>   \n",
       "       1               hot sausage        hot sausage       1.0    lb    <NA>   \n",
       "       2              sharp cheese       sharp cheese       1.0    lb    <NA>   \n",
       "824709 0                     bread              bread      <NA>  <NA>    <NA>   \n",
       "       1           ground cinnamon    ground cinnamon      <NA>  <NA>    <NA>   \n",
       "       2                     sugar              sugar      <NA>  <NA>    <NA>   \n",
       "       3                 margarine  squeeze margarine      <NA>  <NA>    <NA>   \n",
       "\n",
       "                  preparation   ingredient_string unit_tags unit_remainders  \\\n",
       "recipe ingredient                                                             \n",
       "480397 0                 <NA>      3 cup Bisquick     [cup]              []   \n",
       "       1                 <NA>   1 lb. hot sausage   [pound]              []   \n",
       "       2                 <NA>  1 lb. sharp cheese   [pound]              []   \n",
       "824709 0                 <NA>               bread        []              []   \n",
       "       1                 <NA>     ground cinnamon        []              []   \n",
       "       2                 <NA>               sugar        []              []   \n",
       "       3                 <NA>   squeeze margarine        []              []   \n",
       "\n",
       "                  unit_type    food_id  food_portion_id gram_weight  \\\n",
       "recipe ingredient                                                     \n",
       "480397 0             volume        NaN              NaN        <NA>   \n",
       "       1             weight        NaN              NaN        <NA>   \n",
       "       2             weight        NaN              NaN        <NA>   \n",
       "824709 0            portion  2343328.0         277706.0        <NA>   \n",
       "       1            portion   172824.0          91502.0        <NA>   \n",
       "       2            portion  2345817.0         287776.0        <NA>   \n",
       "       3            portion  2345707.0         287304.0        <NA>   \n",
       "\n",
       "                   weight_ratio  \n",
       "recipe ingredient                \n",
       "480397 0                   <NA>  \n",
       "       1                   <NA>  \n",
       "       2                   <NA>  \n",
       "824709 0                   <NA>  \n",
       "       1                   <NA>  \n",
       "       2                   <NA>  \n",
       "       3                   <NA>  "
      ]
     },
     "execution_count": 25,
     "metadata": {},
     "output_type": "execute_result"
    }
   ],
   "source": [
    "ingredients_df.loc[_.index[~np.isclose(_,np.full((len(_)), 1))]]"
   ]
  },
  {
   "cell_type": "markdown",
   "metadata": {},
   "source": [
    "We didn't get any weight measures for any of these recipes. Let's remove these."
   ]
  },
  {
   "cell_type": "code",
   "execution_count": 26,
   "metadata": {
    "execution": {
     "iopub.execute_input": "2024-02-11T11:32:01.676147Z",
     "iopub.status.busy": "2024-02-11T11:32:01.676013Z",
     "iopub.status.idle": "2024-02-11T11:32:01.678346Z",
     "shell.execute_reply": "2024-02-11T11:32:01.678141Z"
    }
   },
   "outputs": [
    {
     "name": "stderr",
     "output_type": "stream",
     "text": [
      "/tmp/ipykernel_4759/457566092.py:1: PerformanceWarning: dropping on a non-lexsorted multi-index without a level parameter may impact performance.\n",
      "  ingredients_df = ingredients_df.drop(_.index[~np.isclose(_,np.full((len(_)), 1))])\n"
     ]
    }
   ],
   "source": [
    "ingredients_df = ingredients_df.drop(_.index[~np.isclose(_,np.full((len(_)), 1))])"
   ]
  },
  {
   "cell_type": "markdown",
   "metadata": {},
   "source": [
    "# Saving"
   ]
  },
  {
   "cell_type": "code",
   "execution_count": 27,
   "metadata": {
    "execution": {
     "iopub.execute_input": "2024-02-11T11:32:01.679266Z",
     "iopub.status.busy": "2024-02-11T11:32:01.679144Z",
     "iopub.status.idle": "2024-02-11T11:32:01.681359Z",
     "shell.execute_reply": "2024-02-11T11:32:01.681154Z"
    }
   },
   "outputs": [],
   "source": [
    "ingredients_df['weight_ratio'].to_frame().to_feather('../../data/local/density/partial/weights/0.feather')"
   ]
  },
  {
   "cell_type": "code",
   "execution_count": 28,
   "metadata": {
    "execution": {
     "iopub.execute_input": "2024-02-11T11:32:01.682274Z",
     "iopub.status.busy": "2024-02-11T11:32:01.682141Z",
     "iopub.status.idle": "2024-02-11T11:32:01.804593Z",
     "shell.execute_reply": "2024-02-11T11:32:01.804256Z"
    }
   },
   "outputs": [],
   "source": [
    "from nbdev import nbdev_export; nbdev_export()"
   ]
  },
  {
   "cell_type": "code",
   "execution_count": null,
   "metadata": {},
   "outputs": [],
   "source": []
  }
 ],
 "metadata": {
  "kernelspec": {
   "display_name": "recipes",
   "language": "python",
   "name": "python3"
  },
  "language_info": {
   "codemirror_mode": {
    "name": "ipython",
    "version": 3
   },
   "file_extension": ".py",
   "mimetype": "text/x-python",
   "name": "python",
   "nbconvert_exporter": "python",
   "pygments_lexer": "ipython3",
   "version": "3.10.13"
  }
 },
 "nbformat": 4,
 "nbformat_minor": 2
}
