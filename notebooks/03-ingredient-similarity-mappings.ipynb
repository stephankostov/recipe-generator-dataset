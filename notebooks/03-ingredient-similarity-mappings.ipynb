{
 "cells": [
  {
   "cell_type": "raw",
   "metadata": {},
   "source": [
    "---\n",
    "output-file: 03-similarity-mappings.html\n",
    "title: Homogenising Duplicates\n",
    "\n",
    "---\n",
    "\n"
   ]
  },
  {
   "cell_type": "markdown",
   "metadata": {},
   "source": [
    "# Introduction"
   ]
  },
  {
   "cell_type": "markdown",
   "metadata": {},
   "source": [
    "Note: this section is no longer being used in the data pipeline.\n",
    "\n",
    "This section is an attempt to homogenise the same ingredients which are written in different nomanclature. For such a large dataset coming from numermous sources, there will be many duplicate ingredients that just have slight differences in formatting/spelling/nomanclature. What we want to match these according to a similarity criteria, through a process called *fuzzy matching*.\n",
    "\n",
    "The reason behind this was that it would help the manual process of checking/fixing ingredients, by greatly reducing the number of unique ingredients, hence reducing the possible issues that might have to be addressed.\n",
    "\n",
    "However through the processing of this, it was decided that this would actually introduce more possibilities for error whilst not helping the overall process."
   ]
  },
  {
   "cell_type": "markdown",
   "metadata": {},
   "source": [
    "# Process"
   ]
  },
  {
   "cell_type": "markdown",
   "metadata": {},
   "source": [
    "- Stage 1: Cleaning (already done in dataset preprocessing)\n",
    "    - Casing\n",
    "    - Lemmatization\n",
    "    - Punctuation Cuts\n",
    "- Stage 2: Similarity Matching\n",
    "    - Levenstein Distance\n",
    "    - Embedding Distance\n",
    "- Stage 3: Manual Additon\n",
    "    - Previous step should be done liberally, allowing for mistakes to be added back manually - or with LLM?"
   ]
  },
  {
   "cell_type": "markdown",
   "metadata": {},
   "source": [
    "# Setup"
   ]
  },
  {
   "cell_type": "code",
   "execution_count": null,
   "metadata": {},
   "outputs": [],
   "source": [
    "from pyprojroot import here\n",
    "root = here()\n",
    "import sys\n",
    "sys.path.append(str(root))"
   ]
  },
  {
   "cell_type": "code",
   "execution_count": 1,
   "metadata": {
    "execution": {
     "iopub.execute_input": "2024-02-02T15:42:15.854418Z",
     "iopub.status.busy": "2024-02-02T15:42:15.853988Z",
     "iopub.status.idle": "2024-02-02T15:42:17.732469Z",
     "shell.execute_reply": "2024-02-02T15:42:17.731978Z"
    }
   },
   "outputs": [],
   "source": [
    "import pandas as pd\n",
    "import numpy as np\n",
    "import seaborn as sns\n",
    "\n",
    "import nltk\n",
    "import spacy\n",
    "from spacy.matcher import Matcher\n",
    "from spacy.util import filter_spans\n",
    "\n",
    "from thefuzz import fuzz\n",
    "\n",
    "from sentence_transformers import SentenceTransformer\n",
    "from sentence_transformers.util import cos_sim\n",
    "import torch\n",
    "from sklearn.metrics.pairwise import cosine_similarity\n",
    "\n",
    "import json\n",
    "from itertools import groupby\n",
    "import re\n",
    "import string\n",
    "\n",
    "from tqdm import tqdm\n",
    "tqdm.pandas()\n",
    "\n",
    "from food_database.utils.utils import *"
   ]
  },
  {
   "cell_type": "code",
   "execution_count": 2,
   "metadata": {
    "execution": {
     "iopub.execute_input": "2024-02-02T15:42:17.734111Z",
     "iopub.status.busy": "2024-02-02T15:42:17.733953Z",
     "iopub.status.idle": "2024-02-02T15:42:17.750715Z",
     "shell.execute_reply": "2024-02-02T15:42:17.750455Z"
    }
   },
   "outputs": [],
   "source": [
    "ingredients_df = pd.read_feather('../data/local/recipe/partial/ingredients/0.feather')"
   ]
  },
  {
   "cell_type": "markdown",
   "metadata": {},
   "source": [
    "# Similarity Matching"
   ]
  },
  {
   "cell_type": "markdown",
   "metadata": {},
   "source": [
    "### Levenstein Distance"
   ]
  },
  {
   "cell_type": "markdown",
   "metadata": {},
   "source": [
    "Here we want to calculate the distances of all the ingredients from eachother, using the levenstein distance. With this we'll be able to set a threshold of similarity for which we homogenise the ingredients."
   ]
  },
  {
   "cell_type": "code",
   "execution_count": 3,
   "metadata": {
    "execution": {
     "iopub.execute_input": "2024-02-02T15:42:17.752122Z",
     "iopub.status.busy": "2024-02-02T15:42:17.751929Z",
     "iopub.status.idle": "2024-02-02T15:42:17.976394Z",
     "shell.execute_reply": "2024-02-02T15:42:17.976033Z"
    }
   },
   "outputs": [],
   "source": [
    "ct = pd.crosstab(ingredients_df['name.name'].unique(), ingredients_df['name.name'].unique())\n",
    "ct = ct.apply(lambda col: [fuzz.ratio(col.name, x) for x in col.index])"
   ]
  },
  {
   "cell_type": "markdown",
   "metadata": {},
   "source": [
    "#### Threshold"
   ]
  },
  {
   "cell_type": "markdown",
   "metadata": {},
   "source": [
    "With this all we want to do is be able to understand slight spelling mistakes. Starting with a lower limit here, changes in shorter words will have a greater effect. What does a one letter spelling difference score on a short word?"
   ]
  },
  {
   "cell_type": "code",
   "execution_count": 4,
   "metadata": {
    "execution": {
     "iopub.execute_input": "2024-02-02T15:42:17.977917Z",
     "iopub.status.busy": "2024-02-02T15:42:17.977822Z",
     "iopub.status.idle": "2024-02-02T15:42:17.980722Z",
     "shell.execute_reply": "2024-02-02T15:42:17.980533Z"
    }
   },
   "outputs": [
    {
     "data": {
      "text/plain": [
       "91"
      ]
     },
     "execution_count": 4,
     "metadata": {},
     "output_type": "execute_result"
    }
   ],
   "source": [
    "fuzz.ratio('chilli', 'chili')"
   ]
  },
  {
   "cell_type": "code",
   "execution_count": 5,
   "metadata": {
    "execution": {
     "iopub.execute_input": "2024-02-02T15:42:17.995986Z",
     "iopub.status.busy": "2024-02-02T15:42:17.995872Z",
     "iopub.status.idle": "2024-02-02T15:42:18.036767Z",
     "shell.execute_reply": "2024-02-02T15:42:18.036548Z"
    }
   },
   "outputs": [
    {
     "data": {
      "text/html": [
       "<div>\n",
       "<style scoped>\n",
       "    .dataframe tbody tr th:only-of-type {\n",
       "        vertical-align: middle;\n",
       "    }\n",
       "\n",
       "    .dataframe tbody tr th {\n",
       "        vertical-align: top;\n",
       "    }\n",
       "\n",
       "    .dataframe thead th {\n",
       "        text-align: right;\n",
       "    }\n",
       "</style>\n",
       "<table border=\"1\" class=\"dataframe\">\n",
       "  <thead>\n",
       "    <tr style=\"text-align: right;\">\n",
       "      <th></th>\n",
       "      <th>similar_values</th>\n",
       "      <th>size</th>\n",
       "    </tr>\n",
       "    <tr>\n",
       "      <th>row_0</th>\n",
       "      <th></th>\n",
       "      <th></th>\n",
       "    </tr>\n",
       "  </thead>\n",
       "  <tbody>\n",
       "    <tr>\n",
       "      <th>bread crumb</th>\n",
       "      <td>[bread crumb, breadcrumb]</td>\n",
       "      <td>2</td>\n",
       "    </tr>\n",
       "    <tr>\n",
       "      <th>breadcrumb</th>\n",
       "      <td>[bread crumb, breadcrumb]</td>\n",
       "      <td>2</td>\n",
       "    </tr>\n",
       "    <tr>\n",
       "      <th>yoghurt</th>\n",
       "      <td>[yoghurt, yogurt]</td>\n",
       "      <td>2</td>\n",
       "    </tr>\n",
       "    <tr>\n",
       "      <th>soymilk</th>\n",
       "      <td>[soy milk, soymilk]</td>\n",
       "      <td>2</td>\n",
       "    </tr>\n",
       "    <tr>\n",
       "      <th>soy milk</th>\n",
       "      <td>[soy milk, soymilk]</td>\n",
       "      <td>2</td>\n",
       "    </tr>\n",
       "    <tr>\n",
       "      <th>pimiento</th>\n",
       "      <td>[pimento, pimiento]</td>\n",
       "      <td>2</td>\n",
       "    </tr>\n",
       "    <tr>\n",
       "      <th>pimento</th>\n",
       "      <td>[pimento, pimiento]</td>\n",
       "      <td>2</td>\n",
       "    </tr>\n",
       "    <tr>\n",
       "      <th>ground turkey</th>\n",
       "      <td>[grnd turkey, ground turkey]</td>\n",
       "      <td>2</td>\n",
       "    </tr>\n",
       "    <tr>\n",
       "      <th>grnd turkey</th>\n",
       "      <td>[grnd turkey, ground turkey]</td>\n",
       "      <td>2</td>\n",
       "    </tr>\n",
       "    <tr>\n",
       "      <th>green chilies</th>\n",
       "      <td>[green chile, green chilies]</td>\n",
       "      <td>2</td>\n",
       "    </tr>\n",
       "  </tbody>\n",
       "</table>\n",
       "</div>"
      ],
      "text/plain": [
       "                             similar_values  size\n",
       "row_0                                            \n",
       "bread crumb       [bread crumb, breadcrumb]     2\n",
       "breadcrumb        [bread crumb, breadcrumb]     2\n",
       "yoghurt                   [yoghurt, yogurt]     2\n",
       "soymilk                 [soy milk, soymilk]     2\n",
       "soy milk                [soy milk, soymilk]     2\n",
       "pimiento                [pimento, pimiento]     2\n",
       "pimento                 [pimento, pimiento]     2\n",
       "ground turkey  [grnd turkey, ground turkey]     2\n",
       "grnd turkey    [grnd turkey, ground turkey]     2\n",
       "green chilies  [green chile, green chilies]     2"
      ]
     },
     "execution_count": 5,
     "metadata": {},
     "output_type": "execute_result"
    }
   ],
   "source": [
    "similar_fuzzy = ct.apply(lambda x: list(x[x>90].index), axis=1).to_frame('similar_values')\n",
    "similar_fuzzy['size'] = similar_fuzzy['similar_values'].apply(len)\n",
    "similar_fuzzy = similar_fuzzy[similar_fuzzy['size'] > 1]\n",
    "similar_fuzzy.sort_values('size', ascending=False).head(10)"
   ]
  },
  {
   "cell_type": "markdown",
   "metadata": {},
   "source": [
    "Which element of the list will we keep here? It looks like for a large part the list values orders do stay the same, as they are created in order of the rows that they appear. Let's map them and then after see how this is affected."
   ]
  },
  {
   "cell_type": "markdown",
   "metadata": {},
   "source": [
    "From having a play around with the boundary values here it looks like 90% match is about right. The main goal here is to get the obviously similar values, ones where the difference only comes down to plurals or slightly different spellings. What we want to avoid is putting together ingredients which are not the same eg. baby leaves & bay leaves. However if the plan is to manually check these after, it's better to be more liberal, as the values can be removed from the list."
   ]
  },
  {
   "cell_type": "code",
   "execution_count": 6,
   "metadata": {
    "execution": {
     "iopub.execute_input": "2024-02-02T15:42:18.038007Z",
     "iopub.status.busy": "2024-02-02T15:42:18.037918Z",
     "iopub.status.idle": "2024-02-02T15:42:18.040299Z",
     "shell.execute_reply": "2024-02-02T15:42:18.040105Z"
    }
   },
   "outputs": [
    {
     "data": {
      "text/plain": [
       "dict_items([('bread crumb', 'bread crumb'), ('breadcrumb', 'bread crumb'), ('chick pea', 'chick pea'), ('chickpea', 'chick pea'), ('chili', 'chili'), ('chili powder', 'chili powder'), ('chili pwdr', 'chili powder'), ('chilli', 'chili'), ('cream', 'cream'), ('creamy', 'cream'), ('extra virgin olive oil', 'extra virgin olive oil'), ('extra-virgin olive oil', 'extra virgin olive oil'), ('fresh ground black pepper', 'fresh ground black pepper'), ('freshly ground black pepper', 'fresh ground black pepper'), ('green chile', 'green chile'), ('green chilies', 'green chile'), ('grnd turkey', 'grnd turkey'), ('ground turkey', 'grnd turkey'), ('pimento', 'pimento'), ('pimiento', 'pimento'), ('soy milk', 'soy milk'), ('soymilk', 'soy milk'), ('yoghurt', 'yoghurt'), ('yogurt', 'yoghurt')])"
      ]
     },
     "execution_count": 6,
     "metadata": {},
     "output_type": "execute_result"
    }
   ],
   "source": [
    "fuzzy_map = similar_fuzzy['similar_values'].to_dict()\n",
    "fuzzy_map = {k: v[0] for k, v in fuzzy_map.items()}\n",
    "fuzzy_map.items()"
   ]
  },
  {
   "cell_type": "code",
   "execution_count": 7,
   "metadata": {
    "execution": {
     "iopub.execute_input": "2024-02-02T15:42:18.041544Z",
     "iopub.status.busy": "2024-02-02T15:42:18.041363Z",
     "iopub.status.idle": "2024-02-02T15:42:18.045016Z",
     "shell.execute_reply": "2024-02-02T15:42:18.044832Z"
    }
   },
   "outputs": [
    {
     "data": {
      "text/plain": [
       "Series([], Name: name.name.mapped, dtype: object)"
      ]
     },
     "execution_count": 7,
     "metadata": {},
     "output_type": "execute_result"
    }
   ],
   "source": [
    "ingredients_df['name.name.mapped'] = ingredients_df['name.name'].replace(fuzzy_map)\n",
    "ingredients_df['name.name.mapped'][ingredients_df['name.name.mapped'] == 'baking pwdr']"
   ]
  },
  {
   "cell_type": "code",
   "execution_count": 8,
   "metadata": {
    "execution": {
     "iopub.execute_input": "2024-02-02T15:42:18.046178Z",
     "iopub.status.busy": "2024-02-02T15:42:18.046057Z",
     "iopub.status.idle": "2024-02-02T15:42:18.047902Z",
     "shell.execute_reply": "2024-02-02T15:42:18.047719Z"
    }
   },
   "outputs": [
    {
     "data": {
      "text/plain": [
       "732"
      ]
     },
     "execution_count": 8,
     "metadata": {},
     "output_type": "execute_result"
    }
   ],
   "source": [
    "ingredients_df['name.name.mapped'].nunique()"
   ]
  },
  {
   "cell_type": "code",
   "execution_count": 9,
   "metadata": {
    "execution": {
     "iopub.execute_input": "2024-02-02T15:42:18.048983Z",
     "iopub.status.busy": "2024-02-02T15:42:18.048858Z",
     "iopub.status.idle": "2024-02-02T15:42:18.321402Z",
     "shell.execute_reply": "2024-02-02T15:42:18.321046Z"
    }
   },
   "outputs": [],
   "source": [
    "ct = pd.crosstab(ingredients_df['name.name.mapped'].unique(), ingredients_df['name.name.mapped'].unique())\n",
    "ct = ct.apply(lambda col: [fuzz.ratio(col.name, x) for x in col.index])"
   ]
  },
  {
   "cell_type": "code",
   "execution_count": 10,
   "metadata": {
    "execution": {
     "iopub.execute_input": "2024-02-02T15:42:18.322691Z",
     "iopub.status.busy": "2024-02-02T15:42:18.322607Z",
     "iopub.status.idle": "2024-02-02T15:42:18.359410Z",
     "shell.execute_reply": "2024-02-02T15:42:18.359182Z"
    }
   },
   "outputs": [
    {
     "data": {
      "text/html": [
       "<div>\n",
       "<style scoped>\n",
       "    .dataframe tbody tr th:only-of-type {\n",
       "        vertical-align: middle;\n",
       "    }\n",
       "\n",
       "    .dataframe tbody tr th {\n",
       "        vertical-align: top;\n",
       "    }\n",
       "\n",
       "    .dataframe thead th {\n",
       "        text-align: right;\n",
       "    }\n",
       "</style>\n",
       "<table border=\"1\" class=\"dataframe\">\n",
       "  <thead>\n",
       "    <tr style=\"text-align: right;\">\n",
       "      <th></th>\n",
       "      <th>similar_values</th>\n",
       "      <th>size</th>\n",
       "    </tr>\n",
       "    <tr>\n",
       "      <th>row_0</th>\n",
       "      <th></th>\n",
       "      <th></th>\n",
       "    </tr>\n",
       "  </thead>\n",
       "  <tbody>\n",
       "  </tbody>\n",
       "</table>\n",
       "</div>"
      ],
      "text/plain": [
       "Empty DataFrame\n",
       "Columns: [similar_values, size]\n",
       "Index: []"
      ]
     },
     "execution_count": 10,
     "metadata": {},
     "output_type": "execute_result"
    }
   ],
   "source": [
    "similar_fuzzy = ct.apply(lambda x: list(x[x>90].index), axis=1).to_frame('similar_values')\n",
    "similar_fuzzy['size'] = similar_fuzzy['similar_values'].apply(len)\n",
    "similar_fuzzy = similar_fuzzy[similar_fuzzy['size'] > 1]\n",
    "similar_fuzzy.sort_values('size', ascending=False).head(20)"
   ]
  },
  {
   "cell_type": "markdown",
   "metadata": {},
   "source": [
    "It looks like this needs to be done for a number of iterations to straighten them all out. This is because the mapping of an ingredient changes it slightly, which then has the possibility to meet a similarity threshold that it previously wouldn't have."
   ]
  },
  {
   "cell_type": "code",
   "execution_count": 11,
   "metadata": {
    "execution": {
     "iopub.execute_input": "2024-02-02T15:42:18.360734Z",
     "iopub.status.busy": "2024-02-02T15:42:18.360572Z",
     "iopub.status.idle": "2024-02-02T15:42:18.361895Z",
     "shell.execute_reply": "2024-02-02T15:42:18.361714Z"
    }
   },
   "outputs": [],
   "source": [
    "#todo choose map valu on most common appearance\n",
    "# -> this would help the search also as the most common appearance is also the most likely to be in the other databases"
   ]
  },
  {
   "cell_type": "code",
   "execution_count": 12,
   "metadata": {
    "execution": {
     "iopub.execute_input": "2024-02-02T15:42:18.363064Z",
     "iopub.status.busy": "2024-02-02T15:42:18.362941Z",
     "iopub.status.idle": "2024-02-02T15:42:18.364948Z",
     "shell.execute_reply": "2024-02-02T15:42:18.364756Z"
    }
   },
   "outputs": [],
   "source": [
    "def map_similar_values(similarity_matrix_func, similarity_threshold, values_series):\n",
    "    values = values_series.unique()\n",
    "    similarity_matrix = similarity_matrix_func(values)\n",
    "    similarity_df = similarity_matrix.apply(lambda x: list(x[x>similarity_threshold].index), axis=1).to_frame('similar_values')\n",
    "    similarity_df['size'] = similarity_df['similar_values'].apply(len)\n",
    "    similarity_df = similarity_df[similarity_df['size'] > 1]\n",
    "    similarity_map = similarity_df['similar_values'].to_dict()\n",
    "    similarity_map = {k: sorted(v,key=len)[0] for k, v in similarity_map.items()}\n",
    "    mapped_values_series = values_series.replace(similarity_map)\n",
    "    return mapped_values_series, similarity_map"
   ]
  },
  {
   "cell_type": "code",
   "execution_count": 13,
   "metadata": {
    "execution": {
     "iopub.execute_input": "2024-02-02T15:42:18.366121Z",
     "iopub.status.busy": "2024-02-02T15:42:18.366003Z",
     "iopub.status.idle": "2024-02-02T15:42:18.367556Z",
     "shell.execute_reply": "2024-02-02T15:42:18.367374Z"
    }
   },
   "outputs": [],
   "source": [
    "def create_fuzzy_similarity_matrix(values):\n",
    "    similarity_matrix = pd.crosstab(values, values)\n",
    "    similarity_matrix = similarity_matrix.apply(lambda col: [fuzz.ratio(col.name, x) for x in col.index])\n",
    "    return similarity_matrix"
   ]
  },
  {
   "cell_type": "code",
   "execution_count": 14,
   "metadata": {
    "execution": {
     "iopub.execute_input": "2024-02-02T15:42:18.368715Z",
     "iopub.status.busy": "2024-02-02T15:42:18.368567Z",
     "iopub.status.idle": "2024-02-02T15:42:18.850178Z",
     "shell.execute_reply": "2024-02-02T15:42:18.849863Z"
    }
   },
   "outputs": [
    {
     "name": "stdout",
     "output_type": "stream",
     "text": [
      "{}\n"
     ]
    }
   ],
   "source": [
    "ingredients_df['name.name.mapped'], similarity_map = map_similar_values(create_fuzzy_similarity_matrix, 90, ingredients_df['name.name'])\n",
    "while similarity_map:\n",
    "    ingredients_df['name.name.mapped'], similarity_map = map_similar_values(create_fuzzy_similarity_matrix, 90, ingredients_df['name.name.mapped'])\n",
    "    print(similarity_map)"
   ]
  },
  {
   "cell_type": "code",
   "execution_count": 15,
   "metadata": {
    "execution": {
     "iopub.execute_input": "2024-02-02T15:42:18.851482Z",
     "iopub.status.busy": "2024-02-02T15:42:18.851393Z",
     "iopub.status.idle": "2024-02-02T15:42:18.853693Z",
     "shell.execute_reply": "2024-02-02T15:42:18.853505Z"
    }
   },
   "outputs": [
    {
     "data": {
      "text/plain": [
       "732"
      ]
     },
     "execution_count": 15,
     "metadata": {},
     "output_type": "execute_result"
    }
   ],
   "source": [
    "ingredients_df['name.name.mapped'].nunique()"
   ]
  },
  {
   "cell_type": "markdown",
   "metadata": {},
   "source": [
    "### Embedding Distance"
   ]
  },
  {
   "cell_type": "code",
   "execution_count": 16,
   "metadata": {
    "execution": {
     "iopub.execute_input": "2024-02-02T15:42:18.854916Z",
     "iopub.status.busy": "2024-02-02T15:42:18.854761Z",
     "iopub.status.idle": "2024-02-02T15:42:20.687609Z",
     "shell.execute_reply": "2024-02-02T15:42:20.686863Z"
    }
   },
   "outputs": [],
   "source": [
    "if torch.cuda.is_available: torch_device = 'cuda'\n",
    "elif torch.backends.mps.is_available(): torch_device = 'mps'\n",
    "else: torch_device='cpu'\n",
    "\n",
    "embedding_model = SentenceTransformer('sentence-transformers/all-mpnet-base-v2', device=torch_device)\n",
    "\n",
    "embeddings = embedding_model.encode(ingredients_df['name.name.mapped'].unique())"
   ]
  },
  {
   "cell_type": "code",
   "execution_count": 17,
   "metadata": {
    "execution": {
     "iopub.execute_input": "2024-02-02T15:42:20.692172Z",
     "iopub.status.busy": "2024-02-02T15:42:20.691352Z",
     "iopub.status.idle": "2024-02-02T15:42:20.848081Z",
     "shell.execute_reply": "2024-02-02T15:42:20.847795Z"
    }
   },
   "outputs": [
    {
     "data": {
      "text/plain": [
       "<Axes: >"
      ]
     },
     "execution_count": 17,
     "metadata": {},
     "output_type": "execute_result"
    },
    {
     "data": {
      "image/png": "[encoded data removed]",
      "text/plain": [
       "<Figure size 640x480 with 2 Axes>"
      ]
     },
     "metadata": {},
     "output_type": "display_data"
    }
   ],
   "source": [
    "\n",
    "\n",
    "similarity_matrix = cosine_similarity(embeddings)\n",
    "sns.heatmap(similarity_matrix[:50,:50])"
   ]
  },
  {
   "cell_type": "code",
   "execution_count": 18,
   "metadata": {
    "execution": {
     "iopub.execute_input": "2024-02-02T15:42:20.849349Z",
     "iopub.status.busy": "2024-02-02T15:42:20.849239Z",
     "iopub.status.idle": "2024-02-02T15:42:20.856804Z",
     "shell.execute_reply": "2024-02-02T15:42:20.856592Z"
    }
   },
   "outputs": [
    {
     "data": {
      "text/html": [
       "<div>\n",
       "<style scoped>\n",
       "    .dataframe tbody tr th:only-of-type {\n",
       "        vertical-align: middle;\n",
       "    }\n",
       "\n",
       "    .dataframe tbody tr th {\n",
       "        vertical-align: top;\n",
       "    }\n",
       "\n",
       "    .dataframe thead th {\n",
       "        text-align: right;\n",
       "    }\n",
       "</style>\n",
       "<table border=\"1\" class=\"dataframe\">\n",
       "  <thead>\n",
       "    <tr style=\"text-align: right;\">\n",
       "      <th></th>\n",
       "      <th>butter</th>\n",
       "      <th>sugar</th>\n",
       "      <th>egg</th>\n",
       "      <th>vanilla</th>\n",
       "      <th>flour</th>\n",
       "      <th>caramel</th>\n",
       "      <th>cream</th>\n",
       "      <th>pecan</th>\n",
       "      <th>semi-sweet chocolate chip</th>\n",
       "      <th>shortening</th>\n",
       "      <th>...</th>\n",
       "      <th>bean sprout</th>\n",
       "      <th>green cabbage</th>\n",
       "      <th>lemon basil</th>\n",
       "      <th>cauliflower</th>\n",
       "      <th>ra el hanout</th>\n",
       "      <th>cinnamin</th>\n",
       "      <th>raspberry</th>\n",
       "      <th>blackberry</th>\n",
       "      <th>ground thyme</th>\n",
       "      <th>jasmine rice</th>\n",
       "    </tr>\n",
       "  </thead>\n",
       "  <tbody>\n",
       "    <tr>\n",
       "      <th>butter</th>\n",
       "      <td>1.000000</td>\n",
       "      <td>0.484835</td>\n",
       "      <td>0.358822</td>\n",
       "      <td>0.471172</td>\n",
       "      <td>0.582296</td>\n",
       "      <td>0.510937</td>\n",
       "      <td>0.522686</td>\n",
       "      <td>0.433225</td>\n",
       "      <td>0.281743</td>\n",
       "      <td>0.303705</td>\n",
       "      <td>...</td>\n",
       "      <td>0.233154</td>\n",
       "      <td>0.364364</td>\n",
       "      <td>0.354585</td>\n",
       "      <td>0.419292</td>\n",
       "      <td>0.107999</td>\n",
       "      <td>0.333893</td>\n",
       "      <td>0.205584</td>\n",
       "      <td>0.250776</td>\n",
       "      <td>0.190140</td>\n",
       "      <td>0.406707</td>\n",
       "    </tr>\n",
       "    <tr>\n",
       "      <th>sugar</th>\n",
       "      <td>0.484835</td>\n",
       "      <td>1.000000</td>\n",
       "      <td>0.344645</td>\n",
       "      <td>0.389489</td>\n",
       "      <td>0.554353</td>\n",
       "      <td>0.584906</td>\n",
       "      <td>0.326516</td>\n",
       "      <td>0.383169</td>\n",
       "      <td>0.484539</td>\n",
       "      <td>0.299603</td>\n",
       "      <td>...</td>\n",
       "      <td>0.271173</td>\n",
       "      <td>0.366384</td>\n",
       "      <td>0.251253</td>\n",
       "      <td>0.347484</td>\n",
       "      <td>0.091582</td>\n",
       "      <td>0.332875</td>\n",
       "      <td>0.327605</td>\n",
       "      <td>0.353409</td>\n",
       "      <td>0.177884</td>\n",
       "      <td>0.354725</td>\n",
       "    </tr>\n",
       "    <tr>\n",
       "      <th>egg</th>\n",
       "      <td>0.358822</td>\n",
       "      <td>0.344645</td>\n",
       "      <td>1.000000</td>\n",
       "      <td>0.336901</td>\n",
       "      <td>0.419621</td>\n",
       "      <td>0.306119</td>\n",
       "      <td>0.295463</td>\n",
       "      <td>0.369888</td>\n",
       "      <td>0.184887</td>\n",
       "      <td>0.239174</td>\n",
       "      <td>...</td>\n",
       "      <td>0.372799</td>\n",
       "      <td>0.388440</td>\n",
       "      <td>0.285718</td>\n",
       "      <td>0.325525</td>\n",
       "      <td>0.166071</td>\n",
       "      <td>0.269773</td>\n",
       "      <td>0.280815</td>\n",
       "      <td>0.276383</td>\n",
       "      <td>0.188414</td>\n",
       "      <td>0.237777</td>\n",
       "    </tr>\n",
       "    <tr>\n",
       "      <th>vanilla</th>\n",
       "      <td>0.471172</td>\n",
       "      <td>0.389489</td>\n",
       "      <td>0.336901</td>\n",
       "      <td>1.000000</td>\n",
       "      <td>0.472170</td>\n",
       "      <td>0.518156</td>\n",
       "      <td>0.475751</td>\n",
       "      <td>0.382221</td>\n",
       "      <td>0.316570</td>\n",
       "      <td>0.226089</td>\n",
       "      <td>...</td>\n",
       "      <td>0.277833</td>\n",
       "      <td>0.326218</td>\n",
       "      <td>0.425584</td>\n",
       "      <td>0.312265</td>\n",
       "      <td>0.147213</td>\n",
       "      <td>0.288658</td>\n",
       "      <td>0.398205</td>\n",
       "      <td>0.391526</td>\n",
       "      <td>0.276084</td>\n",
       "      <td>0.301913</td>\n",
       "    </tr>\n",
       "    <tr>\n",
       "      <th>flour</th>\n",
       "      <td>0.582296</td>\n",
       "      <td>0.554353</td>\n",
       "      <td>0.419621</td>\n",
       "      <td>0.472170</td>\n",
       "      <td>1.000000</td>\n",
       "      <td>0.431968</td>\n",
       "      <td>0.368110</td>\n",
       "      <td>0.405737</td>\n",
       "      <td>0.324982</td>\n",
       "      <td>0.315881</td>\n",
       "      <td>...</td>\n",
       "      <td>0.379072</td>\n",
       "      <td>0.425965</td>\n",
       "      <td>0.321945</td>\n",
       "      <td>0.386888</td>\n",
       "      <td>0.168914</td>\n",
       "      <td>0.328191</td>\n",
       "      <td>0.232829</td>\n",
       "      <td>0.194977</td>\n",
       "      <td>0.290617</td>\n",
       "      <td>0.418467</td>\n",
       "    </tr>\n",
       "  </tbody>\n",
       "</table>\n",
       "<p>5 rows × 732 columns</p>\n",
       "</div>"
      ],
      "text/plain": [
       "           butter     sugar       egg   vanilla     flour   caramel     cream  \\\n",
       "butter   1.000000  0.484835  0.358822  0.471172  0.582296  0.510937  0.522686   \n",
       "sugar    0.484835  1.000000  0.344645  0.389489  0.554353  0.584906  0.326516   \n",
       "egg      0.358822  0.344645  1.000000  0.336901  0.419621  0.306119  0.295463   \n",
       "vanilla  0.471172  0.389489  0.336901  1.000000  0.472170  0.518156  0.475751   \n",
       "flour    0.582296  0.554353  0.419621  0.472170  1.000000  0.431968  0.368110   \n",
       "\n",
       "            pecan  semi-sweet chocolate chip  shortening  ...  bean sprout  \\\n",
       "butter   0.433225                   0.281743    0.303705  ...     0.233154   \n",
       "sugar    0.383169                   0.484539    0.299603  ...     0.271173   \n",
       "egg      0.369888                   0.184887    0.239174  ...     0.372799   \n",
       "vanilla  0.382221                   0.316570    0.226089  ...     0.277833   \n",
       "flour    0.405737                   0.324982    0.315881  ...     0.379072   \n",
       "\n",
       "         green cabbage  lemon basil  cauliflower  ra el hanout  cinnamin  \\\n",
       "butter        0.364364     0.354585     0.419292      0.107999  0.333893   \n",
       "sugar         0.366384     0.251253     0.347484      0.091582  0.332875   \n",
       "egg           0.388440     0.285718     0.325525      0.166071  0.269773   \n",
       "vanilla       0.326218     0.425584     0.312265      0.147213  0.288658   \n",
       "flour         0.425965     0.321945     0.386888      0.168914  0.328191   \n",
       "\n",
       "         raspberry  blackberry  ground thyme  jasmine rice  \n",
       "butter    0.205584    0.250776      0.190140      0.406707  \n",
       "sugar     0.327605    0.353409      0.177884      0.354725  \n",
       "egg       0.280815    0.276383      0.188414      0.237777  \n",
       "vanilla   0.398205    0.391526      0.276084      0.301913  \n",
       "flour     0.232829    0.194977      0.290617      0.418467  \n",
       "\n",
       "[5 rows x 732 columns]"
      ]
     },
     "execution_count": 18,
     "metadata": {},
     "output_type": "execute_result"
    }
   ],
   "source": [
    "similarity_matrix = pd.DataFrame(similarity_matrix)\n",
    "similarity_matrix.columns = ingredients_df['name.name.mapped'].unique()\n",
    "similarity_matrix.index = ingredients_df['name.name.mapped'].unique()\n",
    "\n",
    "similarity_matrix.head()"
   ]
  },
  {
   "cell_type": "markdown",
   "metadata": {},
   "source": [
    "##### Threshold"
   ]
  },
  {
   "cell_type": "markdown",
   "metadata": {},
   "source": [
    "It doesn't deal with spelling differences/mistakes, which is fine because that's what fuzzy searching is for."
   ]
  },
  {
   "cell_type": "code",
   "execution_count": 19,
   "metadata": {
    "execution": {
     "iopub.execute_input": "2024-02-02T15:42:20.858109Z",
     "iopub.status.busy": "2024-02-02T15:42:20.857924Z",
     "iopub.status.idle": "2024-02-02T15:42:20.875598Z",
     "shell.execute_reply": "2024-02-02T15:42:20.875390Z"
    }
   },
   "outputs": [
    {
     "data": {
      "text/plain": [
       "tensor([[0.6515]])"
      ]
     },
     "execution_count": 19,
     "metadata": {},
     "output_type": "execute_result"
    }
   ],
   "source": [
    "cos_sim(*embedding_model.encode(['chilli powder', 'chilli pwdr']))"
   ]
  },
  {
   "cell_type": "markdown",
   "metadata": {},
   "source": [
    "What we mainly want here is to be able to distinguish between synonyms."
   ]
  },
  {
   "cell_type": "code",
   "execution_count": 20,
   "metadata": {
    "execution": {
     "iopub.execute_input": "2024-02-02T15:42:20.876734Z",
     "iopub.status.busy": "2024-02-02T15:42:20.876612Z",
     "iopub.status.idle": "2024-02-02T15:42:20.884240Z",
     "shell.execute_reply": "2024-02-02T15:42:20.883876Z"
    }
   },
   "outputs": [
    {
     "data": {
      "text/plain": [
       "tensor([[0.6377]])"
      ]
     },
     "execution_count": 20,
     "metadata": {},
     "output_type": "execute_result"
    }
   ],
   "source": [
    "cos_sim(*embedding_model.encode(['zucchini', 'courgette']))"
   ]
  },
  {
   "cell_type": "code",
   "execution_count": 21,
   "metadata": {
    "execution": {
     "iopub.execute_input": "2024-02-02T15:42:20.886095Z",
     "iopub.status.busy": "2024-02-02T15:42:20.885906Z",
     "iopub.status.idle": "2024-02-02T15:42:20.895365Z",
     "shell.execute_reply": "2024-02-02T15:42:20.895058Z"
    }
   },
   "outputs": [
    {
     "data": {
      "text/plain": [
       "tensor([[0.6450]])"
      ]
     },
     "execution_count": 21,
     "metadata": {},
     "output_type": "execute_result"
    }
   ],
   "source": [
    "cos_sim(*embedding_model.encode(['cornflour', 'cornstarch']))"
   ]
  },
  {
   "cell_type": "markdown",
   "metadata": {},
   "source": [
    "-> This is a problem. It doesn't deal with common synonyms which is what we really need it to be doing."
   ]
  },
  {
   "cell_type": "code",
   "execution_count": 22,
   "metadata": {
    "execution": {
     "iopub.execute_input": "2024-02-02T15:42:20.897110Z",
     "iopub.status.busy": "2024-02-02T15:42:20.896929Z",
     "iopub.status.idle": "2024-02-02T15:42:20.904108Z",
     "shell.execute_reply": "2024-02-02T15:42:20.903914Z"
    }
   },
   "outputs": [
    {
     "data": {
      "text/plain": [
       "tensor([[0.7471]])"
      ]
     },
     "execution_count": 22,
     "metadata": {},
     "output_type": "execute_result"
    }
   ],
   "source": [
    "cos_sim(*embedding_model.encode(['pork tenderloin', 'pork steak fillet']))"
   ]
  },
  {
   "cell_type": "code",
   "execution_count": 23,
   "metadata": {
    "execution": {
     "iopub.execute_input": "2024-02-02T15:42:20.905217Z",
     "iopub.status.busy": "2024-02-02T15:42:20.905132Z",
     "iopub.status.idle": "2024-02-02T15:42:20.910585Z",
     "shell.execute_reply": "2024-02-02T15:42:20.910393Z"
    }
   },
   "outputs": [
    {
     "data": {
      "text/plain": [
       "tensor([[0.5140]])"
      ]
     },
     "execution_count": 23,
     "metadata": {},
     "output_type": "execute_result"
    }
   ],
   "source": [
    "cos_sim(*embedding_model.encode(['salad', 'greens']))"
   ]
  },
  {
   "cell_type": "markdown",
   "metadata": {},
   "source": [
    "We also don't want it reducing ingredients when specificity is required."
   ]
  },
  {
   "cell_type": "code",
   "execution_count": 24,
   "metadata": {
    "execution": {
     "iopub.execute_input": "2024-02-02T15:42:20.911705Z",
     "iopub.status.busy": "2024-02-02T15:42:20.911621Z",
     "iopub.status.idle": "2024-02-02T15:42:20.922834Z",
     "shell.execute_reply": "2024-02-02T15:42:20.922516Z"
    }
   },
   "outputs": [
    {
     "data": {
      "text/plain": [
       "tensor([[0.8576]])"
      ]
     },
     "execution_count": 24,
     "metadata": {},
     "output_type": "execute_result"
    }
   ],
   "source": [
    "cos_sim(*embedding_model.encode(['white wine vinegar', 'balsamic vinegar']))"
   ]
  },
  {
   "cell_type": "code",
   "execution_count": 25,
   "metadata": {
    "execution": {
     "iopub.execute_input": "2024-02-02T15:42:20.924136Z",
     "iopub.status.busy": "2024-02-02T15:42:20.923887Z",
     "iopub.status.idle": "2024-02-02T15:42:20.930840Z",
     "shell.execute_reply": "2024-02-02T15:42:20.930633Z"
    }
   },
   "outputs": [
    {
     "data": {
      "text/plain": [
       "tensor([[0.6450]])"
      ]
     },
     "execution_count": 25,
     "metadata": {},
     "output_type": "execute_result"
    }
   ],
   "source": [
    "cos_sim(*embedding_model.encode(['cornstarch', 'cornflour']))"
   ]
  },
  {
   "cell_type": "markdown",
   "metadata": {},
   "source": [
    "The issue with embeddings is that they are nto trained to be specific to ingredients, or even nouns in general. It might be a better idea to simply use a thesaurus for the words."
   ]
  },
  {
   "cell_type": "code",
   "execution_count": 26,
   "metadata": {
    "execution": {
     "iopub.execute_input": "2024-02-02T15:42:20.931715Z",
     "iopub.status.busy": "2024-02-02T15:42:20.931636Z",
     "iopub.status.idle": "2024-02-02T15:42:20.970210Z",
     "shell.execute_reply": "2024-02-02T15:42:20.970016Z"
    }
   },
   "outputs": [
    {
     "data": {
      "text/html": [
       "<div>\n",
       "<style scoped>\n",
       "    .dataframe tbody tr th:only-of-type {\n",
       "        vertical-align: middle;\n",
       "    }\n",
       "\n",
       "    .dataframe tbody tr th {\n",
       "        vertical-align: top;\n",
       "    }\n",
       "\n",
       "    .dataframe thead th {\n",
       "        text-align: right;\n",
       "    }\n",
       "</style>\n",
       "<table border=\"1\" class=\"dataframe\">\n",
       "  <thead>\n",
       "    <tr style=\"text-align: right;\">\n",
       "      <th></th>\n",
       "      <th>similar_values</th>\n",
       "      <th>size</th>\n",
       "    </tr>\n",
       "  </thead>\n",
       "  <tbody>\n",
       "    <tr>\n",
       "      <th>long grain rice</th>\n",
       "      <td>[long grain brown rice, long grain white rice,...</td>\n",
       "      <td>3</td>\n",
       "    </tr>\n",
       "    <tr>\n",
       "      <th>long grain white rice</th>\n",
       "      <td>[long grain brown rice, long grain white rice,...</td>\n",
       "      <td>3</td>\n",
       "    </tr>\n",
       "    <tr>\n",
       "      <th>instant chocolate pudding</th>\n",
       "      <td>[instant chocolate pudding, instant vanilla pu...</td>\n",
       "      <td>3</td>\n",
       "    </tr>\n",
       "    <tr>\n",
       "      <th>red bell pepper</th>\n",
       "      <td>[red pepper, bell pepper, red bell pepper]</td>\n",
       "      <td>3</td>\n",
       "    </tr>\n",
       "    <tr>\n",
       "      <th>long grain brown rice</th>\n",
       "      <td>[long grain brown rice, long grain white rice,...</td>\n",
       "      <td>3</td>\n",
       "    </tr>\n",
       "    <tr>\n",
       "      <th>red wine vinegar</th>\n",
       "      <td>[white wine vinegar, red wine vinegar]</td>\n",
       "      <td>2</td>\n",
       "    </tr>\n",
       "    <tr>\n",
       "      <th>dry mustard</th>\n",
       "      <td>[dry mustard, dried mustard]</td>\n",
       "      <td>2</td>\n",
       "    </tr>\n",
       "    <tr>\n",
       "      <th>cake mix</th>\n",
       "      <td>[cake mix, chocolate cake mix]</td>\n",
       "      <td>2</td>\n",
       "    </tr>\n",
       "    <tr>\n",
       "      <th>cranberry cocktail</th>\n",
       "      <td>[cranberry cocktail, cranberry juice cocktail]</td>\n",
       "      <td>2</td>\n",
       "    </tr>\n",
       "    <tr>\n",
       "      <th>pasta sauce</th>\n",
       "      <td>[spaghetti sauce, pasta sauce]</td>\n",
       "      <td>2</td>\n",
       "    </tr>\n",
       "    <tr>\n",
       "      <th>green pepper</th>\n",
       "      <td>[green pepper, green chili pepper]</td>\n",
       "      <td>2</td>\n",
       "    </tr>\n",
       "    <tr>\n",
       "      <th>cream celery soup</th>\n",
       "      <td>[cream celery soup, celery soup]</td>\n",
       "      <td>2</td>\n",
       "    </tr>\n",
       "    <tr>\n",
       "      <th>fresh oregano</th>\n",
       "      <td>[oregano, fresh oregano]</td>\n",
       "      <td>2</td>\n",
       "    </tr>\n",
       "    <tr>\n",
       "      <th>sweet smoked paprika</th>\n",
       "      <td>[sweet paprika, sweet smoked paprika]</td>\n",
       "      <td>2</td>\n",
       "    </tr>\n",
       "    <tr>\n",
       "      <th>fresh ginger</th>\n",
       "      <td>[fresh ginger, fresh ginger root]</td>\n",
       "      <td>2</td>\n",
       "    </tr>\n",
       "    <tr>\n",
       "      <th>corn fresh</th>\n",
       "      <td>[fresh corn, corn fresh]</td>\n",
       "      <td>2</td>\n",
       "    </tr>\n",
       "    <tr>\n",
       "      <th>chocolate instant pudding</th>\n",
       "      <td>[instant chocolate pudding, chocolate instant ...</td>\n",
       "      <td>2</td>\n",
       "    </tr>\n",
       "    <tr>\n",
       "      <th>asparagus spear</th>\n",
       "      <td>[spear asparagus, asparagus spear]</td>\n",
       "      <td>2</td>\n",
       "    </tr>\n",
       "    <tr>\n",
       "      <th>black olive</th>\n",
       "      <td>[green olive, black olive]</td>\n",
       "      <td>2</td>\n",
       "    </tr>\n",
       "    <tr>\n",
       "      <th>brown sugar</th>\n",
       "      <td>[brown sugar, golden brown sugar]</td>\n",
       "      <td>2</td>\n",
       "    </tr>\n",
       "  </tbody>\n",
       "</table>\n",
       "</div>"
      ],
      "text/plain": [
       "                                                              similar_values  \\\n",
       "long grain rice            [long grain brown rice, long grain white rice,...   \n",
       "long grain white rice      [long grain brown rice, long grain white rice,...   \n",
       "instant chocolate pudding  [instant chocolate pudding, instant vanilla pu...   \n",
       "red bell pepper                   [red pepper, bell pepper, red bell pepper]   \n",
       "long grain brown rice      [long grain brown rice, long grain white rice,...   \n",
       "red wine vinegar                      [white wine vinegar, red wine vinegar]   \n",
       "dry mustard                                     [dry mustard, dried mustard]   \n",
       "cake mix                                      [cake mix, chocolate cake mix]   \n",
       "cranberry cocktail            [cranberry cocktail, cranberry juice cocktail]   \n",
       "pasta sauce                                   [spaghetti sauce, pasta sauce]   \n",
       "green pepper                              [green pepper, green chili pepper]   \n",
       "cream celery soup                           [cream celery soup, celery soup]   \n",
       "fresh oregano                                       [oregano, fresh oregano]   \n",
       "sweet smoked paprika                   [sweet paprika, sweet smoked paprika]   \n",
       "fresh ginger                               [fresh ginger, fresh ginger root]   \n",
       "corn fresh                                          [fresh corn, corn fresh]   \n",
       "chocolate instant pudding  [instant chocolate pudding, chocolate instant ...   \n",
       "asparagus spear                           [spear asparagus, asparagus spear]   \n",
       "black olive                                       [green olive, black olive]   \n",
       "brown sugar                                [brown sugar, golden brown sugar]   \n",
       "\n",
       "                           size  \n",
       "long grain rice               3  \n",
       "long grain white rice         3  \n",
       "instant chocolate pudding     3  \n",
       "red bell pepper               3  \n",
       "long grain brown rice         3  \n",
       "red wine vinegar              2  \n",
       "dry mustard                   2  \n",
       "cake mix                      2  \n",
       "cranberry cocktail            2  \n",
       "pasta sauce                   2  \n",
       "green pepper                  2  \n",
       "cream celery soup             2  \n",
       "fresh oregano                 2  \n",
       "sweet smoked paprika          2  \n",
       "fresh ginger                  2  \n",
       "corn fresh                    2  \n",
       "chocolate instant pudding     2  \n",
       "asparagus spear               2  \n",
       "black olive                   2  \n",
       "brown sugar                   2  "
      ]
     },
     "execution_count": 26,
     "metadata": {},
     "output_type": "execute_result"
    }
   ],
   "source": [
    "similar_values = similarity_matrix.apply(lambda x: list(x[x>0.9].index), axis=1).to_frame('similar_values')\n",
    "similar_values['size'] = similar_values['similar_values'].apply(len).sort_values(ascending=False)\n",
    "similar_values.sort_values('size', ascending=False).iloc[:20]"
   ]
  },
  {
   "cell_type": "code",
   "execution_count": 27,
   "metadata": {
    "execution": {
     "iopub.execute_input": "2024-02-02T15:42:20.971164Z",
     "iopub.status.busy": "2024-02-02T15:42:20.971082Z",
     "iopub.status.idle": "2024-02-02T15:42:21.410444Z",
     "shell.execute_reply": "2024-02-02T15:42:21.410152Z"
    }
   },
   "outputs": [],
   "source": [
    "embedding_model = SentenceTransformer('sentence-transformers/all-mpnet-base-v2', device=torch_device)\n",
    "\n",
    "def create_embedding_similarity_matrix(values):\n",
    "    embeddings = embedding_model.encode(values)\n",
    "    similarity_matrix = cosine_similarity(embeddings)\n",
    "    similarity_matrix = pd.DataFrame(similarity_matrix)\n",
    "    similarity_matrix.columns = ingredients_df['name.name.mapped'].unique()\n",
    "    similarity_matrix.index = ingredients_df['name.name.mapped'].unique()\n",
    "    return similarity_matrix"
   ]
  },
  {
   "cell_type": "code",
   "execution_count": 28,
   "metadata": {
    "execution": {
     "iopub.execute_input": "2024-02-02T15:42:21.412414Z",
     "iopub.status.busy": "2024-02-02T15:42:21.412280Z",
     "iopub.status.idle": "2024-02-02T15:42:22.033583Z",
     "shell.execute_reply": "2024-02-02T15:42:22.033262Z"
    }
   },
   "outputs": [
    {
     "name": "stdout",
     "output_type": "stream",
     "text": [
      "{'long grain brown rice': 'long grain rice', 'oregano': 'oregano', 'cheddar cheese': 'cheddar', 'cream celery soup': 'celery soup', 'instant chocolate pudding': 'instant vanilla pudding', 'spaghetti sauce': 'pasta sauce', 'mozzarella': 'mozzarella', 'red pepper': 'red pepper', 'ground black pepper': 'ground black pepper', 'mozzarella cheese': 'mozzarella', 'green olive': 'green olive', 'fresh corn': 'fresh corn', 'white wine vinegar': 'red wine vinegar', 'brown sugar': 'brown sugar', 'black olive': 'green olive', 'cider vinegar': 'cider vinegar', 'bell pepper': 'bell pepper', 'dry mustard': 'dry mustard', 'fresh ground black pepper': 'ground black pepper', 'cranberry cocktail': 'cranberry cocktail', 'instant vanilla pudding': 'instant vanilla pudding', 'mustard seed': 'mustard seed', 'dried mustard': 'dry mustard', 'sweet paprika': 'sweet paprika', 'green pepper': 'green pepper', 'celery soup': 'celery soup', 'corn fresh': 'fresh corn', 'sweet smoked paprika': 'sweet paprika', 'fresh oregano': 'oregano', 'cake mix': 'cake mix', 'corn chip': 'corn chip', 'golden brown sugar': 'brown sugar', 'chocolate cake mix': 'cake mix', 'milk chocolate': 'milk chocolate', 'pasta sauce': 'pasta sauce', 'red wine vinegar': 'red wine vinegar', 'red bell pepper': 'red pepper', 'cheddar': 'cheddar', 'yellow bell pepper': 'yellow pepper', 'chocolate instant pudding': 'instant chocolate pudding', 'spear asparagus': 'spear asparagus', 'asparagus spear': 'spear asparagus', 'long grain white rice': 'long grain rice', 'black mustard seed': 'mustard seed', 'green chili pepper': 'green pepper', 'apple cider vinegar': 'cider vinegar', 'cranberry juice cocktail': 'cranberry cocktail', 'fresh ginger': 'fresh ginger', 'yellow pepper': 'yellow pepper', 'regular corn chip': 'corn chip', 'long grain rice': 'long grain rice', 'fresh ginger root': 'fresh ginger', 'chocolate milk': 'milk chocolate'}\n"
     ]
    },
    {
     "name": "stdout",
     "output_type": "stream",
     "text": [
      "{'instant vanilla pudding': 'instant vanilla pudding', 'instant chocolate pudding': 'instant vanilla pudding'}\n",
      "{}\n"
     ]
    }
   ],
   "source": [
    "similarity_map = {'exists': True}\n",
    "while similarity_map:\n",
    "    ingredients_df['name.name.mapped'], similarity_map = map_similar_values(create_embedding_similarity_matrix, 0.9, ingredients_df['name.name.mapped'])\n",
    "    print(similarity_map)"
   ]
  },
  {
   "cell_type": "code",
   "execution_count": 29,
   "metadata": {
    "execution": {
     "iopub.execute_input": "2024-02-02T15:42:22.034996Z",
     "iopub.status.busy": "2024-02-02T15:42:22.034843Z",
     "iopub.status.idle": "2024-02-02T15:42:22.037524Z",
     "shell.execute_reply": "2024-02-02T15:42:22.037273Z"
    }
   },
   "outputs": [
    {
     "data": {
      "text/plain": [
       "705"
      ]
     },
     "execution_count": 29,
     "metadata": {},
     "output_type": "execute_result"
    }
   ],
   "source": [
    "ingredients_df['name.name.mapped'].nunique()"
   ]
  },
  {
   "cell_type": "markdown",
   "metadata": {},
   "source": [
    "## Topic Conclusions"
   ]
  },
  {
   "cell_type": "markdown",
   "metadata": {},
   "source": [
    "We've opted not to use this just now. The main use of this would be to ease manual changes - as reducing the number of unique ingredients would reduce the number of changes that would need to be made."
   ]
  }
 ],
 "metadata": {
  "kernelspec": {
   "display_name": "main",
   "language": "python",
   "name": "python3"
  },
  "language_info": {
   "codemirror_mode": {
    "name": "ipython",
    "version": 3
   },
   "file_extension": ".py",
   "mimetype": "text/x-python",
   "name": "python",
   "nbconvert_exporter": "python",
   "pygments_lexer": "ipython3",
   "version": "3.10.13"
  }
 },
 "nbformat": 4,
 "nbformat_minor": 2
}
