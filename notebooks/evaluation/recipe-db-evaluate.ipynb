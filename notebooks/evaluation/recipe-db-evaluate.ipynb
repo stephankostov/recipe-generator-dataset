{
 "cells": [
  {
   "cell_type": "code",
   "execution_count": 19,
   "metadata": {},
   "outputs": [],
   "source": [
    "from pyprojroot import here\n",
    "root = here()\n",
    "import sys\n",
    "sys.path.append(str(root))"
   ]
  },
  {
   "cell_type": "code",
   "execution_count": 34,
   "metadata": {},
   "outputs": [],
   "source": [
    "import pandas as pd\n",
    "import numpy as np"
   ]
  },
  {
   "cell_type": "code",
   "execution_count": 10,
   "metadata": {},
   "outputs": [],
   "source": [
    "expanded_ingredients_df = pd.read_feather('../../../data/local/recipe/full/expanded_ingredients/7_filtered.feather')\n",
    "food_df = pd.read_feather('../../../data/local/molecule/full/food/1_processed.feather')"
   ]
  },
  {
   "cell_type": "code",
   "execution_count": 11,
   "metadata": {},
   "outputs": [
    {
     "data": {
      "text/plain": [
       "((18881539, 24), (1161, 10))"
      ]
     },
     "execution_count": 11,
     "metadata": {},
     "output_type": "execute_result"
    }
   ],
   "source": [
    "expanded_ingredients_df.shape, food_df.shape"
   ]
  },
  {
   "cell_type": "code",
   "execution_count": 17,
   "metadata": {},
   "outputs": [
    {
     "data": {
      "text/plain": [
       "237"
      ]
     },
     "execution_count": 17,
     "metadata": {},
     "output_type": "execute_result"
    }
   ],
   "source": [
    "food_df['name'].str.contains('cook').sum()"
   ]
  },
  {
   "cell_type": "code",
   "execution_count": 3,
   "metadata": {},
   "outputs": [],
   "source": [
    "df = pd.read_feather(f'../../../data/local/molecule/full/food_ids/0_primary_join_chunks/1.feather')"
   ]
  },
  {
   "cell_type": "code",
   "execution_count": 41,
   "metadata": {},
   "outputs": [
    {
     "name": "stderr",
     "output_type": "stream",
     "text": [
      "[22/03/2024 13:02:36] [INFO] [recipe_dataset.utils.parallel] [compile_chunks():100] [PID:18495 TID:140250994230080] Compiling chunks\n"
     ]
    },
    {
     "data": {
      "text/plain": [
       "recipe  ingredient\n",
       "0       0              843.0\n",
       "        1             1008.0\n",
       "        2              278.0\n",
       "        3             1076.0\n",
       "        4              839.0\n",
       "                       ...  \n",
       "681852  0             1009.0\n",
       "        1              838.0\n",
       "        2             1160.0\n",
       "        3              807.0\n",
       "        4              806.0\n",
       "Name: 0, Length: 5000000, dtype: float64"
      ]
     },
     "execution_count": 41,
     "metadata": {},
     "output_type": "execute_result"
    }
   ],
   "source": [
    "from recipe_dataset.utils.parallel import compile_chunks\n",
    "\n",
    "compiled_df = compile_chunks('../../../data/local/molecule/full/food_ids/0_primary_join.feather')\n",
    "compiled_df"
   ]
  },
  {
   "cell_type": "code",
   "execution_count": 42,
   "metadata": {},
   "outputs": [],
   "source": [
    "compiled_df = pd.read_feather('../../../data/local/molecule/full/food_ids/0_primary_join.feather', dtype_backend='pyarrow').rename({'0':'food_id'})\n",
    "compiled_df.to_feather('../../../data/local/molecule/full/food_ids/0_primary_join.feather')"
   ]
  },
  {
   "cell_type": "code",
   "execution_count": 38,
   "metadata": {},
   "outputs": [],
   "source": [
    "np.save('../../../data/local/final/full/recipe_food_ids/0.npy', df.to_numpy())"
   ]
  },
  {
   "cell_type": "code",
   "execution_count": 32,
   "metadata": {},
   "outputs": [
    {
     "ename": "AttributeError",
     "evalue": "'numpy.ndarray' object has no attribute 'save'",
     "output_type": "error",
     "traceback": [
      "\u001b[0;31m---------------------------------------------------------------------------\u001b[0m",
      "\u001b[0;31mAttributeError\u001b[0m                            Traceback (most recent call last)",
      "Cell \u001b[0;32mIn[32], line 1\u001b[0m\n\u001b[0;32m----> 1\u001b[0m \u001b[43mdf\u001b[49m\u001b[38;5;241;43m.\u001b[39;49m\u001b[43mto_numpy\u001b[49m\u001b[43m(\u001b[49m\u001b[43m)\u001b[49m\u001b[38;5;241;43m.\u001b[39;49m\u001b[43msave\u001b[49m(\u001b[38;5;124m'\u001b[39m\u001b[38;5;124m../../data/local/final/full/recipe_food_ids/0.npy\u001b[39m\u001b[38;5;124m'\u001b[39m)\n",
      "\u001b[0;31mAttributeError\u001b[0m: 'numpy.ndarray' object has no attribute 'save'"
     ]
    }
   ],
   "source": [
    "df.to_numpy()"
   ]
  }
 ],
 "metadata": {
  "kernelspec": {
   "display_name": "recipes",
   "language": "python",
   "name": "python3"
  },
  "language_info": {
   "codemirror_mode": {
    "name": "ipython",
    "version": 3
   },
   "file_extension": ".py",
   "mimetype": "text/x-python",
   "name": "python",
   "nbconvert_exporter": "python",
   "pygments_lexer": "ipython3",
   "version": "3.10.13"
  }
 },
 "nbformat": 4,
 "nbformat_minor": 2
}
