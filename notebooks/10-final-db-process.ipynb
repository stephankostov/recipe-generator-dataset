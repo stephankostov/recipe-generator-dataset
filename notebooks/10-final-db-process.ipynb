{
 "cells": [
  {
   "cell_type": "markdown",
   "metadata": {},
   "source": [
    "Here we do the final processing required for the model inputs."
   ]
  },
  {
   "cell_type": "markdown",
   "metadata": {},
   "source": [
    "# Setup"
   ]
  },
  {
   "cell_type": "code",
   "execution_count": 26,
   "metadata": {},
   "outputs": [],
   "source": [
    "#| default_exp final.process"
   ]
  },
  {
   "cell_type": "code",
   "execution_count": 27,
   "metadata": {},
   "outputs": [],
   "source": [
    "#| export\n",
    "from pyprojroot import here\n",
    "root = here()\n",
    "import sys\n",
    "sys.path.append(str(root))"
   ]
  },
  {
   "cell_type": "code",
   "execution_count": 28,
   "metadata": {},
   "outputs": [],
   "source": [
    "#| export\n",
    "import pandas as pd\n",
    "import numpy as np\n",
    "\n",
    "from tqdm import tqdm\n",
    "tqdm.pandas()\n",
    "\n",
    "from recipe_dataset.utils.parallel import parallel_apply\n"
   ]
  },
  {
   "cell_type": "code",
   "execution_count": 29,
   "metadata": {},
   "outputs": [],
   "source": [
    "food_ids = pd.read_feather(f'{root}/../data/local/molecule/partial/food_ids/1_na_filled.feather')\n",
    "food_df = pd.read_feather(f'{root}/../data/local/molecule/full/food/2_feature_engineered.feather')\n",
    "food_embeddings = pd.read_feather(f'{root}/../data/local/molecule/full/food_compounds/0.feather')\n",
    "\n",
    "food_ids = food_ids.astype('Int64')\n",
    "food_embeddings = food_embeddings.astype('float')"
   ]
  },
  {
   "cell_type": "code",
   "execution_count": 30,
   "metadata": {},
   "outputs": [],
   "source": [
    "#| export\n",
    "special_tokens = ['pad', 'mask', 'unknown', 'end']"
   ]
  },
  {
   "cell_type": "markdown",
   "metadata": {},
   "source": [
    "# #TODO Only Zeros"
   ]
  },
  {
   "cell_type": "markdown",
   "metadata": {},
   "source": [
    "There's an issue here with our embeddings. There are a number of embeddings which contain only zeros."
   ]
  },
  {
   "cell_type": "code",
   "execution_count": 31,
   "metadata": {},
   "outputs": [
    {
     "data": {
      "text/plain": [
       "array([[ 143],\n",
       "       [ 150],\n",
       "       [ 262],\n",
       "       [ 287],\n",
       "       [1064]])"
      ]
     },
     "execution_count": 31,
     "metadata": {},
     "output_type": "execute_result"
    }
   ],
   "source": [
    "nonzeros = (food_embeddings > 0).sum(1)\n",
    "np.argwhere(nonzeros == 0)"
   ]
  },
  {
   "cell_type": "code",
   "execution_count": 32,
   "metadata": {},
   "outputs": [
    {
     "data": {
      "text/plain": [
       "id\n",
       "143            dried lemon balm\n",
       "150            dried peppermint\n",
       "262     dried lowbush blueberry\n",
       "287                dried ginger\n",
       "1064           dried blackberry\n",
       "Name: name, dtype: string"
      ]
     },
     "execution_count": 32,
     "metadata": {},
     "output_type": "execute_result"
    }
   ],
   "source": [
    "food_df['name'].iloc[np.where(nonzeros == 0)[0]]"
   ]
  },
  {
   "cell_type": "markdown",
   "metadata": {},
   "source": [
    "We can manually replace these "
   ]
  },
  {
   "cell_type": "code",
   "execution_count": 33,
   "metadata": {},
   "outputs": [
    {
     "data": {
      "text/plain": [
       "id\n",
       "1063          blackberry\n",
       "1064    dried blackberry\n",
       "Name: name, dtype: string"
      ]
     },
     "execution_count": 33,
     "metadata": {},
     "output_type": "execute_result"
    }
   ],
   "source": [
    "food_df['name'][food_df['name'].str.contains('blackberry')]"
   ]
  },
  {
   "cell_type": "code",
   "execution_count": 34,
   "metadata": {},
   "outputs": [],
   "source": [
    "#| export\n",
    "temp_remap = {\n",
    "    143: 142,\n",
    "    150: 149,\n",
    "    262: 261,\n",
    "    1064: 1063\n",
    "}"
   ]
  },
  {
   "cell_type": "markdown",
   "metadata": {},
   "source": [
    "Lets set these to the mean temporarily until we redo the model."
   ]
  },
  {
   "cell_type": "markdown",
   "metadata": {},
   "source": [
    "# Foods"
   ]
  },
  {
   "cell_type": "markdown",
   "metadata": {},
   "source": [
    "Here we already have our food compounds in a dataframe. All that is left to do is:\n",
    "\n",
    "- Converting to numpy (efficiency)\n",
    "- Adding special tokens for masked modelling\n",
    "\n",
    "We want to do this for two pieces of data - that containing the names of the foods, and also that containing the embedding vectors."
   ]
  },
  {
   "cell_type": "markdown",
   "metadata": {},
   "source": [
    "## Food Names"
   ]
  },
  {
   "cell_type": "markdown",
   "metadata": {},
   "source": [
    "Mapping food indexes to their names."
   ]
  },
  {
   "cell_type": "code",
   "execution_count": 35,
   "metadata": {},
   "outputs": [
    {
     "data": {
      "text/plain": [
       "array(['angelica', 'kiwi', 'allium', ..., 'fish oil', 'taco shell',\n",
       "       'tostada shell'], dtype='<U41')"
      ]
     },
     "execution_count": 35,
     "metadata": {},
     "output_type": "execute_result"
    }
   ],
   "source": [
    "food_names = food_df['name'].to_numpy().astype(str)\n",
    "food_names"
   ]
  },
  {
   "cell_type": "code",
   "execution_count": 36,
   "metadata": {},
   "outputs": [
    {
     "data": {
      "text/plain": [
       "(array(['<pad>', '<mask>', '<unknown>', '<end>'], dtype='<U9'), (4,))"
      ]
     },
     "execution_count": 36,
     "metadata": {},
     "output_type": "execute_result"
    }
   ],
   "source": [
    "special_token_names = np.array([f'<{t}>' for t in special_tokens])\n",
    "special_token_names, special_token_names.shape"
   ]
  },
  {
   "cell_type": "code",
   "execution_count": 37,
   "metadata": {},
   "outputs": [
    {
     "data": {
      "text/plain": [
       "(1110,)"
      ]
     },
     "execution_count": 37,
     "metadata": {},
     "output_type": "execute_result"
    }
   ],
   "source": [
    "food_names = np.append(special_token_names, food_names, axis=0)\n",
    "food_names.shape"
   ]
  },
  {
   "cell_type": "markdown",
   "metadata": {},
   "source": [
    "## Food Embeddings"
   ]
  },
  {
   "cell_type": "markdown",
   "metadata": {},
   "source": [
    "Mapping food indexes to their embedding vectors."
   ]
  },
  {
   "cell_type": "code",
   "execution_count": 38,
   "metadata": {},
   "outputs": [],
   "source": [
    "food_embeddings = food_embeddings.to_numpy()"
   ]
  },
  {
   "cell_type": "markdown",
   "metadata": {},
   "source": [
    "Since molecules have varying scales for their potency, and their concentration in ingredients, we need to scale this data.\n",
    "\n",
    "We don't want to change the distribution of the features, as this would change the values calculated by their concentration. All that needs to be done is scaled their values so the model doesn't bias towards molecules with naturally higher concentrations."
   ]
  },
  {
   "cell_type": "markdown",
   "metadata": {},
   "source": [
    "### Rescaling"
   ]
  },
  {
   "cell_type": "markdown",
   "metadata": {},
   "source": [
    "In order for our model to weigh the compound concentrations independently of their scale of them we want to rescale them equally ((-1,1) is standard for embeddings)."
   ]
  },
  {
   "cell_type": "code",
   "execution_count": 39,
   "metadata": {},
   "outputs": [
    {
     "name": "stdout",
     "output_type": "stream",
     "text": [
      "(array([ 27,  28,  30, 127, 149, 156, 201, 245]),)\n"
     ]
    }
   ],
   "source": [
    "max_values = food_embeddings.max(axis=0)\n",
    "min_values = food_embeddings.min(axis=0)\n",
    "\n",
    "print(np.where(max_values == min_values))"
   ]
  },
  {
   "cell_type": "code",
   "execution_count": 40,
   "metadata": {},
   "outputs": [
    {
     "data": {
      "text/plain": [
       "array([[0., 0., 0., ..., 0., 0., 0.],\n",
       "       [0., 0., 0., ..., 0., 0., 0.],\n",
       "       [0., 0., 0., ..., 0., 0., 0.],\n",
       "       ...,\n",
       "       [0., 0., 0., ..., 0., 0., 0.],\n",
       "       [0., 0., 0., ..., 0., 0., 0.],\n",
       "       [0., 0., 0., ..., 0., 0., 0.]])"
      ]
     },
     "execution_count": 40,
     "metadata": {},
     "output_type": "execute_result"
    }
   ],
   "source": [
    "food_embeddings[:,np.where(max_values == min_values)[0]]"
   ]
  },
  {
   "cell_type": "markdown",
   "metadata": {},
   "source": [
    "-> simply all zeros"
   ]
  },
  {
   "cell_type": "code",
   "execution_count": 41,
   "metadata": {},
   "outputs": [
    {
     "data": {
      "text/plain": [
       "(1106, 400)"
      ]
     },
     "execution_count": 41,
     "metadata": {},
     "output_type": "execute_result"
    }
   ],
   "source": [
    "food_embeddings = food_embeddings[:,np.where(max_values != min_values)[0]]\n",
    "food_embeddings.shape"
   ]
  },
  {
   "cell_type": "code",
   "execution_count": 42,
   "metadata": {},
   "outputs": [],
   "source": [
    "def rescale(array, min, max):\n",
    "    max_values = array.max(axis=0)\n",
    "    min_values = array.min(axis=0)\n",
    "    scaled = ((array - min_values) / (max_values - min_values)) * (max - min) + min\n",
    "    return scaled\n",
    "\n",
    "rescaled = rescale(food_embeddings, -1, 1)"
   ]
  },
  {
   "cell_type": "code",
   "execution_count": 43,
   "metadata": {},
   "outputs": [
    {
     "data": {
      "text/plain": [
       "0"
      ]
     },
     "execution_count": 43,
     "metadata": {},
     "output_type": "execute_result"
    }
   ],
   "source": [
    "np.isnan(rescaled).sum()"
   ]
  },
  {
   "cell_type": "code",
   "execution_count": 44,
   "metadata": {},
   "outputs": [
    {
     "data": {
      "image/png": "[encoded data removed]",
      "text/plain": [
       "<Figure size 1500x600 with 10 Axes>"
      ]
     },
     "metadata": {},
     "output_type": "display_data"
    }
   ],
   "source": [
    "import matplotlib.pyplot as plt\n",
    "\n",
    "\n",
    "embeddings = food_embeddings\n",
    "normalised_embeddings = rescale(food_embeddings, -1, 1)\n",
    "# Create Q-Q plots for each feature\n",
    "fig, axes = plt.subplots(nrows=2, ncols=5, figsize=(15, 6))\n",
    "for i in range(0,4):\n",
    "    axes[0,i].hist(embeddings[:,i])\n",
    "    axes[0,i].set_title(f\"Feature {i+1}\")\n",
    "    axes[1,i].hist(normalised_embeddings[:,i])\n",
    "    axes[1,i].set_title(f\"Normalised Feature {i+1}\")\n",
    "\n",
    "plt.tight_layout()\n",
    "plt.show()"
   ]
  },
  {
   "cell_type": "code",
   "execution_count": 45,
   "metadata": {},
   "outputs": [],
   "source": [
    "food_embeddings = rescale(food_embeddings, -1, 1)"
   ]
  },
  {
   "cell_type": "markdown",
   "metadata": {},
   "source": [
    "## Special Tokens"
   ]
  },
  {
   "cell_type": "markdown",
   "metadata": {},
   "source": [
    "Creating special token embeddings to be initialised."
   ]
  },
  {
   "cell_type": "code",
   "execution_count": 46,
   "metadata": {},
   "outputs": [
    {
     "data": {
      "text/plain": [
       "array([[ 0.        ,  0.        ,  0.        , ...,  0.        ,\n",
       "         0.        ,  0.        ],\n",
       "       [ 1.        ,  1.        ,  1.        , ...,  1.        ,\n",
       "         1.        ,  1.        ],\n",
       "       [-0.78055802, -0.31073877, -0.83967442, ..., -0.25475975,\n",
       "        -0.25475975, -0.25475975],\n",
       "       [ 1.79593059,  0.19217771,  1.08732752, ..., -1.5028833 ,\n",
       "        -0.39798162,  0.17064099]])"
      ]
     },
     "execution_count": 46,
     "metadata": {},
     "output_type": "execute_result"
    }
   ],
   "source": [
    "special_token_embeddings = np.stack([\n",
    "        np.zeros((food_embeddings.shape[1])), # padding\n",
    "        np.ones((food_embeddings.shape[1])), # mask\n",
    "        food_embeddings[3:].mean(axis=0), # unknown\n",
    "        np.random.normal(0, 1, (food_embeddings.shape[1]))] # end\n",
    ")\n",
    "\n",
    "special_token_embeddings"
   ]
  },
  {
   "cell_type": "markdown",
   "metadata": {},
   "source": [
    "As the embedding model requires we'll have to add padding zero vectors in place of the special tokens."
   ]
  },
  {
   "cell_type": "code",
   "execution_count": 47,
   "metadata": {},
   "outputs": [],
   "source": [
    "food_embeddings = np.concatenate([\n",
    "    np.zeros(special_token_embeddings.shape),\n",
    "    food_embeddings\n",
    "], axis=0)"
   ]
  },
  {
   "cell_type": "markdown",
   "metadata": {},
   "source": [
    "## Saving"
   ]
  },
  {
   "cell_type": "code",
   "execution_count": 49,
   "metadata": {},
   "outputs": [],
   "source": [
    "np.save('../../data/local/final/full/food_names/0.npy', food_names)\n",
    "np.save('../../data/local/final/full/food_embeddings/0.npy', food_embeddings)\n",
    "np.save('../../data/local/final/full/special_token_embeddings/0.npy', special_token_embeddings)"
   ]
  },
  {
   "cell_type": "markdown",
   "metadata": {},
   "source": [
    "# Recipe Food Tokens"
   ]
  },
  {
   "cell_type": "markdown",
   "metadata": {},
   "source": [
    "Here we want to format our data as food token id's for each recipe.\n",
    "\n",
    "- Converting to numpy\n",
    "- Handling NA values\n",
    "- Grouping data by recipe\n",
    "- Merging duplicate entries (summing quantities)"
   ]
  },
  {
   "cell_type": "markdown",
   "metadata": {},
   "source": [
    "The token embeddings were added to the beginning of the embedding array, for quality of life in terms of developing the model. The downside of this is we have to shift all the food_ids up."
   ]
  },
  {
   "cell_type": "code",
   "execution_count": 50,
   "metadata": {},
   "outputs": [],
   "source": [
    "#| export\n",
    "def shift_food_ids(food_ids, special_tokens):\n",
    "    shift = len(special_tokens)\n",
    "    return food_ids.progress_apply(lambda id: id + shift if pd.notna(id) else id)"
   ]
  },
  {
   "cell_type": "code",
   "execution_count": 51,
   "metadata": {},
   "outputs": [
    {
     "name": "stderr",
     "output_type": "stream",
     "text": [
      "100%|██████████| 2450/2450 [00:00<00:00, 1477292.24it/s]\n"
     ]
    }
   ],
   "source": [
    "food_ids['food_id'] = shift_food_ids(food_ids['food_id'], special_tokens)"
   ]
  },
  {
   "cell_type": "markdown",
   "metadata": {},
   "source": [
    "Here we fill na's with the unknown token."
   ]
  },
  {
   "cell_type": "code",
   "execution_count": 52,
   "metadata": {},
   "outputs": [],
   "source": [
    "food_ids = food_ids.fillna(special_tokens.index('unknown'))"
   ]
  },
  {
   "cell_type": "code",
   "execution_count": 53,
   "metadata": {},
   "outputs": [],
   "source": [
    "#| export\n",
    "def process_food_ids(food_ids, special_tokens):\n",
    "    food_ids['food_id'] = shift_food_ids(food_ids['food_id'], special_tokens)\n",
    "    food_ids['food_id'] = food_ids['food_id'].map(temp_remap)\n",
    "    food_ids = food_ids.fillna(special_tokens.index('unknown'))\n",
    "    return food_ids"
   ]
  },
  {
   "cell_type": "markdown",
   "metadata": {},
   "source": [
    "Grouping values by recipe, with food_id tokens in the columns."
   ]
  },
  {
   "cell_type": "code",
   "execution_count": 54,
   "metadata": {},
   "outputs": [
    {
     "name": "stderr",
     "output_type": "stream",
     "text": [
      "100%|██████████| 302/302 [00:00<00:00, 59771.60it/s]\n"
     ]
    },
    {
     "data": {
      "text/html": [
       "<div>\n",
       "<style scoped>\n",
       "    .dataframe tbody tr th:only-of-type {\n",
       "        vertical-align: middle;\n",
       "    }\n",
       "\n",
       "    .dataframe tbody tr th {\n",
       "        vertical-align: top;\n",
       "    }\n",
       "\n",
       "    .dataframe thead th {\n",
       "        text-align: right;\n",
       "    }\n",
       "</style>\n",
       "<table border=\"1\" class=\"dataframe\">\n",
       "  <thead>\n",
       "    <tr style=\"text-align: right;\">\n",
       "      <th></th>\n",
       "      <th>0</th>\n",
       "      <th>1</th>\n",
       "      <th>2</th>\n",
       "      <th>3</th>\n",
       "      <th>4</th>\n",
       "      <th>5</th>\n",
       "      <th>6</th>\n",
       "      <th>7</th>\n",
       "      <th>8</th>\n",
       "      <th>9</th>\n",
       "      <th>...</th>\n",
       "      <th>11</th>\n",
       "      <th>12</th>\n",
       "      <th>13</th>\n",
       "      <th>14</th>\n",
       "      <th>15</th>\n",
       "      <th>16</th>\n",
       "      <th>17</th>\n",
       "      <th>18</th>\n",
       "      <th>19</th>\n",
       "      <th>20</th>\n",
       "    </tr>\n",
       "  </thead>\n",
       "  <tbody>\n",
       "    <tr>\n",
       "      <th>0</th>\n",
       "      <td>975.0</td>\n",
       "      <td>831.0</td>\n",
       "      <td>808.0</td>\n",
       "      <td>809.0</td>\n",
       "      <td>813.0</td>\n",
       "      <td>777.0</td>\n",
       "      <td>273.0</td>\n",
       "      <td>811.0</td>\n",
       "      <td>813.0</td>\n",
       "      <td>724.0</td>\n",
       "      <td>...</td>\n",
       "      <td>139.0</td>\n",
       "      <td>NaN</td>\n",
       "      <td>NaN</td>\n",
       "      <td>NaN</td>\n",
       "      <td>NaN</td>\n",
       "      <td>NaN</td>\n",
       "      <td>NaN</td>\n",
       "      <td>NaN</td>\n",
       "      <td>NaN</td>\n",
       "      <td>NaN</td>\n",
       "    </tr>\n",
       "    <tr>\n",
       "      <th>1</th>\n",
       "      <td>807.0</td>\n",
       "      <td>777.0</td>\n",
       "      <td>831.0</td>\n",
       "      <td>2.0</td>\n",
       "      <td>1041.0</td>\n",
       "      <td>NaN</td>\n",
       "      <td>NaN</td>\n",
       "      <td>NaN</td>\n",
       "      <td>NaN</td>\n",
       "      <td>NaN</td>\n",
       "      <td>...</td>\n",
       "      <td>NaN</td>\n",
       "      <td>NaN</td>\n",
       "      <td>NaN</td>\n",
       "      <td>NaN</td>\n",
       "      <td>NaN</td>\n",
       "      <td>NaN</td>\n",
       "      <td>NaN</td>\n",
       "      <td>NaN</td>\n",
       "      <td>NaN</td>\n",
       "      <td>NaN</td>\n",
       "    </tr>\n",
       "    <tr>\n",
       "      <th>2</th>\n",
       "      <td>777.0</td>\n",
       "      <td>809.0</td>\n",
       "      <td>813.0</td>\n",
       "      <td>795.0</td>\n",
       "      <td>80.0</td>\n",
       "      <td>808.0</td>\n",
       "      <td>975.0</td>\n",
       "      <td>813.0</td>\n",
       "      <td>80.0</td>\n",
       "      <td>NaN</td>\n",
       "      <td>...</td>\n",
       "      <td>NaN</td>\n",
       "      <td>NaN</td>\n",
       "      <td>NaN</td>\n",
       "      <td>NaN</td>\n",
       "      <td>NaN</td>\n",
       "      <td>NaN</td>\n",
       "      <td>NaN</td>\n",
       "      <td>NaN</td>\n",
       "      <td>NaN</td>\n",
       "      <td>NaN</td>\n",
       "    </tr>\n",
       "    <tr>\n",
       "      <th>3</th>\n",
       "      <td>955.0</td>\n",
       "      <td>957.0</td>\n",
       "      <td>774.0</td>\n",
       "      <td>68.0</td>\n",
       "      <td>541.0</td>\n",
       "      <td>795.0</td>\n",
       "      <td>1022.0</td>\n",
       "      <td>NaN</td>\n",
       "      <td>NaN</td>\n",
       "      <td>NaN</td>\n",
       "      <td>...</td>\n",
       "      <td>NaN</td>\n",
       "      <td>NaN</td>\n",
       "      <td>NaN</td>\n",
       "      <td>NaN</td>\n",
       "      <td>NaN</td>\n",
       "      <td>NaN</td>\n",
       "      <td>NaN</td>\n",
       "      <td>NaN</td>\n",
       "      <td>NaN</td>\n",
       "      <td>NaN</td>\n",
       "    </tr>\n",
       "    <tr>\n",
       "      <th>4</th>\n",
       "      <td>338.0</td>\n",
       "      <td>18.0</td>\n",
       "      <td>82.0</td>\n",
       "      <td>813.0</td>\n",
       "      <td>975.0</td>\n",
       "      <td>777.0</td>\n",
       "      <td>18.0</td>\n",
       "      <td>82.0</td>\n",
       "      <td>424.0</td>\n",
       "      <td>541.0</td>\n",
       "      <td>...</td>\n",
       "      <td>NaN</td>\n",
       "      <td>NaN</td>\n",
       "      <td>NaN</td>\n",
       "      <td>NaN</td>\n",
       "      <td>NaN</td>\n",
       "      <td>NaN</td>\n",
       "      <td>NaN</td>\n",
       "      <td>NaN</td>\n",
       "      <td>NaN</td>\n",
       "      <td>NaN</td>\n",
       "    </tr>\n",
       "    <tr>\n",
       "      <th>...</th>\n",
       "      <td>...</td>\n",
       "      <td>...</td>\n",
       "      <td>...</td>\n",
       "      <td>...</td>\n",
       "      <td>...</td>\n",
       "      <td>...</td>\n",
       "      <td>...</td>\n",
       "      <td>...</td>\n",
       "      <td>...</td>\n",
       "      <td>...</td>\n",
       "      <td>...</td>\n",
       "      <td>...</td>\n",
       "      <td>...</td>\n",
       "      <td>...</td>\n",
       "      <td>...</td>\n",
       "      <td>...</td>\n",
       "      <td>...</td>\n",
       "      <td>...</td>\n",
       "      <td>...</td>\n",
       "      <td>...</td>\n",
       "      <td>...</td>\n",
       "    </tr>\n",
       "    <tr>\n",
       "      <th>297</th>\n",
       "      <td>243.0</td>\n",
       "      <td>820.0</td>\n",
       "      <td>1032.0</td>\n",
       "      <td>831.0</td>\n",
       "      <td>1071.0</td>\n",
       "      <td>12.0</td>\n",
       "      <td>84.0</td>\n",
       "      <td>80.0</td>\n",
       "      <td>60.0</td>\n",
       "      <td>60.0</td>\n",
       "      <td>...</td>\n",
       "      <td>848.0</td>\n",
       "      <td>60.0</td>\n",
       "      <td>813.0</td>\n",
       "      <td>808.0</td>\n",
       "      <td>NaN</td>\n",
       "      <td>NaN</td>\n",
       "      <td>NaN</td>\n",
       "      <td>NaN</td>\n",
       "      <td>NaN</td>\n",
       "      <td>NaN</td>\n",
       "    </tr>\n",
       "    <tr>\n",
       "      <th>298</th>\n",
       "      <td>1022.0</td>\n",
       "      <td>813.0</td>\n",
       "      <td>777.0</td>\n",
       "      <td>273.0</td>\n",
       "      <td>975.0</td>\n",
       "      <td>893.0</td>\n",
       "      <td>68.0</td>\n",
       "      <td>NaN</td>\n",
       "      <td>NaN</td>\n",
       "      <td>NaN</td>\n",
       "      <td>...</td>\n",
       "      <td>NaN</td>\n",
       "      <td>NaN</td>\n",
       "      <td>NaN</td>\n",
       "      <td>NaN</td>\n",
       "      <td>NaN</td>\n",
       "      <td>NaN</td>\n",
       "      <td>NaN</td>\n",
       "      <td>NaN</td>\n",
       "      <td>NaN</td>\n",
       "      <td>NaN</td>\n",
       "    </tr>\n",
       "    <tr>\n",
       "      <th>299</th>\n",
       "      <td>426.0</td>\n",
       "      <td>1071.0</td>\n",
       "      <td>80.0</td>\n",
       "      <td>168.0</td>\n",
       "      <td>12.0</td>\n",
       "      <td>NaN</td>\n",
       "      <td>NaN</td>\n",
       "      <td>NaN</td>\n",
       "      <td>NaN</td>\n",
       "      <td>NaN</td>\n",
       "      <td>...</td>\n",
       "      <td>NaN</td>\n",
       "      <td>NaN</td>\n",
       "      <td>NaN</td>\n",
       "      <td>NaN</td>\n",
       "      <td>NaN</td>\n",
       "      <td>NaN</td>\n",
       "      <td>NaN</td>\n",
       "      <td>NaN</td>\n",
       "      <td>NaN</td>\n",
       "      <td>NaN</td>\n",
       "    </tr>\n",
       "    <tr>\n",
       "      <th>300</th>\n",
       "      <td>1071.0</td>\n",
       "      <td>12.0</td>\n",
       "      <td>676.0</td>\n",
       "      <td>80.0</td>\n",
       "      <td>344.0</td>\n",
       "      <td>1105.0</td>\n",
       "      <td>179.0</td>\n",
       "      <td>NaN</td>\n",
       "      <td>NaN</td>\n",
       "      <td>NaN</td>\n",
       "      <td>...</td>\n",
       "      <td>NaN</td>\n",
       "      <td>NaN</td>\n",
       "      <td>NaN</td>\n",
       "      <td>NaN</td>\n",
       "      <td>NaN</td>\n",
       "      <td>NaN</td>\n",
       "      <td>NaN</td>\n",
       "      <td>NaN</td>\n",
       "      <td>NaN</td>\n",
       "      <td>NaN</td>\n",
       "    </tr>\n",
       "    <tr>\n",
       "      <th>301</th>\n",
       "      <td>1048.0</td>\n",
       "      <td>1032.0</td>\n",
       "      <td>60.0</td>\n",
       "      <td>60.0</td>\n",
       "      <td>243.0</td>\n",
       "      <td>84.0</td>\n",
       "      <td>875.0</td>\n",
       "      <td>12.0</td>\n",
       "      <td>60.0</td>\n",
       "      <td>92.0</td>\n",
       "      <td>...</td>\n",
       "      <td>743.0</td>\n",
       "      <td>NaN</td>\n",
       "      <td>NaN</td>\n",
       "      <td>NaN</td>\n",
       "      <td>NaN</td>\n",
       "      <td>NaN</td>\n",
       "      <td>NaN</td>\n",
       "      <td>NaN</td>\n",
       "      <td>NaN</td>\n",
       "      <td>NaN</td>\n",
       "    </tr>\n",
       "  </tbody>\n",
       "</table>\n",
       "<p>302 rows × 21 columns</p>\n",
       "</div>"
      ],
      "text/plain": [
       "         0       1       2      3       4       5       6      7      8   \\\n",
       "0     975.0   831.0   808.0  809.0   813.0   777.0   273.0  811.0  813.0   \n",
       "1     807.0   777.0   831.0    2.0  1041.0     NaN     NaN    NaN    NaN   \n",
       "2     777.0   809.0   813.0  795.0    80.0   808.0   975.0  813.0   80.0   \n",
       "3     955.0   957.0   774.0   68.0   541.0   795.0  1022.0    NaN    NaN   \n",
       "4     338.0    18.0    82.0  813.0   975.0   777.0    18.0   82.0  424.0   \n",
       "..      ...     ...     ...    ...     ...     ...     ...    ...    ...   \n",
       "297   243.0   820.0  1032.0  831.0  1071.0    12.0    84.0   80.0   60.0   \n",
       "298  1022.0   813.0   777.0  273.0   975.0   893.0    68.0    NaN    NaN   \n",
       "299   426.0  1071.0    80.0  168.0    12.0     NaN     NaN    NaN    NaN   \n",
       "300  1071.0    12.0   676.0   80.0   344.0  1105.0   179.0    NaN    NaN   \n",
       "301  1048.0  1032.0    60.0   60.0   243.0    84.0   875.0   12.0   60.0   \n",
       "\n",
       "        9   ...     11    12     13     14  15  16  17  18  19  20  \n",
       "0    724.0  ...  139.0   NaN    NaN    NaN NaN NaN NaN NaN NaN NaN  \n",
       "1      NaN  ...    NaN   NaN    NaN    NaN NaN NaN NaN NaN NaN NaN  \n",
       "2      NaN  ...    NaN   NaN    NaN    NaN NaN NaN NaN NaN NaN NaN  \n",
       "3      NaN  ...    NaN   NaN    NaN    NaN NaN NaN NaN NaN NaN NaN  \n",
       "4    541.0  ...    NaN   NaN    NaN    NaN NaN NaN NaN NaN NaN NaN  \n",
       "..     ...  ...    ...   ...    ...    ...  ..  ..  ..  ..  ..  ..  \n",
       "297   60.0  ...  848.0  60.0  813.0  808.0 NaN NaN NaN NaN NaN NaN  \n",
       "298    NaN  ...    NaN   NaN    NaN    NaN NaN NaN NaN NaN NaN NaN  \n",
       "299    NaN  ...    NaN   NaN    NaN    NaN NaN NaN NaN NaN NaN NaN  \n",
       "300    NaN  ...    NaN   NaN    NaN    NaN NaN NaN NaN NaN NaN NaN  \n",
       "301   92.0  ...  743.0   NaN    NaN    NaN NaN NaN NaN NaN NaN NaN  \n",
       "\n",
       "[302 rows x 21 columns]"
      ]
     },
     "execution_count": 54,
     "metadata": {},
     "output_type": "execute_result"
    }
   ],
   "source": [
    "recipe_food_ids = pd.DataFrame(food_ids.groupby('recipe')['food_id'].progress_aggregate(list).tolist()).loc[:,:20]\n",
    "recipe_food_ids"
   ]
  },
  {
   "cell_type": "code",
   "execution_count": 55,
   "metadata": {},
   "outputs": [
    {
     "data": {
      "text/plain": [
       "0      975.0\n",
       "1      831.0\n",
       "2      808.0\n",
       "3      809.0\n",
       "4      813.0\n",
       "5      777.0\n",
       "6      273.0\n",
       "7      811.0\n",
       "8      724.0\n",
       "9     1041.0\n",
       "10     139.0\n",
       "Name: 0, dtype: float64"
      ]
     },
     "execution_count": 55,
     "metadata": {},
     "output_type": "execute_result"
    }
   ],
   "source": [
    "recipe = recipe_food_ids.iloc[0]\n",
    "recipe[recipe.duplicated()] = pd.NA\n",
    "recipe.dropna().reset_index(drop=True)\n"
   ]
  },
  {
   "cell_type": "code",
   "execution_count": 56,
   "metadata": {},
   "outputs": [],
   "source": [
    "#| export\n",
    "def remove_duplicate_ids(recipe, max_length):\n",
    "    base = pd.Series(pd.NA, index=range(0,max_length), dtype='Int64')\n",
    "    recipe_clone = recipe.copy(deep=True)\n",
    "    recipe_clone[recipe_clone.duplicated()] = pd.NA\n",
    "    recipe_clone = recipe_clone.dropna().reset_index(drop=True)\n",
    "    base = base.fillna(recipe_clone)\n",
    "    return base"
   ]
  },
  {
   "cell_type": "code",
   "execution_count": 57,
   "metadata": {},
   "outputs": [
    {
     "name": "stderr",
     "output_type": "stream",
     "text": [
      "[11/04/2024 20:05:10] [INFO] [recipe_dataset.utils.parallel] [parallel_apply():47] [PID:32586 TID:139783527080768] Commencing parallel apply\n",
      "[11/04/2024 20:05:10] [INFO] [recipe_dataset.utils.parallel] [parallel_apply():48] [PID:32586 TID:139783527080768] DF shape: (302, 21) | DF size: 49.55 KB\n",
      "WARNING:bokeh.server.util:Host wildcard '*' will allow connections originating from multiple (or possibly all) hostnames or IPs. Use non-wildcard values to restrict access explicitly\n"
     ]
    },
    {
     "data": {
      "text/html": [
       "<div>\n",
       "<style scoped>\n",
       "    .dataframe tbody tr th:only-of-type {\n",
       "        vertical-align: middle;\n",
       "    }\n",
       "\n",
       "    .dataframe tbody tr th {\n",
       "        vertical-align: top;\n",
       "    }\n",
       "\n",
       "    .dataframe thead th {\n",
       "        text-align: right;\n",
       "    }\n",
       "</style>\n",
       "<table border=\"1\" class=\"dataframe\">\n",
       "  <thead>\n",
       "    <tr style=\"text-align: right;\">\n",
       "      <th></th>\n",
       "      <th>0</th>\n",
       "      <th>1</th>\n",
       "      <th>2</th>\n",
       "      <th>3</th>\n",
       "      <th>4</th>\n",
       "      <th>5</th>\n",
       "      <th>6</th>\n",
       "      <th>7</th>\n",
       "      <th>8</th>\n",
       "      <th>9</th>\n",
       "      <th>10</th>\n",
       "      <th>11</th>\n",
       "      <th>12</th>\n",
       "      <th>13</th>\n",
       "      <th>14</th>\n",
       "      <th>15</th>\n",
       "      <th>16</th>\n",
       "    </tr>\n",
       "  </thead>\n",
       "  <tbody>\n",
       "    <tr>\n",
       "      <th>0</th>\n",
       "      <td>975</td>\n",
       "      <td>831</td>\n",
       "      <td>808</td>\n",
       "      <td>809</td>\n",
       "      <td>813</td>\n",
       "      <td>777</td>\n",
       "      <td>273</td>\n",
       "      <td>811</td>\n",
       "      <td>724</td>\n",
       "      <td>1041</td>\n",
       "      <td>139</td>\n",
       "      <td>&lt;NA&gt;</td>\n",
       "      <td>&lt;NA&gt;</td>\n",
       "      <td>&lt;NA&gt;</td>\n",
       "      <td>&lt;NA&gt;</td>\n",
       "      <td>&lt;NA&gt;</td>\n",
       "      <td>&lt;NA&gt;</td>\n",
       "    </tr>\n",
       "    <tr>\n",
       "      <th>1</th>\n",
       "      <td>807</td>\n",
       "      <td>777</td>\n",
       "      <td>831</td>\n",
       "      <td>2</td>\n",
       "      <td>1041</td>\n",
       "      <td>&lt;NA&gt;</td>\n",
       "      <td>&lt;NA&gt;</td>\n",
       "      <td>&lt;NA&gt;</td>\n",
       "      <td>&lt;NA&gt;</td>\n",
       "      <td>&lt;NA&gt;</td>\n",
       "      <td>&lt;NA&gt;</td>\n",
       "      <td>&lt;NA&gt;</td>\n",
       "      <td>&lt;NA&gt;</td>\n",
       "      <td>&lt;NA&gt;</td>\n",
       "      <td>&lt;NA&gt;</td>\n",
       "      <td>&lt;NA&gt;</td>\n",
       "      <td>&lt;NA&gt;</td>\n",
       "    </tr>\n",
       "    <tr>\n",
       "      <th>2</th>\n",
       "      <td>777</td>\n",
       "      <td>809</td>\n",
       "      <td>813</td>\n",
       "      <td>795</td>\n",
       "      <td>80</td>\n",
       "      <td>808</td>\n",
       "      <td>975</td>\n",
       "      <td>&lt;NA&gt;</td>\n",
       "      <td>&lt;NA&gt;</td>\n",
       "      <td>&lt;NA&gt;</td>\n",
       "      <td>&lt;NA&gt;</td>\n",
       "      <td>&lt;NA&gt;</td>\n",
       "      <td>&lt;NA&gt;</td>\n",
       "      <td>&lt;NA&gt;</td>\n",
       "      <td>&lt;NA&gt;</td>\n",
       "      <td>&lt;NA&gt;</td>\n",
       "      <td>&lt;NA&gt;</td>\n",
       "    </tr>\n",
       "    <tr>\n",
       "      <th>3</th>\n",
       "      <td>955</td>\n",
       "      <td>957</td>\n",
       "      <td>774</td>\n",
       "      <td>68</td>\n",
       "      <td>541</td>\n",
       "      <td>795</td>\n",
       "      <td>1022</td>\n",
       "      <td>&lt;NA&gt;</td>\n",
       "      <td>&lt;NA&gt;</td>\n",
       "      <td>&lt;NA&gt;</td>\n",
       "      <td>&lt;NA&gt;</td>\n",
       "      <td>&lt;NA&gt;</td>\n",
       "      <td>&lt;NA&gt;</td>\n",
       "      <td>&lt;NA&gt;</td>\n",
       "      <td>&lt;NA&gt;</td>\n",
       "      <td>&lt;NA&gt;</td>\n",
       "      <td>&lt;NA&gt;</td>\n",
       "    </tr>\n",
       "    <tr>\n",
       "      <th>4</th>\n",
       "      <td>338</td>\n",
       "      <td>18</td>\n",
       "      <td>82</td>\n",
       "      <td>813</td>\n",
       "      <td>975</td>\n",
       "      <td>777</td>\n",
       "      <td>424</td>\n",
       "      <td>541</td>\n",
       "      <td>&lt;NA&gt;</td>\n",
       "      <td>&lt;NA&gt;</td>\n",
       "      <td>&lt;NA&gt;</td>\n",
       "      <td>&lt;NA&gt;</td>\n",
       "      <td>&lt;NA&gt;</td>\n",
       "      <td>&lt;NA&gt;</td>\n",
       "      <td>&lt;NA&gt;</td>\n",
       "      <td>&lt;NA&gt;</td>\n",
       "      <td>&lt;NA&gt;</td>\n",
       "    </tr>\n",
       "    <tr>\n",
       "      <th>...</th>\n",
       "      <td>...</td>\n",
       "      <td>...</td>\n",
       "      <td>...</td>\n",
       "      <td>...</td>\n",
       "      <td>...</td>\n",
       "      <td>...</td>\n",
       "      <td>...</td>\n",
       "      <td>...</td>\n",
       "      <td>...</td>\n",
       "      <td>...</td>\n",
       "      <td>...</td>\n",
       "      <td>...</td>\n",
       "      <td>...</td>\n",
       "      <td>...</td>\n",
       "      <td>...</td>\n",
       "      <td>...</td>\n",
       "      <td>...</td>\n",
       "    </tr>\n",
       "    <tr>\n",
       "      <th>297</th>\n",
       "      <td>243</td>\n",
       "      <td>820</td>\n",
       "      <td>1032</td>\n",
       "      <td>831</td>\n",
       "      <td>1071</td>\n",
       "      <td>12</td>\n",
       "      <td>84</td>\n",
       "      <td>80</td>\n",
       "      <td>60</td>\n",
       "      <td>92</td>\n",
       "      <td>848</td>\n",
       "      <td>813</td>\n",
       "      <td>808</td>\n",
       "      <td>&lt;NA&gt;</td>\n",
       "      <td>&lt;NA&gt;</td>\n",
       "      <td>&lt;NA&gt;</td>\n",
       "      <td>&lt;NA&gt;</td>\n",
       "    </tr>\n",
       "    <tr>\n",
       "      <th>298</th>\n",
       "      <td>1022</td>\n",
       "      <td>813</td>\n",
       "      <td>777</td>\n",
       "      <td>273</td>\n",
       "      <td>975</td>\n",
       "      <td>893</td>\n",
       "      <td>68</td>\n",
       "      <td>&lt;NA&gt;</td>\n",
       "      <td>&lt;NA&gt;</td>\n",
       "      <td>&lt;NA&gt;</td>\n",
       "      <td>&lt;NA&gt;</td>\n",
       "      <td>&lt;NA&gt;</td>\n",
       "      <td>&lt;NA&gt;</td>\n",
       "      <td>&lt;NA&gt;</td>\n",
       "      <td>&lt;NA&gt;</td>\n",
       "      <td>&lt;NA&gt;</td>\n",
       "      <td>&lt;NA&gt;</td>\n",
       "    </tr>\n",
       "    <tr>\n",
       "      <th>299</th>\n",
       "      <td>426</td>\n",
       "      <td>1071</td>\n",
       "      <td>80</td>\n",
       "      <td>168</td>\n",
       "      <td>12</td>\n",
       "      <td>&lt;NA&gt;</td>\n",
       "      <td>&lt;NA&gt;</td>\n",
       "      <td>&lt;NA&gt;</td>\n",
       "      <td>&lt;NA&gt;</td>\n",
       "      <td>&lt;NA&gt;</td>\n",
       "      <td>&lt;NA&gt;</td>\n",
       "      <td>&lt;NA&gt;</td>\n",
       "      <td>&lt;NA&gt;</td>\n",
       "      <td>&lt;NA&gt;</td>\n",
       "      <td>&lt;NA&gt;</td>\n",
       "      <td>&lt;NA&gt;</td>\n",
       "      <td>&lt;NA&gt;</td>\n",
       "    </tr>\n",
       "    <tr>\n",
       "      <th>300</th>\n",
       "      <td>1071</td>\n",
       "      <td>12</td>\n",
       "      <td>676</td>\n",
       "      <td>80</td>\n",
       "      <td>344</td>\n",
       "      <td>1105</td>\n",
       "      <td>179</td>\n",
       "      <td>&lt;NA&gt;</td>\n",
       "      <td>&lt;NA&gt;</td>\n",
       "      <td>&lt;NA&gt;</td>\n",
       "      <td>&lt;NA&gt;</td>\n",
       "      <td>&lt;NA&gt;</td>\n",
       "      <td>&lt;NA&gt;</td>\n",
       "      <td>&lt;NA&gt;</td>\n",
       "      <td>&lt;NA&gt;</td>\n",
       "      <td>&lt;NA&gt;</td>\n",
       "      <td>&lt;NA&gt;</td>\n",
       "    </tr>\n",
       "    <tr>\n",
       "      <th>301</th>\n",
       "      <td>1048</td>\n",
       "      <td>1032</td>\n",
       "      <td>60</td>\n",
       "      <td>243</td>\n",
       "      <td>84</td>\n",
       "      <td>875</td>\n",
       "      <td>12</td>\n",
       "      <td>92</td>\n",
       "      <td>808</td>\n",
       "      <td>743</td>\n",
       "      <td>&lt;NA&gt;</td>\n",
       "      <td>&lt;NA&gt;</td>\n",
       "      <td>&lt;NA&gt;</td>\n",
       "      <td>&lt;NA&gt;</td>\n",
       "      <td>&lt;NA&gt;</td>\n",
       "      <td>&lt;NA&gt;</td>\n",
       "      <td>&lt;NA&gt;</td>\n",
       "    </tr>\n",
       "  </tbody>\n",
       "</table>\n",
       "<p>302 rows × 17 columns</p>\n",
       "</div>"
      ],
      "text/plain": [
       "       0     1     2    3     4     5     6     7     8     9     10    11  \\\n",
       "0     975   831   808  809   813   777   273   811   724  1041   139  <NA>   \n",
       "1     807   777   831    2  1041  <NA>  <NA>  <NA>  <NA>  <NA>  <NA>  <NA>   \n",
       "2     777   809   813  795    80   808   975  <NA>  <NA>  <NA>  <NA>  <NA>   \n",
       "3     955   957   774   68   541   795  1022  <NA>  <NA>  <NA>  <NA>  <NA>   \n",
       "4     338    18    82  813   975   777   424   541  <NA>  <NA>  <NA>  <NA>   \n",
       "..    ...   ...   ...  ...   ...   ...   ...   ...   ...   ...   ...   ...   \n",
       "297   243   820  1032  831  1071    12    84    80    60    92   848   813   \n",
       "298  1022   813   777  273   975   893    68  <NA>  <NA>  <NA>  <NA>  <NA>   \n",
       "299   426  1071    80  168    12  <NA>  <NA>  <NA>  <NA>  <NA>  <NA>  <NA>   \n",
       "300  1071    12   676   80   344  1105   179  <NA>  <NA>  <NA>  <NA>  <NA>   \n",
       "301  1048  1032    60  243    84   875    12    92   808   743  <NA>  <NA>   \n",
       "\n",
       "       12    13    14    15    16  \n",
       "0    <NA>  <NA>  <NA>  <NA>  <NA>  \n",
       "1    <NA>  <NA>  <NA>  <NA>  <NA>  \n",
       "2    <NA>  <NA>  <NA>  <NA>  <NA>  \n",
       "3    <NA>  <NA>  <NA>  <NA>  <NA>  \n",
       "4    <NA>  <NA>  <NA>  <NA>  <NA>  \n",
       "..    ...   ...   ...   ...   ...  \n",
       "297   808  <NA>  <NA>  <NA>  <NA>  \n",
       "298  <NA>  <NA>  <NA>  <NA>  <NA>  \n",
       "299  <NA>  <NA>  <NA>  <NA>  <NA>  \n",
       "300  <NA>  <NA>  <NA>  <NA>  <NA>  \n",
       "301  <NA>  <NA>  <NA>  <NA>  <NA>  \n",
       "\n",
       "[302 rows x 17 columns]"
      ]
     },
     "execution_count": 57,
     "metadata": {},
     "output_type": "execute_result"
    }
   ],
   "source": [
    "from recipe_dataset.utils.parallel import parallel_apply\n",
    "\n",
    "parallel_apply(recipe_food_ids,\n",
    "               remove_duplicate_ids,\n",
    "               args=(17,),\n",
    "               meta=pd.DataFrame(dtype=\"Int64\", columns=range(0,17)))"
   ]
  },
  {
   "cell_type": "code",
   "execution_count": 58,
   "metadata": {},
   "outputs": [
    {
     "name": "stderr",
     "output_type": "stream",
     "text": [
      "100%|██████████| 302/302 [00:00<00:00, 2229.16it/s]\n"
     ]
    },
    {
     "data": {
      "text/html": [
       "<div>\n",
       "<style scoped>\n",
       "    .dataframe tbody tr th:only-of-type {\n",
       "        vertical-align: middle;\n",
       "    }\n",
       "\n",
       "    .dataframe tbody tr th {\n",
       "        vertical-align: top;\n",
       "    }\n",
       "\n",
       "    .dataframe thead th {\n",
       "        text-align: right;\n",
       "    }\n",
       "</style>\n",
       "<table border=\"1\" class=\"dataframe\">\n",
       "  <thead>\n",
       "    <tr style=\"text-align: right;\">\n",
       "      <th></th>\n",
       "      <th>0</th>\n",
       "      <th>1</th>\n",
       "      <th>2</th>\n",
       "      <th>3</th>\n",
       "      <th>4</th>\n",
       "      <th>5</th>\n",
       "      <th>6</th>\n",
       "      <th>7</th>\n",
       "      <th>8</th>\n",
       "      <th>9</th>\n",
       "      <th>10</th>\n",
       "      <th>11</th>\n",
       "      <th>12</th>\n",
       "      <th>13</th>\n",
       "      <th>14</th>\n",
       "      <th>15</th>\n",
       "      <th>16</th>\n",
       "    </tr>\n",
       "  </thead>\n",
       "  <tbody>\n",
       "    <tr>\n",
       "      <th>0</th>\n",
       "      <td>975</td>\n",
       "      <td>831</td>\n",
       "      <td>808</td>\n",
       "      <td>809</td>\n",
       "      <td>813</td>\n",
       "      <td>777</td>\n",
       "      <td>273</td>\n",
       "      <td>811</td>\n",
       "      <td>724</td>\n",
       "      <td>1041</td>\n",
       "      <td>139</td>\n",
       "      <td>&lt;NA&gt;</td>\n",
       "      <td>&lt;NA&gt;</td>\n",
       "      <td>&lt;NA&gt;</td>\n",
       "      <td>&lt;NA&gt;</td>\n",
       "      <td>&lt;NA&gt;</td>\n",
       "      <td>&lt;NA&gt;</td>\n",
       "    </tr>\n",
       "    <tr>\n",
       "      <th>1</th>\n",
       "      <td>807</td>\n",
       "      <td>777</td>\n",
       "      <td>831</td>\n",
       "      <td>2</td>\n",
       "      <td>1041</td>\n",
       "      <td>&lt;NA&gt;</td>\n",
       "      <td>&lt;NA&gt;</td>\n",
       "      <td>&lt;NA&gt;</td>\n",
       "      <td>&lt;NA&gt;</td>\n",
       "      <td>&lt;NA&gt;</td>\n",
       "      <td>&lt;NA&gt;</td>\n",
       "      <td>&lt;NA&gt;</td>\n",
       "      <td>&lt;NA&gt;</td>\n",
       "      <td>&lt;NA&gt;</td>\n",
       "      <td>&lt;NA&gt;</td>\n",
       "      <td>&lt;NA&gt;</td>\n",
       "      <td>&lt;NA&gt;</td>\n",
       "    </tr>\n",
       "    <tr>\n",
       "      <th>2</th>\n",
       "      <td>777</td>\n",
       "      <td>809</td>\n",
       "      <td>813</td>\n",
       "      <td>795</td>\n",
       "      <td>80</td>\n",
       "      <td>808</td>\n",
       "      <td>975</td>\n",
       "      <td>&lt;NA&gt;</td>\n",
       "      <td>&lt;NA&gt;</td>\n",
       "      <td>&lt;NA&gt;</td>\n",
       "      <td>&lt;NA&gt;</td>\n",
       "      <td>&lt;NA&gt;</td>\n",
       "      <td>&lt;NA&gt;</td>\n",
       "      <td>&lt;NA&gt;</td>\n",
       "      <td>&lt;NA&gt;</td>\n",
       "      <td>&lt;NA&gt;</td>\n",
       "      <td>&lt;NA&gt;</td>\n",
       "    </tr>\n",
       "    <tr>\n",
       "      <th>3</th>\n",
       "      <td>955</td>\n",
       "      <td>957</td>\n",
       "      <td>774</td>\n",
       "      <td>68</td>\n",
       "      <td>541</td>\n",
       "      <td>795</td>\n",
       "      <td>1022</td>\n",
       "      <td>&lt;NA&gt;</td>\n",
       "      <td>&lt;NA&gt;</td>\n",
       "      <td>&lt;NA&gt;</td>\n",
       "      <td>&lt;NA&gt;</td>\n",
       "      <td>&lt;NA&gt;</td>\n",
       "      <td>&lt;NA&gt;</td>\n",
       "      <td>&lt;NA&gt;</td>\n",
       "      <td>&lt;NA&gt;</td>\n",
       "      <td>&lt;NA&gt;</td>\n",
       "      <td>&lt;NA&gt;</td>\n",
       "    </tr>\n",
       "    <tr>\n",
       "      <th>4</th>\n",
       "      <td>338</td>\n",
       "      <td>18</td>\n",
       "      <td>82</td>\n",
       "      <td>813</td>\n",
       "      <td>975</td>\n",
       "      <td>777</td>\n",
       "      <td>424</td>\n",
       "      <td>541</td>\n",
       "      <td>&lt;NA&gt;</td>\n",
       "      <td>&lt;NA&gt;</td>\n",
       "      <td>&lt;NA&gt;</td>\n",
       "      <td>&lt;NA&gt;</td>\n",
       "      <td>&lt;NA&gt;</td>\n",
       "      <td>&lt;NA&gt;</td>\n",
       "      <td>&lt;NA&gt;</td>\n",
       "      <td>&lt;NA&gt;</td>\n",
       "      <td>&lt;NA&gt;</td>\n",
       "    </tr>\n",
       "    <tr>\n",
       "      <th>...</th>\n",
       "      <td>...</td>\n",
       "      <td>...</td>\n",
       "      <td>...</td>\n",
       "      <td>...</td>\n",
       "      <td>...</td>\n",
       "      <td>...</td>\n",
       "      <td>...</td>\n",
       "      <td>...</td>\n",
       "      <td>...</td>\n",
       "      <td>...</td>\n",
       "      <td>...</td>\n",
       "      <td>...</td>\n",
       "      <td>...</td>\n",
       "      <td>...</td>\n",
       "      <td>...</td>\n",
       "      <td>...</td>\n",
       "      <td>...</td>\n",
       "    </tr>\n",
       "    <tr>\n",
       "      <th>297</th>\n",
       "      <td>243</td>\n",
       "      <td>820</td>\n",
       "      <td>1032</td>\n",
       "      <td>831</td>\n",
       "      <td>1071</td>\n",
       "      <td>12</td>\n",
       "      <td>84</td>\n",
       "      <td>80</td>\n",
       "      <td>60</td>\n",
       "      <td>92</td>\n",
       "      <td>848</td>\n",
       "      <td>813</td>\n",
       "      <td>808</td>\n",
       "      <td>&lt;NA&gt;</td>\n",
       "      <td>&lt;NA&gt;</td>\n",
       "      <td>&lt;NA&gt;</td>\n",
       "      <td>&lt;NA&gt;</td>\n",
       "    </tr>\n",
       "    <tr>\n",
       "      <th>298</th>\n",
       "      <td>1022</td>\n",
       "      <td>813</td>\n",
       "      <td>777</td>\n",
       "      <td>273</td>\n",
       "      <td>975</td>\n",
       "      <td>893</td>\n",
       "      <td>68</td>\n",
       "      <td>&lt;NA&gt;</td>\n",
       "      <td>&lt;NA&gt;</td>\n",
       "      <td>&lt;NA&gt;</td>\n",
       "      <td>&lt;NA&gt;</td>\n",
       "      <td>&lt;NA&gt;</td>\n",
       "      <td>&lt;NA&gt;</td>\n",
       "      <td>&lt;NA&gt;</td>\n",
       "      <td>&lt;NA&gt;</td>\n",
       "      <td>&lt;NA&gt;</td>\n",
       "      <td>&lt;NA&gt;</td>\n",
       "    </tr>\n",
       "    <tr>\n",
       "      <th>299</th>\n",
       "      <td>426</td>\n",
       "      <td>1071</td>\n",
       "      <td>80</td>\n",
       "      <td>168</td>\n",
       "      <td>12</td>\n",
       "      <td>&lt;NA&gt;</td>\n",
       "      <td>&lt;NA&gt;</td>\n",
       "      <td>&lt;NA&gt;</td>\n",
       "      <td>&lt;NA&gt;</td>\n",
       "      <td>&lt;NA&gt;</td>\n",
       "      <td>&lt;NA&gt;</td>\n",
       "      <td>&lt;NA&gt;</td>\n",
       "      <td>&lt;NA&gt;</td>\n",
       "      <td>&lt;NA&gt;</td>\n",
       "      <td>&lt;NA&gt;</td>\n",
       "      <td>&lt;NA&gt;</td>\n",
       "      <td>&lt;NA&gt;</td>\n",
       "    </tr>\n",
       "    <tr>\n",
       "      <th>300</th>\n",
       "      <td>1071</td>\n",
       "      <td>12</td>\n",
       "      <td>676</td>\n",
       "      <td>80</td>\n",
       "      <td>344</td>\n",
       "      <td>1105</td>\n",
       "      <td>179</td>\n",
       "      <td>&lt;NA&gt;</td>\n",
       "      <td>&lt;NA&gt;</td>\n",
       "      <td>&lt;NA&gt;</td>\n",
       "      <td>&lt;NA&gt;</td>\n",
       "      <td>&lt;NA&gt;</td>\n",
       "      <td>&lt;NA&gt;</td>\n",
       "      <td>&lt;NA&gt;</td>\n",
       "      <td>&lt;NA&gt;</td>\n",
       "      <td>&lt;NA&gt;</td>\n",
       "      <td>&lt;NA&gt;</td>\n",
       "    </tr>\n",
       "    <tr>\n",
       "      <th>301</th>\n",
       "      <td>1048</td>\n",
       "      <td>1032</td>\n",
       "      <td>60</td>\n",
       "      <td>243</td>\n",
       "      <td>84</td>\n",
       "      <td>875</td>\n",
       "      <td>12</td>\n",
       "      <td>92</td>\n",
       "      <td>808</td>\n",
       "      <td>743</td>\n",
       "      <td>&lt;NA&gt;</td>\n",
       "      <td>&lt;NA&gt;</td>\n",
       "      <td>&lt;NA&gt;</td>\n",
       "      <td>&lt;NA&gt;</td>\n",
       "      <td>&lt;NA&gt;</td>\n",
       "      <td>&lt;NA&gt;</td>\n",
       "      <td>&lt;NA&gt;</td>\n",
       "    </tr>\n",
       "  </tbody>\n",
       "</table>\n",
       "<p>302 rows × 17 columns</p>\n",
       "</div>"
      ],
      "text/plain": [
       "       0     1     2    3     4     5     6     7     8     9     10    11  \\\n",
       "0     975   831   808  809   813   777   273   811   724  1041   139  <NA>   \n",
       "1     807   777   831    2  1041  <NA>  <NA>  <NA>  <NA>  <NA>  <NA>  <NA>   \n",
       "2     777   809   813  795    80   808   975  <NA>  <NA>  <NA>  <NA>  <NA>   \n",
       "3     955   957   774   68   541   795  1022  <NA>  <NA>  <NA>  <NA>  <NA>   \n",
       "4     338    18    82  813   975   777   424   541  <NA>  <NA>  <NA>  <NA>   \n",
       "..    ...   ...   ...  ...   ...   ...   ...   ...   ...   ...   ...   ...   \n",
       "297   243   820  1032  831  1071    12    84    80    60    92   848   813   \n",
       "298  1022   813   777  273   975   893    68  <NA>  <NA>  <NA>  <NA>  <NA>   \n",
       "299   426  1071    80  168    12  <NA>  <NA>  <NA>  <NA>  <NA>  <NA>  <NA>   \n",
       "300  1071    12   676   80   344  1105   179  <NA>  <NA>  <NA>  <NA>  <NA>   \n",
       "301  1048  1032    60  243    84   875    12    92   808   743  <NA>  <NA>   \n",
       "\n",
       "       12    13    14    15    16  \n",
       "0    <NA>  <NA>  <NA>  <NA>  <NA>  \n",
       "1    <NA>  <NA>  <NA>  <NA>  <NA>  \n",
       "2    <NA>  <NA>  <NA>  <NA>  <NA>  \n",
       "3    <NA>  <NA>  <NA>  <NA>  <NA>  \n",
       "4    <NA>  <NA>  <NA>  <NA>  <NA>  \n",
       "..    ...   ...   ...   ...   ...  \n",
       "297   808  <NA>  <NA>  <NA>  <NA>  \n",
       "298  <NA>  <NA>  <NA>  <NA>  <NA>  \n",
       "299  <NA>  <NA>  <NA>  <NA>  <NA>  \n",
       "300  <NA>  <NA>  <NA>  <NA>  <NA>  \n",
       "301  <NA>  <NA>  <NA>  <NA>  <NA>  \n",
       "\n",
       "[302 rows x 17 columns]"
      ]
     },
     "execution_count": 58,
     "metadata": {},
     "output_type": "execute_result"
    }
   ],
   "source": [
    "recipe_food_ids = recipe_food_ids.progress_apply(remove_duplicate_ids, axis=1, args=(17,))\n",
    "recipe_food_ids"
   ]
  },
  {
   "cell_type": "markdown",
   "metadata": {},
   "source": [
    "#TODO: Decide on optimal reicpe size"
   ]
  },
  {
   "cell_type": "markdown",
   "metadata": {},
   "source": [
    "The NA values here are those where the recipe didn't have enough foods to fill the columns, so these can be filled with padding values."
   ]
  },
  {
   "cell_type": "code",
   "execution_count": 59,
   "metadata": {},
   "outputs": [
    {
     "data": {
      "text/plain": [
       "(array([[ 975,  831,  808, ...,    0,    0,    0],\n",
       "        [ 807,  777,  831, ...,    0,    0,    0],\n",
       "        [ 777,  809,  813, ...,    0,    0,    0],\n",
       "        ...,\n",
       "        [ 426, 1071,   80, ...,    0,    0,    0],\n",
       "        [1071,   12,  676, ...,    0,    0,    0],\n",
       "        [1048, 1032,   60, ...,    0,    0,    0]]),\n",
       " (302, 17))"
      ]
     },
     "execution_count": 59,
     "metadata": {},
     "output_type": "execute_result"
    }
   ],
   "source": [
    "recipe_food_ids = recipe_food_ids \\\n",
    "    .fillna(special_tokens.index('pad')) \\\n",
    "    .astype('int') \\\n",
    "    .to_numpy()\n",
    "\n",
    "recipe_food_ids, recipe_food_ids.shape"
   ]
  },
  {
   "cell_type": "code",
   "execution_count": 60,
   "metadata": {},
   "outputs": [],
   "source": [
    "#| export\n",
    "def compile_recipe_food_ids(food_ids, special_tokens):\n",
    "\n",
    "    print('Compiling recipe food ids')\n",
    "    recipe_food_ids = pd.DataFrame(food_ids.groupby('recipe')['food_id'].progress_aggregate(list).tolist()).loc[:,:25]\n",
    "\n",
    "    print('Removing duplicates')\n",
    "    recipe_food_ids = parallel_apply(recipe_food_ids,\n",
    "               remove_duplicate_ids,\n",
    "               args=(17,),\n",
    "               meta=pd.DataFrame(dtype=\"Int64\", columns=range(0,17)),\n",
    "               npartitions=1000)\n",
    "\n",
    "    print('Formatting')\n",
    "    recipe_food_ids = recipe_food_ids \\\n",
    "        .fillna(special_tokens.index('pad')) \\\n",
    "        .astype('int') \\\n",
    "        .to_numpy()\n",
    "\n",
    "    return recipe_food_ids"
   ]
  },
  {
   "cell_type": "markdown",
   "metadata": {},
   "source": [
    "## Saving"
   ]
  },
  {
   "cell_type": "code",
   "execution_count": 61,
   "metadata": {},
   "outputs": [],
   "source": [
    "np.save('../../data/local/final/partial/recipe_food_ids/0.npy', recipe_food_ids)"
   ]
  },
  {
   "cell_type": "code",
   "execution_count": 56,
   "metadata": {},
   "outputs": [],
   "source": [
    "from nbdev import nbdev_export; nbdev_export()"
   ]
  },
  {
   "cell_type": "code",
   "execution_count": null,
   "metadata": {},
   "outputs": [],
   "source": []
  }
 ],
 "metadata": {
  "kernelspec": {
   "display_name": "recipes",
   "language": "python",
   "name": "python3"
  },
  "language_info": {
   "codemirror_mode": {
    "name": "ipython",
    "version": 3
   },
   "file_extension": ".py",
   "mimetype": "text/x-python",
   "name": "python",
   "nbconvert_exporter": "python",
   "pygments_lexer": "ipython3",
   "version": "3.10.13"
  }
 },
 "nbformat": 4,
 "nbformat_minor": 2
}
