{
 "cells": [
  {
   "cell_type": "markdown",
   "metadata": {},
   "source": [
    "Here we do the final processing required for the model inputs."
   ]
  },
  {
   "cell_type": "markdown",
   "metadata": {},
   "source": [
    "# Setup"
   ]
  },
  {
   "cell_type": "code",
   "execution_count": 1,
   "metadata": {},
   "outputs": [],
   "source": [
    "#| default_exp final.process"
   ]
  },
  {
   "cell_type": "code",
   "execution_count": 2,
   "metadata": {},
   "outputs": [],
   "source": [
    "#| export\n",
    "from pyprojroot import here\n",
    "root = here()\n",
    "import sys\n",
    "sys.path.append(str(root))"
   ]
  },
  {
   "cell_type": "code",
   "execution_count": 23,
   "metadata": {},
   "outputs": [],
   "source": [
    "#| export\n",
    "import pandas as pd\n",
    "import numpy as np\n",
    "\n",
    "from tqdm import tqdm\n",
    "tqdm.pandas()"
   ]
  },
  {
   "cell_type": "code",
   "execution_count": 15,
   "metadata": {},
   "outputs": [],
   "source": [
    "food_ids = pd.read_feather(f'{root}/../data/local/molecule/partial/food_ids/1_na_filled.feather')\n",
    "food_embeddings = pd.read_feather(f'{root}/../data/local/molecule/full/food_compounds/0.feather')\n",
    "\n",
    "food_ids = food_ids.astype('Int64')\n",
    "food_embeddings = food_embeddings.astype('float')"
   ]
  },
  {
   "cell_type": "code",
   "execution_count": 5,
   "metadata": {},
   "outputs": [],
   "source": [
    "#| export\n",
    "special_tokens = ['pad', 'mask', 'unknown']"
   ]
  },
  {
   "cell_type": "markdown",
   "metadata": {},
   "source": [
    "# Food Embeddings"
   ]
  },
  {
   "cell_type": "markdown",
   "metadata": {},
   "source": [
    "Here we already have our food compounds in a dataframe. All that is left to do is:\n",
    "\n",
    "- Converting to numpy (efficiency)\n",
    "- Adding special tokens for masked modelling"
   ]
  },
  {
   "cell_type": "code",
   "execution_count": 6,
   "metadata": {},
   "outputs": [],
   "source": [
    "food_embeddings = food_embeddings.to_numpy()"
   ]
  },
  {
   "cell_type": "code",
   "execution_count": 7,
   "metadata": {},
   "outputs": [
    {
     "data": {
      "text/plain": [
       "(array([[0.00000000e+00, 0.00000000e+00, 0.00000000e+00, ...,\n",
       "         0.00000000e+00, 0.00000000e+00, 0.00000000e+00],\n",
       "        [1.00000000e+00, 1.00000000e+00, 1.00000000e+00, ...,\n",
       "         1.00000000e+00, 1.00000000e+00, 1.00000000e+00],\n",
       "        [1.03842678e-02, 3.41922851e-01, 3.79929178e-02, ...,\n",
       "         5.36278835e-02, 5.80837997e-04, 6.96753373e-02]]),\n",
       " (3, 713))"
      ]
     },
     "execution_count": 7,
     "metadata": {},
     "output_type": "execute_result"
    }
   ],
   "source": [
    "special_token_embeddings = np.vstack([np.zeros([1, food_embeddings.shape[1]]), np.ones([1, food_embeddings.shape[1]]), food_embeddings.mean(axis=0)])\n",
    "special_token_embeddings, special_token_embeddings.shape"
   ]
  },
  {
   "cell_type": "code",
   "execution_count": 8,
   "metadata": {},
   "outputs": [
    {
     "data": {
      "text/plain": [
       "(1109, 713)"
      ]
     },
     "execution_count": 8,
     "metadata": {},
     "output_type": "execute_result"
    }
   ],
   "source": [
    "food_embeddings = np.append(special_token_embeddings, food_embeddings, axis=0)\n",
    "food_embeddings.shape"
   ]
  },
  {
   "cell_type": "markdown",
   "metadata": {},
   "source": [
    "## Saving"
   ]
  },
  {
   "cell_type": "code",
   "execution_count": 9,
   "metadata": {},
   "outputs": [],
   "source": [
    "np.save('../../data/local/final/full/food_compounds/0.npy', food_embeddings)"
   ]
  },
  {
   "cell_type": "markdown",
   "metadata": {},
   "source": [
    "# Recipe Food Tokens"
   ]
  },
  {
   "cell_type": "markdown",
   "metadata": {},
   "source": [
    "Here we want to format our data as food token id's for each recipe.\n",
    "\n",
    "- Converting to numpy\n",
    "- Handling NA values\n",
    "- Grouping data by recipe"
   ]
  },
  {
   "cell_type": "markdown",
   "metadata": {},
   "source": [
    "The token embeddings were added to the beginning of the embedding array, for quality of life in terms of developing the model. The downside of this is we have to shift all the food_ids up."
   ]
  },
  {
   "cell_type": "code",
   "execution_count": 24,
   "metadata": {},
   "outputs": [],
   "source": [
    "#| export\n",
    "def shift_food_ids(food_ids, special_tokens):\n",
    "    shift = len(special_tokens)\n",
    "    return food_ids.progress_apply(lambda id: id + shift if pd.notna(id) else id)"
   ]
  },
  {
   "cell_type": "code",
   "execution_count": 25,
   "metadata": {},
   "outputs": [
    {
     "name": "stderr",
     "output_type": "stream",
     "text": [
      "100%|██████████| 2450/2450 [00:00<00:00, 318805.10it/s]\n"
     ]
    }
   ],
   "source": [
    "food_ids['food_id'] = shift_food_ids(food_ids['food_id'], special_tokens)"
   ]
  },
  {
   "cell_type": "markdown",
   "metadata": {},
   "source": [
    "Here we fill na's with the unknown token."
   ]
  },
  {
   "cell_type": "code",
   "execution_count": 18,
   "metadata": {},
   "outputs": [],
   "source": [
    "food_ids = food_ids.fillna(special_tokens.index('unknown'))"
   ]
  },
  {
   "cell_type": "code",
   "execution_count": 29,
   "metadata": {},
   "outputs": [],
   "source": [
    "#| export\n",
    "def process_food_ids(food_ids, special_tokens):\n",
    "    food_ids['food_id'] = shift_food_ids(food_ids['food_id'], special_tokens)\n",
    "    food_ids = food_ids.fillna(special_tokens.index('unknown'))\n",
    "    return food_ids"
   ]
  },
  {
   "cell_type": "markdown",
   "metadata": {},
   "source": [
    "Grouping values by recipe, with food_id tokens in the columns."
   ]
  },
  {
   "cell_type": "code",
   "execution_count": 30,
   "metadata": {},
   "outputs": [
    {
     "data": {
      "text/html": [
       "<div>\n",
       "<style scoped>\n",
       "    .dataframe tbody tr th:only-of-type {\n",
       "        vertical-align: middle;\n",
       "    }\n",
       "\n",
       "    .dataframe tbody tr th {\n",
       "        vertical-align: top;\n",
       "    }\n",
       "\n",
       "    .dataframe thead th {\n",
       "        text-align: right;\n",
       "    }\n",
       "</style>\n",
       "<table border=\"1\" class=\"dataframe\">\n",
       "  <thead>\n",
       "    <tr style=\"text-align: right;\">\n",
       "      <th></th>\n",
       "      <th>0</th>\n",
       "      <th>1</th>\n",
       "      <th>2</th>\n",
       "      <th>3</th>\n",
       "      <th>4</th>\n",
       "      <th>5</th>\n",
       "      <th>6</th>\n",
       "      <th>7</th>\n",
       "      <th>8</th>\n",
       "      <th>9</th>\n",
       "      <th>10</th>\n",
       "      <th>11</th>\n",
       "      <th>12</th>\n",
       "      <th>13</th>\n",
       "      <th>14</th>\n",
       "    </tr>\n",
       "  </thead>\n",
       "  <tbody>\n",
       "    <tr>\n",
       "      <th>0</th>\n",
       "      <td>977</td>\n",
       "      <td>833</td>\n",
       "      <td>810</td>\n",
       "      <td>811.0</td>\n",
       "      <td>815.0</td>\n",
       "      <td>779.0</td>\n",
       "      <td>275.0</td>\n",
       "      <td>813.0</td>\n",
       "      <td>815.0</td>\n",
       "      <td>726.0</td>\n",
       "      <td>1043.0</td>\n",
       "      <td>141.0</td>\n",
       "      <td>NaN</td>\n",
       "      <td>NaN</td>\n",
       "      <td>NaN</td>\n",
       "    </tr>\n",
       "    <tr>\n",
       "      <th>1</th>\n",
       "      <td>809</td>\n",
       "      <td>779</td>\n",
       "      <td>833</td>\n",
       "      <td>5.0</td>\n",
       "      <td>1043.0</td>\n",
       "      <td>NaN</td>\n",
       "      <td>NaN</td>\n",
       "      <td>NaN</td>\n",
       "      <td>NaN</td>\n",
       "      <td>NaN</td>\n",
       "      <td>NaN</td>\n",
       "      <td>NaN</td>\n",
       "      <td>NaN</td>\n",
       "      <td>NaN</td>\n",
       "      <td>NaN</td>\n",
       "    </tr>\n",
       "    <tr>\n",
       "      <th>2</th>\n",
       "      <td>779</td>\n",
       "      <td>811</td>\n",
       "      <td>815</td>\n",
       "      <td>797.0</td>\n",
       "      <td>82.0</td>\n",
       "      <td>810.0</td>\n",
       "      <td>977.0</td>\n",
       "      <td>815.0</td>\n",
       "      <td>82.0</td>\n",
       "      <td>NaN</td>\n",
       "      <td>NaN</td>\n",
       "      <td>NaN</td>\n",
       "      <td>NaN</td>\n",
       "      <td>NaN</td>\n",
       "      <td>NaN</td>\n",
       "    </tr>\n",
       "    <tr>\n",
       "      <th>3</th>\n",
       "      <td>957</td>\n",
       "      <td>959</td>\n",
       "      <td>776</td>\n",
       "      <td>70.0</td>\n",
       "      <td>543.0</td>\n",
       "      <td>797.0</td>\n",
       "      <td>1024.0</td>\n",
       "      <td>NaN</td>\n",
       "      <td>NaN</td>\n",
       "      <td>NaN</td>\n",
       "      <td>NaN</td>\n",
       "      <td>NaN</td>\n",
       "      <td>NaN</td>\n",
       "      <td>NaN</td>\n",
       "      <td>NaN</td>\n",
       "    </tr>\n",
       "    <tr>\n",
       "      <th>4</th>\n",
       "      <td>340</td>\n",
       "      <td>20</td>\n",
       "      <td>84</td>\n",
       "      <td>815.0</td>\n",
       "      <td>977.0</td>\n",
       "      <td>779.0</td>\n",
       "      <td>20.0</td>\n",
       "      <td>84.0</td>\n",
       "      <td>426.0</td>\n",
       "      <td>543.0</td>\n",
       "      <td>NaN</td>\n",
       "      <td>NaN</td>\n",
       "      <td>NaN</td>\n",
       "      <td>NaN</td>\n",
       "      <td>NaN</td>\n",
       "    </tr>\n",
       "    <tr>\n",
       "      <th>...</th>\n",
       "      <td>...</td>\n",
       "      <td>...</td>\n",
       "      <td>...</td>\n",
       "      <td>...</td>\n",
       "      <td>...</td>\n",
       "      <td>...</td>\n",
       "      <td>...</td>\n",
       "      <td>...</td>\n",
       "      <td>...</td>\n",
       "      <td>...</td>\n",
       "      <td>...</td>\n",
       "      <td>...</td>\n",
       "      <td>...</td>\n",
       "      <td>...</td>\n",
       "      <td>...</td>\n",
       "    </tr>\n",
       "    <tr>\n",
       "      <th>297</th>\n",
       "      <td>245</td>\n",
       "      <td>822</td>\n",
       "      <td>1034</td>\n",
       "      <td>833.0</td>\n",
       "      <td>1073.0</td>\n",
       "      <td>14.0</td>\n",
       "      <td>86.0</td>\n",
       "      <td>82.0</td>\n",
       "      <td>62.0</td>\n",
       "      <td>62.0</td>\n",
       "      <td>94.0</td>\n",
       "      <td>850.0</td>\n",
       "      <td>62.0</td>\n",
       "      <td>815.0</td>\n",
       "      <td>810.0</td>\n",
       "    </tr>\n",
       "    <tr>\n",
       "      <th>298</th>\n",
       "      <td>1024</td>\n",
       "      <td>815</td>\n",
       "      <td>779</td>\n",
       "      <td>275.0</td>\n",
       "      <td>977.0</td>\n",
       "      <td>895.0</td>\n",
       "      <td>70.0</td>\n",
       "      <td>NaN</td>\n",
       "      <td>NaN</td>\n",
       "      <td>NaN</td>\n",
       "      <td>NaN</td>\n",
       "      <td>NaN</td>\n",
       "      <td>NaN</td>\n",
       "      <td>NaN</td>\n",
       "      <td>NaN</td>\n",
       "    </tr>\n",
       "    <tr>\n",
       "      <th>299</th>\n",
       "      <td>428</td>\n",
       "      <td>1073</td>\n",
       "      <td>82</td>\n",
       "      <td>170.0</td>\n",
       "      <td>14.0</td>\n",
       "      <td>NaN</td>\n",
       "      <td>NaN</td>\n",
       "      <td>NaN</td>\n",
       "      <td>NaN</td>\n",
       "      <td>NaN</td>\n",
       "      <td>NaN</td>\n",
       "      <td>NaN</td>\n",
       "      <td>NaN</td>\n",
       "      <td>NaN</td>\n",
       "      <td>NaN</td>\n",
       "    </tr>\n",
       "    <tr>\n",
       "      <th>300</th>\n",
       "      <td>1073</td>\n",
       "      <td>14</td>\n",
       "      <td>678</td>\n",
       "      <td>82.0</td>\n",
       "      <td>346.0</td>\n",
       "      <td>1107.0</td>\n",
       "      <td>181.0</td>\n",
       "      <td>NaN</td>\n",
       "      <td>NaN</td>\n",
       "      <td>NaN</td>\n",
       "      <td>NaN</td>\n",
       "      <td>NaN</td>\n",
       "      <td>NaN</td>\n",
       "      <td>NaN</td>\n",
       "      <td>NaN</td>\n",
       "    </tr>\n",
       "    <tr>\n",
       "      <th>301</th>\n",
       "      <td>1050</td>\n",
       "      <td>1034</td>\n",
       "      <td>62</td>\n",
       "      <td>62.0</td>\n",
       "      <td>245.0</td>\n",
       "      <td>86.0</td>\n",
       "      <td>877.0</td>\n",
       "      <td>14.0</td>\n",
       "      <td>62.0</td>\n",
       "      <td>94.0</td>\n",
       "      <td>810.0</td>\n",
       "      <td>745.0</td>\n",
       "      <td>NaN</td>\n",
       "      <td>NaN</td>\n",
       "      <td>NaN</td>\n",
       "    </tr>\n",
       "  </tbody>\n",
       "</table>\n",
       "<p>302 rows × 15 columns</p>\n",
       "</div>"
      ],
      "text/plain": [
       "       0     1     2      3       4       5       6      7      8      9   \\\n",
       "0     977   833   810  811.0   815.0   779.0   275.0  813.0  815.0  726.0   \n",
       "1     809   779   833    5.0  1043.0     NaN     NaN    NaN    NaN    NaN   \n",
       "2     779   811   815  797.0    82.0   810.0   977.0  815.0   82.0    NaN   \n",
       "3     957   959   776   70.0   543.0   797.0  1024.0    NaN    NaN    NaN   \n",
       "4     340    20    84  815.0   977.0   779.0    20.0   84.0  426.0  543.0   \n",
       "..    ...   ...   ...    ...     ...     ...     ...    ...    ...    ...   \n",
       "297   245   822  1034  833.0  1073.0    14.0    86.0   82.0   62.0   62.0   \n",
       "298  1024   815   779  275.0   977.0   895.0    70.0    NaN    NaN    NaN   \n",
       "299   428  1073    82  170.0    14.0     NaN     NaN    NaN    NaN    NaN   \n",
       "300  1073    14   678   82.0   346.0  1107.0   181.0    NaN    NaN    NaN   \n",
       "301  1050  1034    62   62.0   245.0    86.0   877.0   14.0   62.0   94.0   \n",
       "\n",
       "         10     11    12     13     14  \n",
       "0    1043.0  141.0   NaN    NaN    NaN  \n",
       "1       NaN    NaN   NaN    NaN    NaN  \n",
       "2       NaN    NaN   NaN    NaN    NaN  \n",
       "3       NaN    NaN   NaN    NaN    NaN  \n",
       "4       NaN    NaN   NaN    NaN    NaN  \n",
       "..      ...    ...   ...    ...    ...  \n",
       "297    94.0  850.0  62.0  815.0  810.0  \n",
       "298     NaN    NaN   NaN    NaN    NaN  \n",
       "299     NaN    NaN   NaN    NaN    NaN  \n",
       "300     NaN    NaN   NaN    NaN    NaN  \n",
       "301   810.0  745.0   NaN    NaN    NaN  \n",
       "\n",
       "[302 rows x 15 columns]"
      ]
     },
     "execution_count": 30,
     "metadata": {},
     "output_type": "execute_result"
    }
   ],
   "source": [
    "recipe_food_ids = pd.DataFrame(food_ids.groupby('recipe')['food_id'].aggregate(list).tolist()).loc[:,:14]\n",
    "recipe_food_ids"
   ]
  },
  {
   "cell_type": "markdown",
   "metadata": {},
   "source": [
    "#TODO: Decide on optimal reicpe size"
   ]
  },
  {
   "cell_type": "markdown",
   "metadata": {},
   "source": [
    "The NA values here are those where the recipe didn't have enough foods to fill the columns, so these can be filled with padding values."
   ]
  },
  {
   "cell_type": "code",
   "execution_count": 31,
   "metadata": {},
   "outputs": [
    {
     "data": {
      "text/plain": [
       "(array([[ 977,  833,  810, ...,    0,    0,    0],\n",
       "        [ 809,  779,  833, ...,    0,    0,    0],\n",
       "        [ 779,  811,  815, ...,    0,    0,    0],\n",
       "        ...,\n",
       "        [ 428, 1073,   82, ...,    0,    0,    0],\n",
       "        [1073,   14,  678, ...,    0,    0,    0],\n",
       "        [1050, 1034,   62, ...,    0,    0,    0]]),\n",
       " (302, 15))"
      ]
     },
     "execution_count": 31,
     "metadata": {},
     "output_type": "execute_result"
    }
   ],
   "source": [
    "recipe_food_ids = recipe_food_ids \\\n",
    "    .fillna(special_tokens.index('pad')) \\\n",
    "    .astype('int') \\\n",
    "    .to_numpy()\n",
    "\n",
    "recipe_food_ids, recipe_food_ids.shape"
   ]
  },
  {
   "cell_type": "code",
   "execution_count": 32,
   "metadata": {},
   "outputs": [],
   "source": [
    "#| export\n",
    "def compile_recipe_food_ids(food_ids, special_tokens):\n",
    "\n",
    "    recipe_food_ids = pd.DataFrame(food_ids.groupby('recipe')['food_id'].aggregate(list).tolist()).loc[:,:14]\n",
    "\n",
    "    recipe_food_ids = recipe_food_ids \\\n",
    "        .fillna(special_tokens.index('pad')) \\\n",
    "        .astype('int') \\\n",
    "        .to_numpy()\n",
    "\n",
    "    return recipe_food_ids"
   ]
  },
  {
   "cell_type": "markdown",
   "metadata": {},
   "source": [
    "## Saving"
   ]
  },
  {
   "cell_type": "code",
   "execution_count": 33,
   "metadata": {},
   "outputs": [],
   "source": [
    "np.save('../../data/local/final/partial/recipe_food_ids/0.npy', recipe_food_ids)"
   ]
  },
  {
   "cell_type": "code",
   "execution_count": 34,
   "metadata": {},
   "outputs": [],
   "source": [
    "from nbdev import nbdev_export; nbdev_export()"
   ]
  },
  {
   "cell_type": "code",
   "execution_count": null,
   "metadata": {},
   "outputs": [],
   "source": []
  }
 ],
 "metadata": {
  "kernelspec": {
   "display_name": "recipes",
   "language": "python",
   "name": "python3"
  },
  "language_info": {
   "codemirror_mode": {
    "name": "ipython",
    "version": 3
   },
   "file_extension": ".py",
   "mimetype": "text/x-python",
   "name": "python",
   "nbconvert_exporter": "python",
   "pygments_lexer": "ipython3",
   "version": "3.10.13"
  }
 },
 "nbformat": 4,
 "nbformat_minor": 2
}
