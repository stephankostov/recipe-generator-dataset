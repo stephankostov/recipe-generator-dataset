{
 "cells": [
  {
   "cell_type": "markdown",
   "metadata": {},
   "source": [
    "Here we do the final processing required for the model inputs."
   ]
  },
  {
   "cell_type": "markdown",
   "metadata": {},
   "source": [
    "# Setup"
   ]
  },
  {
   "cell_type": "code",
   "execution_count": 1,
   "metadata": {},
   "outputs": [],
   "source": [
    "from pyprojroot import here\n",
    "root = here()\n",
    "import sys\n",
    "sys.path.append(str(root))"
   ]
  },
  {
   "cell_type": "code",
   "execution_count": 2,
   "metadata": {},
   "outputs": [],
   "source": [
    "import pandas as pd\n",
    "import numpy as np"
   ]
  },
  {
   "cell_type": "code",
   "execution_count": 5,
   "metadata": {},
   "outputs": [],
   "source": [
    "food_ids = pd.read_feather(f'{root}/../data/local/molecule/partial/food_ids/1_na_filled.feather')\n",
    "food_embeddings = pd.read_feather(f'{root}/../data/local/molecule/full/food_compounds/0.feather')\n",
    "\n",
    "food_ids = food_ids.astype('Int64')\n",
    "food_embeddings = food_embeddings.astype('float')"
   ]
  },
  {
   "cell_type": "code",
   "execution_count": 13,
   "metadata": {},
   "outputs": [],
   "source": [
    "special_tokens = ['pad', 'mask', 'unknown']"
   ]
  },
  {
   "cell_type": "markdown",
   "metadata": {},
   "source": [
    "# Food Embeddings"
   ]
  },
  {
   "cell_type": "markdown",
   "metadata": {},
   "source": [
    "Here we already have our food compounds in a dataframe. All that is left to do is:\n",
    "\n",
    "- Converting to numpy (efficiency)\n",
    "- Adding special tokens for masked modelling"
   ]
  },
  {
   "cell_type": "code",
   "execution_count": 6,
   "metadata": {},
   "outputs": [],
   "source": [
    "food_embeddings = food_embeddings.to_numpy()"
   ]
  },
  {
   "cell_type": "code",
   "execution_count": 9,
   "metadata": {},
   "outputs": [
    {
     "data": {
      "text/plain": [
       "(array([[0.00000000e+00, 0.00000000e+00, 0.00000000e+00, ...,\n",
       "         0.00000000e+00, 0.00000000e+00, 0.00000000e+00],\n",
       "        [1.00000000e+00, 1.00000000e+00, 1.00000000e+00, ...,\n",
       "         1.00000000e+00, 1.00000000e+00, 1.00000000e+00],\n",
       "        [1.03842678e-02, 3.41922851e-01, 3.79929178e-02, ...,\n",
       "         5.36278835e-02, 5.80837997e-04, 6.96753373e-02]]),\n",
       " (3, 713))"
      ]
     },
     "execution_count": 9,
     "metadata": {},
     "output_type": "execute_result"
    }
   ],
   "source": [
    "special_token_embeddings = np.vstack([np.zeros([1, food_embeddings.shape[1]]), np.ones([1, food_embeddings.shape[1]]), food_embeddings.mean(axis=0)])\n",
    "special_token_embeddings, special_token_embeddings.shape"
   ]
  },
  {
   "cell_type": "code",
   "execution_count": 10,
   "metadata": {},
   "outputs": [
    {
     "data": {
      "text/plain": [
       "(1109, 713)"
      ]
     },
     "execution_count": 10,
     "metadata": {},
     "output_type": "execute_result"
    }
   ],
   "source": [
    "food_embeddings = np.append(special_token_embeddings, food_embeddings, axis=0)\n",
    "food_embeddings.shape"
   ]
  },
  {
   "cell_type": "markdown",
   "metadata": {},
   "source": [
    "## Saving"
   ]
  },
  {
   "cell_type": "code",
   "execution_count": null,
   "metadata": {},
   "outputs": [],
   "source": [
    "np.save('../../data/local/final/full/food_compounds/0.npy', food_embeddings)"
   ]
  },
  {
   "cell_type": "markdown",
   "metadata": {},
   "source": [
    "# Recipe Food Tokens"
   ]
  },
  {
   "cell_type": "markdown",
   "metadata": {},
   "source": [
    "Here we want to format our data as food token id's for each recipe.\n",
    "\n",
    "- Converting to numpy\n",
    "- Handling NA values\n",
    "- Grouping data by recipe"
   ]
  },
  {
   "cell_type": "markdown",
   "metadata": {},
   "source": [
    "The token embeddings were added to the beginning of the embedding array, for quality of life in terms of developing the model. The downside of this is we have to shift all the food_ids up."
   ]
  },
  {
   "cell_type": "code",
   "execution_count": 16,
   "metadata": {},
   "outputs": [],
   "source": [
    "shift = len(special_tokens)\n",
    "food_ids['food_id'] = food_ids['food_id'].apply(lambda id: id + shift if pd.notna(id) else id)"
   ]
  },
  {
   "cell_type": "markdown",
   "metadata": {},
   "source": [
    "Here we fill na's with the unknown token."
   ]
  },
  {
   "cell_type": "code",
   "execution_count": 17,
   "metadata": {},
   "outputs": [],
   "source": [
    "food_ids = food_ids.fillna(special_tokens.index('unknown'))"
   ]
  },
  {
   "cell_type": "markdown",
   "metadata": {},
   "source": [
    "Grouping values by recipe, with food_id tokens in the columns."
   ]
  },
  {
   "cell_type": "code",
   "execution_count": 29,
   "metadata": {},
   "outputs": [
    {
     "data": {
      "text/html": [
       "<div>\n",
       "<style scoped>\n",
       "    .dataframe tbody tr th:only-of-type {\n",
       "        vertical-align: middle;\n",
       "    }\n",
       "\n",
       "    .dataframe tbody tr th {\n",
       "        vertical-align: top;\n",
       "    }\n",
       "\n",
       "    .dataframe thead th {\n",
       "        text-align: right;\n",
       "    }\n",
       "</style>\n",
       "<table border=\"1\" class=\"dataframe\">\n",
       "  <thead>\n",
       "    <tr style=\"text-align: right;\">\n",
       "      <th></th>\n",
       "      <th>0</th>\n",
       "      <th>1</th>\n",
       "      <th>2</th>\n",
       "      <th>3</th>\n",
       "      <th>4</th>\n",
       "      <th>5</th>\n",
       "      <th>6</th>\n",
       "      <th>7</th>\n",
       "      <th>8</th>\n",
       "      <th>9</th>\n",
       "      <th>10</th>\n",
       "      <th>11</th>\n",
       "      <th>12</th>\n",
       "      <th>13</th>\n",
       "      <th>14</th>\n",
       "    </tr>\n",
       "  </thead>\n",
       "  <tbody>\n",
       "    <tr>\n",
       "      <th>0</th>\n",
       "      <td>974</td>\n",
       "      <td>830</td>\n",
       "      <td>807</td>\n",
       "      <td>808.0</td>\n",
       "      <td>812.0</td>\n",
       "      <td>776.0</td>\n",
       "      <td>272.0</td>\n",
       "      <td>810.0</td>\n",
       "      <td>812.0</td>\n",
       "      <td>723.0</td>\n",
       "      <td>1040.0</td>\n",
       "      <td>138.0</td>\n",
       "      <td>NaN</td>\n",
       "      <td>NaN</td>\n",
       "      <td>NaN</td>\n",
       "    </tr>\n",
       "    <tr>\n",
       "      <th>1</th>\n",
       "      <td>806</td>\n",
       "      <td>776</td>\n",
       "      <td>830</td>\n",
       "      <td>2.0</td>\n",
       "      <td>1040.0</td>\n",
       "      <td>NaN</td>\n",
       "      <td>NaN</td>\n",
       "      <td>NaN</td>\n",
       "      <td>NaN</td>\n",
       "      <td>NaN</td>\n",
       "      <td>NaN</td>\n",
       "      <td>NaN</td>\n",
       "      <td>NaN</td>\n",
       "      <td>NaN</td>\n",
       "      <td>NaN</td>\n",
       "    </tr>\n",
       "    <tr>\n",
       "      <th>2</th>\n",
       "      <td>776</td>\n",
       "      <td>808</td>\n",
       "      <td>812</td>\n",
       "      <td>794.0</td>\n",
       "      <td>79.0</td>\n",
       "      <td>807.0</td>\n",
       "      <td>974.0</td>\n",
       "      <td>812.0</td>\n",
       "      <td>79.0</td>\n",
       "      <td>NaN</td>\n",
       "      <td>NaN</td>\n",
       "      <td>NaN</td>\n",
       "      <td>NaN</td>\n",
       "      <td>NaN</td>\n",
       "      <td>NaN</td>\n",
       "    </tr>\n",
       "    <tr>\n",
       "      <th>3</th>\n",
       "      <td>954</td>\n",
       "      <td>956</td>\n",
       "      <td>773</td>\n",
       "      <td>67.0</td>\n",
       "      <td>540.0</td>\n",
       "      <td>794.0</td>\n",
       "      <td>1021.0</td>\n",
       "      <td>NaN</td>\n",
       "      <td>NaN</td>\n",
       "      <td>NaN</td>\n",
       "      <td>NaN</td>\n",
       "      <td>NaN</td>\n",
       "      <td>NaN</td>\n",
       "      <td>NaN</td>\n",
       "      <td>NaN</td>\n",
       "    </tr>\n",
       "    <tr>\n",
       "      <th>4</th>\n",
       "      <td>337</td>\n",
       "      <td>17</td>\n",
       "      <td>81</td>\n",
       "      <td>812.0</td>\n",
       "      <td>974.0</td>\n",
       "      <td>776.0</td>\n",
       "      <td>17.0</td>\n",
       "      <td>81.0</td>\n",
       "      <td>423.0</td>\n",
       "      <td>540.0</td>\n",
       "      <td>NaN</td>\n",
       "      <td>NaN</td>\n",
       "      <td>NaN</td>\n",
       "      <td>NaN</td>\n",
       "      <td>NaN</td>\n",
       "    </tr>\n",
       "    <tr>\n",
       "      <th>...</th>\n",
       "      <td>...</td>\n",
       "      <td>...</td>\n",
       "      <td>...</td>\n",
       "      <td>...</td>\n",
       "      <td>...</td>\n",
       "      <td>...</td>\n",
       "      <td>...</td>\n",
       "      <td>...</td>\n",
       "      <td>...</td>\n",
       "      <td>...</td>\n",
       "      <td>...</td>\n",
       "      <td>...</td>\n",
       "      <td>...</td>\n",
       "      <td>...</td>\n",
       "      <td>...</td>\n",
       "    </tr>\n",
       "    <tr>\n",
       "      <th>297</th>\n",
       "      <td>242</td>\n",
       "      <td>819</td>\n",
       "      <td>1031</td>\n",
       "      <td>830.0</td>\n",
       "      <td>1070.0</td>\n",
       "      <td>11.0</td>\n",
       "      <td>83.0</td>\n",
       "      <td>79.0</td>\n",
       "      <td>59.0</td>\n",
       "      <td>59.0</td>\n",
       "      <td>91.0</td>\n",
       "      <td>847.0</td>\n",
       "      <td>59.0</td>\n",
       "      <td>812.0</td>\n",
       "      <td>807.0</td>\n",
       "    </tr>\n",
       "    <tr>\n",
       "      <th>298</th>\n",
       "      <td>1021</td>\n",
       "      <td>812</td>\n",
       "      <td>776</td>\n",
       "      <td>272.0</td>\n",
       "      <td>974.0</td>\n",
       "      <td>892.0</td>\n",
       "      <td>67.0</td>\n",
       "      <td>NaN</td>\n",
       "      <td>NaN</td>\n",
       "      <td>NaN</td>\n",
       "      <td>NaN</td>\n",
       "      <td>NaN</td>\n",
       "      <td>NaN</td>\n",
       "      <td>NaN</td>\n",
       "      <td>NaN</td>\n",
       "    </tr>\n",
       "    <tr>\n",
       "      <th>299</th>\n",
       "      <td>425</td>\n",
       "      <td>1070</td>\n",
       "      <td>79</td>\n",
       "      <td>167.0</td>\n",
       "      <td>11.0</td>\n",
       "      <td>NaN</td>\n",
       "      <td>NaN</td>\n",
       "      <td>NaN</td>\n",
       "      <td>NaN</td>\n",
       "      <td>NaN</td>\n",
       "      <td>NaN</td>\n",
       "      <td>NaN</td>\n",
       "      <td>NaN</td>\n",
       "      <td>NaN</td>\n",
       "      <td>NaN</td>\n",
       "    </tr>\n",
       "    <tr>\n",
       "      <th>300</th>\n",
       "      <td>1070</td>\n",
       "      <td>11</td>\n",
       "      <td>675</td>\n",
       "      <td>79.0</td>\n",
       "      <td>343.0</td>\n",
       "      <td>1104.0</td>\n",
       "      <td>178.0</td>\n",
       "      <td>NaN</td>\n",
       "      <td>NaN</td>\n",
       "      <td>NaN</td>\n",
       "      <td>NaN</td>\n",
       "      <td>NaN</td>\n",
       "      <td>NaN</td>\n",
       "      <td>NaN</td>\n",
       "      <td>NaN</td>\n",
       "    </tr>\n",
       "    <tr>\n",
       "      <th>301</th>\n",
       "      <td>1047</td>\n",
       "      <td>1031</td>\n",
       "      <td>59</td>\n",
       "      <td>59.0</td>\n",
       "      <td>242.0</td>\n",
       "      <td>83.0</td>\n",
       "      <td>874.0</td>\n",
       "      <td>11.0</td>\n",
       "      <td>59.0</td>\n",
       "      <td>91.0</td>\n",
       "      <td>807.0</td>\n",
       "      <td>742.0</td>\n",
       "      <td>NaN</td>\n",
       "      <td>NaN</td>\n",
       "      <td>NaN</td>\n",
       "    </tr>\n",
       "  </tbody>\n",
       "</table>\n",
       "<p>302 rows × 15 columns</p>\n",
       "</div>"
      ],
      "text/plain": [
       "       0     1     2      3       4       5       6      7      8      9   \\\n",
       "0     974   830   807  808.0   812.0   776.0   272.0  810.0  812.0  723.0   \n",
       "1     806   776   830    2.0  1040.0     NaN     NaN    NaN    NaN    NaN   \n",
       "2     776   808   812  794.0    79.0   807.0   974.0  812.0   79.0    NaN   \n",
       "3     954   956   773   67.0   540.0   794.0  1021.0    NaN    NaN    NaN   \n",
       "4     337    17    81  812.0   974.0   776.0    17.0   81.0  423.0  540.0   \n",
       "..    ...   ...   ...    ...     ...     ...     ...    ...    ...    ...   \n",
       "297   242   819  1031  830.0  1070.0    11.0    83.0   79.0   59.0   59.0   \n",
       "298  1021   812   776  272.0   974.0   892.0    67.0    NaN    NaN    NaN   \n",
       "299   425  1070    79  167.0    11.0     NaN     NaN    NaN    NaN    NaN   \n",
       "300  1070    11   675   79.0   343.0  1104.0   178.0    NaN    NaN    NaN   \n",
       "301  1047  1031    59   59.0   242.0    83.0   874.0   11.0   59.0   91.0   \n",
       "\n",
       "         10     11    12     13     14  \n",
       "0    1040.0  138.0   NaN    NaN    NaN  \n",
       "1       NaN    NaN   NaN    NaN    NaN  \n",
       "2       NaN    NaN   NaN    NaN    NaN  \n",
       "3       NaN    NaN   NaN    NaN    NaN  \n",
       "4       NaN    NaN   NaN    NaN    NaN  \n",
       "..      ...    ...   ...    ...    ...  \n",
       "297    91.0  847.0  59.0  812.0  807.0  \n",
       "298     NaN    NaN   NaN    NaN    NaN  \n",
       "299     NaN    NaN   NaN    NaN    NaN  \n",
       "300     NaN    NaN   NaN    NaN    NaN  \n",
       "301   807.0  742.0   NaN    NaN    NaN  \n",
       "\n",
       "[302 rows x 15 columns]"
      ]
     },
     "execution_count": 29,
     "metadata": {},
     "output_type": "execute_result"
    }
   ],
   "source": [
    "recipe_food_ids = pd.DataFrame(food_ids.groupby('recipe')['food_id'].aggregate(list).tolist()).loc[:,:14]\n",
    "recipe_food_ids"
   ]
  },
  {
   "cell_type": "markdown",
   "metadata": {},
   "source": [
    "#TODO: Decide on optimal reicpe size"
   ]
  },
  {
   "cell_type": "markdown",
   "metadata": {},
   "source": [
    "The NA values here are those where the recipe didn't have enough foods to fill the columns, so these can be filled with padding values."
   ]
  },
  {
   "cell_type": "code",
   "execution_count": 30,
   "metadata": {},
   "outputs": [
    {
     "data": {
      "text/plain": [
       "(array([[ 974,  830,  807, ...,    0,    0,    0],\n",
       "        [ 806,  776,  830, ...,    0,    0,    0],\n",
       "        [ 776,  808,  812, ...,    0,    0,    0],\n",
       "        ...,\n",
       "        [ 425, 1070,   79, ...,    0,    0,    0],\n",
       "        [1070,   11,  675, ...,    0,    0,    0],\n",
       "        [1047, 1031,   59, ...,    0,    0,    0]]),\n",
       " (302, 15))"
      ]
     },
     "execution_count": 30,
     "metadata": {},
     "output_type": "execute_result"
    }
   ],
   "source": [
    "recipe_food_ids = recipe_food_ids \\\n",
    "    .fillna(special_tokens.index('pad')) \\\n",
    "    .astype('int') \\\n",
    "    .to_numpy()\n",
    "\n",
    "recipe_food_ids, recipe_food_ids.shape"
   ]
  },
  {
   "cell_type": "markdown",
   "metadata": {},
   "source": [
    "## Saving"
   ]
  },
  {
   "cell_type": "code",
   "execution_count": 31,
   "metadata": {},
   "outputs": [],
   "source": [
    "np.save('../../data/local/final/full/recipe_food_ids/0.npy', recipe_food_ids)"
   ]
  },
  {
   "cell_type": "code",
   "execution_count": null,
   "metadata": {},
   "outputs": [],
   "source": []
  }
 ],
 "metadata": {
  "kernelspec": {
   "display_name": "recipes",
   "language": "python",
   "name": "python3"
  },
  "language_info": {
   "codemirror_mode": {
    "name": "ipython",
    "version": 3
   },
   "file_extension": ".py",
   "mimetype": "text/x-python",
   "name": "python",
   "nbconvert_exporter": "python",
   "pygments_lexer": "ipython3",
   "version": "3.10.13"
  }
 },
 "nbformat": 4,
 "nbformat_minor": 2
}
