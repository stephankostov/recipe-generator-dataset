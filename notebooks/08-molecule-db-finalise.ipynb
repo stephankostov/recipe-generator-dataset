{
 "cells": [
  {
   "cell_type": "raw",
   "metadata": {},
   "source": [
    "---\n",
    "output-file: 09-molecule-db-finalising.html\n",
    "title: Setup\n",
    "\n",
    "---\n",
    "\n"
   ]
  },
  {
   "cell_type": "markdown",
   "metadata": {},
   "source": [
    "# Introduction"
   ]
  },
  {
   "cell_type": "markdown",
   "metadata": {},
   "source": [
    "Here we are finalising the information that we would like to gather from the molecules db. Specifically, we would want tabled information for each ingredient, containing the proportions of molecules for each ingredient."
   ]
  },
  {
   "cell_type": "markdown",
   "metadata": {},
   "source": [
    "# Overview"
   ]
  },
  {
   "cell_type": "markdown",
   "metadata": {},
   "source": [
    "Getting this finalised dataset entails:\n",
    "\n",
    "- Selecting from duplicate content entries (selecting orig_foods)\n",
    "- Averaging from duplicate content entries\n",
    "- Aggregating final dataset"
   ]
  },
  {
   "cell_type": "markdown",
   "metadata": {},
   "source": [
    "# Setup"
   ]
  },
  {
   "cell_type": "code",
   "execution_count": 32,
   "metadata": {
    "execution": {
     "iopub.execute_input": "2024-03-22T10:09:21.747546Z",
     "iopub.status.busy": "2024-03-22T10:09:21.747150Z",
     "iopub.status.idle": "2024-03-22T10:09:21.753116Z",
     "shell.execute_reply": "2024-03-22T10:09:21.752076Z"
    }
   },
   "outputs": [],
   "source": [
    "#|default_exp molecule.finalise"
   ]
  },
  {
   "cell_type": "code",
   "execution_count": 33,
   "metadata": {
    "execution": {
     "iopub.execute_input": "2024-03-22T10:09:21.758112Z",
     "iopub.status.busy": "2024-03-22T10:09:21.757494Z",
     "iopub.status.idle": "2024-03-22T10:09:21.770650Z",
     "shell.execute_reply": "2024-03-22T10:09:21.769652Z"
    }
   },
   "outputs": [],
   "source": [
    "#| export\n",
    "from pyprojroot import here\n",
    "root = here()\n",
    "import sys\n",
    "sys.path.append(str(root))"
   ]
  },
  {
   "cell_type": "code",
   "execution_count": 34,
   "metadata": {
    "execution": {
     "iopub.execute_input": "2024-03-22T10:09:21.775200Z",
     "iopub.status.busy": "2024-03-22T10:09:21.774539Z",
     "iopub.status.idle": "2024-03-22T10:09:23.688694Z",
     "shell.execute_reply": "2024-03-22T10:09:23.688247Z"
    }
   },
   "outputs": [],
   "source": [
    "#| export\n",
    "import pandas as pd\n",
    "import numpy as np\n",
    "import matplotlib.pyplot as plt\n",
    "\n",
    "import json\n",
    "\n",
    "from recipe_dataset.molecule.match import *\n",
    "from recipe_dataset.density.food_match import *\n",
    "\n",
    "from functools import reduce\n",
    "\n",
    "import pickle"
   ]
  },
  {
   "cell_type": "code",
   "execution_count": 35,
   "metadata": {
    "execution": {
     "iopub.execute_input": "2024-03-22T10:09:23.690209Z",
     "iopub.status.busy": "2024-03-22T10:09:23.690057Z",
     "iopub.status.idle": "2024-03-22T10:09:23.691857Z",
     "shell.execute_reply": "2024-03-22T10:09:23.691648Z"
    }
   },
   "outputs": [],
   "source": [
    "#| export\n",
    "pd.options.mode.chained_assignment = None  # default='warn'"
   ]
  },
  {
   "cell_type": "code",
   "execution_count": 36,
   "metadata": {
    "execution": {
     "iopub.execute_input": "2024-03-22T10:09:23.693002Z",
     "iopub.status.busy": "2024-03-22T10:09:23.692872Z",
     "iopub.status.idle": "2024-03-22T10:09:24.971923Z",
     "shell.execute_reply": "2024-03-22T10:09:24.971646Z"
    }
   },
   "outputs": [],
   "source": [
    "ingredients_df = pd.read_feather('../../data/local/recipe/partial/ingredients/0.feather')\n",
    "expanded_ingredients_df = pd.read_feather('../../data/local/recipe/partial/expanded_ingredients/0.feather')\n",
    "food_df = pd.read_feather('../../data/local/molecule/full/food/1_processed.feather')\n",
    "content_df = pd.read_feather('../../data/local/molecule/full/content/1_processed.feather')\n",
    "compound_df = pd.read_feather('../../data/local/molecule/full/compound/1_processed.feather')"
   ]
  },
  {
   "cell_type": "markdown",
   "metadata": {},
   "source": [
    "# Averaging Duplicate Content Values"
   ]
  },
  {
   "cell_type": "markdown",
   "metadata": {},
   "source": [
    "Here we have entries of each compound measurement - measured in a standardised concentration of mg/100g. What we want to form is a table of the foods, with features for the concentration of each chemical compound. "
   ]
  },
  {
   "cell_type": "markdown",
   "metadata": {},
   "source": [
    "### Handling NA's"
   ]
  },
  {
   "cell_type": "markdown",
   "metadata": {},
   "source": [
    "#### Content DF\n",
    "\n",
    "The NA measuremnets coming from this dataset we have already established as seen compounds, but without having thier concentrations measured. How do we deal with this numerically?\n",
    "\n",
    "Since they are registered as being seen, we should have a (>0) value for them. What makes the most sense is to use the total mean of this value.\n",
    "\n",
    "#### Expanded DF\n",
    "\n",
    "Since the data here comes from various sources, there is not a standardised set of measured compounds, so not all foods will have the full featureset. These NA's can be filled as 0, as there was no study which registered them as being present."
   ]
  },
  {
   "cell_type": "code",
   "execution_count": 37,
   "metadata": {
    "execution": {
     "iopub.execute_input": "2024-03-22T10:09:24.973605Z",
     "iopub.status.busy": "2024-03-22T10:09:24.973470Z",
     "iopub.status.idle": "2024-03-22T10:09:25.018760Z",
     "shell.execute_reply": "2024-03-22T10:09:25.018485Z"
    }
   },
   "outputs": [
    {
     "data": {
      "text/plain": [
       "9.853602148709754"
      ]
     },
     "execution_count": 37,
     "metadata": {},
     "output_type": "execute_result"
    }
   ],
   "source": [
    "content_df['concentration'].notnull().sum() / content_df.index.get_level_values(1).nunique()"
   ]
  },
  {
   "cell_type": "code",
   "execution_count": 38,
   "metadata": {
    "execution": {
     "iopub.execute_input": "2024-03-22T10:09:25.034257Z",
     "iopub.status.busy": "2024-03-22T10:09:25.034140Z",
     "iopub.status.idle": "2024-03-22T10:09:30.462503Z",
     "shell.execute_reply": "2024-03-22T10:09:30.462252Z"
    }
   },
   "outputs": [
    {
     "data": {
      "text/plain": [
       "source_id\n",
       "4            0.38438\n",
       "13          1.223154\n",
       "14        535.347763\n",
       "24          0.113715\n",
       "25          0.902589\n",
       "             ...    \n",
       "139984          <NA>\n",
       "139985          <NA>\n",
       "139986          <NA>\n",
       "139987          <NA>\n",
       "139988          <NA>\n",
       "Length: 58826, dtype: object"
      ]
     },
     "execution_count": 38,
     "metadata": {},
     "output_type": "execute_result"
    }
   ],
   "source": [
    "mean_source_concentrations = content_df.groupby('source_id').apply(lambda item: item['concentration'].mean(skipna=True))\n",
    "mean_source_concentrations"
   ]
  },
  {
   "cell_type": "markdown",
   "metadata": {},
   "source": [
    "Filtering compounds without any measured values."
   ]
  },
  {
   "cell_type": "code",
   "execution_count": 39,
   "metadata": {
    "execution": {
     "iopub.execute_input": "2024-03-22T10:09:30.463828Z",
     "iopub.status.busy": "2024-03-22T10:09:30.463731Z",
     "iopub.status.idle": "2024-03-22T10:09:30.673720Z",
     "shell.execute_reply": "2024-03-22T10:09:30.673390Z"
    }
   },
   "outputs": [],
   "source": [
    "content_df = content_df.loc[~content_df.index.get_level_values(1).isin(mean_source_concentrations.index[mean_source_concentrations.isna()])]"
   ]
  },
  {
   "cell_type": "code",
   "execution_count": 40,
   "metadata": {
    "execution": {
     "iopub.execute_input": "2024-03-22T10:09:30.675344Z",
     "iopub.status.busy": "2024-03-22T10:09:30.675239Z",
     "iopub.status.idle": "2024-03-22T10:09:30.970489Z",
     "shell.execute_reply": "2024-03-22T10:09:30.970122Z"
    }
   },
   "outputs": [],
   "source": [
    "mean_source_concentrations = content_df.groupby('source_id').apply(lambda item: item['concentration'].mean(skipna=True))\n",
    "assert mean_source_concentrations.isna().sum() == 0"
   ]
  },
  {
   "cell_type": "code",
   "execution_count": 41,
   "metadata": {
    "execution": {
     "iopub.execute_input": "2024-03-22T10:09:30.972005Z",
     "iopub.status.busy": "2024-03-22T10:09:30.971907Z",
     "iopub.status.idle": "2024-03-22T10:09:31.242673Z",
     "shell.execute_reply": "2024-03-22T10:09:31.242377Z"
    }
   },
   "outputs": [],
   "source": [
    "content_df = content_df.reset_index(0)\n",
    "content_df['concentration'] = content_df['concentration'].fillna(mean_source_concentrations)\n",
    "content_df = content_df.reset_index().set_index(['food_id', 'source_id'])"
   ]
  },
  {
   "cell_type": "markdown",
   "metadata": {},
   "source": [
    "## Formatting"
   ]
  },
  {
   "cell_type": "code",
   "execution_count": 42,
   "metadata": {
    "execution": {
     "iopub.execute_input": "2024-03-22T10:09:31.244197Z",
     "iopub.status.busy": "2024-03-22T10:09:31.244110Z",
     "iopub.status.idle": "2024-03-22T10:09:31.424967Z",
     "shell.execute_reply": "2024-03-22T10:09:31.424613Z"
    }
   },
   "outputs": [
    {
     "data": {
      "text/html": [
       "<div>\n",
       "<style scoped>\n",
       "    .dataframe tbody tr th:only-of-type {\n",
       "        vertical-align: middle;\n",
       "    }\n",
       "\n",
       "    .dataframe tbody tr th {\n",
       "        vertical-align: top;\n",
       "    }\n",
       "\n",
       "    .dataframe thead th {\n",
       "        text-align: right;\n",
       "    }\n",
       "</style>\n",
       "<table border=\"1\" class=\"dataframe\">\n",
       "  <thead>\n",
       "    <tr style=\"text-align: right;\">\n",
       "      <th>source_id</th>\n",
       "      <th>4</th>\n",
       "      <th>13</th>\n",
       "      <th>14</th>\n",
       "      <th>24</th>\n",
       "      <th>25</th>\n",
       "      <th>27</th>\n",
       "      <th>31</th>\n",
       "      <th>35</th>\n",
       "      <th>40</th>\n",
       "      <th>41</th>\n",
       "      <th>...</th>\n",
       "      <th>125217</th>\n",
       "      <th>125218</th>\n",
       "      <th>125219</th>\n",
       "      <th>125220</th>\n",
       "      <th>125221</th>\n",
       "      <th>125222</th>\n",
       "      <th>125223</th>\n",
       "      <th>125225</th>\n",
       "      <th>125226</th>\n",
       "      <th>125227</th>\n",
       "    </tr>\n",
       "    <tr>\n",
       "      <th>food_id</th>\n",
       "      <th></th>\n",
       "      <th></th>\n",
       "      <th></th>\n",
       "      <th></th>\n",
       "      <th></th>\n",
       "      <th></th>\n",
       "      <th></th>\n",
       "      <th></th>\n",
       "      <th></th>\n",
       "      <th></th>\n",
       "      <th></th>\n",
       "      <th></th>\n",
       "      <th></th>\n",
       "      <th></th>\n",
       "      <th></th>\n",
       "      <th></th>\n",
       "      <th></th>\n",
       "      <th></th>\n",
       "      <th></th>\n",
       "      <th></th>\n",
       "      <th></th>\n",
       "    </tr>\n",
       "  </thead>\n",
       "  <tbody>\n",
       "    <tr>\n",
       "      <th>0</th>\n",
       "      <td>&lt;NA&gt;</td>\n",
       "      <td>&lt;NA&gt;</td>\n",
       "      <td>&lt;NA&gt;</td>\n",
       "      <td>&lt;NA&gt;</td>\n",
       "      <td>&lt;NA&gt;</td>\n",
       "      <td>&lt;NA&gt;</td>\n",
       "      <td>&lt;NA&gt;</td>\n",
       "      <td>&lt;NA&gt;</td>\n",
       "      <td>&lt;NA&gt;</td>\n",
       "      <td>&lt;NA&gt;</td>\n",
       "      <td>...</td>\n",
       "      <td>&lt;NA&gt;</td>\n",
       "      <td>&lt;NA&gt;</td>\n",
       "      <td>&lt;NA&gt;</td>\n",
       "      <td>&lt;NA&gt;</td>\n",
       "      <td>&lt;NA&gt;</td>\n",
       "      <td>&lt;NA&gt;</td>\n",
       "      <td>&lt;NA&gt;</td>\n",
       "      <td>&lt;NA&gt;</td>\n",
       "      <td>&lt;NA&gt;</td>\n",
       "      <td>&lt;NA&gt;</td>\n",
       "    </tr>\n",
       "    <tr>\n",
       "      <th>1</th>\n",
       "      <td>&lt;NA&gt;</td>\n",
       "      <td>&lt;NA&gt;</td>\n",
       "      <td>&lt;NA&gt;</td>\n",
       "      <td>&lt;NA&gt;</td>\n",
       "      <td>&lt;NA&gt;</td>\n",
       "      <td>&lt;NA&gt;</td>\n",
       "      <td>&lt;NA&gt;</td>\n",
       "      <td>&lt;NA&gt;</td>\n",
       "      <td>&lt;NA&gt;</td>\n",
       "      <td>&lt;NA&gt;</td>\n",
       "      <td>...</td>\n",
       "      <td>&lt;NA&gt;</td>\n",
       "      <td>&lt;NA&gt;</td>\n",
       "      <td>&lt;NA&gt;</td>\n",
       "      <td>&lt;NA&gt;</td>\n",
       "      <td>&lt;NA&gt;</td>\n",
       "      <td>&lt;NA&gt;</td>\n",
       "      <td>&lt;NA&gt;</td>\n",
       "      <td>&lt;NA&gt;</td>\n",
       "      <td>&lt;NA&gt;</td>\n",
       "      <td>&lt;NA&gt;</td>\n",
       "    </tr>\n",
       "    <tr>\n",
       "      <th>2</th>\n",
       "      <td>&lt;NA&gt;</td>\n",
       "      <td>&lt;NA&gt;</td>\n",
       "      <td>&lt;NA&gt;</td>\n",
       "      <td>&lt;NA&gt;</td>\n",
       "      <td>&lt;NA&gt;</td>\n",
       "      <td>&lt;NA&gt;</td>\n",
       "      <td>&lt;NA&gt;</td>\n",
       "      <td>&lt;NA&gt;</td>\n",
       "      <td>&lt;NA&gt;</td>\n",
       "      <td>&lt;NA&gt;</td>\n",
       "      <td>...</td>\n",
       "      <td>&lt;NA&gt;</td>\n",
       "      <td>&lt;NA&gt;</td>\n",
       "      <td>&lt;NA&gt;</td>\n",
       "      <td>&lt;NA&gt;</td>\n",
       "      <td>&lt;NA&gt;</td>\n",
       "      <td>&lt;NA&gt;</td>\n",
       "      <td>&lt;NA&gt;</td>\n",
       "      <td>&lt;NA&gt;</td>\n",
       "      <td>&lt;NA&gt;</td>\n",
       "      <td>&lt;NA&gt;</td>\n",
       "    </tr>\n",
       "    <tr>\n",
       "      <th>3</th>\n",
       "      <td>&lt;NA&gt;</td>\n",
       "      <td>&lt;NA&gt;</td>\n",
       "      <td>&lt;NA&gt;</td>\n",
       "      <td>&lt;NA&gt;</td>\n",
       "      <td>&lt;NA&gt;</td>\n",
       "      <td>&lt;NA&gt;</td>\n",
       "      <td>&lt;NA&gt;</td>\n",
       "      <td>&lt;NA&gt;</td>\n",
       "      <td>&lt;NA&gt;</td>\n",
       "      <td>&lt;NA&gt;</td>\n",
       "      <td>...</td>\n",
       "      <td>&lt;NA&gt;</td>\n",
       "      <td>&lt;NA&gt;</td>\n",
       "      <td>&lt;NA&gt;</td>\n",
       "      <td>&lt;NA&gt;</td>\n",
       "      <td>&lt;NA&gt;</td>\n",
       "      <td>&lt;NA&gt;</td>\n",
       "      <td>&lt;NA&gt;</td>\n",
       "      <td>&lt;NA&gt;</td>\n",
       "      <td>&lt;NA&gt;</td>\n",
       "      <td>&lt;NA&gt;</td>\n",
       "    </tr>\n",
       "    <tr>\n",
       "      <th>4</th>\n",
       "      <td>&lt;NA&gt;</td>\n",
       "      <td>&lt;NA&gt;</td>\n",
       "      <td>&lt;NA&gt;</td>\n",
       "      <td>&lt;NA&gt;</td>\n",
       "      <td>&lt;NA&gt;</td>\n",
       "      <td>&lt;NA&gt;</td>\n",
       "      <td>&lt;NA&gt;</td>\n",
       "      <td>&lt;NA&gt;</td>\n",
       "      <td>&lt;NA&gt;</td>\n",
       "      <td>&lt;NA&gt;</td>\n",
       "      <td>...</td>\n",
       "      <td>&lt;NA&gt;</td>\n",
       "      <td>&lt;NA&gt;</td>\n",
       "      <td>&lt;NA&gt;</td>\n",
       "      <td>&lt;NA&gt;</td>\n",
       "      <td>&lt;NA&gt;</td>\n",
       "      <td>&lt;NA&gt;</td>\n",
       "      <td>&lt;NA&gt;</td>\n",
       "      <td>&lt;NA&gt;</td>\n",
       "      <td>&lt;NA&gt;</td>\n",
       "      <td>&lt;NA&gt;</td>\n",
       "    </tr>\n",
       "    <tr>\n",
       "      <th>...</th>\n",
       "      <td>...</td>\n",
       "      <td>...</td>\n",
       "      <td>...</td>\n",
       "      <td>...</td>\n",
       "      <td>...</td>\n",
       "      <td>...</td>\n",
       "      <td>...</td>\n",
       "      <td>...</td>\n",
       "      <td>...</td>\n",
       "      <td>...</td>\n",
       "      <td>...</td>\n",
       "      <td>...</td>\n",
       "      <td>...</td>\n",
       "      <td>...</td>\n",
       "      <td>...</td>\n",
       "      <td>...</td>\n",
       "      <td>...</td>\n",
       "      <td>...</td>\n",
       "      <td>...</td>\n",
       "      <td>...</td>\n",
       "      <td>...</td>\n",
       "    </tr>\n",
       "    <tr>\n",
       "      <th>1156</th>\n",
       "      <td>&lt;NA&gt;</td>\n",
       "      <td>&lt;NA&gt;</td>\n",
       "      <td>&lt;NA&gt;</td>\n",
       "      <td>&lt;NA&gt;</td>\n",
       "      <td>&lt;NA&gt;</td>\n",
       "      <td>&lt;NA&gt;</td>\n",
       "      <td>&lt;NA&gt;</td>\n",
       "      <td>&lt;NA&gt;</td>\n",
       "      <td>&lt;NA&gt;</td>\n",
       "      <td>&lt;NA&gt;</td>\n",
       "      <td>...</td>\n",
       "      <td>&lt;NA&gt;</td>\n",
       "      <td>&lt;NA&gt;</td>\n",
       "      <td>&lt;NA&gt;</td>\n",
       "      <td>&lt;NA&gt;</td>\n",
       "      <td>&lt;NA&gt;</td>\n",
       "      <td>&lt;NA&gt;</td>\n",
       "      <td>&lt;NA&gt;</td>\n",
       "      <td>&lt;NA&gt;</td>\n",
       "      <td>&lt;NA&gt;</td>\n",
       "      <td>&lt;NA&gt;</td>\n",
       "    </tr>\n",
       "    <tr>\n",
       "      <th>1157</th>\n",
       "      <td>&lt;NA&gt;</td>\n",
       "      <td>&lt;NA&gt;</td>\n",
       "      <td>&lt;NA&gt;</td>\n",
       "      <td>&lt;NA&gt;</td>\n",
       "      <td>&lt;NA&gt;</td>\n",
       "      <td>&lt;NA&gt;</td>\n",
       "      <td>&lt;NA&gt;</td>\n",
       "      <td>&lt;NA&gt;</td>\n",
       "      <td>&lt;NA&gt;</td>\n",
       "      <td>&lt;NA&gt;</td>\n",
       "      <td>...</td>\n",
       "      <td>&lt;NA&gt;</td>\n",
       "      <td>&lt;NA&gt;</td>\n",
       "      <td>&lt;NA&gt;</td>\n",
       "      <td>&lt;NA&gt;</td>\n",
       "      <td>&lt;NA&gt;</td>\n",
       "      <td>&lt;NA&gt;</td>\n",
       "      <td>&lt;NA&gt;</td>\n",
       "      <td>&lt;NA&gt;</td>\n",
       "      <td>&lt;NA&gt;</td>\n",
       "      <td>&lt;NA&gt;</td>\n",
       "    </tr>\n",
       "    <tr>\n",
       "      <th>1158</th>\n",
       "      <td>&lt;NA&gt;</td>\n",
       "      <td>&lt;NA&gt;</td>\n",
       "      <td>&lt;NA&gt;</td>\n",
       "      <td>&lt;NA&gt;</td>\n",
       "      <td>&lt;NA&gt;</td>\n",
       "      <td>&lt;NA&gt;</td>\n",
       "      <td>&lt;NA&gt;</td>\n",
       "      <td>&lt;NA&gt;</td>\n",
       "      <td>&lt;NA&gt;</td>\n",
       "      <td>&lt;NA&gt;</td>\n",
       "      <td>...</td>\n",
       "      <td>&lt;NA&gt;</td>\n",
       "      <td>&lt;NA&gt;</td>\n",
       "      <td>&lt;NA&gt;</td>\n",
       "      <td>&lt;NA&gt;</td>\n",
       "      <td>&lt;NA&gt;</td>\n",
       "      <td>&lt;NA&gt;</td>\n",
       "      <td>&lt;NA&gt;</td>\n",
       "      <td>&lt;NA&gt;</td>\n",
       "      <td>&lt;NA&gt;</td>\n",
       "      <td>&lt;NA&gt;</td>\n",
       "    </tr>\n",
       "    <tr>\n",
       "      <th>1159</th>\n",
       "      <td>&lt;NA&gt;</td>\n",
       "      <td>&lt;NA&gt;</td>\n",
       "      <td>&lt;NA&gt;</td>\n",
       "      <td>&lt;NA&gt;</td>\n",
       "      <td>&lt;NA&gt;</td>\n",
       "      <td>&lt;NA&gt;</td>\n",
       "      <td>&lt;NA&gt;</td>\n",
       "      <td>&lt;NA&gt;</td>\n",
       "      <td>&lt;NA&gt;</td>\n",
       "      <td>&lt;NA&gt;</td>\n",
       "      <td>...</td>\n",
       "      <td>&lt;NA&gt;</td>\n",
       "      <td>&lt;NA&gt;</td>\n",
       "      <td>&lt;NA&gt;</td>\n",
       "      <td>&lt;NA&gt;</td>\n",
       "      <td>&lt;NA&gt;</td>\n",
       "      <td>&lt;NA&gt;</td>\n",
       "      <td>&lt;NA&gt;</td>\n",
       "      <td>&lt;NA&gt;</td>\n",
       "      <td>&lt;NA&gt;</td>\n",
       "      <td>&lt;NA&gt;</td>\n",
       "    </tr>\n",
       "    <tr>\n",
       "      <th>1160</th>\n",
       "      <td>&lt;NA&gt;</td>\n",
       "      <td>&lt;NA&gt;</td>\n",
       "      <td>&lt;NA&gt;</td>\n",
       "      <td>&lt;NA&gt;</td>\n",
       "      <td>&lt;NA&gt;</td>\n",
       "      <td>&lt;NA&gt;</td>\n",
       "      <td>&lt;NA&gt;</td>\n",
       "      <td>&lt;NA&gt;</td>\n",
       "      <td>&lt;NA&gt;</td>\n",
       "      <td>&lt;NA&gt;</td>\n",
       "      <td>...</td>\n",
       "      <td>&lt;NA&gt;</td>\n",
       "      <td>&lt;NA&gt;</td>\n",
       "      <td>&lt;NA&gt;</td>\n",
       "      <td>&lt;NA&gt;</td>\n",
       "      <td>&lt;NA&gt;</td>\n",
       "      <td>&lt;NA&gt;</td>\n",
       "      <td>&lt;NA&gt;</td>\n",
       "      <td>&lt;NA&gt;</td>\n",
       "      <td>&lt;NA&gt;</td>\n",
       "      <td>&lt;NA&gt;</td>\n",
       "    </tr>\n",
       "  </tbody>\n",
       "</table>\n",
       "<p>1161 rows × 1746 columns</p>\n",
       "</div>"
      ],
      "text/plain": [
       "source_id  4       13      14      24      25      27      31      35      \\\n",
       "food_id                                                                     \n",
       "0            <NA>    <NA>    <NA>    <NA>    <NA>    <NA>    <NA>    <NA>   \n",
       "1            <NA>    <NA>    <NA>    <NA>    <NA>    <NA>    <NA>    <NA>   \n",
       "2            <NA>    <NA>    <NA>    <NA>    <NA>    <NA>    <NA>    <NA>   \n",
       "3            <NA>    <NA>    <NA>    <NA>    <NA>    <NA>    <NA>    <NA>   \n",
       "4            <NA>    <NA>    <NA>    <NA>    <NA>    <NA>    <NA>    <NA>   \n",
       "...           ...     ...     ...     ...     ...     ...     ...     ...   \n",
       "1156         <NA>    <NA>    <NA>    <NA>    <NA>    <NA>    <NA>    <NA>   \n",
       "1157         <NA>    <NA>    <NA>    <NA>    <NA>    <NA>    <NA>    <NA>   \n",
       "1158         <NA>    <NA>    <NA>    <NA>    <NA>    <NA>    <NA>    <NA>   \n",
       "1159         <NA>    <NA>    <NA>    <NA>    <NA>    <NA>    <NA>    <NA>   \n",
       "1160         <NA>    <NA>    <NA>    <NA>    <NA>    <NA>    <NA>    <NA>   \n",
       "\n",
       "source_id  40      41      ...  125217  125218  125219  125220  125221  \\\n",
       "food_id                    ...                                           \n",
       "0            <NA>    <NA>  ...    <NA>    <NA>    <NA>    <NA>    <NA>   \n",
       "1            <NA>    <NA>  ...    <NA>    <NA>    <NA>    <NA>    <NA>   \n",
       "2            <NA>    <NA>  ...    <NA>    <NA>    <NA>    <NA>    <NA>   \n",
       "3            <NA>    <NA>  ...    <NA>    <NA>    <NA>    <NA>    <NA>   \n",
       "4            <NA>    <NA>  ...    <NA>    <NA>    <NA>    <NA>    <NA>   \n",
       "...           ...     ...  ...     ...     ...     ...     ...     ...   \n",
       "1156         <NA>    <NA>  ...    <NA>    <NA>    <NA>    <NA>    <NA>   \n",
       "1157         <NA>    <NA>  ...    <NA>    <NA>    <NA>    <NA>    <NA>   \n",
       "1158         <NA>    <NA>  ...    <NA>    <NA>    <NA>    <NA>    <NA>   \n",
       "1159         <NA>    <NA>  ...    <NA>    <NA>    <NA>    <NA>    <NA>   \n",
       "1160         <NA>    <NA>  ...    <NA>    <NA>    <NA>    <NA>    <NA>   \n",
       "\n",
       "source_id  125222  125223  125225  125226  125227  \n",
       "food_id                                            \n",
       "0            <NA>    <NA>    <NA>    <NA>    <NA>  \n",
       "1            <NA>    <NA>    <NA>    <NA>    <NA>  \n",
       "2            <NA>    <NA>    <NA>    <NA>    <NA>  \n",
       "3            <NA>    <NA>    <NA>    <NA>    <NA>  \n",
       "4            <NA>    <NA>    <NA>    <NA>    <NA>  \n",
       "...           ...     ...     ...     ...     ...  \n",
       "1156         <NA>    <NA>    <NA>    <NA>    <NA>  \n",
       "1157         <NA>    <NA>    <NA>    <NA>    <NA>  \n",
       "1158         <NA>    <NA>    <NA>    <NA>    <NA>  \n",
       "1159         <NA>    <NA>    <NA>    <NA>    <NA>  \n",
       "1160         <NA>    <NA>    <NA>    <NA>    <NA>  \n",
       "\n",
       "[1161 rows x 1746 columns]"
      ]
     },
     "execution_count": 42,
     "metadata": {},
     "output_type": "execute_result"
    }
   ],
   "source": [
    "food_compounds_df = pd.pivot_table(content_df, index='food_id', columns='source_id', values='concentration', aggfunc='mean', fill_value=pd.NA)\n",
    "food_compounds_df"
   ]
  },
  {
   "cell_type": "markdown",
   "metadata": {},
   "source": [
    "# Feature Engineering"
   ]
  },
  {
   "cell_type": "markdown",
   "metadata": {},
   "source": [
    "Here we have a large number of features (ie. compound datapoints) which could be filtered. "
   ]
  },
  {
   "cell_type": "markdown",
   "metadata": {},
   "source": [
    "## Handling Nulls"
   ]
  },
  {
   "cell_type": "markdown",
   "metadata": {},
   "source": [
    "The filter criteria here are how many datapoints they contain. "
   ]
  },
  {
   "cell_type": "markdown",
   "metadata": {},
   "source": [
    "### Rows"
   ]
  },
  {
   "cell_type": "code",
   "execution_count": 43,
   "metadata": {
    "execution": {
     "iopub.execute_input": "2024-03-22T10:09:31.426258Z",
     "iopub.status.busy": "2024-03-22T10:09:31.426171Z",
     "iopub.status.idle": "2024-03-22T10:09:31.442847Z",
     "shell.execute_reply": "2024-03-22T10:09:31.442625Z"
    }
   },
   "outputs": [
    {
     "data": {
      "text/plain": [
       "food_id\n",
       "0       333\n",
       "1       449\n",
       "2       428\n",
       "3        75\n",
       "4       337\n",
       "       ... \n",
       "1156     98\n",
       "1157    183\n",
       "1158    141\n",
       "1159      1\n",
       "1160      2\n",
       "Length: 1161, dtype: int64"
      ]
     },
     "execution_count": 43,
     "metadata": {},
     "output_type": "execute_result"
    }
   ],
   "source": [
    "notna = food_compounds_df.notna().sum(axis=1)\n",
    "notna"
   ]
  },
  {
   "cell_type": "markdown",
   "metadata": {},
   "source": [
    "Removing foods with low compound measurements."
   ]
  },
  {
   "cell_type": "code",
   "execution_count": 44,
   "metadata": {
    "execution": {
     "iopub.execute_input": "2024-03-22T10:09:31.444081Z",
     "iopub.status.busy": "2024-03-22T10:09:31.443937Z",
     "iopub.status.idle": "2024-03-22T10:09:31.461919Z",
     "shell.execute_reply": "2024-03-22T10:09:31.461713Z"
    }
   },
   "outputs": [
    {
     "data": {
      "text/plain": [
       "food_id\n",
       "0       333\n",
       "1       449\n",
       "2       428\n",
       "3        75\n",
       "4       337\n",
       "       ... \n",
       "1156     98\n",
       "1157    183\n",
       "1158    141\n",
       "1159      1\n",
       "1160      2\n",
       "Length: 1161, dtype: int64"
      ]
     },
     "execution_count": 44,
     "metadata": {},
     "output_type": "execute_result"
    }
   ],
   "source": [
    "notna = food_compounds_df.notna().sum(axis=1)\n",
    "notna"
   ]
  },
  {
   "cell_type": "code",
   "execution_count": 45,
   "metadata": {
    "execution": {
     "iopub.execute_input": "2024-03-22T10:09:31.463009Z",
     "iopub.status.busy": "2024-03-22T10:09:31.462878Z",
     "iopub.status.idle": "2024-03-22T10:09:31.464978Z",
     "shell.execute_reply": "2024-03-22T10:09:31.464790Z"
    }
   },
   "outputs": [
    {
     "data": {
      "text/plain": [
       "(172.49698535745048, 151.38414324859454)"
      ]
     },
     "execution_count": 45,
     "metadata": {},
     "output_type": "execute_result"
    }
   ],
   "source": [
    "notna.mean(), notna.std()"
   ]
  },
  {
   "cell_type": "code",
   "execution_count": 46,
   "metadata": {
    "execution": {
     "iopub.execute_input": "2024-03-22T10:09:31.465965Z",
     "iopub.status.busy": "2024-03-22T10:09:31.465843Z",
     "iopub.status.idle": "2024-03-22T10:09:31.551271Z",
     "shell.execute_reply": "2024-03-22T10:09:31.550830Z"
    }
   },
   "outputs": [
    {
     "data": {
      "image/png": "[encoded data removed]",
      "text/plain": [
       "<Figure size 640x480 with 1 Axes>"
      ]
     },
     "metadata": {},
     "output_type": "display_data"
    }
   ],
   "source": [
    "plt.hist(notna, bins=100);"
   ]
  },
  {
   "cell_type": "markdown",
   "metadata": {},
   "source": [
    "There are still many foods with near 0 compound information. Which foods are they?"
   ]
  },
  {
   "cell_type": "code",
   "execution_count": 47,
   "metadata": {
    "execution": {
     "iopub.execute_input": "2024-03-22T10:09:31.552598Z",
     "iopub.status.busy": "2024-03-22T10:09:31.552504Z",
     "iopub.status.idle": "2024-03-22T10:09:31.633709Z",
     "shell.execute_reply": "2024-03-22T10:09:31.633421Z"
    }
   },
   "outputs": [
    {
     "data": {
      "image/png": "[encoded data removed]",
      "text/plain": [
       "<Figure size 640x480 with 1 Axes>"
      ]
     },
     "metadata": {},
     "output_type": "display_data"
    }
   ],
   "source": [
    "plt.hist(notna[notna<100], bins=100);"
   ]
  },
  {
   "cell_type": "code",
   "execution_count": 48,
   "metadata": {
    "execution": {
     "iopub.execute_input": "2024-03-22T10:09:31.634945Z",
     "iopub.status.busy": "2024-03-22T10:09:31.634863Z",
     "iopub.status.idle": "2024-03-22T10:09:31.638434Z",
     "shell.execute_reply": "2024-03-22T10:09:31.638244Z"
    }
   },
   "outputs": [
    {
     "data": {
      "text/plain": [
       "food_id\n",
       "13        dried lemon verbena\n",
       "33                   cook oat\n",
       "124           dried sweet bay\n",
       "199             cook purslane\n",
       "219                 cook pear\n",
       "228        dried blackcurrant\n",
       "239         dried common sage\n",
       "252            dried eggplant\n",
       "385                     bison\n",
       "386          alaska blackfish\n",
       "393                 wild boar\n",
       "400                   buffalo\n",
       "404      cook giant butterbur\n",
       "434            nuttall cockle\n",
       "467                       elk\n",
       "468                       emu\n",
       "477          dried ginkgo nut\n",
       "478             greylag goose\n",
       "484                guinea hen\n",
       "491                     horse\n",
       "512            leather chiton\n",
       "522               dried lotus\n",
       "541                  tunicate\n",
       "546     dried pacific herring\n",
       "549               velvet duck\n",
       "550                  pheasant\n",
       "598              sea cucumber\n",
       "624                     squab\n",
       "680            pacific salmon\n",
       "713              dried walrus\n",
       "801                berry wine\n",
       "886              cocoa liquor\n",
       "898                 cook tofu\n",
       "944             cook soy milk\n",
       "945            dried soy milk\n",
       "1070               crustacean\n",
       "1077                 beverage\n",
       "1108               macroalgae\n",
       "1110              linseed oil\n",
       "1111             rapeseed oil\n",
       "1112              soybean oil\n",
       "1117                 egg yolk\n",
       "1118                rosé wine\n",
       "1119               canola oil\n",
       "1120             dessert wine\n",
       "1121            red champagne\n",
       "1123          white champagne\n",
       "1124          red grape juice\n",
       "1125        white grape juice\n",
       "1132        whole wheat bread\n",
       "1159              baking soda\n",
       "1160            baking powder\n",
       "Name: name, dtype: string"
      ]
     },
     "execution_count": 48,
     "metadata": {},
     "output_type": "execute_result"
    }
   ],
   "source": [
    "notna[notna < 10].to_frame('contents_count').join(food_df['name'])['name']"
   ]
  },
  {
   "cell_type": "markdown",
   "metadata": {},
   "source": [
    "It's good to see these are simply just obscure ingredients, which can quite easily be removed."
   ]
  },
  {
   "cell_type": "code",
   "execution_count": 49,
   "metadata": {
    "execution": {
     "iopub.execute_input": "2024-03-22T10:09:31.639739Z",
     "iopub.status.busy": "2024-03-22T10:09:31.639578Z",
     "iopub.status.idle": "2024-03-22T10:09:31.666108Z",
     "shell.execute_reply": "2024-03-22T10:09:31.665910Z"
    }
   },
   "outputs": [
    {
     "data": {
      "text/plain": [
       "(1106, 1746)"
      ]
     },
     "execution_count": 49,
     "metadata": {},
     "output_type": "execute_result"
    }
   ],
   "source": [
    "food_compounds_df = food_compounds_df[(notna > 10) | food_compounds_df.index.isin([1025, 1026])]\n",
    "food_compounds_df.shape"
   ]
  },
  {
   "cell_type": "markdown",
   "metadata": {},
   "source": [
    "### Columns"
   ]
  },
  {
   "cell_type": "markdown",
   "metadata": {},
   "source": [
    "Removing compounds with low total appearances."
   ]
  },
  {
   "cell_type": "code",
   "execution_count": 50,
   "metadata": {
    "execution": {
     "iopub.execute_input": "2024-03-22T10:09:31.667388Z",
     "iopub.status.busy": "2024-03-22T10:09:31.667305Z",
     "iopub.status.idle": "2024-03-22T10:09:31.694762Z",
     "shell.execute_reply": "2024-03-22T10:09:31.694563Z"
    }
   },
   "outputs": [
    {
     "data": {
      "text/plain": [
       "source_id\n",
       "4         2\n",
       "13        1\n",
       "14        4\n",
       "24        2\n",
       "25        2\n",
       "         ..\n",
       "125222    2\n",
       "125223    2\n",
       "125225    2\n",
       "125226    2\n",
       "125227    3\n",
       "Length: 1746, dtype: int64"
      ]
     },
     "execution_count": 50,
     "metadata": {},
     "output_type": "execute_result"
    }
   ],
   "source": [
    "notna_cols = food_compounds_df.notna().sum(axis=0)\n",
    "notna_cols"
   ]
  },
  {
   "cell_type": "code",
   "execution_count": 51,
   "metadata": {},
   "outputs": [
    {
     "data": {
      "image/png": "[encoded data removed]",
      "text/plain": [
       "<Figure size 640x480 with 1 Axes>"
      ]
     },
     "metadata": {},
     "output_type": "display_data"
    }
   ],
   "source": [
    "plt.hist(notna_cols, bins=100);"
   ]
  },
  {
   "cell_type": "code",
   "execution_count": 52,
   "metadata": {
    "execution": {
     "iopub.execute_input": "2024-03-22T10:09:31.695916Z",
     "iopub.status.busy": "2024-03-22T10:09:31.695764Z",
     "iopub.status.idle": "2024-03-22T10:09:31.697668Z",
     "shell.execute_reply": "2024-03-22T10:09:31.697485Z"
    }
   },
   "outputs": [
    {
     "data": {
      "text/plain": [
       "(1003,)"
      ]
     },
     "execution_count": 52,
     "metadata": {},
     "output_type": "execute_result"
    }
   ],
   "source": [
    "notna_cols.index[notna_cols<10].shape"
   ]
  },
  {
   "cell_type": "code",
   "execution_count": 53,
   "metadata": {},
   "outputs": [
    {
     "data": {
      "text/plain": [
       "(1106, 408)"
      ]
     },
     "execution_count": 53,
     "metadata": {},
     "output_type": "execute_result"
    }
   ],
   "source": [
    "food_compounds_df.loc[:, (notna_cols>300)].shape"
   ]
  },
  {
   "cell_type": "code",
   "execution_count": 55,
   "metadata": {
    "execution": {
     "iopub.execute_input": "2024-03-22T10:09:31.698770Z",
     "iopub.status.busy": "2024-03-22T10:09:31.698615Z",
     "iopub.status.idle": "2024-03-22T10:09:31.703664Z",
     "shell.execute_reply": "2024-03-22T10:09:31.703472Z"
    }
   },
   "outputs": [
    {
     "data": {
      "text/plain": [
       "(1106, 408)"
      ]
     },
     "execution_count": 55,
     "metadata": {},
     "output_type": "execute_result"
    }
   ],
   "source": [
    "food_compounds_df = food_compounds_df.loc[:, (notna_cols>300)]\n",
    "food_compounds_df.shape"
   ]
  },
  {
   "cell_type": "code",
   "execution_count": 58,
   "metadata": {
    "execution": {
     "iopub.execute_input": "2024-03-22T10:09:31.704785Z",
     "iopub.status.busy": "2024-03-22T10:09:31.704634Z",
     "iopub.status.idle": "2024-03-22T10:09:31.799808Z",
     "shell.execute_reply": "2024-03-22T10:09:31.799513Z"
    }
   },
   "outputs": [
    {
     "data": {
      "image/png": "[encoded data removed]",
      "text/plain": [
       "<Figure size 640x480 with 1 Axes>"
      ]
     },
     "metadata": {},
     "output_type": "display_data"
    }
   ],
   "source": [
    "plt.hist((food_compounds_df.notna()).sum(axis=0), bins=100);"
   ]
  },
  {
   "cell_type": "markdown",
   "metadata": {},
   "source": [
    "## Filtering Zeros"
   ]
  },
  {
   "cell_type": "markdown",
   "metadata": {},
   "source": [
    "We kept zeros separate here because they do have information ie. does not contain this compound rather than not been studied. \n",
    "\n",
    "However ultimatley our model will require continious inputs, in which case the NA's will need to be handled. The best assumption that could be made here are that the unmeasured compounds are zero.\n",
    "\n",
    "In this case, we repeat the above process to filter the samples/features that are all (or mostly) zero."
   ]
  },
  {
   "cell_type": "code",
   "execution_count": 74,
   "metadata": {
    "execution": {
     "iopub.execute_input": "2024-03-22T10:09:31.801083Z",
     "iopub.status.busy": "2024-03-22T10:09:31.800996Z",
     "iopub.status.idle": "2024-03-22T10:09:31.889275Z",
     "shell.execute_reply": "2024-03-22T10:09:31.888923Z"
    }
   },
   "outputs": [],
   "source": [
    "food_compounds_df = food_compounds_df.fillna(0)"
   ]
  },
  {
   "cell_type": "markdown",
   "metadata": {},
   "source": [
    "### Rows"
   ]
  },
  {
   "cell_type": "code",
   "execution_count": 79,
   "metadata": {},
   "outputs": [
    {
     "data": {
      "image/png": "[encoded data removed]",
      "text/plain": [
       "<Figure size 640x480 with 1 Axes>"
      ]
     },
     "metadata": {},
     "output_type": "display_data"
    }
   ],
   "source": [
    "nonzero = (food_compounds_df > 0).sum(1)\n",
    "plt.hist(nonzero, bins=100);"
   ]
  },
  {
   "cell_type": "code",
   "execution_count": 80,
   "metadata": {},
   "outputs": [
    {
     "data": {
      "text/plain": [
       "food_id\n",
       "3       52\n",
       "6       14\n",
       "7       12\n",
       "9       14\n",
       "11       5\n",
       "        ..\n",
       "1115    42\n",
       "1130    63\n",
       "1131    47\n",
       "1135    36\n",
       "1156    15\n",
       "Length: 649, dtype: Int64"
      ]
     },
     "execution_count": 80,
     "metadata": {},
     "output_type": "execute_result"
    }
   ],
   "source": [
    "nonzero[nonzero < 100]"
   ]
  },
  {
   "cell_type": "code",
   "execution_count": 81,
   "metadata": {},
   "outputs": [
    {
     "data": {
      "text/plain": [
       "food_id\n",
       "3         cook allium\n",
       "6           cook leek\n",
       "7          dried leek\n",
       "9        dried garlic\n",
       "11        dried chive\n",
       "            ...      \n",
       "1115       white wine\n",
       "1130             clam\n",
       "1131        cook clam\n",
       "1135    cook plantain\n",
       "1156         fish oil\n",
       "Name: name, Length: 649, dtype: string"
      ]
     },
     "execution_count": 81,
     "metadata": {},
     "output_type": "execute_result"
    }
   ],
   "source": [
    "food_df['name'].loc[nonzero[nonzero < 100].index]"
   ]
  },
  {
   "cell_type": "markdown",
   "metadata": {},
   "source": [
    "This might not be a good idea, because there in fact are many foods which don't contain many compounds yet are still vital to a recipe (ie. baking soda, salt, etc.)"
   ]
  },
  {
   "cell_type": "markdown",
   "metadata": {},
   "source": [
    "### Columns"
   ]
  },
  {
   "cell_type": "code",
   "execution_count": 83,
   "metadata": {},
   "outputs": [
    {
     "data": {
      "image/png": "[encoded data removed]",
      "text/plain": [
       "<Figure size 640x480 with 1 Axes>"
      ]
     },
     "metadata": {},
     "output_type": "display_data"
    }
   ],
   "source": [
    "nonzero = (food_compounds_df > 0).sum(0)\n",
    "plt.hist(nonzero, bins=100);"
   ]
  },
  {
   "cell_type": "markdown",
   "metadata": {},
   "source": [
    "There are still a number of compounds here which are only contained in a subset of foods."
   ]
  },
  {
   "cell_type": "markdown",
   "metadata": {},
   "source": [
    "## Converting"
   ]
  },
  {
   "cell_type": "markdown",
   "metadata": {},
   "source": [
    "These above are using the weight concentration ratio measured in mg/100g."
   ]
  },
  {
   "cell_type": "markdown",
   "metadata": {},
   "source": [
    "# Syncing DFs"
   ]
  },
  {
   "cell_type": "markdown",
   "metadata": {},
   "source": [
    "Applying filters to all dataframes."
   ]
  },
  {
   "cell_type": "code",
   "execution_count": 85,
   "metadata": {},
   "outputs": [
    {
     "data": {
      "text/html": [
       "<div>\n",
       "<style scoped>\n",
       "    .dataframe tbody tr th:only-of-type {\n",
       "        vertical-align: middle;\n",
       "    }\n",
       "\n",
       "    .dataframe tbody tr th {\n",
       "        vertical-align: top;\n",
       "    }\n",
       "\n",
       "    .dataframe thead th {\n",
       "        text-align: right;\n",
       "    }\n",
       "</style>\n",
       "<table border=\"1\" class=\"dataframe\">\n",
       "  <thead>\n",
       "    <tr style=\"text-align: right;\">\n",
       "      <th></th>\n",
       "      <th>base_food_id</th>\n",
       "      <th>name</th>\n",
       "      <th>name_scientific</th>\n",
       "      <th>description</th>\n",
       "      <th>wikipedia_id</th>\n",
       "      <th>food_group</th>\n",
       "      <th>food_subgroup</th>\n",
       "      <th>food_type</th>\n",
       "      <th>category</th>\n",
       "      <th>n_content</th>\n",
       "    </tr>\n",
       "    <tr>\n",
       "      <th>food_id</th>\n",
       "      <th></th>\n",
       "      <th></th>\n",
       "      <th></th>\n",
       "      <th></th>\n",
       "      <th></th>\n",
       "      <th></th>\n",
       "      <th></th>\n",
       "      <th></th>\n",
       "      <th></th>\n",
       "      <th></th>\n",
       "    </tr>\n",
       "  </thead>\n",
       "  <tbody>\n",
       "    <tr>\n",
       "      <th>0</th>\n",
       "      <td>1</td>\n",
       "      <td>angelica</td>\n",
       "      <td>Angelica keiskei</td>\n",
       "      <td>Angelica is a genus of about 60 species of tal...</td>\n",
       "      <td>Angelica</td>\n",
       "      <td>Herbs and Spices</td>\n",
       "      <td>Herbs</td>\n",
       "      <td>Type 1</td>\n",
       "      <td>specific</td>\n",
       "      <td>5609</td>\n",
       "    </tr>\n",
       "    <tr>\n",
       "      <th>1</th>\n",
       "      <td>4</td>\n",
       "      <td>kiwi</td>\n",
       "      <td>Actinidia chinensis</td>\n",
       "      <td>The kiwifruit, often shortened to kiwi in many...</td>\n",
       "      <td>Kiwifruit</td>\n",
       "      <td>Fruits</td>\n",
       "      <td>Tropical fruits</td>\n",
       "      <td>Type 1</td>\n",
       "      <td>specific</td>\n",
       "      <td>5987</td>\n",
       "    </tr>\n",
       "    <tr>\n",
       "      <th>2</th>\n",
       "      <td>5</td>\n",
       "      <td>allium</td>\n",
       "      <td>Allium</td>\n",
       "      <td>Allium haematochiton is a species of wild onio...</td>\n",
       "      <td>Allium haematochiton</td>\n",
       "      <td>Vegetables</td>\n",
       "      <td>Onion-family vegetables</td>\n",
       "      <td>Type 1</td>\n",
       "      <td>specific</td>\n",
       "      <td>7668</td>\n",
       "    </tr>\n",
       "    <tr>\n",
       "      <th>3</th>\n",
       "      <td>5</td>\n",
       "      <td>cook allium</td>\n",
       "      <td>Allium</td>\n",
       "      <td>Allium haematochiton is a species of wild onio...</td>\n",
       "      <td>Allium haematochiton</td>\n",
       "      <td>Vegetables</td>\n",
       "      <td>Onion-family vegetables</td>\n",
       "      <td>Type 1</td>\n",
       "      <td>specific</td>\n",
       "      <td>7668</td>\n",
       "    </tr>\n",
       "    <tr>\n",
       "      <th>4</th>\n",
       "      <td>6</td>\n",
       "      <td>garden onion</td>\n",
       "      <td>Allium cepa</td>\n",
       "      <td>The onion (Allium cepa) (Latin 'cepa' = onion)...</td>\n",
       "      <td>Onion</td>\n",
       "      <td>Vegetables</td>\n",
       "      <td>Onion-family vegetables</td>\n",
       "      <td>Type 1</td>\n",
       "      <td>specific</td>\n",
       "      <td>14791</td>\n",
       "    </tr>\n",
       "    <tr>\n",
       "      <th>...</th>\n",
       "      <td>...</td>\n",
       "      <td>...</td>\n",
       "      <td>...</td>\n",
       "      <td>...</td>\n",
       "      <td>...</td>\n",
       "      <td>...</td>\n",
       "      <td>...</td>\n",
       "      <td>...</td>\n",
       "      <td>...</td>\n",
       "      <td>...</td>\n",
       "    </tr>\n",
       "    <tr>\n",
       "      <th>1154</th>\n",
       "      <td>1019</td>\n",
       "      <td>white bread</td>\n",
       "      <td>&lt;NA&gt;</td>\n",
       "      <td>White bread typically refers to breads made fr...</td>\n",
       "      <td>&lt;NA&gt;</td>\n",
       "      <td>Cereals and cereal products</td>\n",
       "      <td>Cereals</td>\n",
       "      <td>Type 1</td>\n",
       "      <td>&lt;NA&gt;</td>\n",
       "      <td>5714</td>\n",
       "    </tr>\n",
       "    <tr>\n",
       "      <th>1155</th>\n",
       "      <td>1021</td>\n",
       "      <td>herbal tea</td>\n",
       "      <td>&lt;NA&gt;</td>\n",
       "      <td>Herbal teas are the beverages made from the in...</td>\n",
       "      <td>&lt;NA&gt;</td>\n",
       "      <td>Teas</td>\n",
       "      <td>Teas</td>\n",
       "      <td>Type 1</td>\n",
       "      <td>&lt;NA&gt;</td>\n",
       "      <td>6643</td>\n",
       "    </tr>\n",
       "    <tr>\n",
       "      <th>1156</th>\n",
       "      <td>1022</td>\n",
       "      <td>fish oil</td>\n",
       "      <td>&lt;NA&gt;</td>\n",
       "      <td>Fish oil is oil derived from the tissues of oi...</td>\n",
       "      <td>&lt;NA&gt;</td>\n",
       "      <td>None</td>\n",
       "      <td>&lt;NA&gt;</td>\n",
       "      <td>Type 1</td>\n",
       "      <td>&lt;NA&gt;</td>\n",
       "      <td>154</td>\n",
       "    </tr>\n",
       "    <tr>\n",
       "      <th>1157</th>\n",
       "      <td>1023</td>\n",
       "      <td>taco shell</td>\n",
       "      <td>&lt;NA&gt;</td>\n",
       "      <td>The hard-shell or crispy taco is a tradition t...</td>\n",
       "      <td>&lt;NA&gt;</td>\n",
       "      <td>None</td>\n",
       "      <td>&lt;NA&gt;</td>\n",
       "      <td>Type 2</td>\n",
       "      <td>&lt;NA&gt;</td>\n",
       "      <td>4107</td>\n",
       "    </tr>\n",
       "    <tr>\n",
       "      <th>1158</th>\n",
       "      <td>1024</td>\n",
       "      <td>tostada shell</td>\n",
       "      <td>&lt;NA&gt;</td>\n",
       "      <td>None</td>\n",
       "      <td>&lt;NA&gt;</td>\n",
       "      <td>None</td>\n",
       "      <td>&lt;NA&gt;</td>\n",
       "      <td>Type 2</td>\n",
       "      <td>&lt;NA&gt;</td>\n",
       "      <td>4007</td>\n",
       "    </tr>\n",
       "  </tbody>\n",
       "</table>\n",
       "<p>1106 rows × 10 columns</p>\n",
       "</div>"
      ],
      "text/plain": [
       "         base_food_id           name      name_scientific  \\\n",
       "food_id                                                     \n",
       "0                   1       angelica     Angelica keiskei   \n",
       "1                   4           kiwi  Actinidia chinensis   \n",
       "2                   5         allium               Allium   \n",
       "3                   5    cook allium               Allium   \n",
       "4                   6   garden onion          Allium cepa   \n",
       "...               ...            ...                  ...   \n",
       "1154             1019    white bread                 <NA>   \n",
       "1155             1021     herbal tea                 <NA>   \n",
       "1156             1022       fish oil                 <NA>   \n",
       "1157             1023     taco shell                 <NA>   \n",
       "1158             1024  tostada shell                 <NA>   \n",
       "\n",
       "                                               description  \\\n",
       "food_id                                                      \n",
       "0        Angelica is a genus of about 60 species of tal...   \n",
       "1        The kiwifruit, often shortened to kiwi in many...   \n",
       "2        Allium haematochiton is a species of wild onio...   \n",
       "3        Allium haematochiton is a species of wild onio...   \n",
       "4        The onion (Allium cepa) (Latin 'cepa' = onion)...   \n",
       "...                                                    ...   \n",
       "1154     White bread typically refers to breads made fr...   \n",
       "1155     Herbal teas are the beverages made from the in...   \n",
       "1156     Fish oil is oil derived from the tissues of oi...   \n",
       "1157     The hard-shell or crispy taco is a tradition t...   \n",
       "1158                                                  None   \n",
       "\n",
       "                 wikipedia_id                   food_group  \\\n",
       "food_id                                                      \n",
       "0                    Angelica             Herbs and Spices   \n",
       "1                   Kiwifruit                       Fruits   \n",
       "2        Allium haematochiton                   Vegetables   \n",
       "3        Allium haematochiton                   Vegetables   \n",
       "4                       Onion                   Vegetables   \n",
       "...                       ...                          ...   \n",
       "1154                     <NA>  Cereals and cereal products   \n",
       "1155                     <NA>                         Teas   \n",
       "1156                     <NA>                         None   \n",
       "1157                     <NA>                         None   \n",
       "1158                     <NA>                         None   \n",
       "\n",
       "                   food_subgroup food_type  category  n_content  \n",
       "food_id                                                          \n",
       "0                          Herbs    Type 1  specific       5609  \n",
       "1                Tropical fruits    Type 1  specific       5987  \n",
       "2        Onion-family vegetables    Type 1  specific       7668  \n",
       "3        Onion-family vegetables    Type 1  specific       7668  \n",
       "4        Onion-family vegetables    Type 1  specific      14791  \n",
       "...                          ...       ...       ...        ...  \n",
       "1154                     Cereals    Type 1      <NA>       5714  \n",
       "1155                        Teas    Type 1      <NA>       6643  \n",
       "1156                        <NA>    Type 1      <NA>        154  \n",
       "1157                        <NA>    Type 2      <NA>       4107  \n",
       "1158                        <NA>    Type 2      <NA>       4007  \n",
       "\n",
       "[1106 rows x 10 columns]"
      ]
     },
     "execution_count": 85,
     "metadata": {},
     "output_type": "execute_result"
    }
   ],
   "source": [
    "food_df = food_df.loc[food_compounds_df.index]\n",
    "food_df"
   ]
  },
  {
   "cell_type": "markdown",
   "metadata": {},
   "source": [
    "Resetting id's to make them sequential."
   ]
  },
  {
   "cell_type": "code",
   "execution_count": 86,
   "metadata": {},
   "outputs": [
    {
     "data": {
      "text/html": [
       "<div>\n",
       "<style scoped>\n",
       "    .dataframe tbody tr th:only-of-type {\n",
       "        vertical-align: middle;\n",
       "    }\n",
       "\n",
       "    .dataframe tbody tr th {\n",
       "        vertical-align: top;\n",
       "    }\n",
       "\n",
       "    .dataframe thead th {\n",
       "        text-align: right;\n",
       "    }\n",
       "</style>\n",
       "<table border=\"1\" class=\"dataframe\">\n",
       "  <thead>\n",
       "    <tr style=\"text-align: right;\">\n",
       "      <th></th>\n",
       "      <th>base_food_id</th>\n",
       "      <th>name</th>\n",
       "      <th>name_scientific</th>\n",
       "      <th>description</th>\n",
       "      <th>wikipedia_id</th>\n",
       "      <th>food_group</th>\n",
       "      <th>food_subgroup</th>\n",
       "      <th>food_type</th>\n",
       "      <th>category</th>\n",
       "      <th>n_content</th>\n",
       "    </tr>\n",
       "    <tr>\n",
       "      <th>id</th>\n",
       "      <th></th>\n",
       "      <th></th>\n",
       "      <th></th>\n",
       "      <th></th>\n",
       "      <th></th>\n",
       "      <th></th>\n",
       "      <th></th>\n",
       "      <th></th>\n",
       "      <th></th>\n",
       "      <th></th>\n",
       "    </tr>\n",
       "  </thead>\n",
       "  <tbody>\n",
       "    <tr>\n",
       "      <th>0</th>\n",
       "      <td>1</td>\n",
       "      <td>angelica</td>\n",
       "      <td>Angelica keiskei</td>\n",
       "      <td>Angelica is a genus of about 60 species of tal...</td>\n",
       "      <td>Angelica</td>\n",
       "      <td>Herbs and Spices</td>\n",
       "      <td>Herbs</td>\n",
       "      <td>Type 1</td>\n",
       "      <td>specific</td>\n",
       "      <td>5609</td>\n",
       "    </tr>\n",
       "    <tr>\n",
       "      <th>1</th>\n",
       "      <td>4</td>\n",
       "      <td>kiwi</td>\n",
       "      <td>Actinidia chinensis</td>\n",
       "      <td>The kiwifruit, often shortened to kiwi in many...</td>\n",
       "      <td>Kiwifruit</td>\n",
       "      <td>Fruits</td>\n",
       "      <td>Tropical fruits</td>\n",
       "      <td>Type 1</td>\n",
       "      <td>specific</td>\n",
       "      <td>5987</td>\n",
       "    </tr>\n",
       "    <tr>\n",
       "      <th>2</th>\n",
       "      <td>5</td>\n",
       "      <td>allium</td>\n",
       "      <td>Allium</td>\n",
       "      <td>Allium haematochiton is a species of wild onio...</td>\n",
       "      <td>Allium haematochiton</td>\n",
       "      <td>Vegetables</td>\n",
       "      <td>Onion-family vegetables</td>\n",
       "      <td>Type 1</td>\n",
       "      <td>specific</td>\n",
       "      <td>7668</td>\n",
       "    </tr>\n",
       "    <tr>\n",
       "      <th>3</th>\n",
       "      <td>5</td>\n",
       "      <td>cook allium</td>\n",
       "      <td>Allium</td>\n",
       "      <td>Allium haematochiton is a species of wild onio...</td>\n",
       "      <td>Allium haematochiton</td>\n",
       "      <td>Vegetables</td>\n",
       "      <td>Onion-family vegetables</td>\n",
       "      <td>Type 1</td>\n",
       "      <td>specific</td>\n",
       "      <td>7668</td>\n",
       "    </tr>\n",
       "    <tr>\n",
       "      <th>4</th>\n",
       "      <td>6</td>\n",
       "      <td>garden onion</td>\n",
       "      <td>Allium cepa</td>\n",
       "      <td>The onion (Allium cepa) (Latin 'cepa' = onion)...</td>\n",
       "      <td>Onion</td>\n",
       "      <td>Vegetables</td>\n",
       "      <td>Onion-family vegetables</td>\n",
       "      <td>Type 1</td>\n",
       "      <td>specific</td>\n",
       "      <td>14791</td>\n",
       "    </tr>\n",
       "    <tr>\n",
       "      <th>...</th>\n",
       "      <td>...</td>\n",
       "      <td>...</td>\n",
       "      <td>...</td>\n",
       "      <td>...</td>\n",
       "      <td>...</td>\n",
       "      <td>...</td>\n",
       "      <td>...</td>\n",
       "      <td>...</td>\n",
       "      <td>...</td>\n",
       "      <td>...</td>\n",
       "    </tr>\n",
       "    <tr>\n",
       "      <th>1101</th>\n",
       "      <td>1019</td>\n",
       "      <td>white bread</td>\n",
       "      <td>&lt;NA&gt;</td>\n",
       "      <td>White bread typically refers to breads made fr...</td>\n",
       "      <td>&lt;NA&gt;</td>\n",
       "      <td>Cereals and cereal products</td>\n",
       "      <td>Cereals</td>\n",
       "      <td>Type 1</td>\n",
       "      <td>&lt;NA&gt;</td>\n",
       "      <td>5714</td>\n",
       "    </tr>\n",
       "    <tr>\n",
       "      <th>1102</th>\n",
       "      <td>1021</td>\n",
       "      <td>herbal tea</td>\n",
       "      <td>&lt;NA&gt;</td>\n",
       "      <td>Herbal teas are the beverages made from the in...</td>\n",
       "      <td>&lt;NA&gt;</td>\n",
       "      <td>Teas</td>\n",
       "      <td>Teas</td>\n",
       "      <td>Type 1</td>\n",
       "      <td>&lt;NA&gt;</td>\n",
       "      <td>6643</td>\n",
       "    </tr>\n",
       "    <tr>\n",
       "      <th>1103</th>\n",
       "      <td>1022</td>\n",
       "      <td>fish oil</td>\n",
       "      <td>&lt;NA&gt;</td>\n",
       "      <td>Fish oil is oil derived from the tissues of oi...</td>\n",
       "      <td>&lt;NA&gt;</td>\n",
       "      <td>None</td>\n",
       "      <td>&lt;NA&gt;</td>\n",
       "      <td>Type 1</td>\n",
       "      <td>&lt;NA&gt;</td>\n",
       "      <td>154</td>\n",
       "    </tr>\n",
       "    <tr>\n",
       "      <th>1104</th>\n",
       "      <td>1023</td>\n",
       "      <td>taco shell</td>\n",
       "      <td>&lt;NA&gt;</td>\n",
       "      <td>The hard-shell or crispy taco is a tradition t...</td>\n",
       "      <td>&lt;NA&gt;</td>\n",
       "      <td>None</td>\n",
       "      <td>&lt;NA&gt;</td>\n",
       "      <td>Type 2</td>\n",
       "      <td>&lt;NA&gt;</td>\n",
       "      <td>4107</td>\n",
       "    </tr>\n",
       "    <tr>\n",
       "      <th>1105</th>\n",
       "      <td>1024</td>\n",
       "      <td>tostada shell</td>\n",
       "      <td>&lt;NA&gt;</td>\n",
       "      <td>None</td>\n",
       "      <td>&lt;NA&gt;</td>\n",
       "      <td>None</td>\n",
       "      <td>&lt;NA&gt;</td>\n",
       "      <td>Type 2</td>\n",
       "      <td>&lt;NA&gt;</td>\n",
       "      <td>4007</td>\n",
       "    </tr>\n",
       "  </tbody>\n",
       "</table>\n",
       "<p>1106 rows × 10 columns</p>\n",
       "</div>"
      ],
      "text/plain": [
       "      base_food_id           name      name_scientific  \\\n",
       "id                                                       \n",
       "0                1       angelica     Angelica keiskei   \n",
       "1                4           kiwi  Actinidia chinensis   \n",
       "2                5         allium               Allium   \n",
       "3                5    cook allium               Allium   \n",
       "4                6   garden onion          Allium cepa   \n",
       "...            ...            ...                  ...   \n",
       "1101          1019    white bread                 <NA>   \n",
       "1102          1021     herbal tea                 <NA>   \n",
       "1103          1022       fish oil                 <NA>   \n",
       "1104          1023     taco shell                 <NA>   \n",
       "1105          1024  tostada shell                 <NA>   \n",
       "\n",
       "                                            description          wikipedia_id  \\\n",
       "id                                                                              \n",
       "0     Angelica is a genus of about 60 species of tal...              Angelica   \n",
       "1     The kiwifruit, often shortened to kiwi in many...             Kiwifruit   \n",
       "2     Allium haematochiton is a species of wild onio...  Allium haematochiton   \n",
       "3     Allium haematochiton is a species of wild onio...  Allium haematochiton   \n",
       "4     The onion (Allium cepa) (Latin 'cepa' = onion)...                 Onion   \n",
       "...                                                 ...                   ...   \n",
       "1101  White bread typically refers to breads made fr...                  <NA>   \n",
       "1102  Herbal teas are the beverages made from the in...                  <NA>   \n",
       "1103  Fish oil is oil derived from the tissues of oi...                  <NA>   \n",
       "1104  The hard-shell or crispy taco is a tradition t...                  <NA>   \n",
       "1105                                               None                  <NA>   \n",
       "\n",
       "                       food_group            food_subgroup food_type  \\\n",
       "id                                                                     \n",
       "0                Herbs and Spices                    Herbs    Type 1   \n",
       "1                          Fruits          Tropical fruits    Type 1   \n",
       "2                      Vegetables  Onion-family vegetables    Type 1   \n",
       "3                      Vegetables  Onion-family vegetables    Type 1   \n",
       "4                      Vegetables  Onion-family vegetables    Type 1   \n",
       "...                           ...                      ...       ...   \n",
       "1101  Cereals and cereal products                  Cereals    Type 1   \n",
       "1102                         Teas                     Teas    Type 1   \n",
       "1103                         None                     <NA>    Type 1   \n",
       "1104                         None                     <NA>    Type 2   \n",
       "1105                         None                     <NA>    Type 2   \n",
       "\n",
       "      category  n_content  \n",
       "id                         \n",
       "0     specific       5609  \n",
       "1     specific       5987  \n",
       "2     specific       7668  \n",
       "3     specific       7668  \n",
       "4     specific      14791  \n",
       "...        ...        ...  \n",
       "1101      <NA>       5714  \n",
       "1102      <NA>       6643  \n",
       "1103      <NA>        154  \n",
       "1104      <NA>       4107  \n",
       "1105      <NA>       4007  \n",
       "\n",
       "[1106 rows x 10 columns]"
      ]
     },
     "execution_count": 86,
     "metadata": {},
     "output_type": "execute_result"
    }
   ],
   "source": [
    "food_df = food_df.sort_index().reset_index().drop(['food_id'], axis=1).rename_axis('id')\n",
    "food_df"
   ]
  },
  {
   "cell_type": "code",
   "execution_count": 87,
   "metadata": {},
   "outputs": [
    {
     "data": {
      "text/html": [
       "<div>\n",
       "<style scoped>\n",
       "    .dataframe tbody tr th:only-of-type {\n",
       "        vertical-align: middle;\n",
       "    }\n",
       "\n",
       "    .dataframe tbody tr th {\n",
       "        vertical-align: top;\n",
       "    }\n",
       "\n",
       "    .dataframe thead th {\n",
       "        text-align: right;\n",
       "    }\n",
       "</style>\n",
       "<table border=\"1\" class=\"dataframe\">\n",
       "  <thead>\n",
       "    <tr style=\"text-align: right;\">\n",
       "      <th>source_id</th>\n",
       "      <th>236</th>\n",
       "      <th>316</th>\n",
       "      <th>446</th>\n",
       "      <th>455</th>\n",
       "      <th>465</th>\n",
       "      <th>474</th>\n",
       "      <th>484</th>\n",
       "      <th>556</th>\n",
       "      <th>565</th>\n",
       "      <th>567</th>\n",
       "      <th>...</th>\n",
       "      <th>121976</th>\n",
       "      <th>122105</th>\n",
       "      <th>122117</th>\n",
       "      <th>122183</th>\n",
       "      <th>122207</th>\n",
       "      <th>122257</th>\n",
       "      <th>122370</th>\n",
       "      <th>122486</th>\n",
       "      <th>122510</th>\n",
       "      <th>123210</th>\n",
       "    </tr>\n",
       "    <tr>\n",
       "      <th>id</th>\n",
       "      <th></th>\n",
       "      <th></th>\n",
       "      <th></th>\n",
       "      <th></th>\n",
       "      <th></th>\n",
       "      <th></th>\n",
       "      <th></th>\n",
       "      <th></th>\n",
       "      <th></th>\n",
       "      <th></th>\n",
       "      <th></th>\n",
       "      <th></th>\n",
       "      <th></th>\n",
       "      <th></th>\n",
       "      <th></th>\n",
       "      <th></th>\n",
       "      <th></th>\n",
       "      <th></th>\n",
       "      <th></th>\n",
       "      <th></th>\n",
       "      <th></th>\n",
       "    </tr>\n",
       "  </thead>\n",
       "  <tbody>\n",
       "    <tr>\n",
       "      <th>0</th>\n",
       "      <td>0.109333</td>\n",
       "      <td>1.386966</td>\n",
       "      <td>422.779168</td>\n",
       "      <td>0.0</td>\n",
       "      <td>0.0</td>\n",
       "      <td>998.946623</td>\n",
       "      <td>651.838176</td>\n",
       "      <td>727.187833</td>\n",
       "      <td>0.930556</td>\n",
       "      <td>0.662912</td>\n",
       "      <td>...</td>\n",
       "      <td>2.253628</td>\n",
       "      <td>2.253628</td>\n",
       "      <td>2.253628</td>\n",
       "      <td>23.49215</td>\n",
       "      <td>9.498727</td>\n",
       "      <td>2.253628</td>\n",
       "      <td>9.376545</td>\n",
       "      <td>9.376545</td>\n",
       "      <td>24.419212</td>\n",
       "      <td>0.023016</td>\n",
       "    </tr>\n",
       "    <tr>\n",
       "      <th>1</th>\n",
       "      <td>0.109333</td>\n",
       "      <td>1.386966</td>\n",
       "      <td>28.75</td>\n",
       "      <td>0.0</td>\n",
       "      <td>50.0</td>\n",
       "      <td>57.666667</td>\n",
       "      <td>51.5</td>\n",
       "      <td>45.25</td>\n",
       "      <td>0.578571</td>\n",
       "      <td>0.662912</td>\n",
       "      <td>...</td>\n",
       "      <td>2.253628</td>\n",
       "      <td>2.253628</td>\n",
       "      <td>2.253628</td>\n",
       "      <td>23.49215</td>\n",
       "      <td>9.498727</td>\n",
       "      <td>2.253628</td>\n",
       "      <td>9.376545</td>\n",
       "      <td>9.376545</td>\n",
       "      <td>24.419212</td>\n",
       "      <td>0.023016</td>\n",
       "    </tr>\n",
       "    <tr>\n",
       "      <th>2</th>\n",
       "      <td>0.109333</td>\n",
       "      <td>1.386966</td>\n",
       "      <td>59.25</td>\n",
       "      <td>0.0</td>\n",
       "      <td>86.25</td>\n",
       "      <td>122.5625</td>\n",
       "      <td>96.1</td>\n",
       "      <td>79.35</td>\n",
       "      <td>0.474375</td>\n",
       "      <td>0.662912</td>\n",
       "      <td>...</td>\n",
       "      <td>2.253628</td>\n",
       "      <td>2.253628</td>\n",
       "      <td>2.253628</td>\n",
       "      <td>23.49215</td>\n",
       "      <td>9.498727</td>\n",
       "      <td>2.253628</td>\n",
       "      <td>9.376545</td>\n",
       "      <td>9.376545</td>\n",
       "      <td>24.419212</td>\n",
       "      <td>0.023016</td>\n",
       "    </tr>\n",
       "    <tr>\n",
       "      <th>3</th>\n",
       "      <td>0.0</td>\n",
       "      <td>0.0</td>\n",
       "      <td>23.666667</td>\n",
       "      <td>0.0</td>\n",
       "      <td>21.666667</td>\n",
       "      <td>45.0</td>\n",
       "      <td>39.333333</td>\n",
       "      <td>26.333333</td>\n",
       "      <td>0.006667</td>\n",
       "      <td>0.0</td>\n",
       "      <td>...</td>\n",
       "      <td>0.0</td>\n",
       "      <td>0.0</td>\n",
       "      <td>0.0</td>\n",
       "      <td>0.0</td>\n",
       "      <td>0.0</td>\n",
       "      <td>0.0</td>\n",
       "      <td>0.0</td>\n",
       "      <td>0.0</td>\n",
       "      <td>0.0</td>\n",
       "      <td>0.0</td>\n",
       "    </tr>\n",
       "    <tr>\n",
       "      <th>4</th>\n",
       "      <td>0.109333</td>\n",
       "      <td>1.386966</td>\n",
       "      <td>0.0</td>\n",
       "      <td>0.0</td>\n",
       "      <td>0.0</td>\n",
       "      <td>0.0</td>\n",
       "      <td>0.0</td>\n",
       "      <td>0.0</td>\n",
       "      <td>0.0</td>\n",
       "      <td>0.532184</td>\n",
       "      <td>...</td>\n",
       "      <td>2.253628</td>\n",
       "      <td>2.253628</td>\n",
       "      <td>2.253628</td>\n",
       "      <td>23.49215</td>\n",
       "      <td>9.498727</td>\n",
       "      <td>2.253628</td>\n",
       "      <td>9.376545</td>\n",
       "      <td>9.376545</td>\n",
       "      <td>24.419212</td>\n",
       "      <td>0.023016</td>\n",
       "    </tr>\n",
       "    <tr>\n",
       "      <th>...</th>\n",
       "      <td>...</td>\n",
       "      <td>...</td>\n",
       "      <td>...</td>\n",
       "      <td>...</td>\n",
       "      <td>...</td>\n",
       "      <td>...</td>\n",
       "      <td>...</td>\n",
       "      <td>...</td>\n",
       "      <td>...</td>\n",
       "      <td>...</td>\n",
       "      <td>...</td>\n",
       "      <td>...</td>\n",
       "      <td>...</td>\n",
       "      <td>...</td>\n",
       "      <td>...</td>\n",
       "      <td>...</td>\n",
       "      <td>...</td>\n",
       "      <td>...</td>\n",
       "      <td>...</td>\n",
       "      <td>...</td>\n",
       "      <td>...</td>\n",
       "    </tr>\n",
       "    <tr>\n",
       "      <th>1101</th>\n",
       "      <td>0.0</td>\n",
       "      <td>0.0</td>\n",
       "      <td>257.529412</td>\n",
       "      <td>0.0</td>\n",
       "      <td>410.125</td>\n",
       "      <td>272.125</td>\n",
       "      <td>308.705882</td>\n",
       "      <td>308.0</td>\n",
       "      <td>0.275455</td>\n",
       "      <td>0.0</td>\n",
       "      <td>...</td>\n",
       "      <td>2.253628</td>\n",
       "      <td>2.253628</td>\n",
       "      <td>2.253628</td>\n",
       "      <td>23.49215</td>\n",
       "      <td>9.498727</td>\n",
       "      <td>2.253628</td>\n",
       "      <td>9.376545</td>\n",
       "      <td>9.376545</td>\n",
       "      <td>24.419212</td>\n",
       "      <td>0.023016</td>\n",
       "    </tr>\n",
       "    <tr>\n",
       "      <th>1102</th>\n",
       "      <td>0.109333</td>\n",
       "      <td>1.386966</td>\n",
       "      <td>0.0</td>\n",
       "      <td>0.0</td>\n",
       "      <td>0.0</td>\n",
       "      <td>0.0</td>\n",
       "      <td>0.0</td>\n",
       "      <td>0.0</td>\n",
       "      <td>0.7</td>\n",
       "      <td>0.662912</td>\n",
       "      <td>...</td>\n",
       "      <td>2.253628</td>\n",
       "      <td>2.253628</td>\n",
       "      <td>2.253628</td>\n",
       "      <td>23.49215</td>\n",
       "      <td>9.498727</td>\n",
       "      <td>2.253628</td>\n",
       "      <td>9.376545</td>\n",
       "      <td>9.376545</td>\n",
       "      <td>24.419212</td>\n",
       "      <td>0.023016</td>\n",
       "    </tr>\n",
       "    <tr>\n",
       "      <th>1103</th>\n",
       "      <td>0.0</td>\n",
       "      <td>0.0</td>\n",
       "      <td>0.0</td>\n",
       "      <td>0.0</td>\n",
       "      <td>0.0</td>\n",
       "      <td>0.0</td>\n",
       "      <td>0.0</td>\n",
       "      <td>0.0</td>\n",
       "      <td>0.0</td>\n",
       "      <td>0.0</td>\n",
       "      <td>...</td>\n",
       "      <td>0.0</td>\n",
       "      <td>0.0</td>\n",
       "      <td>0.0</td>\n",
       "      <td>0.0</td>\n",
       "      <td>0.0</td>\n",
       "      <td>0.0</td>\n",
       "      <td>0.0</td>\n",
       "      <td>0.0</td>\n",
       "      <td>0.0</td>\n",
       "      <td>0.0</td>\n",
       "    </tr>\n",
       "    <tr>\n",
       "      <th>1104</th>\n",
       "      <td>0.0</td>\n",
       "      <td>0.0</td>\n",
       "      <td>258.5</td>\n",
       "      <td>0.0</td>\n",
       "      <td>326.5</td>\n",
       "      <td>200.0</td>\n",
       "      <td>273.5</td>\n",
       "      <td>498.5</td>\n",
       "      <td>0.345</td>\n",
       "      <td>0.0</td>\n",
       "      <td>...</td>\n",
       "      <td>2.253628</td>\n",
       "      <td>2.253628</td>\n",
       "      <td>2.253628</td>\n",
       "      <td>23.49215</td>\n",
       "      <td>9.498727</td>\n",
       "      <td>2.253628</td>\n",
       "      <td>9.376545</td>\n",
       "      <td>9.376545</td>\n",
       "      <td>24.419212</td>\n",
       "      <td>0.023016</td>\n",
       "    </tr>\n",
       "    <tr>\n",
       "      <th>1105</th>\n",
       "      <td>0.0</td>\n",
       "      <td>0.0</td>\n",
       "      <td>0.0</td>\n",
       "      <td>0.0</td>\n",
       "      <td>0.0</td>\n",
       "      <td>0.0</td>\n",
       "      <td>0.0</td>\n",
       "      <td>0.0</td>\n",
       "      <td>0.0</td>\n",
       "      <td>0.0</td>\n",
       "      <td>...</td>\n",
       "      <td>2.253628</td>\n",
       "      <td>2.253628</td>\n",
       "      <td>2.253628</td>\n",
       "      <td>23.49215</td>\n",
       "      <td>9.498727</td>\n",
       "      <td>2.253628</td>\n",
       "      <td>9.376545</td>\n",
       "      <td>9.376545</td>\n",
       "      <td>24.419212</td>\n",
       "      <td>0.023016</td>\n",
       "    </tr>\n",
       "  </tbody>\n",
       "</table>\n",
       "<p>1106 rows × 408 columns</p>\n",
       "</div>"
      ],
      "text/plain": [
       "source_id    236       316         446     455        465         474     \\\n",
       "id                                                                         \n",
       "0          0.109333  1.386966  422.779168     0.0        0.0  998.946623   \n",
       "1          0.109333  1.386966       28.75     0.0       50.0   57.666667   \n",
       "2          0.109333  1.386966       59.25     0.0      86.25    122.5625   \n",
       "3               0.0       0.0   23.666667     0.0  21.666667        45.0   \n",
       "4          0.109333  1.386966         0.0     0.0        0.0         0.0   \n",
       "...             ...       ...         ...     ...        ...         ...   \n",
       "1101            0.0       0.0  257.529412     0.0    410.125     272.125   \n",
       "1102       0.109333  1.386966         0.0     0.0        0.0         0.0   \n",
       "1103            0.0       0.0         0.0     0.0        0.0         0.0   \n",
       "1104            0.0       0.0       258.5     0.0      326.5       200.0   \n",
       "1105            0.0       0.0         0.0     0.0        0.0         0.0   \n",
       "\n",
       "source_id      484         556       565       567     ...    121976  \\\n",
       "id                                                     ...             \n",
       "0          651.838176  727.187833  0.930556  0.662912  ...  2.253628   \n",
       "1                51.5       45.25  0.578571  0.662912  ...  2.253628   \n",
       "2                96.1       79.35  0.474375  0.662912  ...  2.253628   \n",
       "3           39.333333   26.333333  0.006667       0.0  ...       0.0   \n",
       "4                 0.0         0.0       0.0  0.532184  ...  2.253628   \n",
       "...               ...         ...       ...       ...  ...       ...   \n",
       "1101       308.705882       308.0  0.275455       0.0  ...  2.253628   \n",
       "1102              0.0         0.0       0.7  0.662912  ...  2.253628   \n",
       "1103              0.0         0.0       0.0       0.0  ...       0.0   \n",
       "1104            273.5       498.5     0.345       0.0  ...  2.253628   \n",
       "1105              0.0         0.0       0.0       0.0  ...  2.253628   \n",
       "\n",
       "source_id    122105    122117    122183    122207    122257    122370  \\\n",
       "id                                                                      \n",
       "0          2.253628  2.253628  23.49215  9.498727  2.253628  9.376545   \n",
       "1          2.253628  2.253628  23.49215  9.498727  2.253628  9.376545   \n",
       "2          2.253628  2.253628  23.49215  9.498727  2.253628  9.376545   \n",
       "3               0.0       0.0       0.0       0.0       0.0       0.0   \n",
       "4          2.253628  2.253628  23.49215  9.498727  2.253628  9.376545   \n",
       "...             ...       ...       ...       ...       ...       ...   \n",
       "1101       2.253628  2.253628  23.49215  9.498727  2.253628  9.376545   \n",
       "1102       2.253628  2.253628  23.49215  9.498727  2.253628  9.376545   \n",
       "1103            0.0       0.0       0.0       0.0       0.0       0.0   \n",
       "1104       2.253628  2.253628  23.49215  9.498727  2.253628  9.376545   \n",
       "1105       2.253628  2.253628  23.49215  9.498727  2.253628  9.376545   \n",
       "\n",
       "source_id    122486     122510    123210  \n",
       "id                                        \n",
       "0          9.376545  24.419212  0.023016  \n",
       "1          9.376545  24.419212  0.023016  \n",
       "2          9.376545  24.419212  0.023016  \n",
       "3               0.0        0.0       0.0  \n",
       "4          9.376545  24.419212  0.023016  \n",
       "...             ...        ...       ...  \n",
       "1101       9.376545  24.419212  0.023016  \n",
       "1102       9.376545  24.419212  0.023016  \n",
       "1103            0.0        0.0       0.0  \n",
       "1104       9.376545  24.419212  0.023016  \n",
       "1105       9.376545  24.419212  0.023016  \n",
       "\n",
       "[1106 rows x 408 columns]"
      ]
     },
     "execution_count": 87,
     "metadata": {},
     "output_type": "execute_result"
    }
   ],
   "source": [
    "food_compounds_df = food_compounds_df.sort_index().reset_index().drop(['food_id'], axis=1).rename_axis('id')\n",
    "food_compounds_df"
   ]
  },
  {
   "cell_type": "code",
   "execution_count": 88,
   "metadata": {},
   "outputs": [],
   "source": [
    "assert len(food_compounds_df) == len(food_df)"
   ]
  },
  {
   "cell_type": "code",
   "execution_count": 92,
   "metadata": {},
   "outputs": [],
   "source": [
    "import seaborn as sns"
   ]
  },
  {
   "cell_type": "code",
   "execution_count": 93,
   "metadata": {},
   "outputs": [
    {
     "data": {
      "text/plain": [
       "<Axes: xlabel='236', ylabel='Count'>"
      ]
     },
     "execution_count": 93,
     "metadata": {},
     "output_type": "execute_result"
    },
    {
     "data": {
      "image/png": "[encoded data removed]",
      "text/plain": [
       "<Figure size 640x480 with 1 Axes>"
      ]
     },
     "metadata": {},
     "output_type": "display_data"
    }
   ],
   "source": [
    "sns.histplot(food_compounds_df.iloc[:,0])"
   ]
  },
  {
   "cell_type": "code",
   "execution_count": 109,
   "metadata": {},
   "outputs": [
    {
     "data": {
      "text/plain": [
       "<Axes: ylabel='Count'>"
      ]
     },
     "execution_count": 109,
     "metadata": {},
     "output_type": "execute_result"
    },
    {
     "data": {
      "image/png": "[encoded data removed]",
      "text/plain": [
       "<Figure size 640x480 with 1 Axes>"
      ]
     },
     "metadata": {},
     "output_type": "display_data"
    }
   ],
   "source": [
    "from scipy.stats import boxcox\n",
    "normalized = boxcox(food_compounds_df.iloc[:,0]+0.01, lmbda=-0.4)\n",
    "sns.histplot(normalized)"
   ]
  },
  {
   "cell_type": "markdown",
   "metadata": {},
   "source": [
    "# Saving"
   ]
  },
  {
   "cell_type": "code",
   "execution_count": 110,
   "metadata": {
    "execution": {
     "iopub.execute_input": "2024-03-22T10:09:31.944903Z",
     "iopub.status.busy": "2024-03-22T10:09:31.944739Z",
     "iopub.status.idle": "2024-03-22T10:09:31.953727Z",
     "shell.execute_reply": "2024-03-22T10:09:31.953537Z"
    }
   },
   "outputs": [
    {
     "data": {
      "text/html": [
       "<div>\n",
       "<style scoped>\n",
       "    .dataframe tbody tr th:only-of-type {\n",
       "        vertical-align: middle;\n",
       "    }\n",
       "\n",
       "    .dataframe tbody tr th {\n",
       "        vertical-align: top;\n",
       "    }\n",
       "\n",
       "    .dataframe thead th {\n",
       "        text-align: right;\n",
       "    }\n",
       "</style>\n",
       "<table border=\"1\" class=\"dataframe\">\n",
       "  <thead>\n",
       "    <tr style=\"text-align: right;\">\n",
       "      <th>source_id</th>\n",
       "      <th>236</th>\n",
       "      <th>316</th>\n",
       "      <th>446</th>\n",
       "      <th>455</th>\n",
       "      <th>465</th>\n",
       "      <th>474</th>\n",
       "      <th>484</th>\n",
       "      <th>556</th>\n",
       "      <th>565</th>\n",
       "      <th>567</th>\n",
       "      <th>...</th>\n",
       "      <th>121976</th>\n",
       "      <th>122105</th>\n",
       "      <th>122117</th>\n",
       "      <th>122183</th>\n",
       "      <th>122207</th>\n",
       "      <th>122257</th>\n",
       "      <th>122370</th>\n",
       "      <th>122486</th>\n",
       "      <th>122510</th>\n",
       "      <th>123210</th>\n",
       "    </tr>\n",
       "    <tr>\n",
       "      <th>id</th>\n",
       "      <th></th>\n",
       "      <th></th>\n",
       "      <th></th>\n",
       "      <th></th>\n",
       "      <th></th>\n",
       "      <th></th>\n",
       "      <th></th>\n",
       "      <th></th>\n",
       "      <th></th>\n",
       "      <th></th>\n",
       "      <th></th>\n",
       "      <th></th>\n",
       "      <th></th>\n",
       "      <th></th>\n",
       "      <th></th>\n",
       "      <th></th>\n",
       "      <th></th>\n",
       "      <th></th>\n",
       "      <th></th>\n",
       "      <th></th>\n",
       "      <th></th>\n",
       "    </tr>\n",
       "  </thead>\n",
       "  <tbody>\n",
       "    <tr>\n",
       "      <th>0</th>\n",
       "      <td>0.109333</td>\n",
       "      <td>1.386966</td>\n",
       "      <td>422.779168</td>\n",
       "      <td>0.0</td>\n",
       "      <td>0.0</td>\n",
       "      <td>998.946623</td>\n",
       "      <td>651.838176</td>\n",
       "      <td>727.187833</td>\n",
       "      <td>0.930556</td>\n",
       "      <td>0.662912</td>\n",
       "      <td>...</td>\n",
       "      <td>2.253628</td>\n",
       "      <td>2.253628</td>\n",
       "      <td>2.253628</td>\n",
       "      <td>23.49215</td>\n",
       "      <td>9.498727</td>\n",
       "      <td>2.253628</td>\n",
       "      <td>9.376545</td>\n",
       "      <td>9.376545</td>\n",
       "      <td>24.419212</td>\n",
       "      <td>0.023016</td>\n",
       "    </tr>\n",
       "    <tr>\n",
       "      <th>1</th>\n",
       "      <td>0.109333</td>\n",
       "      <td>1.386966</td>\n",
       "      <td>28.75</td>\n",
       "      <td>0.0</td>\n",
       "      <td>50.0</td>\n",
       "      <td>57.666667</td>\n",
       "      <td>51.5</td>\n",
       "      <td>45.25</td>\n",
       "      <td>0.578571</td>\n",
       "      <td>0.662912</td>\n",
       "      <td>...</td>\n",
       "      <td>2.253628</td>\n",
       "      <td>2.253628</td>\n",
       "      <td>2.253628</td>\n",
       "      <td>23.49215</td>\n",
       "      <td>9.498727</td>\n",
       "      <td>2.253628</td>\n",
       "      <td>9.376545</td>\n",
       "      <td>9.376545</td>\n",
       "      <td>24.419212</td>\n",
       "      <td>0.023016</td>\n",
       "    </tr>\n",
       "    <tr>\n",
       "      <th>2</th>\n",
       "      <td>0.109333</td>\n",
       "      <td>1.386966</td>\n",
       "      <td>59.25</td>\n",
       "      <td>0.0</td>\n",
       "      <td>86.25</td>\n",
       "      <td>122.5625</td>\n",
       "      <td>96.1</td>\n",
       "      <td>79.35</td>\n",
       "      <td>0.474375</td>\n",
       "      <td>0.662912</td>\n",
       "      <td>...</td>\n",
       "      <td>2.253628</td>\n",
       "      <td>2.253628</td>\n",
       "      <td>2.253628</td>\n",
       "      <td>23.49215</td>\n",
       "      <td>9.498727</td>\n",
       "      <td>2.253628</td>\n",
       "      <td>9.376545</td>\n",
       "      <td>9.376545</td>\n",
       "      <td>24.419212</td>\n",
       "      <td>0.023016</td>\n",
       "    </tr>\n",
       "    <tr>\n",
       "      <th>3</th>\n",
       "      <td>0.0</td>\n",
       "      <td>0.0</td>\n",
       "      <td>23.666667</td>\n",
       "      <td>0.0</td>\n",
       "      <td>21.666667</td>\n",
       "      <td>45.0</td>\n",
       "      <td>39.333333</td>\n",
       "      <td>26.333333</td>\n",
       "      <td>0.006667</td>\n",
       "      <td>0.0</td>\n",
       "      <td>...</td>\n",
       "      <td>0.0</td>\n",
       "      <td>0.0</td>\n",
       "      <td>0.0</td>\n",
       "      <td>0.0</td>\n",
       "      <td>0.0</td>\n",
       "      <td>0.0</td>\n",
       "      <td>0.0</td>\n",
       "      <td>0.0</td>\n",
       "      <td>0.0</td>\n",
       "      <td>0.0</td>\n",
       "    </tr>\n",
       "    <tr>\n",
       "      <th>4</th>\n",
       "      <td>0.109333</td>\n",
       "      <td>1.386966</td>\n",
       "      <td>0.0</td>\n",
       "      <td>0.0</td>\n",
       "      <td>0.0</td>\n",
       "      <td>0.0</td>\n",
       "      <td>0.0</td>\n",
       "      <td>0.0</td>\n",
       "      <td>0.0</td>\n",
       "      <td>0.532184</td>\n",
       "      <td>...</td>\n",
       "      <td>2.253628</td>\n",
       "      <td>2.253628</td>\n",
       "      <td>2.253628</td>\n",
       "      <td>23.49215</td>\n",
       "      <td>9.498727</td>\n",
       "      <td>2.253628</td>\n",
       "      <td>9.376545</td>\n",
       "      <td>9.376545</td>\n",
       "      <td>24.419212</td>\n",
       "      <td>0.023016</td>\n",
       "    </tr>\n",
       "    <tr>\n",
       "      <th>...</th>\n",
       "      <td>...</td>\n",
       "      <td>...</td>\n",
       "      <td>...</td>\n",
       "      <td>...</td>\n",
       "      <td>...</td>\n",
       "      <td>...</td>\n",
       "      <td>...</td>\n",
       "      <td>...</td>\n",
       "      <td>...</td>\n",
       "      <td>...</td>\n",
       "      <td>...</td>\n",
       "      <td>...</td>\n",
       "      <td>...</td>\n",
       "      <td>...</td>\n",
       "      <td>...</td>\n",
       "      <td>...</td>\n",
       "      <td>...</td>\n",
       "      <td>...</td>\n",
       "      <td>...</td>\n",
       "      <td>...</td>\n",
       "      <td>...</td>\n",
       "    </tr>\n",
       "    <tr>\n",
       "      <th>1101</th>\n",
       "      <td>0.0</td>\n",
       "      <td>0.0</td>\n",
       "      <td>257.529412</td>\n",
       "      <td>0.0</td>\n",
       "      <td>410.125</td>\n",
       "      <td>272.125</td>\n",
       "      <td>308.705882</td>\n",
       "      <td>308.0</td>\n",
       "      <td>0.275455</td>\n",
       "      <td>0.0</td>\n",
       "      <td>...</td>\n",
       "      <td>2.253628</td>\n",
       "      <td>2.253628</td>\n",
       "      <td>2.253628</td>\n",
       "      <td>23.49215</td>\n",
       "      <td>9.498727</td>\n",
       "      <td>2.253628</td>\n",
       "      <td>9.376545</td>\n",
       "      <td>9.376545</td>\n",
       "      <td>24.419212</td>\n",
       "      <td>0.023016</td>\n",
       "    </tr>\n",
       "    <tr>\n",
       "      <th>1102</th>\n",
       "      <td>0.109333</td>\n",
       "      <td>1.386966</td>\n",
       "      <td>0.0</td>\n",
       "      <td>0.0</td>\n",
       "      <td>0.0</td>\n",
       "      <td>0.0</td>\n",
       "      <td>0.0</td>\n",
       "      <td>0.0</td>\n",
       "      <td>0.7</td>\n",
       "      <td>0.662912</td>\n",
       "      <td>...</td>\n",
       "      <td>2.253628</td>\n",
       "      <td>2.253628</td>\n",
       "      <td>2.253628</td>\n",
       "      <td>23.49215</td>\n",
       "      <td>9.498727</td>\n",
       "      <td>2.253628</td>\n",
       "      <td>9.376545</td>\n",
       "      <td>9.376545</td>\n",
       "      <td>24.419212</td>\n",
       "      <td>0.023016</td>\n",
       "    </tr>\n",
       "    <tr>\n",
       "      <th>1103</th>\n",
       "      <td>0.0</td>\n",
       "      <td>0.0</td>\n",
       "      <td>0.0</td>\n",
       "      <td>0.0</td>\n",
       "      <td>0.0</td>\n",
       "      <td>0.0</td>\n",
       "      <td>0.0</td>\n",
       "      <td>0.0</td>\n",
       "      <td>0.0</td>\n",
       "      <td>0.0</td>\n",
       "      <td>...</td>\n",
       "      <td>0.0</td>\n",
       "      <td>0.0</td>\n",
       "      <td>0.0</td>\n",
       "      <td>0.0</td>\n",
       "      <td>0.0</td>\n",
       "      <td>0.0</td>\n",
       "      <td>0.0</td>\n",
       "      <td>0.0</td>\n",
       "      <td>0.0</td>\n",
       "      <td>0.0</td>\n",
       "    </tr>\n",
       "    <tr>\n",
       "      <th>1104</th>\n",
       "      <td>0.0</td>\n",
       "      <td>0.0</td>\n",
       "      <td>258.5</td>\n",
       "      <td>0.0</td>\n",
       "      <td>326.5</td>\n",
       "      <td>200.0</td>\n",
       "      <td>273.5</td>\n",
       "      <td>498.5</td>\n",
       "      <td>0.345</td>\n",
       "      <td>0.0</td>\n",
       "      <td>...</td>\n",
       "      <td>2.253628</td>\n",
       "      <td>2.253628</td>\n",
       "      <td>2.253628</td>\n",
       "      <td>23.49215</td>\n",
       "      <td>9.498727</td>\n",
       "      <td>2.253628</td>\n",
       "      <td>9.376545</td>\n",
       "      <td>9.376545</td>\n",
       "      <td>24.419212</td>\n",
       "      <td>0.023016</td>\n",
       "    </tr>\n",
       "    <tr>\n",
       "      <th>1105</th>\n",
       "      <td>0.0</td>\n",
       "      <td>0.0</td>\n",
       "      <td>0.0</td>\n",
       "      <td>0.0</td>\n",
       "      <td>0.0</td>\n",
       "      <td>0.0</td>\n",
       "      <td>0.0</td>\n",
       "      <td>0.0</td>\n",
       "      <td>0.0</td>\n",
       "      <td>0.0</td>\n",
       "      <td>...</td>\n",
       "      <td>2.253628</td>\n",
       "      <td>2.253628</td>\n",
       "      <td>2.253628</td>\n",
       "      <td>23.49215</td>\n",
       "      <td>9.498727</td>\n",
       "      <td>2.253628</td>\n",
       "      <td>9.376545</td>\n",
       "      <td>9.376545</td>\n",
       "      <td>24.419212</td>\n",
       "      <td>0.023016</td>\n",
       "    </tr>\n",
       "  </tbody>\n",
       "</table>\n",
       "<p>1106 rows × 408 columns</p>\n",
       "</div>"
      ],
      "text/plain": [
       "source_id    236       316         446     455        465         474     \\\n",
       "id                                                                         \n",
       "0          0.109333  1.386966  422.779168     0.0        0.0  998.946623   \n",
       "1          0.109333  1.386966       28.75     0.0       50.0   57.666667   \n",
       "2          0.109333  1.386966       59.25     0.0      86.25    122.5625   \n",
       "3               0.0       0.0   23.666667     0.0  21.666667        45.0   \n",
       "4          0.109333  1.386966         0.0     0.0        0.0         0.0   \n",
       "...             ...       ...         ...     ...        ...         ...   \n",
       "1101            0.0       0.0  257.529412     0.0    410.125     272.125   \n",
       "1102       0.109333  1.386966         0.0     0.0        0.0         0.0   \n",
       "1103            0.0       0.0         0.0     0.0        0.0         0.0   \n",
       "1104            0.0       0.0       258.5     0.0      326.5       200.0   \n",
       "1105            0.0       0.0         0.0     0.0        0.0         0.0   \n",
       "\n",
       "source_id      484         556       565       567     ...    121976  \\\n",
       "id                                                     ...             \n",
       "0          651.838176  727.187833  0.930556  0.662912  ...  2.253628   \n",
       "1                51.5       45.25  0.578571  0.662912  ...  2.253628   \n",
       "2                96.1       79.35  0.474375  0.662912  ...  2.253628   \n",
       "3           39.333333   26.333333  0.006667       0.0  ...       0.0   \n",
       "4                 0.0         0.0       0.0  0.532184  ...  2.253628   \n",
       "...               ...         ...       ...       ...  ...       ...   \n",
       "1101       308.705882       308.0  0.275455       0.0  ...  2.253628   \n",
       "1102              0.0         0.0       0.7  0.662912  ...  2.253628   \n",
       "1103              0.0         0.0       0.0       0.0  ...       0.0   \n",
       "1104            273.5       498.5     0.345       0.0  ...  2.253628   \n",
       "1105              0.0         0.0       0.0       0.0  ...  2.253628   \n",
       "\n",
       "source_id    122105    122117    122183    122207    122257    122370  \\\n",
       "id                                                                      \n",
       "0          2.253628  2.253628  23.49215  9.498727  2.253628  9.376545   \n",
       "1          2.253628  2.253628  23.49215  9.498727  2.253628  9.376545   \n",
       "2          2.253628  2.253628  23.49215  9.498727  2.253628  9.376545   \n",
       "3               0.0       0.0       0.0       0.0       0.0       0.0   \n",
       "4          2.253628  2.253628  23.49215  9.498727  2.253628  9.376545   \n",
       "...             ...       ...       ...       ...       ...       ...   \n",
       "1101       2.253628  2.253628  23.49215  9.498727  2.253628  9.376545   \n",
       "1102       2.253628  2.253628  23.49215  9.498727  2.253628  9.376545   \n",
       "1103            0.0       0.0       0.0       0.0       0.0       0.0   \n",
       "1104       2.253628  2.253628  23.49215  9.498727  2.253628  9.376545   \n",
       "1105       2.253628  2.253628  23.49215  9.498727  2.253628  9.376545   \n",
       "\n",
       "source_id    122486     122510    123210  \n",
       "id                                        \n",
       "0          9.376545  24.419212  0.023016  \n",
       "1          9.376545  24.419212  0.023016  \n",
       "2          9.376545  24.419212  0.023016  \n",
       "3               0.0        0.0       0.0  \n",
       "4          9.376545  24.419212  0.023016  \n",
       "...             ...        ...       ...  \n",
       "1101       9.376545  24.419212  0.023016  \n",
       "1102       9.376545  24.419212  0.023016  \n",
       "1103            0.0        0.0       0.0  \n",
       "1104       9.376545  24.419212  0.023016  \n",
       "1105       9.376545  24.419212  0.023016  \n",
       "\n",
       "[1106 rows x 408 columns]"
      ]
     },
     "execution_count": 110,
     "metadata": {},
     "output_type": "execute_result"
    }
   ],
   "source": [
    "food_compounds_df"
   ]
  },
  {
   "cell_type": "code",
   "execution_count": 111,
   "metadata": {
    "execution": {
     "iopub.execute_input": "2024-03-22T10:09:31.955003Z",
     "iopub.status.busy": "2024-03-22T10:09:31.954882Z",
     "iopub.status.idle": "2024-03-22T10:09:31.982757Z",
     "shell.execute_reply": "2024-03-22T10:09:31.982550Z"
    }
   },
   "outputs": [
    {
     "data": {
      "text/plain": [
       "(1106, 408)"
      ]
     },
     "execution_count": 111,
     "metadata": {},
     "output_type": "execute_result"
    }
   ],
   "source": [
    "food_compounds_df.to_feather('../../data/local/molecule/full/food_compounds/0.feather')\n",
    "food_compounds_df.shape"
   ]
  },
  {
   "cell_type": "code",
   "execution_count": 112,
   "metadata": {},
   "outputs": [
    {
     "data": {
      "text/plain": [
       "(1106, 10)"
      ]
     },
     "execution_count": 112,
     "metadata": {},
     "output_type": "execute_result"
    }
   ],
   "source": [
    "food_df.to_feather('../../data/local/molecule/full/food/2_feature_engineered.feather')\n",
    "food_df.shape"
   ]
  },
  {
   "cell_type": "code",
   "execution_count": null,
   "metadata": {},
   "outputs": [],
   "source": []
  }
 ],
 "metadata": {
  "kernelspec": {
   "display_name": "recipes",
   "language": "python",
   "name": "python3"
  },
  "language_info": {
   "codemirror_mode": {
    "name": "ipython",
    "version": 3
   },
   "file_extension": ".py",
   "mimetype": "text/x-python",
   "name": "python",
   "nbconvert_exporter": "python",
   "pygments_lexer": "ipython3",
   "version": "3.10.13"
  }
 },
 "nbformat": 4,
 "nbformat_minor": 2
}
