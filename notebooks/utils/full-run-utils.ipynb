{
 "cells": [
  {
   "cell_type": "code",
   "execution_count": 1,
   "metadata": {},
   "outputs": [],
   "source": [
    "#| default_exp utils.full_run_utils"
   ]
  },
  {
   "cell_type": "code",
   "execution_count": 2,
   "metadata": {},
   "outputs": [],
   "source": [
    "#| export \n",
    "import pandas as pd\n",
    "\n",
    "from pathlib import Path"
   ]
  },
  {
   "cell_type": "code",
   "execution_count": 3,
   "metadata": {},
   "outputs": [],
   "source": [
    "#| export\n",
    "def select_last_file(file_path, glob_pattern=r'*[0-9]*.feather'):\n",
    "    file_path = Path(file_path)\n",
    "    files = file_path.glob(glob_pattern)\n",
    "    files = sorted(list(files))\n",
    "    return files[-1]\n",
    "\n",
    "def load_or_create_dataframe(save_path, create_function, is_series=False, series_name=None, dtype_backend='pyarrow', postprocess_cbs=[], **kargs):\n",
    "\n",
    "    if Path(save_path).exists():\n",
    "        df = pd.read_feather(save_path, dtype_backend=dtype_backend)\n",
    "        if is_series: \n",
    "            df = df.iloc[:,0]\n",
    "            if series_name: df = df.rename(series_name)\n",
    "    else:\n",
    "        df = create_function(**kargs)\n",
    "        if postprocess_cbs: \n",
    "            for cb in postprocess_cbs:\n",
    "                df = cb(df)\n",
    "        if is_series: \n",
    "            if series_name: df = df.rename(series_name)\n",
    "            df.to_frame().to_feather(save_path)\n",
    "        else: df.to_feather(save_path)\n",
    "\n",
    "    return df"
   ]
  },
  {
   "cell_type": "code",
   "execution_count": 4,
   "metadata": {},
   "outputs": [],
   "source": [
    "from nbdev import nbdev_export; nbdev_export()"
   ]
  },
  {
   "cell_type": "code",
   "execution_count": null,
   "metadata": {},
   "outputs": [],
   "source": []
  }
 ],
 "metadata": {
  "kernelspec": {
   "display_name": "recipes",
   "language": "python",
   "name": "python3"
  },
  "language_info": {
   "codemirror_mode": {
    "name": "ipython",
    "version": 3
   },
   "file_extension": ".py",
   "mimetype": "text/x-python",
   "name": "python",
   "nbconvert_exporter": "python",
   "pygments_lexer": "ipython3",
   "version": "3.10.13"
  }
 },
 "nbformat": 4,
 "nbformat_minor": 2
}
